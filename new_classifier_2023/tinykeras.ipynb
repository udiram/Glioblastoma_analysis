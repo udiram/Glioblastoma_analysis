{
 "cells": [
  {
   "cell_type": "code",
   "execution_count": 1,
   "outputs": [],
   "source": [
    "from keras.preprocessing.image import ImageDataGenerator\n",
    "from tensorflow.keras.utils import img_to_array, array_to_img, load_img\n",
    "datagen = ImageDataGenerator(\n",
    "        rotation_range=40,\n",
    "        width_shift_range=0.2,\n",
    "        height_shift_range=0.2,\n",
    "        shear_range=0.2,\n",
    "        zoom_range=0.2,\n",
    "        horizontal_flip=True,\n",
    "        fill_mode='nearest')\n",
    "\n",
    "img = load_img('data_labelled/train/primary/CoreID6.jpg')  # this is a PIL image\n",
    "x = img_to_array(img)  # this is a Numpy array with shape (3, 150, 150)\n",
    "x = x.reshape((1,) + x.shape)  # this is a Numpy array with shape (1, 3, 150, 150)\n",
    "\n",
    "# the .flow() command below generates batches of randomly transformed images\n",
    "# and saves the results to the `preview/` directory\n",
    "i = 0\n",
    "for batch in datagen.flow(x, batch_size=1,\n",
    "                          save_to_dir='preview', save_prefix='primary', save_format='jpeg'):\n",
    "    i += 1\n",
    "    if i > 20:\n",
    "        break  # otherwise the generator would loop indefinitely"
   ],
   "metadata": {
    "collapsed": false,
    "pycharm": {
     "name": "#%%\n"
    }
   }
  },
  {
   "cell_type": "code",
   "execution_count": 2,
   "outputs": [],
   "source": [
    "from keras.preprocessing.image import ImageDataGenerator\n",
    "from keras.models import Sequential\n",
    "from keras.layers import Conv2D, MaxPooling2D\n",
    "from keras.layers import Activation, Dropout, Flatten, Dense\n",
    "from keras import backend as K\n",
    "\n",
    "\n",
    "# dimensions of our images.\n",
    "img_width, img_height = 150, 150\n",
    "\n",
    "train_data_dir = 'data_labelled/train'\n",
    "validation_data_dir = 'data_labelled/val'\n",
    "nb_train_samples = 2000\n",
    "nb_validation_samples = 800\n",
    "epochs = 50\n",
    "batch_size = 16\n",
    "\n",
    "if K.image_data_format() == 'channels_first':\n",
    "    input_shape = (3, img_width, img_height)\n",
    "else:\n",
    "    input_shape = (img_width, img_height, 3)\n",
    "\n",
    "model = Sequential()\n",
    "model.add(Conv2D(32, (3, 3), input_shape=input_shape))\n",
    "model.add(Activation('relu'))\n",
    "model.add(MaxPooling2D(pool_size=(2, 2)))\n",
    "\n",
    "model.add(Conv2D(32, (3, 3)))\n",
    "model.add(Activation('relu'))\n",
    "model.add(MaxPooling2D(pool_size=(2, 2)))\n",
    "\n",
    "model.add(Conv2D(64, (3, 3)))\n",
    "model.add(Activation('relu'))\n",
    "model.add(MaxPooling2D(pool_size=(2, 2)))\n",
    "\n",
    "model.add(Flatten())\n",
    "model.add(Dense(64))\n",
    "model.add(Activation('relu'))\n",
    "model.add(Dropout(0.5))\n",
    "model.add(Dense(1))\n",
    "model.add(Activation('sigmoid'))\n"
   ],
   "metadata": {
    "collapsed": false,
    "pycharm": {
     "name": "#%%\n"
    }
   }
  },
  {
   "cell_type": "code",
   "execution_count": 3,
   "outputs": [],
   "source": [
    "model.compile(\n",
    "    optimizer='rmsprop',\n",
    "    loss=\"binary_crossentropy\",\n",
    "    metrics=[\"accuracy\"],\n",
    ")"
   ],
   "metadata": {
    "collapsed": false,
    "pycharm": {
     "name": "#%%\n"
    }
   }
  },
  {
   "cell_type": "code",
   "execution_count": 4,
   "outputs": [
    {
     "name": "stdout",
     "output_type": "stream",
     "text": [
      "Found 154 images belonging to 2 classes.\n",
      "Found 40 images belonging to 2 classes.\n"
     ]
    }
   ],
   "source": [
    "batch_size = 16\n",
    "\n",
    "# this is the augmentation configuration we will use for training\n",
    "train_datagen = ImageDataGenerator(\n",
    "        rescale=1./255,\n",
    "        shear_range=0.2,\n",
    "        zoom_range=0.2,\n",
    "        horizontal_flip=True)\n",
    "\n",
    "# this is the augmentation configuration we will use for testing:\n",
    "# only rescaling\n",
    "test_datagen = ImageDataGenerator(rescale=1./255)\n",
    "\n",
    "# this is a generator that will read pictures found in\n",
    "# subfolers of 'data/train', and indefinitely generate\n",
    "# batches of augmented image data\n",
    "train_generator = train_datagen.flow_from_directory(\n",
    "        'data_labelled/train/',  # this is the target directory\n",
    "        target_size=(150, 150),  # all images will be resized to 150x150\n",
    "        batch_size=batch_size,\n",
    "        class_mode='binary')  # since we use binary_crossentropy loss, we need binary labels\n",
    "\n",
    "# this is a similar generator, for validation data\n",
    "validation_generator = test_datagen.flow_from_directory(\n",
    "        'data_labelled/val',\n",
    "        target_size=(150, 150),\n",
    "        batch_size=batch_size,\n",
    "        class_mode='binary')"
   ],
   "metadata": {
    "collapsed": false,
    "pycharm": {
     "name": "#%%\n"
    }
   }
  },
  {
   "cell_type": "code",
   "execution_count": 9,
   "outputs": [
    {
     "name": "stdout",
     "output_type": "stream",
     "text": [
      "Epoch 1/25\n",
      "WARNING:tensorflow:Your input ran out of data; interrupting training. Make sure that your dataset or generator can generate at least `steps_per_epoch * epochs` batches (in this case, 50 batches). You may need to use the repeat() function when building your dataset.\n",
      "6/6 - 1s - loss: 0.6686 - accuracy: 0.6562 - val_loss: 0.6816 - val_accuracy: 0.6000 - 1s/epoch - 167ms/step\n",
      "Epoch 2/25\n",
      "6/6 - 1s - loss: 0.6571 - accuracy: 0.6556 - 656ms/epoch - 109ms/step\n",
      "Epoch 3/25\n",
      "6/6 - 1s - loss: 0.6771 - accuracy: 0.6771 - 703ms/epoch - 117ms/step\n",
      "Epoch 4/25\n",
      "6/6 - 1s - loss: 0.6570 - accuracy: 0.6667 - 659ms/epoch - 110ms/step\n",
      "Epoch 5/25\n",
      "6/6 - 1s - loss: 0.6475 - accuracy: 0.6000 - 641ms/epoch - 107ms/step\n",
      "Epoch 6/25\n",
      "6/6 - 1s - loss: 0.6308 - accuracy: 0.6875 - 703ms/epoch - 117ms/step\n",
      "Epoch 7/25\n",
      "6/6 - 1s - loss: 0.6431 - accuracy: 0.6889 - 672ms/epoch - 112ms/step\n",
      "Epoch 8/25\n",
      "6/6 - 1s - loss: 0.6299 - accuracy: 0.6333 - 750ms/epoch - 125ms/step\n",
      "Epoch 9/25\n",
      "6/6 - 1s - loss: 0.6601 - accuracy: 0.6111 - 672ms/epoch - 112ms/step\n",
      "Epoch 10/25\n",
      "6/6 - 1s - loss: 0.6850 - accuracy: 0.6458 - 734ms/epoch - 122ms/step\n",
      "Epoch 11/25\n",
      "6/6 - 1s - loss: 0.6655 - accuracy: 0.6875 - 703ms/epoch - 117ms/step\n",
      "Epoch 12/25\n",
      "6/6 - 1s - loss: 0.6548 - accuracy: 0.6778 - 672ms/epoch - 112ms/step\n",
      "Epoch 13/25\n",
      "6/6 - 1s - loss: 0.6681 - accuracy: 0.6556 - 647ms/epoch - 108ms/step\n",
      "Epoch 14/25\n",
      "6/6 - 1s - loss: 0.6490 - accuracy: 0.6556 - 656ms/epoch - 109ms/step\n",
      "Epoch 15/25\n",
      "6/6 - 1s - loss: 0.6261 - accuracy: 0.6778 - 641ms/epoch - 107ms/step\n",
      "Epoch 16/25\n",
      "6/6 - 1s - loss: 0.6980 - accuracy: 0.6000 - 703ms/epoch - 117ms/step\n",
      "Epoch 17/25\n",
      "6/6 - 1s - loss: 0.6193 - accuracy: 0.6667 - 688ms/epoch - 115ms/step\n",
      "Epoch 18/25\n",
      "6/6 - 1s - loss: 0.6703 - accuracy: 0.6556 - 719ms/epoch - 120ms/step\n",
      "Epoch 19/25\n",
      "6/6 - 1s - loss: 0.6382 - accuracy: 0.6667 - 656ms/epoch - 109ms/step\n",
      "Epoch 20/25\n",
      "6/6 - 1s - loss: 0.6542 - accuracy: 0.6333 - 687ms/epoch - 115ms/step\n",
      "Epoch 21/25\n",
      "6/6 - 1s - loss: 0.6678 - accuracy: 0.6250 - 688ms/epoch - 115ms/step\n",
      "Epoch 22/25\n",
      "6/6 - 1s - loss: 0.6443 - accuracy: 0.6562 - 703ms/epoch - 117ms/step\n",
      "Epoch 23/25\n",
      "6/6 - 1s - loss: 0.6496 - accuracy: 0.6875 - 734ms/epoch - 122ms/step\n",
      "Epoch 24/25\n",
      "6/6 - 1s - loss: 0.6441 - accuracy: 0.6667 - 734ms/epoch - 122ms/step\n",
      "Epoch 25/25\n",
      "6/6 - 1s - loss: 0.6543 - accuracy: 0.6667 - 703ms/epoch - 117ms/step\n"
     ]
    }
   ],
   "source": [
    "history = model.fit(\n",
    "        train_generator,\n",
    "        steps_per_epoch=100 // batch_size,\n",
    "        epochs=25,\n",
    "        validation_data=validation_generator,\n",
    "        validation_steps=800 // batch_size,\n",
    "        verbose=2)\n",
    "model.save_weights('first_try.h5')  # always save your weights after training or during training"
   ],
   "metadata": {
    "collapsed": false,
    "pycharm": {
     "name": "#%%\n"
    }
   }
  },
  {
   "cell_type": "code",
   "execution_count": 8,
   "outputs": [
    {
     "data": {
      "text/plain": "<Figure size 640x480 with 1 Axes>",
      "image/png": "[encoded data removed]"
     },
     "metadata": {},
     "output_type": "display_data"
    }
   ],
   "source": [
    "import matplotlib.pyplot as plt\n",
    "plt.plot(history.history['accuracy'])\n",
    "plt.plot(history.history['val_accuracy'])\n",
    "plt.title('model accuracy')\n",
    "plt.ylabel('accuracy')\n",
    "plt.xlabel('epoch')\n",
    "plt.legend(['train', 'val'], loc='upper left')\n",
    "plt.show()"
   ],
   "metadata": {
    "collapsed": false,
    "pycharm": {
     "name": "#%%\n"
    }
   }
  },
  {
   "cell_type": "code",
   "execution_count": 7,
   "outputs": [
    {
     "data": {
      "text/plain": "<Figure size 640x480 with 1 Axes>",
      "image/png": "[encoded data removed]"
     },
     "metadata": {},
     "output_type": "display_data"
    }
   ],
   "source": [
    "plt.plot(history.history['loss'])\n",
    "plt.plot(history.history['val_loss'])\n",
    "plt.title('model loss')\n",
    "plt.ylabel('loss')\n",
    "plt.xlabel('epoch')\n",
    "plt.legend(['train', 'val'], loc='upper left')\n",
    "plt.show()"
   ],
   "metadata": {
    "collapsed": false,
    "pycharm": {
     "name": "#%%\n"
    }
   }
  }
 ],
 "metadata": {
  "kernelspec": {
   "display_name": "Python 3",
   "language": "python",
   "name": "python3"
  },
  "language_info": {
   "codemirror_mode": {
    "name": "ipython",
    "version": 2
   },
   "file_extension": ".py",
   "mimetype": "text/x-python",
   "name": "python",
   "nbconvert_exporter": "python",
   "pygments_lexer": "ipython2",
   "version": "2.7.6"
  }
 },
 "nbformat": 4,
 "nbformat_minor": 0
}