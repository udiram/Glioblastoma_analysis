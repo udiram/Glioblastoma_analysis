{
 "cells": [
  {
   "cell_type": "code",
   "execution_count": 1,
   "outputs": [],
   "source": [
    "import glob\n",
    "import pandas as pd\n",
    "import numpy as np\n",
    "from sklearn.utils import shuffle\n",
    "import cv2\n",
    "from PIL import Image\n",
    "from numpy import asarray\n",
    "import autokeras as ak\n",
    "from tensorflow import keras\n",
    "import os\n",
    "from sklearn.model_selection import train_test_split"
   ],
   "metadata": {
    "collapsed": false,
    "pycharm": {
     "name": "#%%\n"
    }
   }
  },
  {
   "cell_type": "code",
   "execution_count": 2,
   "outputs": [
    {
     "data": {
      "text/plain": "Empty DataFrame\nColumns: [image, label]\nIndex: []",
      "text/html": "<div>\n<style scoped>\n    .dataframe tbody tr th:only-of-type {\n        vertical-align: middle;\n    }\n\n    .dataframe tbody tr th {\n        vertical-align: top;\n    }\n\n    .dataframe thead th {\n        text-align: right;\n    }\n</style>\n<table border=\"1\" class=\"dataframe\">\n  <thead>\n    <tr style=\"text-align: right;\">\n      <th></th>\n      <th>image</th>\n      <th>label</th>\n    </tr>\n  </thead>\n  <tbody>\n  </tbody>\n</table>\n</div>"
     },
     "execution_count": 2,
     "metadata": {},
     "output_type": "execute_result"
    }
   ],
   "source": [
    "#create new dataframe\n",
    "df = pd.DataFrame(columns=['image', 'label'])\n",
    "df.head()"
   ],
   "metadata": {
    "collapsed": false,
    "pycharm": {
     "name": "#%%\n"
    }
   }
  },
  {
   "cell_type": "code",
   "execution_count": 3,
   "outputs": [
    {
     "data": {
      "text/plain": "           image label\n0  CoreID101.tif   NaN\n1  CoreID102.tif   NaN\n2  CoreID105.tif   NaN\n3  CoreID107.tif   NaN\n4  CoreID108.tif   NaN",
      "text/html": "<div>\n<style scoped>\n    .dataframe tbody tr th:only-of-type {\n        vertical-align: middle;\n    }\n\n    .dataframe tbody tr th {\n        vertical-align: top;\n    }\n\n    .dataframe thead th {\n        text-align: right;\n    }\n</style>\n<table border=\"1\" class=\"dataframe\">\n  <thead>\n    <tr style=\"text-align: right;\">\n      <th></th>\n      <th>image</th>\n      <th>label</th>\n    </tr>\n  </thead>\n  <tbody>\n    <tr>\n      <th>0</th>\n      <td>CoreID101.tif</td>\n      <td>NaN</td>\n    </tr>\n    <tr>\n      <th>1</th>\n      <td>CoreID102.tif</td>\n      <td>NaN</td>\n    </tr>\n    <tr>\n      <th>2</th>\n      <td>CoreID105.tif</td>\n      <td>NaN</td>\n    </tr>\n    <tr>\n      <th>3</th>\n      <td>CoreID107.tif</td>\n      <td>NaN</td>\n    </tr>\n    <tr>\n      <th>4</th>\n      <td>CoreID108.tif</td>\n      <td>NaN</td>\n    </tr>\n  </tbody>\n</table>\n</div>"
     },
     "execution_count": 3,
     "metadata": {},
     "output_type": "execute_result"
    }
   ],
   "source": [
    "df['image'] = os.listdir('data/')\n",
    "df.head()"
   ],
   "metadata": {
    "collapsed": false,
    "pycharm": {
     "name": "#%%\n"
    }
   }
  },
  {
   "cell_type": "code",
   "execution_count": 4,
   "outputs": [
    {
     "data": {
      "text/plain": "                    SegmentDisplayName  CoreID                 Tumor_Type  \\\n0  TMA 27 R1 | 007 | Geometric Segment       2              Invasive Edge   \n1  TMA 27 R1 | 015 | Geometric Segment       3  Pseudopalisading Necrosis   \n2  TMA 27 R1 | 028 | Geometric Segment       4  Pseudopalisading Necrosis   \n3  TMA 27 R1 | 038 | Geometric Segment       6             Cellular Tumor   \n4  TMA 27 R1 | 048 | Geometric Segment       7              Invasive Edge   \n\n   PtID Sex     Age   Dx    Pri_Rec IDH           Block  Row  Column  \n0     2   F  49.895  GBM    Primary  ND  NP-11-17045-B3    1       3  \n1     2   F  49.895  GBM  Recurrent  ND  NP-14-31147-A1    1       4  \n2     2   F  49.895  GBM  Recurrent  ND  NP-14-31147-A1    1       5  \n3     3   F  66.683  GBM    Primary  ND  NP-13-26842-B1    1       7  \n4     3   F  66.683  GBM    Primary  ND  NP-13-26842-B1    1       8  ",
      "text/html": "<div>\n<style scoped>\n    .dataframe tbody tr th:only-of-type {\n        vertical-align: middle;\n    }\n\n    .dataframe tbody tr th {\n        vertical-align: top;\n    }\n\n    .dataframe thead th {\n        text-align: right;\n    }\n</style>\n<table border=\"1\" class=\"dataframe\">\n  <thead>\n    <tr style=\"text-align: right;\">\n      <th></th>\n      <th>SegmentDisplayName</th>\n      <th>CoreID</th>\n      <th>Tumor_Type</th>\n      <th>PtID</th>\n      <th>Sex</th>\n      <th>Age</th>\n      <th>Dx</th>\n      <th>Pri_Rec</th>\n      <th>IDH</th>\n      <th>Block</th>\n      <th>Row</th>\n      <th>Column</th>\n    </tr>\n  </thead>\n  <tbody>\n    <tr>\n      <th>0</th>\n      <td>TMA 27 R1 | 007 | Geometric Segment</td>\n      <td>2</td>\n      <td>Invasive Edge</td>\n      <td>2</td>\n      <td>F</td>\n      <td>49.895</td>\n      <td>GBM</td>\n      <td>Primary</td>\n      <td>ND</td>\n      <td>NP-11-17045-B3</td>\n      <td>1</td>\n      <td>3</td>\n    </tr>\n    <tr>\n      <th>1</th>\n      <td>TMA 27 R1 | 015 | Geometric Segment</td>\n      <td>3</td>\n      <td>Pseudopalisading Necrosis</td>\n      <td>2</td>\n      <td>F</td>\n      <td>49.895</td>\n      <td>GBM</td>\n      <td>Recurrent</td>\n      <td>ND</td>\n      <td>NP-14-31147-A1</td>\n      <td>1</td>\n      <td>4</td>\n    </tr>\n    <tr>\n      <th>2</th>\n      <td>TMA 27 R1 | 028 | Geometric Segment</td>\n      <td>4</td>\n      <td>Pseudopalisading Necrosis</td>\n      <td>2</td>\n      <td>F</td>\n      <td>49.895</td>\n      <td>GBM</td>\n      <td>Recurrent</td>\n      <td>ND</td>\n      <td>NP-14-31147-A1</td>\n      <td>1</td>\n      <td>5</td>\n    </tr>\n    <tr>\n      <th>3</th>\n      <td>TMA 27 R1 | 038 | Geometric Segment</td>\n      <td>6</td>\n      <td>Cellular Tumor</td>\n      <td>3</td>\n      <td>F</td>\n      <td>66.683</td>\n      <td>GBM</td>\n      <td>Primary</td>\n      <td>ND</td>\n      <td>NP-13-26842-B1</td>\n      <td>1</td>\n      <td>7</td>\n    </tr>\n    <tr>\n      <th>4</th>\n      <td>TMA 27 R1 | 048 | Geometric Segment</td>\n      <td>7</td>\n      <td>Invasive Edge</td>\n      <td>3</td>\n      <td>F</td>\n      <td>66.683</td>\n      <td>GBM</td>\n      <td>Primary</td>\n      <td>ND</td>\n      <td>NP-13-26842-B1</td>\n      <td>1</td>\n      <td>8</td>\n    </tr>\n  </tbody>\n</table>\n</div>"
     },
     "execution_count": 4,
     "metadata": {},
     "output_type": "execute_result"
    }
   ],
   "source": [
    "df_y = pd.read_csv('Only_Image_Y.csv')\n",
    "df_y.head()"
   ],
   "metadata": {
    "collapsed": false,
    "pycharm": {
     "name": "#%%\n"
    }
   }
  },
  {
   "cell_type": "code",
   "execution_count": 5,
   "outputs": [
    {
     "data": {
      "text/plain": "           image      label\n0  CoreID101.tif    Primary\n1  CoreID102.tif  Recurrent\n2  CoreID105.tif  Recurrent\n3  CoreID107.tif    Primary\n4  CoreID108.tif    Primary",
      "text/html": "<div>\n<style scoped>\n    .dataframe tbody tr th:only-of-type {\n        vertical-align: middle;\n    }\n\n    .dataframe tbody tr th {\n        vertical-align: top;\n    }\n\n    .dataframe thead th {\n        text-align: right;\n    }\n</style>\n<table border=\"1\" class=\"dataframe\">\n  <thead>\n    <tr style=\"text-align: right;\">\n      <th></th>\n      <th>image</th>\n      <th>label</th>\n    </tr>\n  </thead>\n  <tbody>\n    <tr>\n      <th>0</th>\n      <td>CoreID101.tif</td>\n      <td>Primary</td>\n    </tr>\n    <tr>\n      <th>1</th>\n      <td>CoreID102.tif</td>\n      <td>Recurrent</td>\n    </tr>\n    <tr>\n      <th>2</th>\n      <td>CoreID105.tif</td>\n      <td>Recurrent</td>\n    </tr>\n    <tr>\n      <th>3</th>\n      <td>CoreID107.tif</td>\n      <td>Primary</td>\n    </tr>\n    <tr>\n      <th>4</th>\n      <td>CoreID108.tif</td>\n      <td>Primary</td>\n    </tr>\n  </tbody>\n</table>\n</div>"
     },
     "execution_count": 5,
     "metadata": {},
     "output_type": "execute_result"
    }
   ],
   "source": [
    "df['label'] = df_y['Pri_Rec']\n",
    "df.head()"
   ],
   "metadata": {
    "collapsed": false,
    "pycharm": {
     "name": "#%%\n"
    }
   }
  },
  {
   "cell_type": "code",
   "execution_count": 6,
   "outputs": [],
   "source": [
    "df.to_csv('structured.csv')"
   ],
   "metadata": {
    "collapsed": false,
    "pycharm": {
     "name": "#%%\n"
    }
   }
  },
  {
   "cell_type": "code",
   "execution_count": 7,
   "outputs": [
    {
     "data": {
      "text/plain": "           image  label\n0  CoreID101.tif      0\n1  CoreID102.tif      1\n2  CoreID105.tif      1\n3  CoreID107.tif      0\n4  CoreID108.tif      0",
      "text/html": "<div>\n<style scoped>\n    .dataframe tbody tr th:only-of-type {\n        vertical-align: middle;\n    }\n\n    .dataframe tbody tr th {\n        vertical-align: top;\n    }\n\n    .dataframe thead th {\n        text-align: right;\n    }\n</style>\n<table border=\"1\" class=\"dataframe\">\n  <thead>\n    <tr style=\"text-align: right;\">\n      <th></th>\n      <th>image</th>\n      <th>label</th>\n    </tr>\n  </thead>\n  <tbody>\n    <tr>\n      <th>0</th>\n      <td>CoreID101.tif</td>\n      <td>0</td>\n    </tr>\n    <tr>\n      <th>1</th>\n      <td>CoreID102.tif</td>\n      <td>1</td>\n    </tr>\n    <tr>\n      <th>2</th>\n      <td>CoreID105.tif</td>\n      <td>1</td>\n    </tr>\n    <tr>\n      <th>3</th>\n      <td>CoreID107.tif</td>\n      <td>0</td>\n    </tr>\n    <tr>\n      <th>4</th>\n      <td>CoreID108.tif</td>\n      <td>0</td>\n    </tr>\n  </tbody>\n</table>\n</div>"
     },
     "execution_count": 7,
     "metadata": {},
     "output_type": "execute_result"
    }
   ],
   "source": [
    "#change all primary to 0 and recurrent to 1\n",
    "df['label'] = df['label'].replace('Primary', 0)\n",
    "df['label'] = df['label'].replace('Recurrent', 1)\n",
    "df.head()"
   ],
   "metadata": {
    "collapsed": false,
    "pycharm": {
     "name": "#%%\n"
    }
   }
  },
  {
   "cell_type": "code",
   "execution_count": 8,
   "outputs": [
    {
     "data": {
      "text/plain": "            image  label\n12  CoreID124.tif      0\n40   CoreID24.tif      1\n97   CoreID93.tif      1\n80   CoreID70.tif      0\n72   CoreID62.tif      1",
      "text/html": "<div>\n<style scoped>\n    .dataframe tbody tr th:only-of-type {\n        vertical-align: middle;\n    }\n\n    .dataframe tbody tr th {\n        vertical-align: top;\n    }\n\n    .dataframe thead th {\n        text-align: right;\n    }\n</style>\n<table border=\"1\" class=\"dataframe\">\n  <thead>\n    <tr style=\"text-align: right;\">\n      <th></th>\n      <th>image</th>\n      <th>label</th>\n    </tr>\n  </thead>\n  <tbody>\n    <tr>\n      <th>12</th>\n      <td>CoreID124.tif</td>\n      <td>0</td>\n    </tr>\n    <tr>\n      <th>40</th>\n      <td>CoreID24.tif</td>\n      <td>1</td>\n    </tr>\n    <tr>\n      <th>97</th>\n      <td>CoreID93.tif</td>\n      <td>1</td>\n    </tr>\n    <tr>\n      <th>80</th>\n      <td>CoreID70.tif</td>\n      <td>0</td>\n    </tr>\n    <tr>\n      <th>72</th>\n      <td>CoreID62.tif</td>\n      <td>1</td>\n    </tr>\n  </tbody>\n</table>\n</div>"
     },
     "execution_count": 8,
     "metadata": {},
     "output_type": "execute_result"
    }
   ],
   "source": [
    "df_shuffled = df.sample(frac = 1)\n",
    "df_shuffled.head()"
   ],
   "metadata": {
    "collapsed": false,
    "pycharm": {
     "name": "#%%\n"
    }
   }
  },
  {
   "cell_type": "code",
   "execution_count": 9,
   "outputs": [],
   "source": [
    "df_shuffled.to_csv('shuffled_binned.csv', index=False)"
   ],
   "metadata": {
    "collapsed": false,
    "pycharm": {
     "name": "#%%\n"
    }
   }
  },
  {
   "cell_type": "code",
   "execution_count": 10,
   "outputs": [],
   "source": [
    "train, test = train_test_split(df_shuffled, test_size=0.2)"
   ],
   "metadata": {
    "collapsed": false,
    "pycharm": {
     "name": "#%%\n"
    }
   }
  },
  {
   "cell_type": "code",
   "execution_count": 11,
   "outputs": [],
   "source": [
    "train_x = train['image']\n",
    "train_y = train['label']\n",
    "test_x = test['image']\n",
    "test_y = test['label']"
   ],
   "metadata": {
    "collapsed": false,
    "pycharm": {
     "name": "#%%\n"
    }
   }
  },
  {
   "cell_type": "code",
   "execution_count": 12,
   "outputs": [],
   "source": [
    "def img_preprocess(img):\n",
    "        \"\"\"\n",
    "        Opens the image and does some preprocessing\n",
    "        such as converting to RGB, resize and converting to array\n",
    "        \"\"\"\n",
    "        img = Image.open(img)\n",
    "        img = img.convert('RGB')\n",
    "        img = img.resize((256,256))\n",
    "        img = asarray(img)/255"
   ],
   "metadata": {
    "collapsed": false,
    "pycharm": {
     "name": "#%%\n"
    }
   }
  },
  {
   "cell_type": "code",
   "execution_count": 13,
   "outputs": [
    {
     "data": {
      "text/plain": "array([[[[239, 240, 237],\n         [238, 240, 239],\n         [238, 240, 239],\n         ...,\n         [238, 239, 238],\n         [238, 238, 237],\n         [238, 238, 235]],\n\n        [[238, 240, 239],\n         [237, 240, 239],\n         [238, 240, 239],\n         ...,\n         [237, 238, 239],\n         [239, 238, 238],\n         [238, 238, 237]],\n\n        [[238, 240, 238],\n         [239, 240, 238],\n         [239, 241, 237],\n         ...,\n         [238, 238, 238],\n         [239, 239, 239],\n         [239, 238, 238]],\n\n        ...,\n\n        [[237, 236, 236],\n         [237, 235, 236],\n         [237, 236, 238],\n         ...,\n         [240, 240, 240],\n         [240, 241, 240],\n         [239, 240, 241]],\n\n        [[237, 235, 238],\n         [237, 235, 238],\n         [237, 236, 237],\n         ...,\n         [238, 240, 238],\n         [239, 240, 240],\n         [237, 240, 240]],\n\n        [[236, 235, 237],\n         [236, 235, 236],\n         [237, 236, 239],\n         ...,\n         [238, 240, 239],\n         [238, 241, 240],\n         [239, 239, 239]]],\n\n\n       [[[239, 239, 239],\n         [239, 239, 240],\n         [240, 238, 240],\n         ...,\n         [242, 242, 241],\n         [241, 243, 242],\n         [242, 242, 242]],\n\n        [[239, 239, 239],\n         [239, 239, 239],\n         [239, 239, 240],\n         ...,\n         [241, 243, 243],\n         [242, 243, 241],\n         [242, 243, 242]],\n\n        [[239, 239, 239],\n         [239, 239, 238],\n         [239, 239, 240],\n         ...,\n         [242, 243, 243],\n         [242, 243, 243],\n         [240, 243, 242]],\n\n        ...,\n\n        [[241, 242, 242],\n         [241, 243, 242],\n         [241, 243, 243],\n         ...,\n         [240, 241, 240],\n         [240, 241, 240],\n         [241, 240, 241]],\n\n        [[241, 243, 242],\n         [242, 242, 240],\n         [241, 242, 241],\n         ...,\n         [242, 242, 243],\n         [242, 240, 241],\n         [241, 240, 241]],\n\n        [[242, 242, 242],\n         [241, 242, 242],\n         [241, 242, 241],\n         ...,\n         [241, 241, 241],\n         [241, 240, 240],\n         [239, 239, 239]]],\n\n\n       [[[242, 243, 241],\n         [242, 243, 241],\n         [242, 243, 241],\n         ...,\n         [243, 243, 242],\n         [242, 243, 242],\n         [242, 243, 243]],\n\n        [[242, 243, 242],\n         [242, 243, 243],\n         [242, 243, 241],\n         ...,\n         [242, 243, 243],\n         [242, 243, 242],\n         [242, 243, 243]],\n\n        [[242, 243, 241],\n         [242, 243, 243],\n         [242, 243, 242],\n         ...,\n         [241, 243, 243],\n         [241, 243, 243],\n         [242, 243, 243]],\n\n        ...,\n\n        [[243, 243, 242],\n         [243, 243, 242],\n         [242, 243, 243],\n         ...,\n         [241, 242, 241],\n         [241, 242, 242],\n         [241, 242, 241]],\n\n        [[242, 243, 242],\n         [243, 243, 242],\n         [242, 243, 242],\n         ...,\n         [242, 242, 242],\n         [242, 242, 241],\n         [241, 242, 241]],\n\n        [[242, 243, 242],\n         [241, 243, 242],\n         [242, 243, 242],\n         ...,\n         [241, 242, 241],\n         [241, 242, 241],\n         [242, 242, 241]]],\n\n\n       ...,\n\n\n       [[[240, 241, 240],\n         [239, 241, 239],\n         [240, 241, 240],\n         ...,\n         [240, 241, 235],\n         [238, 238, 238],\n         [239, 239, 239]],\n\n        [[240, 241, 241],\n         [240, 241, 241],\n         [240, 241, 240],\n         ...,\n         [239, 239, 239],\n         [241, 240, 240],\n         [239, 239, 239]],\n\n        [[240, 241, 240],\n         [240, 241, 240],\n         [240, 241, 241],\n         ...,\n         [239, 240, 239],\n         [239, 239, 240],\n         [240, 241, 239]],\n\n        ...,\n\n        [[239, 238, 238],\n         [239, 239, 238],\n         [239, 240, 239],\n         ...,\n         [238, 239, 239],\n         [239, 240, 239],\n         [239, 240, 238]],\n\n        [[238, 239, 239],\n         [239, 239, 238],\n         [239, 239, 238],\n         ...,\n         [239, 240, 239],\n         [239, 240, 239],\n         [239, 240, 238]],\n\n        [[239, 239, 238],\n         [238, 238, 237],\n         [239, 240, 239],\n         ...,\n         [239, 239, 239],\n         [239, 240, 238],\n         [238, 239, 239]]],\n\n\n       [[[243, 243, 242],\n         [240, 241, 240],\n         [241, 242, 240],\n         ...,\n         [241, 241, 242],\n         [240, 242, 241],\n         [242, 242, 242]],\n\n        [[242, 243, 242],\n         [242, 242, 241],\n         [242, 243, 241],\n         ...,\n         [240, 241, 240],\n         [242, 242, 241],\n         [242, 242, 241]],\n\n        [[239, 241, 240],\n         [242, 243, 242],\n         [242, 242, 241],\n         ...,\n         [241, 241, 241],\n         [241, 242, 241],\n         [241, 241, 240]],\n\n        ...,\n\n        [[242, 243, 242],\n         [241, 243, 241],\n         [241, 242, 241],\n         ...,\n         [242, 243, 242],\n         [241, 242, 240],\n         [240, 241, 240]],\n\n        [[241, 242, 241],\n         [241, 242, 242],\n         [242, 242, 242],\n         ...,\n         [241, 242, 240],\n         [240, 242, 240],\n         [241, 242, 241]],\n\n        [[241, 243, 242],\n         [241, 242, 241],\n         [241, 242, 241],\n         ...,\n         [241, 242, 241],\n         [240, 242, 241],\n         [241, 241, 241]]],\n\n\n       [[[241, 242, 241],\n         [241, 240, 241],\n         [241, 241, 242],\n         ...,\n         [240, 241, 242],\n         [240, 241, 241],\n         [240, 241, 239]],\n\n        [[240, 242, 241],\n         [241, 242, 241],\n         [241, 241, 241],\n         ...,\n         [241, 240, 241],\n         [241, 241, 241],\n         [241, 241, 240]],\n\n        [[242, 241, 241],\n         [241, 242, 241],\n         [242, 241, 241],\n         ...,\n         [241, 241, 240],\n         [241, 241, 241],\n         [241, 241, 240]],\n\n        ...,\n\n        [[242, 242, 241],\n         [241, 242, 240],\n         [242, 242, 240],\n         ...,\n         [242, 241, 242],\n         [241, 240, 241],\n         [241, 241, 240]],\n\n        [[242, 242, 241],\n         [239, 243, 241],\n         [243, 243, 242],\n         ...,\n         [241, 240, 241],\n         [240, 241, 240],\n         [241, 240, 241]],\n\n        [[242, 242, 242],\n         [242, 242, 241],\n         [242, 242, 241],\n         ...,\n         [241, 242, 239],\n         [241, 240, 241],\n         [240, 241, 240]]]], dtype=uint8)"
     },
     "execution_count": 13,
     "metadata": {},
     "output_type": "execute_result"
    }
   ],
   "source": [
    "#get ndarray of images\n",
    "train_x = np.array([np.array(Image.open('data/' + str(i))) for i in train_x])\n",
    "test_x = np.array([np.array(Image.open('data/' + str(i))) for i in test_x])\n",
    "train_x"
   ],
   "metadata": {
    "collapsed": false,
    "pycharm": {
     "name": "#%%\n"
    }
   }
  },
  {
   "cell_type": "code",
   "execution_count": 14,
   "outputs": [
    {
     "name": "stdout",
     "output_type": "stream",
     "text": [
      "(80, 728, 1064, 3)\n",
      "(80,)\n",
      "(20, 728, 1064, 3)\n",
      "(20,)\n",
      "[1, 1, 0, 1, 1, 1, 1, 1, 1, 0, 1, 1, 1, 0, 0, 1, 1, 0, 1, 0, 0, 1, 1, 1, 1, 0, 1, 0, 1, 1, 0, 1, 0, 0, 0, 0, 1, 1, 1, 1, 1, 0, 0, 1, 1, 1, 0, 1, 1, 0, 0, 1, 0, 1, 0, 1, 1, 0, 1, 1, 0, 0, 1, 0, 1, 1, 0, 1, 1, 1, 1, 1, 0, 1, 1, 0, 1, 0, 1, 0]\n"
     ]
    }
   ],
   "source": [
    "print(train_x.shape)\n",
    "print(train_y.shape)\n",
    "print(test_x.shape)\n",
    "print(test_y.shape)\n",
    "print(train_y.to_list())"
   ],
   "metadata": {
    "collapsed": false,
    "pycharm": {
     "name": "#%%\n"
    }
   }
  },
  {
   "cell_type": "code",
   "execution_count": 15,
   "outputs": [
    {
     "name": "stdout",
     "output_type": "stream",
     "text": [
      "Trial 1 Complete [00h 00m 47s]\n",
      "val_loss: 0.5244350433349609\n",
      "\n",
      "Best val_loss So Far: 0.5244350433349609\n",
      "Total elapsed time: 00h 00m 47s\n",
      "INFO:tensorflow:Oracle triggered exit\n",
      "Epoch 1/10\n",
      "Not enough memory, reduce batch size to 16.\n",
      "Epoch 1/10\n",
      "Not enough memory, reduce batch size to 8.\n",
      "Epoch 1/10\n",
      "10/10 [==============================] - 2s 193ms/step - loss: 100.4413 - accuracy: 0.5250\n",
      "Epoch 2/10\n",
      "10/10 [==============================] - 2s 187ms/step - loss: 3.6121 - accuracy: 0.6000\n",
      "Epoch 3/10\n",
      "10/10 [==============================] - 2s 187ms/step - loss: 0.7040 - accuracy: 0.7875\n",
      "Epoch 4/10\n",
      "10/10 [==============================] - 2s 188ms/step - loss: 0.1024 - accuracy: 1.0000\n",
      "Epoch 5/10\n",
      "10/10 [==============================] - 2s 187ms/step - loss: 0.0729 - accuracy: 1.0000\n",
      "Epoch 6/10\n",
      "10/10 [==============================] - 2s 186ms/step - loss: 0.0195 - accuracy: 1.0000\n",
      "Epoch 7/10\n",
      "10/10 [==============================] - 2s 188ms/step - loss: 0.0029 - accuracy: 1.0000\n",
      "Epoch 8/10\n",
      "10/10 [==============================] - 2s 191ms/step - loss: 6.9161e-04 - accuracy: 1.0000\n",
      "Epoch 9/10\n",
      "10/10 [==============================] - 2s 188ms/step - loss: 5.3014e-04 - accuracy: 1.0000\n",
      "Epoch 10/10\n",
      "10/10 [==============================] - 2s 186ms/step - loss: 3.0350e-04 - accuracy: 1.0000\n"
     ]
    },
    {
     "name": "stderr",
     "output_type": "stream",
     "text": [
      "WARNING:absl:Found untraced functions such as _jit_compiled_convolution_op, _jit_compiled_convolution_op while saving (showing 2 of 2). These functions will not be directly callable after loading.\n"
     ]
    },
    {
     "name": "stdout",
     "output_type": "stream",
     "text": [
      "INFO:tensorflow:Assets written to: .\\image_classifier\\best_model\\assets\n"
     ]
    },
    {
     "name": "stderr",
     "output_type": "stream",
     "text": [
      "INFO:tensorflow:Assets written to: .\\image_classifier\\best_model\\assets\n"
     ]
    },
    {
     "data": {
      "text/plain": "<keras.callbacks.History at 0x25641fe0760>"
     },
     "execution_count": 15,
     "metadata": {},
     "output_type": "execute_result"
    }
   ],
   "source": [
    "# clf = ak.ImageClassifier(overwrite=True,\n",
    "#     max_trials = 2)\n",
    "# clf.fit(x = train_x, y = train_y, epochs = 10, validation_split = 0.3)\n",
    "# autokeras\n",
    "clf = ak.ImageClassifier(overwrite=True, max_trials=1,\n",
    "    loss = 'binary_crossentropy')\n",
    "clf.fit(x = train_x, y = train_y, epochs = 10, validation_split = 0.2)"
   ],
   "metadata": {
    "collapsed": false,
    "pycharm": {
     "name": "#%%\n"
    }
   }
  },
  {
   "cell_type": "code",
   "execution_count": 16,
   "outputs": [
    {
     "name": "stdout",
     "output_type": "stream",
     "text": [
      "1/1 [==============================] - 3s 3s/step\n",
      "1/1 [==============================] - 0s 31ms/step\n"
     ]
    },
    {
     "data": {
      "text/plain": "array([[1.],\n       [1.],\n       [1.],\n       [1.],\n       [1.],\n       [1.],\n       [1.],\n       [1.],\n       [1.],\n       [1.],\n       [0.],\n       [1.],\n       [1.],\n       [1.],\n       [0.],\n       [1.],\n       [1.],\n       [1.],\n       [1.],\n       [0.]], dtype=float32)"
     },
     "execution_count": 16,
     "metadata": {},
     "output_type": "execute_result"
    }
   ],
   "source": [
    "pred_test = clf.predict(test_x)\n",
    "pred_test"
   ],
   "metadata": {
    "collapsed": false,
    "pycharm": {
     "name": "#%%\n"
    }
   }
  },
  {
   "cell_type": "code",
   "execution_count": 17,
   "outputs": [
    {
     "name": "stdout",
     "output_type": "stream",
     "text": [
      "1/1 [==============================] - 0s 203ms/step - loss: 0.8815 - accuracy: 0.4500\n"
     ]
    },
    {
     "data": {
      "text/plain": "[0.8815237283706665, 0.44999998807907104]"
     },
     "execution_count": 17,
     "metadata": {},
     "output_type": "execute_result"
    }
   ],
   "source": [
    "clf.evaluate(test_x, test_y)"
   ],
   "metadata": {
    "collapsed": false,
    "pycharm": {
     "name": "#%%\n"
    }
   }
  },
  {
   "cell_type": "code",
   "execution_count": 18,
   "outputs": [
    {
     "name": "stdout",
     "output_type": "stream",
     "text": [
      "[1, 0, 0, 0, 1, 0, 1, 1, 0, 1, 1, 1, 0, 0, 1, 1, 0, 1, 1, 1] [[1.0], [1.0], [1.0], [1.0], [1.0], [1.0], [1.0], [1.0], [1.0], [1.0], [0.0], [1.0], [1.0], [1.0], [0.0], [1.0], [1.0], [1.0], [1.0], [0.0]]\n"
     ]
    }
   ],
   "source": [
    "print(test_y.tolist(), pred_test.tolist())"
   ],
   "metadata": {
    "collapsed": false,
    "pycharm": {
     "name": "#%%\n"
    }
   }
  }
 ],
 "metadata": {
  "kernelspec": {
   "display_name": "Python 3",
   "language": "python",
   "name": "python3"
  },
  "language_info": {
   "codemirror_mode": {
    "name": "ipython",
    "version": 2
   },
   "file_extension": ".py",
   "mimetype": "text/x-python",
   "name": "python",
   "nbconvert_exporter": "python",
   "pygments_lexer": "ipython2",
   "version": "2.7.6"
  }
 },
 "nbformat": 4,
 "nbformat_minor": 0
}