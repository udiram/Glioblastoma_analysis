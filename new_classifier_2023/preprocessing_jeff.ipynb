{
 "cells": [
  {
   "cell_type": "code",
   "execution_count": 6,
   "outputs": [],
   "source": [
    "import pandas as pd\n",
    "import os\n",
    "import re\n"
   ],
   "metadata": {
    "collapsed": false,
    "pycharm": {
     "name": "#%%\n"
    }
   }
  },
  {
   "cell_type": "code",
   "execution_count": 7,
   "outputs": [
    {
     "data": {
      "text/plain": "                    SegmentDisplayName  CoreID                 Tumor_Type  \\\n0  TMA 27 R1 | 007 | Geometric Segment       2              Invasive Edge   \n1  TMA 27 R1 | 015 | Geometric Segment       3  Pseudopalisading Necrosis   \n2  TMA 27 R1 | 028 | Geometric Segment       4  Pseudopalisading Necrosis   \n3  TMA 27 R1 | 038 | Geometric Segment       6             Cellular Tumor   \n4  TMA 27 R1 | 048 | Geometric Segment       7              Invasive Edge   \n\n   PtID Sex     Age   Dx    Pri_Rec IDH           Block  Row  Column  \n0     2   F  49.895  GBM    Primary  ND  NP-11-17045-B3    1       3  \n1     2   F  49.895  GBM  Recurrent  ND  NP-14-31147-A1    1       4  \n2     2   F  49.895  GBM  Recurrent  ND  NP-14-31147-A1    1       5  \n3     3   F  66.683  GBM    Primary  ND  NP-13-26842-B1    1       7  \n4     3   F  66.683  GBM    Primary  ND  NP-13-26842-B1    1       8  ",
      "text/html": "<div>\n<style scoped>\n    .dataframe tbody tr th:only-of-type {\n        vertical-align: middle;\n    }\n\n    .dataframe tbody tr th {\n        vertical-align: top;\n    }\n\n    .dataframe thead th {\n        text-align: right;\n    }\n</style>\n<table border=\"1\" class=\"dataframe\">\n  <thead>\n    <tr style=\"text-align: right;\">\n      <th></th>\n      <th>SegmentDisplayName</th>\n      <th>CoreID</th>\n      <th>Tumor_Type</th>\n      <th>PtID</th>\n      <th>Sex</th>\n      <th>Age</th>\n      <th>Dx</th>\n      <th>Pri_Rec</th>\n      <th>IDH</th>\n      <th>Block</th>\n      <th>Row</th>\n      <th>Column</th>\n    </tr>\n  </thead>\n  <tbody>\n    <tr>\n      <th>0</th>\n      <td>TMA 27 R1 | 007 | Geometric Segment</td>\n      <td>2</td>\n      <td>Invasive Edge</td>\n      <td>2</td>\n      <td>F</td>\n      <td>49.895</td>\n      <td>GBM</td>\n      <td>Primary</td>\n      <td>ND</td>\n      <td>NP-11-17045-B3</td>\n      <td>1</td>\n      <td>3</td>\n    </tr>\n    <tr>\n      <th>1</th>\n      <td>TMA 27 R1 | 015 | Geometric Segment</td>\n      <td>3</td>\n      <td>Pseudopalisading Necrosis</td>\n      <td>2</td>\n      <td>F</td>\n      <td>49.895</td>\n      <td>GBM</td>\n      <td>Recurrent</td>\n      <td>ND</td>\n      <td>NP-14-31147-A1</td>\n      <td>1</td>\n      <td>4</td>\n    </tr>\n    <tr>\n      <th>2</th>\n      <td>TMA 27 R1 | 028 | Geometric Segment</td>\n      <td>4</td>\n      <td>Pseudopalisading Necrosis</td>\n      <td>2</td>\n      <td>F</td>\n      <td>49.895</td>\n      <td>GBM</td>\n      <td>Recurrent</td>\n      <td>ND</td>\n      <td>NP-14-31147-A1</td>\n      <td>1</td>\n      <td>5</td>\n    </tr>\n    <tr>\n      <th>3</th>\n      <td>TMA 27 R1 | 038 | Geometric Segment</td>\n      <td>6</td>\n      <td>Cellular Tumor</td>\n      <td>3</td>\n      <td>F</td>\n      <td>66.683</td>\n      <td>GBM</td>\n      <td>Primary</td>\n      <td>ND</td>\n      <td>NP-13-26842-B1</td>\n      <td>1</td>\n      <td>7</td>\n    </tr>\n    <tr>\n      <th>4</th>\n      <td>TMA 27 R1 | 048 | Geometric Segment</td>\n      <td>7</td>\n      <td>Invasive Edge</td>\n      <td>3</td>\n      <td>F</td>\n      <td>66.683</td>\n      <td>GBM</td>\n      <td>Primary</td>\n      <td>ND</td>\n      <td>NP-13-26842-B1</td>\n      <td>1</td>\n      <td>8</td>\n    </tr>\n  </tbody>\n</table>\n</div>"
     },
     "execution_count": 7,
     "metadata": {},
     "output_type": "execute_result"
    }
   ],
   "source": [
    "df = pd.read_csv('Only_Image_Y.csv')\n",
    "df.head()"
   ],
   "metadata": {
    "collapsed": false,
    "pycharm": {
     "name": "#%%\n"
    }
   }
  },
  {
   "cell_type": "code",
   "execution_count": 8,
   "outputs": [
    {
     "data": {
      "text/plain": "[2,\n 3,\n 4,\n 6,\n 7,\n 8,\n 12,\n 13,\n 15,\n 16,\n 21,\n 22,\n 23,\n 24,\n 25,\n 26,\n 28,\n 29,\n 30,\n 33,\n 34,\n 35,\n 37,\n 38,\n 39,\n 41,\n 42,\n 44,\n 46,\n 47,\n 48,\n 49,\n 50,\n 51,\n 52,\n 53,\n 54,\n 55,\n 58,\n 59,\n 60,\n 61,\n 62,\n 63,\n 65,\n 66,\n 67,\n 68,\n 69,\n 70,\n 72,\n 73,\n 74,\n 75,\n 76,\n 77,\n 79,\n 83,\n 84,\n 85,\n 87,\n 88,\n 89,\n 90,\n 92,\n 93,\n 94,\n 99,\n 101,\n 102,\n 105,\n 107,\n 108,\n 110,\n 111,\n 114,\n 119,\n 120,\n 122,\n 123,\n 124,\n 125,\n 126,\n 127,\n 128,\n 129,\n 130,\n 131,\n 132,\n 133,\n 135,\n 138,\n 140,\n 141,\n 142,\n 143,\n 144,\n 145,\n 146,\n 150]"
     },
     "execution_count": 8,
     "metadata": {},
     "output_type": "execute_result"
    }
   ],
   "source": [
    "coreID_list_fromdf = df['CoreID'].tolist()\n",
    "coreID_list_fromdf"
   ],
   "metadata": {
    "collapsed": false,
    "pycharm": {
     "name": "#%%\n"
    }
   }
  },
  {
   "cell_type": "code",
   "execution_count": 9,
   "outputs": [],
   "source": [
    "coreID_list_fromdir_raw = os.listdir('data')\n",
    "coreID_list_fromdir = []\n",
    "for i in coreID_list_fromdir_raw:\n",
    "    CoreID = re.search('CoreID(.*).tif', i)\n",
    "    coreID_list_fromdir.append(CoreID.group(1))"
   ],
   "metadata": {
    "collapsed": false,
    "pycharm": {
     "name": "#%%\n"
    }
   }
  },
  {
   "cell_type": "code",
   "execution_count": 10,
   "outputs": [
    {
     "data": {
      "text/plain": "['101',\n '102',\n '105',\n '107',\n '108',\n '111',\n '114',\n '119',\n '12',\n '120',\n '122',\n '123',\n '124',\n '125',\n '126',\n '127',\n '128',\n '129',\n '13',\n '130',\n '131',\n '132',\n '133',\n '134',\n '135',\n '138',\n '140',\n '141',\n '142',\n '143',\n '144',\n '145',\n '146',\n '15',\n '150',\n '16',\n '2',\n '21',\n '22',\n '23',\n '24',\n '25',\n '26',\n '28',\n '29',\n '3',\n '30',\n '33',\n '34',\n '35',\n '37',\n '38',\n '39',\n '4',\n '41',\n '42',\n '44',\n '46',\n '47',\n '48',\n '49',\n '50',\n '51',\n '52',\n '53',\n '54',\n '55',\n '58',\n '59',\n '6',\n '60',\n '61',\n '62',\n '63',\n '65',\n '66',\n '67',\n '68',\n '69',\n '7',\n '70',\n '72',\n '73',\n '74',\n '75',\n '76',\n '77',\n '79',\n '8',\n '83',\n '84',\n '85',\n '87',\n '88',\n '89',\n '90',\n '92',\n '93',\n '94',\n '99']"
     },
     "execution_count": 10,
     "metadata": {},
     "output_type": "execute_result"
    }
   ],
   "source": [
    "coreID_list_fromdir"
   ],
   "metadata": {
    "collapsed": false,
    "pycharm": {
     "name": "#%%\n"
    }
   }
  },
  {
   "cell_type": "code",
   "execution_count": 11,
   "outputs": [
    {
     "data": {
      "text/plain": "[101,\n 102,\n 105,\n 107,\n 108,\n 111,\n 114,\n 119,\n 12,\n 120,\n 122,\n 123,\n 124,\n 125,\n 126,\n 127,\n 128,\n 129,\n 13,\n 130,\n 131,\n 132,\n 133,\n 134,\n 135,\n 138,\n 140,\n 141,\n 142,\n 143,\n 144,\n 145,\n 146,\n 15,\n 150,\n 16,\n 2,\n 21,\n 22,\n 23,\n 24,\n 25,\n 26,\n 28,\n 29,\n 3,\n 30,\n 33,\n 34,\n 35,\n 37,\n 38,\n 39,\n 4,\n 41,\n 42,\n 44,\n 46,\n 47,\n 48,\n 49,\n 50,\n 51,\n 52,\n 53,\n 54,\n 55,\n 58,\n 59,\n 6,\n 60,\n 61,\n 62,\n 63,\n 65,\n 66,\n 67,\n 68,\n 69,\n 7,\n 70,\n 72,\n 73,\n 74,\n 75,\n 76,\n 77,\n 79,\n 8,\n 83,\n 84,\n 85,\n 87,\n 88,\n 89,\n 90,\n 92,\n 93,\n 94,\n 99]"
     },
     "execution_count": 11,
     "metadata": {},
     "output_type": "execute_result"
    }
   ],
   "source": [
    "#TURN LIST OF STRINGS INTO LIST OF INTEGERS\n",
    "coreID_list_fromdir = [int(i) for i in coreID_list_fromdir]\n",
    "coreID_list_fromdir"
   ],
   "metadata": {
    "collapsed": false,
    "pycharm": {
     "name": "#%%\n"
    }
   }
  },
  {
   "cell_type": "code",
   "execution_count": 12,
   "outputs": [
    {
     "data": {
      "text/plain": "[2,\n 3,\n 4,\n 6,\n 7,\n 8,\n 12,\n 13,\n 15,\n 16,\n 21,\n 22,\n 23,\n 24,\n 25,\n 26,\n 28,\n 29,\n 30,\n 33,\n 34,\n 35,\n 37,\n 38,\n 39,\n 41,\n 42,\n 44,\n 46,\n 47,\n 48,\n 49,\n 50,\n 51,\n 52,\n 53,\n 54,\n 55,\n 58,\n 59,\n 60,\n 61,\n 62,\n 63,\n 65,\n 66,\n 67,\n 68,\n 69,\n 70,\n 72,\n 73,\n 74,\n 75,\n 76,\n 77,\n 79,\n 83,\n 84,\n 85,\n 87,\n 88,\n 89,\n 90,\n 92,\n 93,\n 94,\n 99,\n 101,\n 102,\n 105,\n 107,\n 108,\n 111,\n 114,\n 119,\n 120,\n 122,\n 123,\n 124,\n 125,\n 126,\n 127,\n 128,\n 129,\n 130,\n 131,\n 132,\n 133,\n 134,\n 135,\n 138,\n 140,\n 141,\n 142,\n 143,\n 144,\n 145,\n 146,\n 150]"
     },
     "execution_count": 12,
     "metadata": {},
     "output_type": "execute_result"
    }
   ],
   "source": [
    "#sort list\n",
    "coreID_list_fromdir.sort()\n",
    "coreID_list_fromdir"
   ],
   "metadata": {
    "collapsed": false,
    "pycharm": {
     "name": "#%%\n"
    }
   }
  },
  {
   "cell_type": "code",
   "execution_count": 13,
   "outputs": [
    {
     "data": {
      "text/plain": "[2,\n 3,\n 4,\n 6,\n 7,\n 8,\n 12,\n 13,\n 15,\n 16,\n 21,\n 22,\n 23,\n 24,\n 25,\n 26,\n 28,\n 29,\n 30,\n 33,\n 34,\n 35,\n 37,\n 38,\n 39,\n 41,\n 42,\n 44,\n 46,\n 47,\n 48,\n 49,\n 50,\n 51,\n 52,\n 53,\n 54,\n 55,\n 58,\n 59,\n 60,\n 61,\n 62,\n 63,\n 65,\n 66,\n 67,\n 68,\n 69,\n 70,\n 72,\n 73,\n 74,\n 75,\n 76,\n 77,\n 79,\n 83,\n 84,\n 85,\n 87,\n 88,\n 89,\n 90,\n 92,\n 93,\n 94,\n 99,\n 101,\n 102,\n 105,\n 107,\n 108,\n 111,\n 114,\n 119,\n 120,\n 122,\n 123,\n 124,\n 125,\n 126,\n 127,\n 128,\n 129,\n 130,\n 131,\n 132,\n 133,\n 135,\n 138,\n 140,\n 141,\n 142,\n 143,\n 144,\n 145,\n 146,\n 150]"
     },
     "execution_count": 13,
     "metadata": {},
     "output_type": "execute_result"
    }
   ],
   "source": [
    "#compare overlap of both lists\n",
    "overlap = [i for i in coreID_list_fromdf if i in coreID_list_fromdir]\n",
    "overlap"
   ],
   "metadata": {
    "collapsed": false,
    "pycharm": {
     "name": "#%%\n"
    }
   }
  },
  {
   "cell_type": "code",
   "execution_count": 14,
   "outputs": [
    {
     "data": {
      "text/plain": "99"
     },
     "execution_count": 14,
     "metadata": {},
     "output_type": "execute_result"
    }
   ],
   "source": [
    "len(overlap)"
   ],
   "metadata": {
    "collapsed": false,
    "pycharm": {
     "name": "#%%\n"
    }
   }
  },
  {
   "cell_type": "code",
   "execution_count": 15,
   "outputs": [
    {
     "name": "stdout",
     "output_type": "stream",
     "text": [
      "100\n",
      "100\n"
     ]
    }
   ],
   "source": [
    "print(len(coreID_list_fromdir))\n",
    "print(len(coreID_list_fromdf))"
   ],
   "metadata": {
    "collapsed": false,
    "pycharm": {
     "name": "#%%\n"
    }
   }
  },
  {
   "cell_type": "code",
   "execution_count": null,
   "outputs": [],
   "source": [],
   "metadata": {
    "collapsed": false,
    "pycharm": {
     "name": "#%%\n"
    }
   }
  }
 ],
 "metadata": {
  "kernelspec": {
   "display_name": "Python 3",
   "language": "python",
   "name": "python3"
  },
  "language_info": {
   "codemirror_mode": {
    "name": "ipython",
    "version": 2
   },
   "file_extension": ".py",
   "mimetype": "text/x-python",
   "name": "python",
   "nbconvert_exporter": "python",
   "pygments_lexer": "ipython2",
   "version": "2.7.6"
  }
 },
 "nbformat": 4,
 "nbformat_minor": 0
}