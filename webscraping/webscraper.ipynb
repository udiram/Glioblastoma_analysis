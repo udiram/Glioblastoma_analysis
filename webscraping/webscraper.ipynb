{
 "cells": [
  {
   "cell_type": "code",
   "execution_count": 2,
   "outputs": [],
   "source": [
    "import pandas as pd\n",
    "from selenium.webdriver.common.by import By\n",
    "from tqdm import tqdm\n",
    "import pandas as pd\n",
    "from selenium.webdriver.chrome.service import Service\n",
    "from selenium.webdriver.support.select import Select\n",
    "from webdriver_manager.chrome import ChromeDriverManager\n",
    "from selenium import webdriver\n",
    "from selenium.webdriver.chrome.options import Options\n",
    "from selenium.webdriver import Keys\n",
    "from alive_progress import alive_bar\n"
   ],
   "metadata": {
    "collapsed": false,
    "pycharm": {
     "name": "#%%\n"
    }
   }
  },
  {
   "cell_type": "code",
   "execution_count": 3,
   "outputs": [
    {
     "data": {
      "text/plain": "                       Study ID    Patient ID        Sample ID  Diagnosis Age  \\\n0  hnsc_tcga_pan_can_atlas_2018  TCGA-4P-AA8J  TCGA-4P-AA8J-01           66.0   \n1  hnsc_tcga_pan_can_atlas_2018  TCGA-BA-4074  TCGA-BA-4074-01           69.0   \n2  hnsc_tcga_pan_can_atlas_2018  TCGA-BA-4076  TCGA-BA-4076-01           39.0   \n3  hnsc_tcga_pan_can_atlas_2018  TCGA-BA-4078  TCGA-BA-4078-01           83.0   \n4  hnsc_tcga_pan_can_atlas_2018  TCGA-BA-5149  TCGA-BA-5149-01           47.0   \n\n  Neoplasm Disease Stage American Joint Committee on Cancer Code  \\\n0                                          STAGE IVA               \n1                                          STAGE IVA               \n2                                                NaN               \n3                                                NaN               \n4                                          STAGE IVA               \n\n  American Joint Committee on Cancer Publication Version Type  \\\n0                                                7TH            \n1                                                6TH            \n2                                                6TH            \n3                                                6TH            \n4                                                7TH            \n\n   Aneuploidy Score  Buffa Hypoxia Score           Cancer Type  \\\n0               6.0                 37.0  Head and Neck Cancer   \n1              14.0                 45.0  Head and Neck Cancer   \n2               9.0                 45.0  Head and Neck Cancer   \n3              16.0                  1.0  Head and Neck Cancer   \n4              16.0                 43.0  Head and Neck Cancer   \n\n  TCGA PanCanAtlas Cancer Type Acronym  ...    Subtype  \\\n0                                 HNSC  ...  HNSC_HPV-   \n1                                 HNSC  ...  HNSC_HPV-   \n2                                 HNSC  ...  HNSC_HPV-   \n3                                 HNSC  ...  HNSC_HPV-   \n4                                 HNSC  ...  HNSC_HPV-   \n\n   Tissue Prospective Collection Indicator  \\\n0                                       No   \n1                                       No   \n2                                       No   \n3                                       No   \n4                                      Yes   \n\n   Tissue Retrospective Collection Indicator  Tissue Source Site  \\\n0                                        Yes     Duke University   \n1                                        Yes                 UNC   \n2                                        Yes                 UNC   \n3                                        Yes                 UNC   \n4                                         No                 UNC   \n\n   Tissue Source Site Code TMB (nonsynonymous)  Tumor Disease Anatomic Site  \\\n0                       4P            3.700000                Head and Neck   \n1                       BA            4.233333                Head and Neck   \n2                       BA            9.833333                Head and Neck   \n3                       BA           12.800000                Head and Neck   \n4                       BA            3.666667                Head and Neck   \n\n                              Tumor Type Patient Weight Winter Hypoxia Score  \n0  Head and Neck Squamous Cell Carcinoma            NaN                 68.0  \n1  Head and Neck Squamous Cell Carcinoma            NaN                 76.0  \n2  Head and Neck Squamous Cell Carcinoma            NaN                 78.0  \n3  Head and Neck Squamous Cell Carcinoma            NaN                 24.0  \n4  Head and Neck Squamous Cell Carcinoma            NaN                 78.0  \n\n[5 rows x 61 columns]",
      "text/html": "<div>\n<style scoped>\n    .dataframe tbody tr th:only-of-type {\n        vertical-align: middle;\n    }\n\n    .dataframe tbody tr th {\n        vertical-align: top;\n    }\n\n    .dataframe thead th {\n        text-align: right;\n    }\n</style>\n<table border=\"1\" class=\"dataframe\">\n  <thead>\n    <tr style=\"text-align: right;\">\n      <th></th>\n      <th>Study ID</th>\n      <th>Patient ID</th>\n      <th>Sample ID</th>\n      <th>Diagnosis Age</th>\n      <th>Neoplasm Disease Stage American Joint Committee on Cancer Code</th>\n      <th>American Joint Committee on Cancer Publication Version Type</th>\n      <th>Aneuploidy Score</th>\n      <th>Buffa Hypoxia Score</th>\n      <th>Cancer Type</th>\n      <th>TCGA PanCanAtlas Cancer Type Acronym</th>\n      <th>...</th>\n      <th>Subtype</th>\n      <th>Tissue Prospective Collection Indicator</th>\n      <th>Tissue Retrospective Collection Indicator</th>\n      <th>Tissue Source Site</th>\n      <th>Tissue Source Site Code</th>\n      <th>TMB (nonsynonymous)</th>\n      <th>Tumor Disease Anatomic Site</th>\n      <th>Tumor Type</th>\n      <th>Patient Weight</th>\n      <th>Winter Hypoxia Score</th>\n    </tr>\n  </thead>\n  <tbody>\n    <tr>\n      <th>0</th>\n      <td>hnsc_tcga_pan_can_atlas_2018</td>\n      <td>TCGA-4P-AA8J</td>\n      <td>TCGA-4P-AA8J-01</td>\n      <td>66.0</td>\n      <td>STAGE IVA</td>\n      <td>7TH</td>\n      <td>6.0</td>\n      <td>37.0</td>\n      <td>Head and Neck Cancer</td>\n      <td>HNSC</td>\n      <td>...</td>\n      <td>HNSC_HPV-</td>\n      <td>No</td>\n      <td>Yes</td>\n      <td>Duke University</td>\n      <td>4P</td>\n      <td>3.700000</td>\n      <td>Head and Neck</td>\n      <td>Head and Neck Squamous Cell Carcinoma</td>\n      <td>NaN</td>\n      <td>68.0</td>\n    </tr>\n    <tr>\n      <th>1</th>\n      <td>hnsc_tcga_pan_can_atlas_2018</td>\n      <td>TCGA-BA-4074</td>\n      <td>TCGA-BA-4074-01</td>\n      <td>69.0</td>\n      <td>STAGE IVA</td>\n      <td>6TH</td>\n      <td>14.0</td>\n      <td>45.0</td>\n      <td>Head and Neck Cancer</td>\n      <td>HNSC</td>\n      <td>...</td>\n      <td>HNSC_HPV-</td>\n      <td>No</td>\n      <td>Yes</td>\n      <td>UNC</td>\n      <td>BA</td>\n      <td>4.233333</td>\n      <td>Head and Neck</td>\n      <td>Head and Neck Squamous Cell Carcinoma</td>\n      <td>NaN</td>\n      <td>76.0</td>\n    </tr>\n    <tr>\n      <th>2</th>\n      <td>hnsc_tcga_pan_can_atlas_2018</td>\n      <td>TCGA-BA-4076</td>\n      <td>TCGA-BA-4076-01</td>\n      <td>39.0</td>\n      <td>NaN</td>\n      <td>6TH</td>\n      <td>9.0</td>\n      <td>45.0</td>\n      <td>Head and Neck Cancer</td>\n      <td>HNSC</td>\n      <td>...</td>\n      <td>HNSC_HPV-</td>\n      <td>No</td>\n      <td>Yes</td>\n      <td>UNC</td>\n      <td>BA</td>\n      <td>9.833333</td>\n      <td>Head and Neck</td>\n      <td>Head and Neck Squamous Cell Carcinoma</td>\n      <td>NaN</td>\n      <td>78.0</td>\n    </tr>\n    <tr>\n      <th>3</th>\n      <td>hnsc_tcga_pan_can_atlas_2018</td>\n      <td>TCGA-BA-4078</td>\n      <td>TCGA-BA-4078-01</td>\n      <td>83.0</td>\n      <td>NaN</td>\n      <td>6TH</td>\n      <td>16.0</td>\n      <td>1.0</td>\n      <td>Head and Neck Cancer</td>\n      <td>HNSC</td>\n      <td>...</td>\n      <td>HNSC_HPV-</td>\n      <td>No</td>\n      <td>Yes</td>\n      <td>UNC</td>\n      <td>BA</td>\n      <td>12.800000</td>\n      <td>Head and Neck</td>\n      <td>Head and Neck Squamous Cell Carcinoma</td>\n      <td>NaN</td>\n      <td>24.0</td>\n    </tr>\n    <tr>\n      <th>4</th>\n      <td>hnsc_tcga_pan_can_atlas_2018</td>\n      <td>TCGA-BA-5149</td>\n      <td>TCGA-BA-5149-01</td>\n      <td>47.0</td>\n      <td>STAGE IVA</td>\n      <td>7TH</td>\n      <td>16.0</td>\n      <td>43.0</td>\n      <td>Head and Neck Cancer</td>\n      <td>HNSC</td>\n      <td>...</td>\n      <td>HNSC_HPV-</td>\n      <td>Yes</td>\n      <td>No</td>\n      <td>UNC</td>\n      <td>BA</td>\n      <td>3.666667</td>\n      <td>Head and Neck</td>\n      <td>Head and Neck Squamous Cell Carcinoma</td>\n      <td>NaN</td>\n      <td>78.0</td>\n    </tr>\n  </tbody>\n</table>\n<p>5 rows × 61 columns</p>\n</div>"
     },
     "execution_count": 3,
     "metadata": {},
     "output_type": "execute_result"
    }
   ],
   "source": [
    "df_og = pd.read_csv('hnsc_tcga_pan_can_atlas_2018_clinical_data.tsv', sep='\\t')\n",
    "df_og.head()"
   ],
   "metadata": {
    "collapsed": false,
    "pycharm": {
     "name": "#%%\n"
    }
   }
  },
  {
   "cell_type": "code",
   "execution_count": 4,
   "outputs": [
    {
     "name": "stdout",
     "output_type": "stream",
     "text": [
      "366\n",
      "366\n"
     ]
    },
    {
     "data": {
      "text/plain": "                       Study ID    Patient ID        Sample ID  Diagnosis Age  \\\n1  hnsc_tcga_pan_can_atlas_2018  TCGA-BA-4074  TCGA-BA-4074-01           69.0   \n2  hnsc_tcga_pan_can_atlas_2018  TCGA-BA-4076  TCGA-BA-4076-01           39.0   \n3  hnsc_tcga_pan_can_atlas_2018  TCGA-BA-4078  TCGA-BA-4078-01           83.0   \n4  hnsc_tcga_pan_can_atlas_2018  TCGA-BA-5149  TCGA-BA-5149-01           47.0   \n5  hnsc_tcga_pan_can_atlas_2018  TCGA-BA-5151  TCGA-BA-5151-01           72.0   \n\n  Neoplasm Disease Stage American Joint Committee on Cancer Code  \\\n1                                          STAGE IVA               \n2                                                NaN               \n3                                                NaN               \n4                                          STAGE IVA               \n5                                          STAGE IVA               \n\n  American Joint Committee on Cancer Publication Version Type  \\\n1                                                6TH            \n2                                                6TH            \n3                                                6TH            \n4                                                7TH            \n5                                                7TH            \n\n   Aneuploidy Score  Buffa Hypoxia Score           Cancer Type  \\\n1              14.0                 45.0  Head and Neck Cancer   \n2               9.0                 45.0  Head and Neck Cancer   \n3              16.0                  1.0  Head and Neck Cancer   \n4              16.0                 43.0  Head and Neck Cancer   \n5               4.0                 13.0  Head and Neck Cancer   \n\n  TCGA PanCanAtlas Cancer Type Acronym  ...    Subtype  \\\n1                                 HNSC  ...  HNSC_HPV-   \n2                                 HNSC  ...  HNSC_HPV-   \n3                                 HNSC  ...  HNSC_HPV-   \n4                                 HNSC  ...  HNSC_HPV-   \n5                                 HNSC  ...  HNSC_HPV-   \n\n   Tissue Prospective Collection Indicator  \\\n1                                       No   \n2                                       No   \n3                                       No   \n4                                      Yes   \n5                                      Yes   \n\n   Tissue Retrospective Collection Indicator  Tissue Source Site  \\\n1                                        Yes                 UNC   \n2                                        Yes                 UNC   \n3                                        Yes                 UNC   \n4                                         No                 UNC   \n5                                         No                 UNC   \n\n   Tissue Source Site Code TMB (nonsynonymous)  Tumor Disease Anatomic Site  \\\n1                       BA            4.233333                Head and Neck   \n2                       BA            9.833333                Head and Neck   \n3                       BA           12.800000                Head and Neck   \n4                       BA            3.666667                Head and Neck   \n5                       BA            2.233333                Head and Neck   \n\n                              Tumor Type Patient Weight Winter Hypoxia Score  \n1  Head and Neck Squamous Cell Carcinoma            NaN                 76.0  \n2  Head and Neck Squamous Cell Carcinoma            NaN                 78.0  \n3  Head and Neck Squamous Cell Carcinoma            NaN                 24.0  \n4  Head and Neck Squamous Cell Carcinoma            NaN                 78.0  \n5  Head and Neck Squamous Cell Carcinoma            NaN                 30.0  \n\n[5 rows x 61 columns]",
      "text/html": "<div>\n<style scoped>\n    .dataframe tbody tr th:only-of-type {\n        vertical-align: middle;\n    }\n\n    .dataframe tbody tr th {\n        vertical-align: top;\n    }\n\n    .dataframe thead th {\n        text-align: right;\n    }\n</style>\n<table border=\"1\" class=\"dataframe\">\n  <thead>\n    <tr style=\"text-align: right;\">\n      <th></th>\n      <th>Study ID</th>\n      <th>Patient ID</th>\n      <th>Sample ID</th>\n      <th>Diagnosis Age</th>\n      <th>Neoplasm Disease Stage American Joint Committee on Cancer Code</th>\n      <th>American Joint Committee on Cancer Publication Version Type</th>\n      <th>Aneuploidy Score</th>\n      <th>Buffa Hypoxia Score</th>\n      <th>Cancer Type</th>\n      <th>TCGA PanCanAtlas Cancer Type Acronym</th>\n      <th>...</th>\n      <th>Subtype</th>\n      <th>Tissue Prospective Collection Indicator</th>\n      <th>Tissue Retrospective Collection Indicator</th>\n      <th>Tissue Source Site</th>\n      <th>Tissue Source Site Code</th>\n      <th>TMB (nonsynonymous)</th>\n      <th>Tumor Disease Anatomic Site</th>\n      <th>Tumor Type</th>\n      <th>Patient Weight</th>\n      <th>Winter Hypoxia Score</th>\n    </tr>\n  </thead>\n  <tbody>\n    <tr>\n      <th>1</th>\n      <td>hnsc_tcga_pan_can_atlas_2018</td>\n      <td>TCGA-BA-4074</td>\n      <td>TCGA-BA-4074-01</td>\n      <td>69.0</td>\n      <td>STAGE IVA</td>\n      <td>6TH</td>\n      <td>14.0</td>\n      <td>45.0</td>\n      <td>Head and Neck Cancer</td>\n      <td>HNSC</td>\n      <td>...</td>\n      <td>HNSC_HPV-</td>\n      <td>No</td>\n      <td>Yes</td>\n      <td>UNC</td>\n      <td>BA</td>\n      <td>4.233333</td>\n      <td>Head and Neck</td>\n      <td>Head and Neck Squamous Cell Carcinoma</td>\n      <td>NaN</td>\n      <td>76.0</td>\n    </tr>\n    <tr>\n      <th>2</th>\n      <td>hnsc_tcga_pan_can_atlas_2018</td>\n      <td>TCGA-BA-4076</td>\n      <td>TCGA-BA-4076-01</td>\n      <td>39.0</td>\n      <td>NaN</td>\n      <td>6TH</td>\n      <td>9.0</td>\n      <td>45.0</td>\n      <td>Head and Neck Cancer</td>\n      <td>HNSC</td>\n      <td>...</td>\n      <td>HNSC_HPV-</td>\n      <td>No</td>\n      <td>Yes</td>\n      <td>UNC</td>\n      <td>BA</td>\n      <td>9.833333</td>\n      <td>Head and Neck</td>\n      <td>Head and Neck Squamous Cell Carcinoma</td>\n      <td>NaN</td>\n      <td>78.0</td>\n    </tr>\n    <tr>\n      <th>3</th>\n      <td>hnsc_tcga_pan_can_atlas_2018</td>\n      <td>TCGA-BA-4078</td>\n      <td>TCGA-BA-4078-01</td>\n      <td>83.0</td>\n      <td>NaN</td>\n      <td>6TH</td>\n      <td>16.0</td>\n      <td>1.0</td>\n      <td>Head and Neck Cancer</td>\n      <td>HNSC</td>\n      <td>...</td>\n      <td>HNSC_HPV-</td>\n      <td>No</td>\n      <td>Yes</td>\n      <td>UNC</td>\n      <td>BA</td>\n      <td>12.800000</td>\n      <td>Head and Neck</td>\n      <td>Head and Neck Squamous Cell Carcinoma</td>\n      <td>NaN</td>\n      <td>24.0</td>\n    </tr>\n    <tr>\n      <th>4</th>\n      <td>hnsc_tcga_pan_can_atlas_2018</td>\n      <td>TCGA-BA-5149</td>\n      <td>TCGA-BA-5149-01</td>\n      <td>47.0</td>\n      <td>STAGE IVA</td>\n      <td>7TH</td>\n      <td>16.0</td>\n      <td>43.0</td>\n      <td>Head and Neck Cancer</td>\n      <td>HNSC</td>\n      <td>...</td>\n      <td>HNSC_HPV-</td>\n      <td>Yes</td>\n      <td>No</td>\n      <td>UNC</td>\n      <td>BA</td>\n      <td>3.666667</td>\n      <td>Head and Neck</td>\n      <td>Head and Neck Squamous Cell Carcinoma</td>\n      <td>NaN</td>\n      <td>78.0</td>\n    </tr>\n    <tr>\n      <th>5</th>\n      <td>hnsc_tcga_pan_can_atlas_2018</td>\n      <td>TCGA-BA-5151</td>\n      <td>TCGA-BA-5151-01</td>\n      <td>72.0</td>\n      <td>STAGE IVA</td>\n      <td>7TH</td>\n      <td>4.0</td>\n      <td>13.0</td>\n      <td>Head and Neck Cancer</td>\n      <td>HNSC</td>\n      <td>...</td>\n      <td>HNSC_HPV-</td>\n      <td>Yes</td>\n      <td>No</td>\n      <td>UNC</td>\n      <td>BA</td>\n      <td>2.233333</td>\n      <td>Head and Neck</td>\n      <td>Head and Neck Squamous Cell Carcinoma</td>\n      <td>NaN</td>\n      <td>30.0</td>\n    </tr>\n  </tbody>\n</table>\n<p>5 rows × 61 columns</p>\n</div>"
     },
     "execution_count": 4,
     "metadata": {},
     "output_type": "execute_result"
    }
   ],
   "source": [
    "df_filtered = df_og.drop(df_og[df_og['Radiation Therapy'] == 'No'].index)\n",
    "sample_id_array = df_filtered['Sample ID'].to_list()\n",
    "print(len(sample_id_array))\n",
    "print(len(df_filtered['Patient ID'].to_list()))\n",
    "df_filtered.head()"
   ],
   "metadata": {
    "collapsed": false,
    "pycharm": {
     "name": "#%%\n"
    }
   }
  },
  {
   "cell_type": "code",
   "execution_count": 5,
   "outputs": [],
   "source": [
    "# pt_with_rt = []\n",
    "# for i in df_og.iterrows():\n",
    "#     # print(i[1]['Radiation Therapy'])\n",
    "#     if i[1]['Radiation Therapy'] == 'Yes':\n",
    "#         print(i[1]['Patient ID'])\n",
    "#         pt_with_rt.append(i[1]['Patient ID'])"
   ],
   "metadata": {
    "collapsed": false,
    "pycharm": {
     "name": "#%%\n"
    }
   }
  },
  {
   "cell_type": "code",
   "execution_count": 6,
   "outputs": [
    {
     "name": "stdout",
     "output_type": "stream",
     "text": [
      "299\n"
     ]
    }
   ],
   "source": [
    "pt_with_rt = df_og[df_og['Radiation Therapy'] == 'Yes']['Patient ID'].tolist()\n",
    "samples_with_rt = df_og[df_og['Radiation Therapy'] == 'Yes']['Sample ID'].tolist()\n",
    "print(len(pt_with_rt))"
   ],
   "metadata": {
    "collapsed": false,
    "pycharm": {
     "name": "#%%\n"
    }
   }
  },
  {
   "cell_type": "code",
   "execution_count": 13,
   "outputs": [
    {
     "name": "stdout",
     "output_type": "stream",
     "text": [
      "\n"
     ]
    },
    {
     "name": "stderr",
     "output_type": "stream",
     "text": [
      "299it [08:24,  1.69s/it]\n"
     ]
    }
   ],
   "source": [
    "chrome_options = Options()\n",
    "chrome_options.add_argument(\"--headless\")\n",
    "# chrome_options.add_experimental_option(\"detach\", True)\n",
    "driver = webdriver.Chrome(service=Service(ChromeDriverManager().install()), options=chrome_options)\n",
    "#implicit wait\n",
    "driver.implicitly_wait(10)\n",
    "#maximize browser\n",
    "# driver.maximize_window()\n",
    "link_arr = []\n",
    "for enum, element in tqdm(enumerate(pt_with_rt)):\n",
    "    #launch URL\n",
    "    driver.get(\"https://portal.gdc.cancer.gov/\")\n",
    "    #identify element\n",
    "    if enum < 1:\n",
    "        cookie_accept = driver.find_element(By.XPATH, \"/html/body/div[4]/div/div/div/div[2]/button\")\n",
    "        #perform click\n",
    "        cookie_accept.click()\n",
    "        # paste text to /html/body/div[2]/div/div[3]/span/div/div[1]/div[1]/div[5]/input\n",
    "\n",
    "    searchbar = driver.find_element(By.XPATH, \"/html/body/div[2]/div/div[3]/span/div/div[1]/div[1]/div[5]/input\")\n",
    "    searchbar.send_keys(element)\n",
    "    #click search button\n",
    "    first_list_element = driver.find_element(By.XPATH, \"/html/body/div[2]/div/div[3]/span/div/div[1]/div[1]/div[5]/ul/li[1]\")\n",
    "    first_list_element.click()\n",
    "\n",
    "    RNA_acc = driver.find_element(By.XPATH, '/html/body/div[2]/div/div[3]/span/div/div/div/div[2]/div/div[3]/span[2]/div/span/div/div[1]/div[2]/table/tbody/tr[4]/td[2]/a')\n",
    "    RNA_acc.click()\n",
    "    driver.implicitly_wait(5)\n",
    "    bam_file_link = driver.find_element(By.XPATH, '/html/body/div[2]/div/div[3]/span/div/div/div[2]/div/div[2]/div[2]/div/div[2]/div/div[2]/table/tbody/tr[1]/td[3]/a')\n",
    "    bam_file_link.click()\n",
    "    driver.implicitly_wait(5)\n",
    "    link_arr.append(driver.current_url)"
   ],
   "metadata": {
    "collapsed": false,
    "pycharm": {
     "name": "#%%\n"
    }
   }
  },
  {
   "cell_type": "code",
   "execution_count": 11,
   "outputs": [
    {
     "ename": "NameError",
     "evalue": "name 'link_arr' is not defined",
     "output_type": "error",
     "traceback": [
      "\u001B[1;31m---------------------------------------------------------------------------\u001B[0m",
      "\u001B[1;31mNameError\u001B[0m                                 Traceback (most recent call last)",
      "Input \u001B[1;32mIn [11]\u001B[0m, in \u001B[0;36m<cell line: 1>\u001B[1;34m()\u001B[0m\n\u001B[1;32m----> 1\u001B[0m \u001B[38;5;28mprint\u001B[39m(\u001B[43mlink_arr\u001B[49m)\n\u001B[0;32m      2\u001B[0m \u001B[38;5;28mprint\u001B[39m(\u001B[38;5;28mlen\u001B[39m(link_arr))\n",
      "\u001B[1;31mNameError\u001B[0m: name 'link_arr' is not defined"
     ]
    }
   ],
   "source": [
    "print(link_arr)\n",
    "print(len(link_arr))"
   ],
   "metadata": {
    "collapsed": false,
    "pycharm": {
     "name": "#%%\n"
    }
   }
  },
  {
   "cell_type": "code",
   "execution_count": 61,
   "outputs": [
    {
     "name": "stdout",
     "output_type": "stream",
     "text": [
      "\n"
     ]
    },
    {
     "name": "stderr",
     "output_type": "stream",
     "text": [
      "1it [00:01,  1.77s/it]"
     ]
    },
    {
     "name": "stdout",
     "output_type": "stream",
     "text": [
      "6600\n"
     ]
    },
    {
     "name": "stderr",
     "output_type": "stream",
     "text": [
      "2it [00:02,  1.23s/it]"
     ]
    },
    {
     "name": "stdout",
     "output_type": "stream",
     "text": [
      "6800\n"
     ]
    },
    {
     "name": "stderr",
     "output_type": "stream",
     "text": [
      "3it [00:03,  1.01it/s]"
     ]
    },
    {
     "name": "stdout",
     "output_type": "stream",
     "text": [
      "RADIATION_DOSAGE_NOT_PRESENT\n"
     ]
    },
    {
     "name": "stderr",
     "output_type": "stream",
     "text": [
      "4it [00:04,  1.12it/s]"
     ]
    },
    {
     "name": "stdout",
     "output_type": "stream",
     "text": [
      "6000\n"
     ]
    },
    {
     "name": "stderr",
     "output_type": "stream",
     "text": [
      "5it [00:04,  1.20it/s]"
     ]
    },
    {
     "name": "stdout",
     "output_type": "stream",
     "text": [
      "6600\n"
     ]
    },
    {
     "name": "stderr",
     "output_type": "stream",
     "text": [
      "6it [00:25,  7.45s/it]"
     ]
    },
    {
     "name": "stdout",
     "output_type": "stream",
     "text": [
      "TABLE NOT PRESENT\n"
     ]
    },
    {
     "name": "stderr",
     "output_type": "stream",
     "text": [
      "7it [00:25,  5.24s/it]"
     ]
    },
    {
     "name": "stdout",
     "output_type": "stream",
     "text": [
      "RADIATION_DOSAGE_NOT_PRESENT\n"
     ]
    },
    {
     "name": "stderr",
     "output_type": "stream",
     "text": [
      "8it [00:26,  3.80s/it]"
     ]
    },
    {
     "name": "stdout",
     "output_type": "stream",
     "text": [
      "6000\n"
     ]
    },
    {
     "name": "stderr",
     "output_type": "stream",
     "text": [
      "9it [00:27,  2.83s/it]"
     ]
    },
    {
     "name": "stdout",
     "output_type": "stream",
     "text": [
      "6480\n"
     ]
    },
    {
     "name": "stderr",
     "output_type": "stream",
     "text": [
      "10it [00:47,  8.23s/it]"
     ]
    },
    {
     "name": "stdout",
     "output_type": "stream",
     "text": [
      "TABLE NOT PRESENT\n"
     ]
    },
    {
     "name": "stderr",
     "output_type": "stream",
     "text": [
      "11it [00:48,  5.93s/it]"
     ]
    },
    {
     "name": "stdout",
     "output_type": "stream",
     "text": [
      "6000\n"
     ]
    },
    {
     "name": "stderr",
     "output_type": "stream",
     "text": [
      "12it [00:49,  4.37s/it]"
     ]
    },
    {
     "name": "stdout",
     "output_type": "stream",
     "text": [
      "6996\n"
     ]
    },
    {
     "name": "stderr",
     "output_type": "stream",
     "text": [
      "13it [01:09,  9.21s/it]"
     ]
    },
    {
     "name": "stdout",
     "output_type": "stream",
     "text": [
      "TABLE NOT PRESENT\n"
     ]
    },
    {
     "name": "stderr",
     "output_type": "stream",
     "text": [
      "14it [01:10,  6.66s/it]"
     ]
    },
    {
     "name": "stdout",
     "output_type": "stream",
     "text": [
      "6000\n"
     ]
    },
    {
     "name": "stderr",
     "output_type": "stream",
     "text": [
      "15it [01:10,  4.90s/it]"
     ]
    },
    {
     "name": "stdout",
     "output_type": "stream",
     "text": [
      "7000\n"
     ]
    },
    {
     "name": "stderr",
     "output_type": "stream",
     "text": [
      "16it [01:11,  3.66s/it]"
     ]
    },
    {
     "name": "stdout",
     "output_type": "stream",
     "text": [
      "6000\n"
     ]
    },
    {
     "name": "stderr",
     "output_type": "stream",
     "text": [
      "17it [01:12,  2.80s/it]"
     ]
    },
    {
     "name": "stdout",
     "output_type": "stream",
     "text": [
      "6600\n"
     ]
    },
    {
     "name": "stderr",
     "output_type": "stream",
     "text": [
      "18it [01:13,  2.20s/it]"
     ]
    },
    {
     "name": "stdout",
     "output_type": "stream",
     "text": [
      "6600\n"
     ]
    },
    {
     "name": "stderr",
     "output_type": "stream",
     "text": [
      "19it [01:14,  1.78s/it]"
     ]
    },
    {
     "name": "stdout",
     "output_type": "stream",
     "text": [
      "6600\n"
     ]
    },
    {
     "name": "stderr",
     "output_type": "stream",
     "text": [
      "20it [01:14,  1.48s/it]"
     ]
    },
    {
     "name": "stdout",
     "output_type": "stream",
     "text": [
      "3800\n"
     ]
    },
    {
     "name": "stderr",
     "output_type": "stream",
     "text": [
      "21it [01:15,  1.26s/it]"
     ]
    },
    {
     "name": "stdout",
     "output_type": "stream",
     "text": [
      "6400\n"
     ]
    },
    {
     "name": "stderr",
     "output_type": "stream",
     "text": [
      "22it [01:16,  1.11s/it]"
     ]
    },
    {
     "name": "stdout",
     "output_type": "stream",
     "text": [
      "400\n"
     ]
    },
    {
     "name": "stderr",
     "output_type": "stream",
     "text": [
      "23it [01:17,  1.01it/s]"
     ]
    },
    {
     "name": "stdout",
     "output_type": "stream",
     "text": [
      "6400\n"
     ]
    },
    {
     "name": "stderr",
     "output_type": "stream",
     "text": [
      "24it [01:17,  1.06it/s]"
     ]
    },
    {
     "name": "stdout",
     "output_type": "stream",
     "text": [
      "6600\n"
     ]
    },
    {
     "name": "stderr",
     "output_type": "stream",
     "text": [
      "25it [01:18,  1.20it/s]"
     ]
    },
    {
     "name": "stdout",
     "output_type": "stream",
     "text": [
      "6200\n"
     ]
    },
    {
     "name": "stderr",
     "output_type": "stream",
     "text": [
      "26it [01:19,  1.23it/s]"
     ]
    },
    {
     "name": "stdout",
     "output_type": "stream",
     "text": [
      "RADIATION_DOSAGE_NOT_PRESENT\n"
     ]
    },
    {
     "name": "stderr",
     "output_type": "stream",
     "text": [
      "27it [01:20,  1.16it/s]"
     ]
    },
    {
     "name": "stdout",
     "output_type": "stream",
     "text": [
      "6000\n"
     ]
    },
    {
     "name": "stderr",
     "output_type": "stream",
     "text": [
      "28it [01:21,  1.14it/s]"
     ]
    },
    {
     "name": "stdout",
     "output_type": "stream",
     "text": [
      "5580\n"
     ]
    },
    {
     "name": "stderr",
     "output_type": "stream",
     "text": [
      "29it [01:41,  6.70s/it]"
     ]
    },
    {
     "name": "stdout",
     "output_type": "stream",
     "text": [
      "TABLE NOT PRESENT\n"
     ]
    },
    {
     "name": "stderr",
     "output_type": "stream",
     "text": [
      "30it [01:42,  4.91s/it]"
     ]
    },
    {
     "name": "stdout",
     "output_type": "stream",
     "text": [
      "RADIATION_DOSAGE_NOT_PRESENT\n"
     ]
    },
    {
     "name": "stderr",
     "output_type": "stream",
     "text": [
      "31it [01:42,  3.66s/it]"
     ]
    },
    {
     "name": "stdout",
     "output_type": "stream",
     "text": [
      "RADIATION_DOSAGE_NOT_PRESENT\n"
     ]
    },
    {
     "name": "stderr",
     "output_type": "stream",
     "text": [
      "32it [01:43,  2.77s/it]"
     ]
    },
    {
     "name": "stdout",
     "output_type": "stream",
     "text": [
      "RADIATION_DOSAGE_NOT_PRESENT\n"
     ]
    },
    {
     "name": "stderr",
     "output_type": "stream",
     "text": [
      "33it [01:44,  2.16s/it]"
     ]
    },
    {
     "name": "stdout",
     "output_type": "stream",
     "text": [
      "6000.00\n"
     ]
    },
    {
     "name": "stderr",
     "output_type": "stream",
     "text": [
      "34it [01:45,  1.74s/it]"
     ]
    },
    {
     "name": "stdout",
     "output_type": "stream",
     "text": [
      "7000.00\n"
     ]
    },
    {
     "name": "stderr",
     "output_type": "stream",
     "text": [
      "35it [01:45,  1.45s/it]"
     ]
    },
    {
     "name": "stdout",
     "output_type": "stream",
     "text": [
      "6000\n"
     ]
    },
    {
     "name": "stderr",
     "output_type": "stream",
     "text": [
      "36it [01:46,  1.24s/it]"
     ]
    },
    {
     "name": "stdout",
     "output_type": "stream",
     "text": [
      "RADIATION_DOSAGE_NOT_PRESENT\n"
     ]
    },
    {
     "name": "stderr",
     "output_type": "stream",
     "text": [
      "37it [01:47,  1.10s/it]"
     ]
    },
    {
     "name": "stdout",
     "output_type": "stream",
     "text": [
      "6600.00\n"
     ]
    },
    {
     "name": "stderr",
     "output_type": "stream",
     "text": [
      "38it [02:07,  6.86s/it]"
     ]
    },
    {
     "name": "stdout",
     "output_type": "stream",
     "text": [
      "TABLE NOT PRESENT\n"
     ]
    },
    {
     "name": "stderr",
     "output_type": "stream",
     "text": [
      "39it [02:09,  5.23s/it]"
     ]
    },
    {
     "name": "stdout",
     "output_type": "stream",
     "text": [
      "6600.00\n"
     ]
    },
    {
     "name": "stderr",
     "output_type": "stream",
     "text": [
      "40it [02:09,  3.90s/it]"
     ]
    },
    {
     "name": "stdout",
     "output_type": "stream",
     "text": [
      "182\n"
     ]
    },
    {
     "name": "stderr",
     "output_type": "stream",
     "text": [
      "41it [02:10,  2.97s/it]"
     ]
    },
    {
     "name": "stdout",
     "output_type": "stream",
     "text": [
      "6300\n"
     ]
    },
    {
     "name": "stderr",
     "output_type": "stream",
     "text": [
      "42it [02:11,  2.31s/it]"
     ]
    },
    {
     "name": "stdout",
     "output_type": "stream",
     "text": [
      "RADIATION_DOSAGE_NOT_PRESENT\n"
     ]
    },
    {
     "name": "stderr",
     "output_type": "stream",
     "text": [
      "43it [02:12,  1.88s/it]"
     ]
    },
    {
     "name": "stdout",
     "output_type": "stream",
     "text": [
      "6600\n"
     ]
    },
    {
     "name": "stderr",
     "output_type": "stream",
     "text": [
      "44it [02:32,  7.43s/it]"
     ]
    },
    {
     "name": "stdout",
     "output_type": "stream",
     "text": [
      "TABLE NOT PRESENT\n"
     ]
    },
    {
     "name": "stderr",
     "output_type": "stream",
     "text": [
      "45it [02:33,  5.46s/it]"
     ]
    },
    {
     "name": "stdout",
     "output_type": "stream",
     "text": [
      "RADIATION_DOSAGE_NOT_PRESENT\n"
     ]
    },
    {
     "name": "stderr",
     "output_type": "stream",
     "text": [
      "46it [02:34,  4.07s/it]"
     ]
    },
    {
     "name": "stdout",
     "output_type": "stream",
     "text": [
      "6000\n"
     ]
    },
    {
     "name": "stderr",
     "output_type": "stream",
     "text": [
      "47it [02:35,  3.10s/it]"
     ]
    },
    {
     "name": "stdout",
     "output_type": "stream",
     "text": [
      "5400\n"
     ]
    },
    {
     "name": "stderr",
     "output_type": "stream",
     "text": [
      "48it [02:36,  2.42s/it]"
     ]
    },
    {
     "name": "stdout",
     "output_type": "stream",
     "text": [
      "6000\n"
     ]
    },
    {
     "name": "stderr",
     "output_type": "stream",
     "text": [
      "49it [02:36,  1.94s/it]"
     ]
    },
    {
     "name": "stdout",
     "output_type": "stream",
     "text": [
      "6000\n"
     ]
    },
    {
     "name": "stderr",
     "output_type": "stream",
     "text": [
      "50it [02:37,  1.61s/it]"
     ]
    },
    {
     "name": "stdout",
     "output_type": "stream",
     "text": [
      "6200\n"
     ]
    },
    {
     "name": "stderr",
     "output_type": "stream",
     "text": [
      "51it [02:38,  1.39s/it]"
     ]
    },
    {
     "name": "stdout",
     "output_type": "stream",
     "text": [
      "6480\n"
     ]
    },
    {
     "name": "stderr",
     "output_type": "stream",
     "text": [
      "52it [02:39,  1.23s/it]"
     ]
    },
    {
     "name": "stdout",
     "output_type": "stream",
     "text": [
      "6600\n"
     ]
    },
    {
     "name": "stderr",
     "output_type": "stream",
     "text": [
      "53it [02:40,  1.11s/it]"
     ]
    },
    {
     "name": "stdout",
     "output_type": "stream",
     "text": [
      "7380\n"
     ]
    },
    {
     "name": "stderr",
     "output_type": "stream",
     "text": [
      "54it [02:41,  1.03s/it]"
     ]
    },
    {
     "name": "stdout",
     "output_type": "stream",
     "text": [
      "6000\n"
     ]
    },
    {
     "name": "stderr",
     "output_type": "stream",
     "text": [
      "55it [02:42,  1.01s/it]"
     ]
    },
    {
     "name": "stdout",
     "output_type": "stream",
     "text": [
      "6000\n"
     ]
    },
    {
     "name": "stderr",
     "output_type": "stream",
     "text": [
      "56it [02:43,  1.03it/s]"
     ]
    },
    {
     "name": "stdout",
     "output_type": "stream",
     "text": [
      "6640\n"
     ]
    },
    {
     "name": "stderr",
     "output_type": "stream",
     "text": [
      "57it [02:43,  1.09it/s]"
     ]
    },
    {
     "name": "stdout",
     "output_type": "stream",
     "text": [
      "5500\n"
     ]
    },
    {
     "name": "stderr",
     "output_type": "stream",
     "text": [
      "58it [02:44,  1.13it/s]"
     ]
    },
    {
     "name": "stdout",
     "output_type": "stream",
     "text": [
      "6000\n"
     ]
    },
    {
     "name": "stderr",
     "output_type": "stream",
     "text": [
      "59it [02:45,  1.17it/s]"
     ]
    },
    {
     "name": "stdout",
     "output_type": "stream",
     "text": [
      "6000\n"
     ]
    },
    {
     "name": "stderr",
     "output_type": "stream",
     "text": [
      "60it [02:46,  1.19it/s]"
     ]
    },
    {
     "name": "stdout",
     "output_type": "stream",
     "text": [
      "7200\n"
     ]
    },
    {
     "name": "stderr",
     "output_type": "stream",
     "text": [
      "61it [02:47,  1.21it/s]"
     ]
    },
    {
     "name": "stdout",
     "output_type": "stream",
     "text": [
      "6000\n"
     ]
    },
    {
     "name": "stderr",
     "output_type": "stream",
     "text": [
      "62it [02:47,  1.18it/s]"
     ]
    },
    {
     "name": "stdout",
     "output_type": "stream",
     "text": [
      "6600\n"
     ]
    },
    {
     "name": "stderr",
     "output_type": "stream",
     "text": [
      "63it [02:48,  1.16it/s]"
     ]
    },
    {
     "name": "stdout",
     "output_type": "stream",
     "text": [
      "RADIATION_DOSAGE_NOT_PRESENT\n"
     ]
    },
    {
     "name": "stderr",
     "output_type": "stream",
     "text": [
      "64it [02:49,  1.13it/s]"
     ]
    },
    {
     "name": "stdout",
     "output_type": "stream",
     "text": [
      "6600\n"
     ]
    },
    {
     "name": "stderr",
     "output_type": "stream",
     "text": [
      "65it [02:50,  1.13it/s]"
     ]
    },
    {
     "name": "stdout",
     "output_type": "stream",
     "text": [
      "7020\n"
     ]
    },
    {
     "name": "stderr",
     "output_type": "stream",
     "text": [
      "66it [02:51,  1.11it/s]"
     ]
    },
    {
     "name": "stdout",
     "output_type": "stream",
     "text": [
      "6600\n"
     ]
    },
    {
     "name": "stderr",
     "output_type": "stream",
     "text": [
      "67it [02:52,  1.12it/s]"
     ]
    },
    {
     "name": "stdout",
     "output_type": "stream",
     "text": [
      "6000\n"
     ]
    },
    {
     "name": "stderr",
     "output_type": "stream",
     "text": [
      "68it [02:53,  1.15it/s]"
     ]
    },
    {
     "name": "stdout",
     "output_type": "stream",
     "text": [
      "6000\n"
     ]
    },
    {
     "name": "stderr",
     "output_type": "stream",
     "text": [
      "69it [02:54,  1.16it/s]"
     ]
    },
    {
     "name": "stdout",
     "output_type": "stream",
     "text": [
      "6300\n"
     ]
    },
    {
     "name": "stderr",
     "output_type": "stream",
     "text": [
      "70it [02:55,  1.12it/s]"
     ]
    },
    {
     "name": "stdout",
     "output_type": "stream",
     "text": [
      "6400\n"
     ]
    },
    {
     "name": "stderr",
     "output_type": "stream",
     "text": [
      "71it [02:55,  1.12it/s]"
     ]
    },
    {
     "name": "stdout",
     "output_type": "stream",
     "text": [
      "6600\n"
     ]
    },
    {
     "name": "stderr",
     "output_type": "stream",
     "text": [
      "72it [02:56,  1.08it/s]"
     ]
    },
    {
     "name": "stdout",
     "output_type": "stream",
     "text": [
      "6600\n"
     ]
    },
    {
     "name": "stderr",
     "output_type": "stream",
     "text": [
      "73it [02:57,  1.08it/s]"
     ]
    },
    {
     "name": "stdout",
     "output_type": "stream",
     "text": [
      "6600\n"
     ]
    },
    {
     "name": "stderr",
     "output_type": "stream",
     "text": [
      "74it [02:58,  1.12it/s]"
     ]
    },
    {
     "name": "stdout",
     "output_type": "stream",
     "text": [
      "6840\n"
     ]
    },
    {
     "name": "stderr",
     "output_type": "stream",
     "text": [
      "75it [02:59,  1.12it/s]"
     ]
    },
    {
     "name": "stdout",
     "output_type": "stream",
     "text": [
      "6440\n"
     ]
    },
    {
     "name": "stderr",
     "output_type": "stream",
     "text": [
      "76it [03:00,  1.02s/it]"
     ]
    },
    {
     "name": "stdout",
     "output_type": "stream",
     "text": [
      "6600\n"
     ]
    },
    {
     "name": "stderr",
     "output_type": "stream",
     "text": [
      "77it [03:01,  1.02it/s]"
     ]
    },
    {
     "name": "stdout",
     "output_type": "stream",
     "text": [
      "6600\n"
     ]
    },
    {
     "name": "stderr",
     "output_type": "stream",
     "text": [
      "78it [03:02,  1.10it/s]"
     ]
    },
    {
     "name": "stdout",
     "output_type": "stream",
     "text": [
      "7300\n"
     ]
    },
    {
     "name": "stderr",
     "output_type": "stream",
     "text": [
      "79it [03:03,  1.16it/s]"
     ]
    },
    {
     "name": "stdout",
     "output_type": "stream",
     "text": [
      "9\n"
     ]
    },
    {
     "name": "stderr",
     "output_type": "stream",
     "text": [
      "80it [03:04,  1.16it/s]"
     ]
    },
    {
     "name": "stdout",
     "output_type": "stream",
     "text": [
      "60\n"
     ]
    },
    {
     "name": "stderr",
     "output_type": "stream",
     "text": [
      "81it [03:04,  1.18it/s]"
     ]
    },
    {
     "name": "stdout",
     "output_type": "stream",
     "text": [
      "66\n"
     ]
    },
    {
     "name": "stderr",
     "output_type": "stream",
     "text": [
      "82it [03:05,  1.19it/s]"
     ]
    },
    {
     "name": "stdout",
     "output_type": "stream",
     "text": [
      "60\n"
     ]
    },
    {
     "name": "stderr",
     "output_type": "stream",
     "text": [
      "83it [03:06,  1.19it/s]"
     ]
    },
    {
     "name": "stdout",
     "output_type": "stream",
     "text": [
      "6900\n"
     ]
    },
    {
     "name": "stderr",
     "output_type": "stream",
     "text": [
      "84it [03:07,  1.19it/s]"
     ]
    },
    {
     "name": "stdout",
     "output_type": "stream",
     "text": [
      "6600\n"
     ]
    },
    {
     "name": "stderr",
     "output_type": "stream",
     "text": [
      "85it [03:08,  1.18it/s]"
     ]
    },
    {
     "name": "stdout",
     "output_type": "stream",
     "text": [
      "6600\n"
     ]
    },
    {
     "name": "stderr",
     "output_type": "stream",
     "text": [
      "86it [03:09,  1.17it/s]"
     ]
    },
    {
     "name": "stdout",
     "output_type": "stream",
     "text": [
      "7000\n"
     ]
    },
    {
     "name": "stderr",
     "output_type": "stream",
     "text": [
      "87it [03:10,  1.18it/s]"
     ]
    },
    {
     "name": "stdout",
     "output_type": "stream",
     "text": [
      "5000\n"
     ]
    },
    {
     "name": "stderr",
     "output_type": "stream",
     "text": [
      "88it [03:10,  1.15it/s]"
     ]
    },
    {
     "name": "stdout",
     "output_type": "stream",
     "text": [
      "1696\n"
     ]
    },
    {
     "name": "stderr",
     "output_type": "stream",
     "text": [
      "89it [03:11,  1.10it/s]"
     ]
    },
    {
     "name": "stdout",
     "output_type": "stream",
     "text": [
      "6600\n"
     ]
    },
    {
     "name": "stderr",
     "output_type": "stream",
     "text": [
      "90it [03:13,  1.02s/it]"
     ]
    },
    {
     "name": "stdout",
     "output_type": "stream",
     "text": [
      "6600\n"
     ]
    },
    {
     "name": "stderr",
     "output_type": "stream",
     "text": [
      "91it [03:14,  1.03it/s]"
     ]
    },
    {
     "name": "stdout",
     "output_type": "stream",
     "text": [
      "6000\n"
     ]
    },
    {
     "name": "stderr",
     "output_type": "stream",
     "text": [
      "92it [03:34,  6.79s/it]"
     ]
    },
    {
     "name": "stdout",
     "output_type": "stream",
     "text": [
      "TABLE NOT PRESENT\n"
     ]
    },
    {
     "name": "stderr",
     "output_type": "stream",
     "text": [
      "93it [03:35,  5.18s/it]"
     ]
    },
    {
     "name": "stdout",
     "output_type": "stream",
     "text": [
      "6000\n"
     ]
    },
    {
     "name": "stderr",
     "output_type": "stream",
     "text": [
      "94it [03:37,  4.00s/it]"
     ]
    },
    {
     "name": "stdout",
     "output_type": "stream",
     "text": [
      "6000\n"
     ]
    },
    {
     "name": "stderr",
     "output_type": "stream",
     "text": [
      "95it [03:38,  3.08s/it]"
     ]
    },
    {
     "name": "stdout",
     "output_type": "stream",
     "text": [
      "6600\n"
     ]
    },
    {
     "name": "stderr",
     "output_type": "stream",
     "text": [
      "96it [03:38,  2.36s/it]"
     ]
    },
    {
     "name": "stdout",
     "output_type": "stream",
     "text": [
      "6600\n"
     ]
    },
    {
     "name": "stderr",
     "output_type": "stream",
     "text": [
      "97it [03:39,  1.89s/it]"
     ]
    },
    {
     "name": "stdout",
     "output_type": "stream",
     "text": [
      "6000\n"
     ]
    },
    {
     "name": "stderr",
     "output_type": "stream",
     "text": [
      "98it [03:59,  7.43s/it]"
     ]
    },
    {
     "name": "stdout",
     "output_type": "stream",
     "text": [
      "TABLE NOT PRESENT\n"
     ]
    },
    {
     "name": "stderr",
     "output_type": "stream",
     "text": [
      "99it [04:00,  5.51s/it]"
     ]
    },
    {
     "name": "stdout",
     "output_type": "stream",
     "text": [
      "6600\n"
     ]
    },
    {
     "name": "stderr",
     "output_type": "stream",
     "text": [
      "100it [04:01,  4.16s/it]"
     ]
    },
    {
     "name": "stdout",
     "output_type": "stream",
     "text": [
      "6600\n"
     ]
    },
    {
     "name": "stderr",
     "output_type": "stream",
     "text": [
      "101it [04:02,  3.20s/it]"
     ]
    },
    {
     "name": "stdout",
     "output_type": "stream",
     "text": [
      "6600\n"
     ]
    },
    {
     "name": "stderr",
     "output_type": "stream",
     "text": [
      "102it [04:03,  2.54s/it]"
     ]
    },
    {
     "name": "stdout",
     "output_type": "stream",
     "text": [
      "5610\n"
     ]
    },
    {
     "name": "stderr",
     "output_type": "stream",
     "text": [
      "103it [04:04,  2.08s/it]"
     ]
    },
    {
     "name": "stdout",
     "output_type": "stream",
     "text": [
      "5610\n"
     ]
    },
    {
     "name": "stderr",
     "output_type": "stream",
     "text": [
      "104it [04:05,  1.78s/it]"
     ]
    },
    {
     "name": "stdout",
     "output_type": "stream",
     "text": [
      "6930\n"
     ]
    },
    {
     "name": "stderr",
     "output_type": "stream",
     "text": [
      "105it [04:06,  1.54s/it]"
     ]
    },
    {
     "name": "stdout",
     "output_type": "stream",
     "text": [
      "6000\n"
     ]
    },
    {
     "name": "stderr",
     "output_type": "stream",
     "text": [
      "106it [04:07,  1.37s/it]"
     ]
    },
    {
     "name": "stdout",
     "output_type": "stream",
     "text": [
      "5400\n"
     ]
    },
    {
     "name": "stderr",
     "output_type": "stream",
     "text": [
      "107it [04:08,  1.28s/it]"
     ]
    },
    {
     "name": "stdout",
     "output_type": "stream",
     "text": [
      "5400\n"
     ]
    },
    {
     "name": "stderr",
     "output_type": "stream",
     "text": [
      "108it [04:10,  1.21s/it]"
     ]
    },
    {
     "name": "stdout",
     "output_type": "stream",
     "text": [
      "5130\n"
     ]
    },
    {
     "name": "stderr",
     "output_type": "stream",
     "text": [
      "109it [04:11,  1.19s/it]"
     ]
    },
    {
     "name": "stdout",
     "output_type": "stream",
     "text": [
      "5130\n"
     ]
    },
    {
     "name": "stderr",
     "output_type": "stream",
     "text": [
      "110it [04:12,  1.16s/it]"
     ]
    },
    {
     "name": "stdout",
     "output_type": "stream",
     "text": [
      "6930\n"
     ]
    },
    {
     "name": "stderr",
     "output_type": "stream",
     "text": [
      "111it [04:13,  1.13s/it]"
     ]
    },
    {
     "name": "stdout",
     "output_type": "stream",
     "text": [
      "5610\n"
     ]
    },
    {
     "name": "stderr",
     "output_type": "stream",
     "text": [
      "112it [04:14,  1.07s/it]"
     ]
    },
    {
     "name": "stdout",
     "output_type": "stream",
     "text": [
      "6000\n"
     ]
    },
    {
     "name": "stderr",
     "output_type": "stream",
     "text": [
      "113it [04:15,  1.06s/it]"
     ]
    },
    {
     "name": "stdout",
     "output_type": "stream",
     "text": [
      "5400\n"
     ]
    },
    {
     "name": "stderr",
     "output_type": "stream",
     "text": [
      "114it [04:16,  1.06s/it]"
     ]
    },
    {
     "name": "stdout",
     "output_type": "stream",
     "text": [
      "6600\n"
     ]
    },
    {
     "name": "stderr",
     "output_type": "stream",
     "text": [
      "115it [04:17,  1.04s/it]"
     ]
    },
    {
     "name": "stdout",
     "output_type": "stream",
     "text": [
      "RADIATION_DOSAGE_NOT_PRESENT\n"
     ]
    },
    {
     "name": "stderr",
     "output_type": "stream",
     "text": [
      "116it [04:18,  1.01s/it]"
     ]
    },
    {
     "name": "stdout",
     "output_type": "stream",
     "text": [
      "RADIATION_DOSAGE_NOT_PRESENT\n"
     ]
    },
    {
     "name": "stderr",
     "output_type": "stream",
     "text": [
      "117it [04:19,  1.01it/s]"
     ]
    },
    {
     "name": "stdout",
     "output_type": "stream",
     "text": [
      "RADIATION_DOSAGE_NOT_PRESENT\n"
     ]
    },
    {
     "name": "stderr",
     "output_type": "stream",
     "text": [
      "118it [04:20,  1.01s/it]"
     ]
    },
    {
     "name": "stdout",
     "output_type": "stream",
     "text": [
      "5130\n"
     ]
    },
    {
     "name": "stderr",
     "output_type": "stream",
     "text": [
      "119it [04:40,  6.86s/it]"
     ]
    },
    {
     "name": "stdout",
     "output_type": "stream",
     "text": [
      "TABLE NOT PRESENT\n"
     ]
    },
    {
     "name": "stderr",
     "output_type": "stream",
     "text": [
      "120it [04:41,  5.12s/it]"
     ]
    },
    {
     "name": "stdout",
     "output_type": "stream",
     "text": [
      "5400\n"
     ]
    },
    {
     "name": "stderr",
     "output_type": "stream",
     "text": [
      "121it [04:42,  3.87s/it]"
     ]
    },
    {
     "name": "stdout",
     "output_type": "stream",
     "text": [
      "RADIATION_DOSAGE_NOT_PRESENT\n"
     ]
    },
    {
     "name": "stderr",
     "output_type": "stream",
     "text": [
      "122it [05:03,  8.87s/it]"
     ]
    },
    {
     "name": "stdout",
     "output_type": "stream",
     "text": [
      "TABLE NOT PRESENT\n"
     ]
    },
    {
     "name": "stderr",
     "output_type": "stream",
     "text": [
      "123it [05:04,  6.50s/it]"
     ]
    },
    {
     "name": "stdout",
     "output_type": "stream",
     "text": [
      "5000\n"
     ]
    },
    {
     "name": "stderr",
     "output_type": "stream",
     "text": [
      "124it [05:05,  4.86s/it]"
     ]
    },
    {
     "name": "stdout",
     "output_type": "stream",
     "text": [
      "6600\n"
     ]
    },
    {
     "name": "stderr",
     "output_type": "stream",
     "text": [
      "125it [05:25,  9.56s/it]"
     ]
    },
    {
     "name": "stdout",
     "output_type": "stream",
     "text": [
      "TABLE NOT PRESENT\n"
     ]
    },
    {
     "name": "stderr",
     "output_type": "stream",
     "text": [
      "126it [05:26,  7.00s/it]"
     ]
    },
    {
     "name": "stdout",
     "output_type": "stream",
     "text": [
      "RADIATION_DOSAGE_NOT_PRESENT\n"
     ]
    },
    {
     "name": "stderr",
     "output_type": "stream",
     "text": [
      "127it [05:27,  5.20s/it]"
     ]
    },
    {
     "name": "stdout",
     "output_type": "stream",
     "text": [
      "5800\n"
     ]
    },
    {
     "name": "stderr",
     "output_type": "stream",
     "text": [
      "128it [05:29,  3.98s/it]"
     ]
    },
    {
     "name": "stdout",
     "output_type": "stream",
     "text": [
      "3570\n"
     ]
    },
    {
     "name": "stderr",
     "output_type": "stream",
     "text": [
      "129it [05:30,  3.09s/it]"
     ]
    },
    {
     "name": "stdout",
     "output_type": "stream",
     "text": [
      "6930\n"
     ]
    },
    {
     "name": "stderr",
     "output_type": "stream",
     "text": [
      "130it [05:31,  2.47s/it]"
     ]
    },
    {
     "name": "stdout",
     "output_type": "stream",
     "text": [
      "External\n"
     ]
    },
    {
     "name": "stderr",
     "output_type": "stream",
     "text": [
      "131it [05:32,  2.01s/it]"
     ]
    },
    {
     "name": "stdout",
     "output_type": "stream",
     "text": [
      "RADIATION_DOSAGE_NOT_PRESENT\n"
     ]
    },
    {
     "name": "stderr",
     "output_type": "stream",
     "text": [
      "132it [05:33,  1.81s/it]"
     ]
    },
    {
     "name": "stdout",
     "output_type": "stream",
     "text": [
      "3000\n"
     ]
    },
    {
     "name": "stderr",
     "output_type": "stream",
     "text": [
      "133it [05:34,  1.55s/it]"
     ]
    },
    {
     "name": "stdout",
     "output_type": "stream",
     "text": [
      "4860\n"
     ]
    },
    {
     "name": "stderr",
     "output_type": "stream",
     "text": [
      "134it [05:54,  7.19s/it]"
     ]
    },
    {
     "name": "stdout",
     "output_type": "stream",
     "text": [
      "TABLE NOT PRESENT\n"
     ]
    },
    {
     "name": "stderr",
     "output_type": "stream",
     "text": [
      "135it [05:56,  5.47s/it]"
     ]
    },
    {
     "name": "stdout",
     "output_type": "stream",
     "text": [
      "7020\n"
     ]
    },
    {
     "name": "stderr",
     "output_type": "stream",
     "text": [
      "136it [05:57,  4.13s/it]"
     ]
    },
    {
     "name": "stdout",
     "output_type": "stream",
     "text": [
      "6930\n"
     ]
    },
    {
     "name": "stderr",
     "output_type": "stream",
     "text": [
      "137it [05:58,  3.16s/it]"
     ]
    },
    {
     "name": "stdout",
     "output_type": "stream",
     "text": [
      "50\n"
     ]
    },
    {
     "name": "stderr",
     "output_type": "stream",
     "text": [
      "138it [05:58,  2.46s/it]"
     ]
    },
    {
     "name": "stdout",
     "output_type": "stream",
     "text": [
      "7000\n"
     ]
    },
    {
     "name": "stderr",
     "output_type": "stream",
     "text": [
      "139it [05:59,  1.98s/it]"
     ]
    },
    {
     "name": "stdout",
     "output_type": "stream",
     "text": [
      "6000\n"
     ]
    },
    {
     "name": "stderr",
     "output_type": "stream",
     "text": [
      "140it [06:00,  1.64s/it]"
     ]
    },
    {
     "name": "stdout",
     "output_type": "stream",
     "text": [
      "6000\n"
     ]
    },
    {
     "name": "stderr",
     "output_type": "stream",
     "text": [
      "141it [06:01,  1.41s/it]"
     ]
    },
    {
     "name": "stdout",
     "output_type": "stream",
     "text": [
      "4500\n"
     ]
    },
    {
     "name": "stderr",
     "output_type": "stream",
     "text": [
      "142it [06:02,  1.26s/it]"
     ]
    },
    {
     "name": "stdout",
     "output_type": "stream",
     "text": [
      "60\n"
     ]
    },
    {
     "name": "stderr",
     "output_type": "stream",
     "text": [
      "143it [06:03,  1.14s/it]"
     ]
    },
    {
     "name": "stdout",
     "output_type": "stream",
     "text": [
      "Adjuvant\n"
     ]
    },
    {
     "name": "stderr",
     "output_type": "stream",
     "text": [
      "144it [06:04,  1.05s/it]"
     ]
    },
    {
     "name": "stdout",
     "output_type": "stream",
     "text": [
      "40\n"
     ]
    },
    {
     "name": "stderr",
     "output_type": "stream",
     "text": [
      "145it [06:04,  1.00s/it]"
     ]
    },
    {
     "name": "stdout",
     "output_type": "stream",
     "text": [
      "60\n"
     ]
    },
    {
     "name": "stderr",
     "output_type": "stream",
     "text": [
      "146it [06:05,  1.05it/s]"
     ]
    },
    {
     "name": "stdout",
     "output_type": "stream",
     "text": [
      "60\n"
     ]
    },
    {
     "name": "stderr",
     "output_type": "stream",
     "text": [
      "147it [06:06,  1.08it/s]"
     ]
    },
    {
     "name": "stdout",
     "output_type": "stream",
     "text": [
      "6000\n"
     ]
    },
    {
     "name": "stderr",
     "output_type": "stream",
     "text": [
      "148it [06:26,  6.75s/it]"
     ]
    },
    {
     "name": "stdout",
     "output_type": "stream",
     "text": [
      "TABLE NOT PRESENT\n"
     ]
    },
    {
     "name": "stderr",
     "output_type": "stream",
     "text": [
      "149it [06:47, 10.85s/it]"
     ]
    },
    {
     "name": "stdout",
     "output_type": "stream",
     "text": [
      "TABLE NOT PRESENT\n"
     ]
    },
    {
     "name": "stderr",
     "output_type": "stream",
     "text": [
      "150it [06:48,  7.86s/it]"
     ]
    },
    {
     "name": "stdout",
     "output_type": "stream",
     "text": [
      "66\n"
     ]
    },
    {
     "name": "stderr",
     "output_type": "stream",
     "text": [
      "151it [06:49,  5.78s/it]"
     ]
    },
    {
     "name": "stdout",
     "output_type": "stream",
     "text": [
      "62\n"
     ]
    },
    {
     "name": "stderr",
     "output_type": "stream",
     "text": [
      "152it [06:50,  4.31s/it]"
     ]
    },
    {
     "name": "stdout",
     "output_type": "stream",
     "text": [
      "35\n"
     ]
    },
    {
     "name": "stderr",
     "output_type": "stream",
     "text": [
      "153it [07:10,  9.14s/it]"
     ]
    },
    {
     "name": "stdout",
     "output_type": "stream",
     "text": [
      "TABLE NOT PRESENT\n"
     ]
    },
    {
     "name": "stderr",
     "output_type": "stream",
     "text": [
      "154it [07:11,  6.66s/it]"
     ]
    },
    {
     "name": "stdout",
     "output_type": "stream",
     "text": [
      "30\n"
     ]
    },
    {
     "name": "stderr",
     "output_type": "stream",
     "text": [
      "155it [07:31, 10.79s/it]"
     ]
    },
    {
     "name": "stdout",
     "output_type": "stream",
     "text": [
      "TABLE NOT PRESENT\n"
     ]
    },
    {
     "name": "stderr",
     "output_type": "stream",
     "text": [
      "156it [07:32,  7.81s/it]"
     ]
    },
    {
     "name": "stdout",
     "output_type": "stream",
     "text": [
      "60\n"
     ]
    },
    {
     "name": "stderr",
     "output_type": "stream",
     "text": [
      "157it [07:33,  5.75s/it]"
     ]
    },
    {
     "name": "stdout",
     "output_type": "stream",
     "text": [
      "20\n"
     ]
    },
    {
     "name": "stderr",
     "output_type": "stream",
     "text": [
      "158it [07:34,  4.31s/it]"
     ]
    },
    {
     "name": "stdout",
     "output_type": "stream",
     "text": [
      "60\n"
     ]
    },
    {
     "name": "stderr",
     "output_type": "stream",
     "text": [
      "159it [07:35,  3.29s/it]"
     ]
    },
    {
     "name": "stdout",
     "output_type": "stream",
     "text": [
      "30\n"
     ]
    },
    {
     "name": "stderr",
     "output_type": "stream",
     "text": [
      "160it [07:36,  2.57s/it]"
     ]
    },
    {
     "name": "stdout",
     "output_type": "stream",
     "text": [
      "63\n"
     ]
    },
    {
     "name": "stderr",
     "output_type": "stream",
     "text": [
      "161it [07:56,  7.93s/it]"
     ]
    },
    {
     "name": "stdout",
     "output_type": "stream",
     "text": [
      "TABLE NOT PRESENT\n"
     ]
    },
    {
     "name": "stderr",
     "output_type": "stream",
     "text": [
      "162it [07:57,  5.80s/it]"
     ]
    },
    {
     "name": "stdout",
     "output_type": "stream",
     "text": [
      "response\n"
     ]
    },
    {
     "name": "stderr",
     "output_type": "stream",
     "text": [
      "163it [07:58,  4.35s/it]"
     ]
    },
    {
     "name": "stdout",
     "output_type": "stream",
     "text": [
      "30\n"
     ]
    },
    {
     "name": "stderr",
     "output_type": "stream",
     "text": [
      "164it [07:59,  3.28s/it]"
     ]
    },
    {
     "name": "stdout",
     "output_type": "stream",
     "text": [
      "36\n"
     ]
    },
    {
     "name": "stderr",
     "output_type": "stream",
     "text": [
      "165it [08:19,  8.43s/it]"
     ]
    },
    {
     "name": "stdout",
     "output_type": "stream",
     "text": [
      "TABLE NOT PRESENT\n"
     ]
    },
    {
     "name": "stderr",
     "output_type": "stream",
     "text": [
      "166it [08:20,  6.17s/it]"
     ]
    },
    {
     "name": "stdout",
     "output_type": "stream",
     "text": [
      "RADIATION_DOSAGE_NOT_PRESENT\n"
     ]
    },
    {
     "name": "stderr",
     "output_type": "stream",
     "text": [
      "167it [08:41, 10.43s/it]"
     ]
    },
    {
     "name": "stdout",
     "output_type": "stream",
     "text": [
      "TABLE NOT PRESENT\n"
     ]
    },
    {
     "name": "stderr",
     "output_type": "stream",
     "text": [
      "168it [09:01, 13.43s/it]"
     ]
    },
    {
     "name": "stdout",
     "output_type": "stream",
     "text": [
      "TABLE NOT PRESENT\n"
     ]
    },
    {
     "name": "stderr",
     "output_type": "stream",
     "text": [
      "169it [09:02,  9.67s/it]"
     ]
    },
    {
     "name": "stdout",
     "output_type": "stream",
     "text": [
      "62\n"
     ]
    },
    {
     "name": "stderr",
     "output_type": "stream",
     "text": [
      "170it [09:03,  7.05s/it]"
     ]
    },
    {
     "name": "stdout",
     "output_type": "stream",
     "text": [
      "60\n"
     ]
    },
    {
     "name": "stderr",
     "output_type": "stream",
     "text": [
      "171it [09:04,  5.22s/it]"
     ]
    },
    {
     "name": "stdout",
     "output_type": "stream",
     "text": [
      "60\n"
     ]
    },
    {
     "name": "stderr",
     "output_type": "stream",
     "text": [
      "172it [09:05,  3.88s/it]"
     ]
    },
    {
     "name": "stdout",
     "output_type": "stream",
     "text": [
      "60\n"
     ]
    },
    {
     "name": "stderr",
     "output_type": "stream",
     "text": [
      "173it [09:05,  2.99s/it]"
     ]
    },
    {
     "name": "stdout",
     "output_type": "stream",
     "text": [
      "42\n"
     ]
    },
    {
     "name": "stderr",
     "output_type": "stream",
     "text": [
      "174it [09:06,  2.35s/it]"
     ]
    },
    {
     "name": "stdout",
     "output_type": "stream",
     "text": [
      "60\n"
     ]
    },
    {
     "name": "stderr",
     "output_type": "stream",
     "text": [
      "175it [09:07,  1.94s/it]"
     ]
    },
    {
     "name": "stdout",
     "output_type": "stream",
     "text": [
      "42\n"
     ]
    },
    {
     "name": "stderr",
     "output_type": "stream",
     "text": [
      "176it [09:08,  1.64s/it]"
     ]
    },
    {
     "name": "stdout",
     "output_type": "stream",
     "text": [
      "60\n"
     ]
    },
    {
     "name": "stderr",
     "output_type": "stream",
     "text": [
      "177it [09:09,  1.38s/it]"
     ]
    },
    {
     "name": "stdout",
     "output_type": "stream",
     "text": [
      "60\n"
     ]
    },
    {
     "name": "stderr",
     "output_type": "stream",
     "text": [
      "178it [09:10,  1.22s/it]"
     ]
    },
    {
     "name": "stdout",
     "output_type": "stream",
     "text": [
      "60\n"
     ]
    },
    {
     "name": "stderr",
     "output_type": "stream",
     "text": [
      "179it [09:30,  7.00s/it]"
     ]
    },
    {
     "name": "stdout",
     "output_type": "stream",
     "text": [
      "TABLE NOT PRESENT\n"
     ]
    },
    {
     "name": "stderr",
     "output_type": "stream",
     "text": [
      "180it [09:31,  5.17s/it]"
     ]
    },
    {
     "name": "stdout",
     "output_type": "stream",
     "text": [
      "60\n"
     ]
    },
    {
     "name": "stderr",
     "output_type": "stream",
     "text": [
      "181it [09:32,  3.90s/it]"
     ]
    },
    {
     "name": "stdout",
     "output_type": "stream",
     "text": [
      "60\n"
     ]
    },
    {
     "name": "stderr",
     "output_type": "stream",
     "text": [
      "182it [09:53,  8.85s/it]"
     ]
    },
    {
     "name": "stdout",
     "output_type": "stream",
     "text": [
      "TABLE NOT PRESENT\n"
     ]
    },
    {
     "name": "stderr",
     "output_type": "stream",
     "text": [
      "183it [09:53,  6.46s/it]"
     ]
    },
    {
     "name": "stdout",
     "output_type": "stream",
     "text": [
      "60\n"
     ]
    },
    {
     "name": "stderr",
     "output_type": "stream",
     "text": [
      "184it [09:54,  4.77s/it]"
     ]
    },
    {
     "name": "stdout",
     "output_type": "stream",
     "text": [
      "60\n"
     ]
    },
    {
     "name": "stderr",
     "output_type": "stream",
     "text": [
      "185it [10:15,  9.47s/it]"
     ]
    },
    {
     "name": "stdout",
     "output_type": "stream",
     "text": [
      "TABLE NOT PRESENT\n"
     ]
    },
    {
     "name": "stderr",
     "output_type": "stream",
     "text": [
      "186it [10:35, 12.74s/it]"
     ]
    },
    {
     "name": "stdout",
     "output_type": "stream",
     "text": [
      "TABLE NOT PRESENT\n"
     ]
    },
    {
     "name": "stderr",
     "output_type": "stream",
     "text": [
      "187it [10:55, 15.04s/it]"
     ]
    },
    {
     "name": "stdout",
     "output_type": "stream",
     "text": [
      "TABLE NOT PRESENT\n"
     ]
    },
    {
     "name": "stderr",
     "output_type": "stream",
     "text": [
      "188it [10:56, 10.80s/it]"
     ]
    },
    {
     "name": "stdout",
     "output_type": "stream",
     "text": [
      "2000\n"
     ]
    },
    {
     "name": "stderr",
     "output_type": "stream",
     "text": [
      "189it [11:17, 13.69s/it]"
     ]
    },
    {
     "name": "stdout",
     "output_type": "stream",
     "text": [
      "TABLE NOT PRESENT\n"
     ]
    },
    {
     "name": "stderr",
     "output_type": "stream",
     "text": [
      "190it [11:37, 15.70s/it]"
     ]
    },
    {
     "name": "stdout",
     "output_type": "stream",
     "text": [
      "TABLE NOT PRESENT\n"
     ]
    },
    {
     "name": "stderr",
     "output_type": "stream",
     "text": [
      "191it [11:38, 11.27s/it]"
     ]
    },
    {
     "name": "stdout",
     "output_type": "stream",
     "text": [
      "70\n"
     ]
    },
    {
     "name": "stderr",
     "output_type": "stream",
     "text": [
      "192it [11:39,  8.12s/it]"
     ]
    },
    {
     "name": "stdout",
     "output_type": "stream",
     "text": [
      "66\n"
     ]
    },
    {
     "name": "stderr",
     "output_type": "stream",
     "text": [
      "193it [11:40,  5.96s/it]"
     ]
    },
    {
     "name": "stdout",
     "output_type": "stream",
     "text": [
      "60\n"
     ]
    },
    {
     "name": "stderr",
     "output_type": "stream",
     "text": [
      "194it [11:41,  4.55s/it]"
     ]
    },
    {
     "name": "stdout",
     "output_type": "stream",
     "text": [
      "66\n"
     ]
    },
    {
     "name": "stderr",
     "output_type": "stream",
     "text": [
      "195it [11:42,  3.45s/it]"
     ]
    },
    {
     "name": "stdout",
     "output_type": "stream",
     "text": [
      "60\n"
     ]
    },
    {
     "name": "stderr",
     "output_type": "stream",
     "text": [
      "196it [11:43,  2.69s/it]"
     ]
    },
    {
     "name": "stdout",
     "output_type": "stream",
     "text": [
      "60\n"
     ]
    },
    {
     "name": "stderr",
     "output_type": "stream",
     "text": [
      "197it [11:44,  2.16s/it]"
     ]
    },
    {
     "name": "stdout",
     "output_type": "stream",
     "text": [
      "66\n"
     ]
    },
    {
     "name": "stderr",
     "output_type": "stream",
     "text": [
      "198it [11:45,  1.80s/it]"
     ]
    },
    {
     "name": "stdout",
     "output_type": "stream",
     "text": [
      "5000\n"
     ]
    },
    {
     "name": "stderr",
     "output_type": "stream",
     "text": [
      "199it [11:46,  1.55s/it]"
     ]
    },
    {
     "name": "stdout",
     "output_type": "stream",
     "text": [
      "7000\n"
     ]
    },
    {
     "name": "stderr",
     "output_type": "stream",
     "text": [
      "200it [11:47,  1.34s/it]"
     ]
    },
    {
     "name": "stdout",
     "output_type": "stream",
     "text": [
      "6000\n"
     ]
    },
    {
     "name": "stderr",
     "output_type": "stream",
     "text": [
      "201it [11:48,  1.23s/it]"
     ]
    },
    {
     "name": "stdout",
     "output_type": "stream",
     "text": [
      "6000\n"
     ]
    },
    {
     "name": "stderr",
     "output_type": "stream",
     "text": [
      "202it [11:49,  1.14s/it]"
     ]
    },
    {
     "name": "stdout",
     "output_type": "stream",
     "text": [
      "66\n"
     ]
    },
    {
     "name": "stderr",
     "output_type": "stream",
     "text": [
      "203it [11:49,  1.06s/it]"
     ]
    },
    {
     "name": "stdout",
     "output_type": "stream",
     "text": [
      "70\n"
     ]
    },
    {
     "name": "stderr",
     "output_type": "stream",
     "text": [
      "204it [11:50,  1.01s/it]"
     ]
    },
    {
     "name": "stdout",
     "output_type": "stream",
     "text": [
      "7000\n"
     ]
    },
    {
     "name": "stderr",
     "output_type": "stream",
     "text": [
      "205it [11:51,  1.00s/it]"
     ]
    },
    {
     "name": "stdout",
     "output_type": "stream",
     "text": [
      "6600\n"
     ]
    },
    {
     "name": "stderr",
     "output_type": "stream",
     "text": [
      "206it [11:52,  1.02it/s]"
     ]
    },
    {
     "name": "stdout",
     "output_type": "stream",
     "text": [
      "70\n"
     ]
    },
    {
     "name": "stderr",
     "output_type": "stream",
     "text": [
      "207it [11:53,  1.05it/s]"
     ]
    },
    {
     "name": "stdout",
     "output_type": "stream",
     "text": [
      "70\n"
     ]
    },
    {
     "name": "stderr",
     "output_type": "stream",
     "text": [
      "208it [11:54,  1.07it/s]"
     ]
    },
    {
     "name": "stdout",
     "output_type": "stream",
     "text": [
      "70\n"
     ]
    },
    {
     "name": "stderr",
     "output_type": "stream",
     "text": [
      "209it [11:55,  1.06it/s]"
     ]
    },
    {
     "name": "stdout",
     "output_type": "stream",
     "text": [
      "70\n"
     ]
    },
    {
     "name": "stderr",
     "output_type": "stream",
     "text": [
      "210it [11:56,  1.07it/s]"
     ]
    },
    {
     "name": "stdout",
     "output_type": "stream",
     "text": [
      "36\n"
     ]
    },
    {
     "name": "stderr",
     "output_type": "stream",
     "text": [
      "211it [11:57,  1.07it/s]"
     ]
    },
    {
     "name": "stdout",
     "output_type": "stream",
     "text": [
      "80\n"
     ]
    },
    {
     "name": "stderr",
     "output_type": "stream",
     "text": [
      "212it [11:58,  1.07it/s]"
     ]
    },
    {
     "name": "stdout",
     "output_type": "stream",
     "text": [
      "66\n"
     ]
    },
    {
     "name": "stderr",
     "output_type": "stream",
     "text": [
      "213it [11:59,  1.08it/s]"
     ]
    },
    {
     "name": "stdout",
     "output_type": "stream",
     "text": [
      "98\n"
     ]
    },
    {
     "name": "stderr",
     "output_type": "stream",
     "text": [
      "214it [12:00,  1.08it/s]"
     ]
    },
    {
     "name": "stdout",
     "output_type": "stream",
     "text": [
      "46\n"
     ]
    },
    {
     "name": "stderr",
     "output_type": "stream",
     "text": [
      "215it [12:00,  1.14it/s]"
     ]
    },
    {
     "name": "stdout",
     "output_type": "stream",
     "text": [
      "66\n"
     ]
    },
    {
     "name": "stderr",
     "output_type": "stream",
     "text": [
      "216it [12:01,  1.14it/s]"
     ]
    },
    {
     "name": "stdout",
     "output_type": "stream",
     "text": [
      "RADIATION_DOSAGE_NOT_PRESENT\n"
     ]
    },
    {
     "name": "stderr",
     "output_type": "stream",
     "text": [
      "217it [12:02,  1.12it/s]"
     ]
    },
    {
     "name": "stdout",
     "output_type": "stream",
     "text": [
      "RADIATION_DOSAGE_NOT_PRESENT\n"
     ]
    },
    {
     "name": "stderr",
     "output_type": "stream",
     "text": [
      "218it [12:03,  1.12it/s]"
     ]
    },
    {
     "name": "stdout",
     "output_type": "stream",
     "text": [
      "RADIATION_DOSAGE_NOT_PRESENT\n"
     ]
    },
    {
     "name": "stderr",
     "output_type": "stream",
     "text": [
      "219it [12:04,  1.12it/s]"
     ]
    },
    {
     "name": "stdout",
     "output_type": "stream",
     "text": [
      "63\n"
     ]
    },
    {
     "name": "stderr",
     "output_type": "stream",
     "text": [
      "220it [12:05,  1.11it/s]"
     ]
    },
    {
     "name": "stdout",
     "output_type": "stream",
     "text": [
      "6000\n"
     ]
    },
    {
     "name": "stderr",
     "output_type": "stream",
     "text": [
      "221it [12:06,  1.12it/s]"
     ]
    },
    {
     "name": "stdout",
     "output_type": "stream",
     "text": [
      "63\n"
     ]
    },
    {
     "name": "stderr",
     "output_type": "stream",
     "text": [
      "222it [12:07,  1.10it/s]"
     ]
    },
    {
     "name": "stdout",
     "output_type": "stream",
     "text": [
      "7000\n"
     ]
    },
    {
     "name": "stderr",
     "output_type": "stream",
     "text": [
      "223it [12:08,  1.04it/s]"
     ]
    },
    {
     "name": "stdout",
     "output_type": "stream",
     "text": [
      "6630\n"
     ]
    },
    {
     "name": "stderr",
     "output_type": "stream",
     "text": [
      "224it [12:28,  6.79s/it]"
     ]
    },
    {
     "name": "stdout",
     "output_type": "stream",
     "text": [
      "TABLE NOT PRESENT\n"
     ]
    },
    {
     "name": "stderr",
     "output_type": "stream",
     "text": [
      "225it [12:29,  5.02s/it]"
     ]
    },
    {
     "name": "stdout",
     "output_type": "stream",
     "text": [
      "6000\n"
     ]
    },
    {
     "name": "stderr",
     "output_type": "stream",
     "text": [
      "226it [12:30,  3.79s/it]"
     ]
    },
    {
     "name": "stdout",
     "output_type": "stream",
     "text": [
      "RADIATION_DOSAGE_NOT_PRESENT\n"
     ]
    },
    {
     "name": "stderr",
     "output_type": "stream",
     "text": [
      "227it [12:31,  2.95s/it]"
     ]
    },
    {
     "name": "stdout",
     "output_type": "stream",
     "text": [
      "6600\n"
     ]
    },
    {
     "name": "stderr",
     "output_type": "stream",
     "text": [
      "228it [12:32,  2.33s/it]"
     ]
    },
    {
     "name": "stdout",
     "output_type": "stream",
     "text": [
      "6000\n"
     ]
    },
    {
     "name": "stderr",
     "output_type": "stream",
     "text": [
      "229it [12:52,  7.75s/it]"
     ]
    },
    {
     "name": "stdout",
     "output_type": "stream",
     "text": [
      "TABLE NOT PRESENT\n"
     ]
    },
    {
     "name": "stderr",
     "output_type": "stream",
     "text": [
      "230it [13:13, 11.56s/it]"
     ]
    },
    {
     "name": "stdout",
     "output_type": "stream",
     "text": [
      "TABLE NOT PRESENT\n"
     ]
    },
    {
     "name": "stderr",
     "output_type": "stream",
     "text": [
      "231it [13:14,  8.50s/it]"
     ]
    },
    {
     "name": "stdout",
     "output_type": "stream",
     "text": [
      "60\n"
     ]
    },
    {
     "name": "stderr",
     "output_type": "stream",
     "text": [
      "232it [13:15,  6.20s/it]"
     ]
    },
    {
     "name": "stdout",
     "output_type": "stream",
     "text": [
      "60\n"
     ]
    },
    {
     "name": "stderr",
     "output_type": "stream",
     "text": [
      "233it [13:16,  4.63s/it]"
     ]
    },
    {
     "name": "stdout",
     "output_type": "stream",
     "text": [
      "60\n"
     ]
    },
    {
     "name": "stderr",
     "output_type": "stream",
     "text": [
      "234it [13:17,  3.53s/it]"
     ]
    },
    {
     "name": "stdout",
     "output_type": "stream",
     "text": [
      "60\n"
     ]
    },
    {
     "name": "stderr",
     "output_type": "stream",
     "text": [
      "235it [13:18,  2.75s/it]"
     ]
    },
    {
     "name": "stdout",
     "output_type": "stream",
     "text": [
      "60\n"
     ]
    },
    {
     "name": "stderr",
     "output_type": "stream",
     "text": [
      "236it [13:19,  2.20s/it]"
     ]
    },
    {
     "name": "stdout",
     "output_type": "stream",
     "text": [
      "44\n"
     ]
    },
    {
     "name": "stderr",
     "output_type": "stream",
     "text": [
      "237it [13:20,  1.80s/it]"
     ]
    },
    {
     "name": "stdout",
     "output_type": "stream",
     "text": [
      "18\n"
     ]
    },
    {
     "name": "stderr",
     "output_type": "stream",
     "text": [
      "238it [13:20,  1.54s/it]"
     ]
    },
    {
     "name": "stdout",
     "output_type": "stream",
     "text": [
      "66\n"
     ]
    },
    {
     "name": "stderr",
     "output_type": "stream",
     "text": [
      "239it [13:21,  1.34s/it]"
     ]
    },
    {
     "name": "stdout",
     "output_type": "stream",
     "text": [
      "60\n"
     ]
    },
    {
     "name": "stderr",
     "output_type": "stream",
     "text": [
      "240it [13:22,  1.22s/it]"
     ]
    },
    {
     "name": "stdout",
     "output_type": "stream",
     "text": [
      "60\n"
     ]
    },
    {
     "name": "stderr",
     "output_type": "stream",
     "text": [
      "241it [13:43,  6.98s/it]"
     ]
    },
    {
     "name": "stdout",
     "output_type": "stream",
     "text": [
      "TABLE NOT PRESENT\n"
     ]
    },
    {
     "name": "stderr",
     "output_type": "stream",
     "text": [
      "242it [14:03, 11.01s/it]"
     ]
    },
    {
     "name": "stdout",
     "output_type": "stream",
     "text": [
      "TABLE NOT PRESENT\n"
     ]
    },
    {
     "name": "stderr",
     "output_type": "stream",
     "text": [
      "243it [14:05,  8.14s/it]"
     ]
    },
    {
     "name": "stdout",
     "output_type": "stream",
     "text": [
      "6660\n"
     ]
    },
    {
     "name": "stderr",
     "output_type": "stream",
     "text": [
      "244it [14:05,  5.98s/it]"
     ]
    },
    {
     "name": "stdout",
     "output_type": "stream",
     "text": [
      "7100\n"
     ]
    },
    {
     "name": "stderr",
     "output_type": "stream",
     "text": [
      "245it [14:06,  4.45s/it]"
     ]
    },
    {
     "name": "stdout",
     "output_type": "stream",
     "text": [
      "RADIATION_DOSAGE_NOT_PRESENT\n"
     ]
    },
    {
     "name": "stderr",
     "output_type": "stream",
     "text": [
      "246it [14:27,  9.23s/it]"
     ]
    },
    {
     "name": "stdout",
     "output_type": "stream",
     "text": [
      "TABLE NOT PRESENT\n"
     ]
    },
    {
     "name": "stderr",
     "output_type": "stream",
     "text": [
      "247it [14:47, 12.59s/it]"
     ]
    },
    {
     "name": "stdout",
     "output_type": "stream",
     "text": [
      "TABLE NOT PRESENT\n"
     ]
    },
    {
     "name": "stderr",
     "output_type": "stream",
     "text": [
      "248it [14:48,  9.08s/it]"
     ]
    },
    {
     "name": "stdout",
     "output_type": "stream",
     "text": [
      "6000\n"
     ]
    },
    {
     "name": "stderr",
     "output_type": "stream",
     "text": [
      "249it [15:08, 12.47s/it]"
     ]
    },
    {
     "name": "stdout",
     "output_type": "stream",
     "text": [
      "TABLE NOT PRESENT\n"
     ]
    },
    {
     "name": "stderr",
     "output_type": "stream",
     "text": [
      "250it [15:09,  9.03s/it]"
     ]
    },
    {
     "name": "stdout",
     "output_type": "stream",
     "text": [
      "66\n"
     ]
    },
    {
     "name": "stderr",
     "output_type": "stream",
     "text": [
      "251it [15:10,  6.60s/it]"
     ]
    },
    {
     "name": "stdout",
     "output_type": "stream",
     "text": [
      "6600\n"
     ]
    },
    {
     "name": "stderr",
     "output_type": "stream",
     "text": [
      "252it [15:11,  4.91s/it]"
     ]
    },
    {
     "name": "stdout",
     "output_type": "stream",
     "text": [
      "4000\n"
     ]
    },
    {
     "name": "stderr",
     "output_type": "stream",
     "text": [
      "253it [15:32,  9.56s/it]"
     ]
    },
    {
     "name": "stdout",
     "output_type": "stream",
     "text": [
      "TABLE NOT PRESENT\n"
     ]
    },
    {
     "name": "stderr",
     "output_type": "stream",
     "text": [
      "254it [15:33,  6.99s/it]"
     ]
    },
    {
     "name": "stdout",
     "output_type": "stream",
     "text": [
      "5400\n"
     ]
    },
    {
     "name": "stderr",
     "output_type": "stream",
     "text": [
      "255it [15:34,  5.17s/it]"
     ]
    },
    {
     "name": "stdout",
     "output_type": "stream",
     "text": [
      "6660\n"
     ]
    },
    {
     "name": "stderr",
     "output_type": "stream",
     "text": [
      "256it [15:35,  3.91s/it]"
     ]
    },
    {
     "name": "stdout",
     "output_type": "stream",
     "text": [
      "6480\n"
     ]
    },
    {
     "name": "stderr",
     "output_type": "stream",
     "text": [
      "257it [15:36,  3.02s/it]"
     ]
    },
    {
     "name": "stdout",
     "output_type": "stream",
     "text": [
      "5940\n"
     ]
    },
    {
     "name": "stderr",
     "output_type": "stream",
     "text": [
      "258it [15:36,  2.38s/it]"
     ]
    },
    {
     "name": "stdout",
     "output_type": "stream",
     "text": [
      "6000\n"
     ]
    },
    {
     "name": "stderr",
     "output_type": "stream",
     "text": [
      "259it [15:37,  1.94s/it]"
     ]
    },
    {
     "name": "stdout",
     "output_type": "stream",
     "text": [
      "RADIATION_DOSAGE_NOT_PRESENT\n"
     ]
    },
    {
     "name": "stderr",
     "output_type": "stream",
     "text": [
      "260it [15:38,  1.65s/it]"
     ]
    },
    {
     "name": "stdout",
     "output_type": "stream",
     "text": [
      "6640\n"
     ]
    },
    {
     "name": "stderr",
     "output_type": "stream",
     "text": [
      "261it [15:39,  1.43s/it]"
     ]
    },
    {
     "name": "stdout",
     "output_type": "stream",
     "text": [
      "6600\n"
     ]
    },
    {
     "name": "stderr",
     "output_type": "stream",
     "text": [
      "262it [15:40,  1.27s/it]"
     ]
    },
    {
     "name": "stdout",
     "output_type": "stream",
     "text": [
      "6600\n"
     ]
    },
    {
     "name": "stderr",
     "output_type": "stream",
     "text": [
      "263it [15:41,  1.16s/it]"
     ]
    },
    {
     "name": "stdout",
     "output_type": "stream",
     "text": [
      "5000\n"
     ]
    },
    {
     "name": "stderr",
     "output_type": "stream",
     "text": [
      "264it [15:42,  1.05s/it]"
     ]
    },
    {
     "name": "stdout",
     "output_type": "stream",
     "text": [
      "59.3\n"
     ]
    },
    {
     "name": "stderr",
     "output_type": "stream",
     "text": [
      "265it [15:43,  1.02s/it]"
     ]
    },
    {
     "name": "stdout",
     "output_type": "stream",
     "text": [
      "70\n"
     ]
    },
    {
     "name": "stderr",
     "output_type": "stream",
     "text": [
      "266it [15:44,  1.01s/it]"
     ]
    },
    {
     "name": "stdout",
     "output_type": "stream",
     "text": [
      "66\n"
     ]
    },
    {
     "name": "stderr",
     "output_type": "stream",
     "text": [
      "267it [15:45,  1.01s/it]"
     ]
    },
    {
     "name": "stdout",
     "output_type": "stream",
     "text": [
      "56\n"
     ]
    },
    {
     "name": "stderr",
     "output_type": "stream",
     "text": [
      "268it [15:46,  1.00s/it]"
     ]
    },
    {
     "name": "stdout",
     "output_type": "stream",
     "text": [
      "66.7\n"
     ]
    },
    {
     "name": "stderr",
     "output_type": "stream",
     "text": [
      "269it [15:47,  1.03it/s]"
     ]
    },
    {
     "name": "stdout",
     "output_type": "stream",
     "text": [
      "6000\n"
     ]
    },
    {
     "name": "stderr",
     "output_type": "stream",
     "text": [
      "270it [15:48,  1.05it/s]"
     ]
    },
    {
     "name": "stdout",
     "output_type": "stream",
     "text": [
      "28\n"
     ]
    },
    {
     "name": "stderr",
     "output_type": "stream",
     "text": [
      "271it [15:49,  1.04it/s]"
     ]
    },
    {
     "name": "stdout",
     "output_type": "stream",
     "text": [
      "70.29\n"
     ]
    },
    {
     "name": "stderr",
     "output_type": "stream",
     "text": [
      "272it [15:50,  1.02it/s]"
     ]
    },
    {
     "name": "stdout",
     "output_type": "stream",
     "text": [
      "60.06\n"
     ]
    },
    {
     "name": "stderr",
     "output_type": "stream",
     "text": [
      "273it [15:51,  1.03it/s]"
     ]
    },
    {
     "name": "stdout",
     "output_type": "stream",
     "text": [
      "70\n"
     ]
    },
    {
     "name": "stderr",
     "output_type": "stream",
     "text": [
      "274it [15:52,  1.07s/it]"
     ]
    },
    {
     "name": "stdout",
     "output_type": "stream",
     "text": [
      "60\n"
     ]
    },
    {
     "name": "stderr",
     "output_type": "stream",
     "text": [
      "275it [15:53,  1.01s/it]"
     ]
    },
    {
     "name": "stdout",
     "output_type": "stream",
     "text": [
      "70\n"
     ]
    },
    {
     "name": "stderr",
     "output_type": "stream",
     "text": [
      "276it [15:54,  1.01it/s]"
     ]
    },
    {
     "name": "stdout",
     "output_type": "stream",
     "text": [
      "66\n"
     ]
    },
    {
     "name": "stderr",
     "output_type": "stream",
     "text": [
      "277it [15:55,  1.03it/s]"
     ]
    },
    {
     "name": "stdout",
     "output_type": "stream",
     "text": [
      "7000\n"
     ]
    },
    {
     "name": "stderr",
     "output_type": "stream",
     "text": [
      "278it [15:56,  1.03it/s]"
     ]
    },
    {
     "name": "stdout",
     "output_type": "stream",
     "text": [
      "6996\n"
     ]
    },
    {
     "name": "stderr",
     "output_type": "stream",
     "text": [
      "279it [15:57,  1.03it/s]"
     ]
    },
    {
     "name": "stdout",
     "output_type": "stream",
     "text": [
      "6000\n"
     ]
    },
    {
     "name": "stderr",
     "output_type": "stream",
     "text": [
      "280it [15:57,  1.05it/s]"
     ]
    },
    {
     "name": "stdout",
     "output_type": "stream",
     "text": [
      "66\n"
     ]
    },
    {
     "name": "stderr",
     "output_type": "stream",
     "text": [
      "281it [16:18,  6.78s/it]"
     ]
    },
    {
     "name": "stdout",
     "output_type": "stream",
     "text": [
      "TABLE NOT PRESENT\n"
     ]
    },
    {
     "name": "stderr",
     "output_type": "stream",
     "text": [
      "282it [16:19,  5.00s/it]"
     ]
    },
    {
     "name": "stdout",
     "output_type": "stream",
     "text": [
      "6600\n"
     ]
    },
    {
     "name": "stderr",
     "output_type": "stream",
     "text": [
      "283it [16:20,  3.77s/it]"
     ]
    },
    {
     "name": "stdout",
     "output_type": "stream",
     "text": [
      "6600\n"
     ]
    },
    {
     "name": "stderr",
     "output_type": "stream",
     "text": [
      "284it [16:20,  2.90s/it]"
     ]
    },
    {
     "name": "stdout",
     "output_type": "stream",
     "text": [
      "6000\n"
     ]
    },
    {
     "name": "stderr",
     "output_type": "stream",
     "text": [
      "285it [16:21,  2.29s/it]"
     ]
    },
    {
     "name": "stdout",
     "output_type": "stream",
     "text": [
      "6400\n"
     ]
    },
    {
     "name": "stderr",
     "output_type": "stream",
     "text": [
      "286it [16:22,  1.87s/it]"
     ]
    },
    {
     "name": "stdout",
     "output_type": "stream",
     "text": [
      "6000\n"
     ]
    },
    {
     "name": "stderr",
     "output_type": "stream",
     "text": [
      "287it [16:23,  1.59s/it]"
     ]
    },
    {
     "name": "stdout",
     "output_type": "stream",
     "text": [
      "6000\n"
     ]
    },
    {
     "name": "stderr",
     "output_type": "stream",
     "text": [
      "288it [16:24,  1.38s/it]"
     ]
    },
    {
     "name": "stdout",
     "output_type": "stream",
     "text": [
      "6000\n"
     ]
    },
    {
     "name": "stderr",
     "output_type": "stream",
     "text": [
      "289it [16:25,  1.24s/it]"
     ]
    },
    {
     "name": "stdout",
     "output_type": "stream",
     "text": [
      "6120\n"
     ]
    },
    {
     "name": "stderr",
     "output_type": "stream",
     "text": [
      "290it [16:26,  1.14s/it]"
     ]
    },
    {
     "name": "stdout",
     "output_type": "stream",
     "text": [
      "5000\n"
     ]
    },
    {
     "name": "stderr",
     "output_type": "stream",
     "text": [
      "291it [16:27,  1.07s/it]"
     ]
    },
    {
     "name": "stdout",
     "output_type": "stream",
     "text": [
      "6600\n"
     ]
    },
    {
     "name": "stderr",
     "output_type": "stream",
     "text": [
      "292it [16:28,  1.04s/it]"
     ]
    },
    {
     "name": "stdout",
     "output_type": "stream",
     "text": [
      "6600\n"
     ]
    },
    {
     "name": "stderr",
     "output_type": "stream",
     "text": [
      "293it [16:28,  1.05it/s]"
     ]
    },
    {
     "name": "stdout",
     "output_type": "stream",
     "text": [
      "6000\n"
     ]
    },
    {
     "name": "stderr",
     "output_type": "stream",
     "text": [
      "294it [16:29,  1.05it/s]"
     ]
    },
    {
     "name": "stdout",
     "output_type": "stream",
     "text": [
      "6000\n"
     ]
    },
    {
     "name": "stderr",
     "output_type": "stream",
     "text": [
      "295it [16:30,  1.05it/s]"
     ]
    },
    {
     "name": "stdout",
     "output_type": "stream",
     "text": [
      "6400\n"
     ]
    },
    {
     "name": "stderr",
     "output_type": "stream",
     "text": [
      "296it [16:31,  1.05it/s]"
     ]
    },
    {
     "name": "stdout",
     "output_type": "stream",
     "text": [
      "6120\n"
     ]
    },
    {
     "name": "stderr",
     "output_type": "stream",
     "text": [
      "297it [16:32,  1.07it/s]"
     ]
    },
    {
     "name": "stdout",
     "output_type": "stream",
     "text": [
      "6000\n"
     ]
    },
    {
     "name": "stderr",
     "output_type": "stream",
     "text": [
      "298it [16:33,  1.12it/s]"
     ]
    },
    {
     "name": "stdout",
     "output_type": "stream",
     "text": [
      "6120\n"
     ]
    },
    {
     "name": "stderr",
     "output_type": "stream",
     "text": [
      "299it [16:34,  3.33s/it]"
     ]
    },
    {
     "name": "stdout",
     "output_type": "stream",
     "text": [
      "66\n",
      "['6600', '6800', 'RADIATION_DOSAGE_NOT_PRESENT', '6000', '6600', 'TABLE_NOT_PRESENT', 'RADIATION_DOSAGE_NOT_PRESENT', '6000', '6480', 'TABLE_NOT_PRESENT', '6000', '6996', 'TABLE_NOT_PRESENT', '6000', '7000', '6000', '6600', '6600', '6600', '3800', '6400', '400', '6400', '6600', '6200', 'RADIATION_DOSAGE_NOT_PRESENT', '6000', '5580', 'TABLE_NOT_PRESENT', 'RADIATION_DOSAGE_NOT_PRESENT', 'RADIATION_DOSAGE_NOT_PRESENT', 'RADIATION_DOSAGE_NOT_PRESENT', '6000.00', '7000.00', '6000', 'RADIATION_DOSAGE_NOT_PRESENT', '6600.00', 'TABLE_NOT_PRESENT', '6600.00', '182', '6300', 'RADIATION_DOSAGE_NOT_PRESENT', '6600', 'TABLE_NOT_PRESENT', 'RADIATION_DOSAGE_NOT_PRESENT', '6000', '5400', '6000', '6000', '6200', '6480', '6600', '7380', '6000', '6000', '6640', '5500', '6000', '6000', '7200', '6000', '6600', 'RADIATION_DOSAGE_NOT_PRESENT', '6600', '7020', '6600', '6000', '6000', '6300', '6400', '6600', '6600', '6600', '6840', '6440', '6600', '6600', '7300', '9', '60', '66', '60', '6900', '6600', '6600', '7000', '5000', '1696', '6600', '6600', '6000', 'TABLE_NOT_PRESENT', '6000', '6000', '6600', '6600', '6000', 'TABLE_NOT_PRESENT', '6600', '6600', '6600', '5610', '5610', '6930', '6000', '5400', '5400', '5130', '5130', '6930', '5610', '6000', '5400', '6600', 'RADIATION_DOSAGE_NOT_PRESENT', 'RADIATION_DOSAGE_NOT_PRESENT', 'RADIATION_DOSAGE_NOT_PRESENT', '5130', 'TABLE_NOT_PRESENT', '5400', 'RADIATION_DOSAGE_NOT_PRESENT', 'TABLE_NOT_PRESENT', '5000', '6600', 'TABLE_NOT_PRESENT', 'RADIATION_DOSAGE_NOT_PRESENT', '5800', '3570', '6930', 'External', 'RADIATION_DOSAGE_NOT_PRESENT', '3000', '4860', 'TABLE_NOT_PRESENT', '7020', '6930', '50', '7000', '6000', '6000', '4500', '60', 'Adjuvant', '40', '60', '60', '6000', 'TABLE_NOT_PRESENT', 'TABLE_NOT_PRESENT', '66', '62', '35', 'TABLE_NOT_PRESENT', '30', 'TABLE_NOT_PRESENT', '60', '20', '60', '30', '63', 'TABLE_NOT_PRESENT', 'response', '30', '36', 'TABLE_NOT_PRESENT', 'RADIATION_DOSAGE_NOT_PRESENT', 'TABLE_NOT_PRESENT', 'TABLE_NOT_PRESENT', '62', '60', '60', '60', '42', '60', '42', '60', '60', '60', 'TABLE_NOT_PRESENT', '60', '60', 'TABLE_NOT_PRESENT', '60', '60', 'TABLE_NOT_PRESENT', 'TABLE_NOT_PRESENT', 'TABLE_NOT_PRESENT', '2000', 'TABLE_NOT_PRESENT', 'TABLE_NOT_PRESENT', '70', '66', '60', '66', '60', '60', '66', '5000', '7000', '6000', '6000', '66', '70', '7000', '6600', '70', '70', '70', '70', '36', '80', '66', '98', '46', '66', 'RADIATION_DOSAGE_NOT_PRESENT', 'RADIATION_DOSAGE_NOT_PRESENT', 'RADIATION_DOSAGE_NOT_PRESENT', '63', '6000', '63', '7000', '6630', 'TABLE_NOT_PRESENT', '6000', 'RADIATION_DOSAGE_NOT_PRESENT', '6600', '6000', 'TABLE_NOT_PRESENT', 'TABLE_NOT_PRESENT', '60', '60', '60', '60', '60', '44', '18', '66', '60', '60', 'TABLE_NOT_PRESENT', 'TABLE_NOT_PRESENT', '6660', '7100', 'RADIATION_DOSAGE_NOT_PRESENT', 'TABLE_NOT_PRESENT', 'TABLE_NOT_PRESENT', '6000', 'TABLE_NOT_PRESENT', '66', '6600', '4000', 'TABLE_NOT_PRESENT', '5400', '6660', '6480', '5940', '6000', 'RADIATION_DOSAGE_NOT_PRESENT', '6640', '6600', '6600', '5000', '59.3', '70', '66', '56', '66.7', '6000', '28', '70.29', '60.06', '70', '60', '70', '66', '7000', '6996', '6000', '66', 'TABLE_NOT_PRESENT', '6600', '6600', '6000', '6400', '6000', '6000', '6000', '6120', '5000', '6600', '6600', '6000', '6000', '6400', '6120', '6000', '6120', '66']\n"
     ]
    },
    {
     "name": "stderr",
     "output_type": "stream",
     "text": [
      "\n"
     ]
    },
    {
     "data": {
      "text/plain": "     Patient ID        Sample ID  \\\n0  TCGA-BA-4074  TCGA-BA-4074-01   \n1  TCGA-BA-4076  TCGA-BA-4076-01   \n2  TCGA-BA-4078  TCGA-BA-4078-01   \n3  TCGA-BA-5149  TCGA-BA-5149-01   \n4  TCGA-BA-5151  TCGA-BA-5151-01   \n\n                                       BAM File Link   RT  \\\n0  https://portal.gdc.cancer.gov/files/d6f4370e-f...  yes   \n1  https://portal.gdc.cancer.gov/files/577f45d0-c...  yes   \n2  https://portal.gdc.cancer.gov/files/3f9122fe-e...  yes   \n3  https://portal.gdc.cancer.gov/files/e98c0d2a-7...  yes   \n4  https://portal.gdc.cancer.gov/files/6b92a654-a...  yes   \n\n                           Dose  \n0                          6600  \n1                          6800  \n2  RADIATION_DOSAGE_NOT_PRESENT  \n3                          6000  \n4                          6600  ",
      "text/html": "<div>\n<style scoped>\n    .dataframe tbody tr th:only-of-type {\n        vertical-align: middle;\n    }\n\n    .dataframe tbody tr th {\n        vertical-align: top;\n    }\n\n    .dataframe thead th {\n        text-align: right;\n    }\n</style>\n<table border=\"1\" class=\"dataframe\">\n  <thead>\n    <tr style=\"text-align: right;\">\n      <th></th>\n      <th>Patient ID</th>\n      <th>Sample ID</th>\n      <th>BAM File Link</th>\n      <th>RT</th>\n      <th>Dose</th>\n    </tr>\n  </thead>\n  <tbody>\n    <tr>\n      <th>0</th>\n      <td>TCGA-BA-4074</td>\n      <td>TCGA-BA-4074-01</td>\n      <td>https://portal.gdc.cancer.gov/files/d6f4370e-f...</td>\n      <td>yes</td>\n      <td>6600</td>\n    </tr>\n    <tr>\n      <th>1</th>\n      <td>TCGA-BA-4076</td>\n      <td>TCGA-BA-4076-01</td>\n      <td>https://portal.gdc.cancer.gov/files/577f45d0-c...</td>\n      <td>yes</td>\n      <td>6800</td>\n    </tr>\n    <tr>\n      <th>2</th>\n      <td>TCGA-BA-4078</td>\n      <td>TCGA-BA-4078-01</td>\n      <td>https://portal.gdc.cancer.gov/files/3f9122fe-e...</td>\n      <td>yes</td>\n      <td>RADIATION_DOSAGE_NOT_PRESENT</td>\n    </tr>\n    <tr>\n      <th>3</th>\n      <td>TCGA-BA-5149</td>\n      <td>TCGA-BA-5149-01</td>\n      <td>https://portal.gdc.cancer.gov/files/e98c0d2a-7...</td>\n      <td>yes</td>\n      <td>6000</td>\n    </tr>\n    <tr>\n      <th>4</th>\n      <td>TCGA-BA-5151</td>\n      <td>TCGA-BA-5151-01</td>\n      <td>https://portal.gdc.cancer.gov/files/6b92a654-a...</td>\n      <td>yes</td>\n      <td>6600</td>\n    </tr>\n  </tbody>\n</table>\n</div>"
     },
     "metadata": {},
     "output_type": "display_data"
    }
   ],
   "source": [
    "from selenium.common import TimeoutException\n",
    "from selenium.webdriver.support.wait import WebDriverWait\n",
    "from selenium.webdriver.support import expected_conditions as EC\n",
    "\n",
    "df_bam = pd.read_csv('bam_links.csv')\n",
    "bam_link_arr = df_bam['bam_link'].tolist()\n",
    "patient_id_arr = df_bam['Patient ID'].tolist()\n",
    "chrome_options = Options()\n",
    "# chrome_options.add_argument(\"--headless\")\n",
    "# chrome_options.add_experimental_option(\"detach\", True)\n",
    "driver = webdriver.Chrome(service=Service(ChromeDriverManager().install()), options=chrome_options)\n",
    "#implicit wait\n",
    "driver.implicitly_wait(10)\n",
    "#maximize browser\n",
    "# driver.maximize_window()\n",
    "new_header = ['Patient ID', 'Sample ID', 'BAM File Link', 'RT', 'Dose']\n",
    "dose_list = []\n",
    "df_info_detailed = pd.DataFrame(columns=new_header)\n",
    "df_info_detailed['Patient ID'] = patient_id_arr\n",
    "df_info_detailed['BAM File Link'] = bam_link_arr\n",
    "df_info_detailed['Sample ID'] = samples_with_rt\n",
    "for enum, element in tqdm(enumerate(samples_with_rt)):\n",
    "    # print(element)\n",
    "    link_rt = 'https://www.cbioportal.org/patient/clinicalData?sampleId=' + element + '&studyId=hnsc_tcga_pan_can_atlas_2018'\n",
    "    driver.get(link_rt)\n",
    "    driver.implicitly_wait(20)\n",
    "    if len(driver.find_elements(By.CSS_SELECTOR, '#patientViewPageTabs > div > div.msk-tab.patient-clinical-data-tab > div:nth-child(4) > div:nth-child(6) > div:nth-child(2) > table')) != 0:\n",
    "        table_id = driver.find_element(By.CSS_SELECTOR, '#patientViewPageTabs > div > div.msk-tab.patient-clinical-data-tab > div:nth-child(4) > div:nth-child(6) > div:nth-child(2) > table' )\n",
    "        rows = table_id.find_elements(By.TAG_NAME, \"tr\")\n",
    "        thead = table_id.find_element(By.TAG_NAME, \"thead\")\n",
    "        header_list = thead.text.split(' ')\n",
    "        # print(header_list)\n",
    "        tbody = table_id.find_element(By.TAG_NAME, \"tbody\")\n",
    "        body_list = tbody.text.split('\\n')\n",
    "        # print(tbody.text)\n",
    "        # print(body_list)\n",
    "        #write tables to df\n",
    "        if not 'RADIATION_DOSAGE' in header_list:\n",
    "            # print('rd not present')\n",
    "            dose_list.append('RADIATION_DOSAGE_NOT_PRESENT')\n",
    "            print('RADIATION_DOSAGE_NOT_PRESENT')\n",
    "        else:\n",
    "            for i in body_list:\n",
    "                # print(i)\n",
    "                if 'Radiation Therapy' in i:\n",
    "                    # print(i)\n",
    "                    dosage = i.split(' ')[-2]\n",
    "                    print(dosage)\n",
    "                    dose_list.append(dosage)\n",
    "                    break\n",
    "    else:\n",
    "        dose_list.append('TABLE_NOT_PRESENT')\n",
    "        print('TABLE NOT PRESENT')\n",
    "    # if enum == 100:\n",
    "    #     break\n",
    "    # print(len(samples_with_rt))\n",
    "    # print(len(dose_list))\n",
    "print(dose_list)\n",
    "df_info_detailed['RT'] = 'yes'\n",
    "df_info_detailed['Dose'] = dose_list\n",
    "display(df_info_detailed.head())\n"
   ],
   "metadata": {
    "collapsed": false,
    "pycharm": {
     "name": "#%%\n"
    }
   }
  },
  {
   "cell_type": "code",
   "execution_count": 63,
   "outputs": [
    {
     "data": {
      "text/plain": "          Patient ID        Sample ID  \\\ncount            299              299   \nunique           299              299   \ntop     TCGA-BA-4074  TCGA-BA-4074-01   \nfreq               1                1   \n\n                                            BAM File Link   RT  Dose  \ncount                                                 299  299   299  \nunique                                                299    1    72  \ntop     https://portal.gdc.cancer.gov/files/d6f4370e-f...  yes  6000  \nfreq                                                    1  299    42  ",
      "text/html": "<div>\n<style scoped>\n    .dataframe tbody tr th:only-of-type {\n        vertical-align: middle;\n    }\n\n    .dataframe tbody tr th {\n        vertical-align: top;\n    }\n\n    .dataframe thead th {\n        text-align: right;\n    }\n</style>\n<table border=\"1\" class=\"dataframe\">\n  <thead>\n    <tr style=\"text-align: right;\">\n      <th></th>\n      <th>Patient ID</th>\n      <th>Sample ID</th>\n      <th>BAM File Link</th>\n      <th>RT</th>\n      <th>Dose</th>\n    </tr>\n  </thead>\n  <tbody>\n    <tr>\n      <th>count</th>\n      <td>299</td>\n      <td>299</td>\n      <td>299</td>\n      <td>299</td>\n      <td>299</td>\n    </tr>\n    <tr>\n      <th>unique</th>\n      <td>299</td>\n      <td>299</td>\n      <td>299</td>\n      <td>1</td>\n      <td>72</td>\n    </tr>\n    <tr>\n      <th>top</th>\n      <td>TCGA-BA-4074</td>\n      <td>TCGA-BA-4074-01</td>\n      <td>https://portal.gdc.cancer.gov/files/d6f4370e-f...</td>\n      <td>yes</td>\n      <td>6000</td>\n    </tr>\n    <tr>\n      <th>freq</th>\n      <td>1</td>\n      <td>1</td>\n      <td>1</td>\n      <td>299</td>\n      <td>42</td>\n    </tr>\n  </tbody>\n</table>\n</div>"
     },
     "execution_count": 63,
     "metadata": {},
     "output_type": "execute_result"
    }
   ],
   "source": [
    "df_info_detailed.to_csv('info_detailed.csv')\n",
    "df_info_detailed.head()\n",
    "df_info_detailed.describe()"
   ],
   "metadata": {
    "collapsed": false,
    "pycharm": {
     "name": "#%%\n"
    }
   }
  },
  {
   "cell_type": "code",
   "execution_count": 58,
   "outputs": [
    {
     "data": {
      "text/plain": "          Patient ID        Sample ID  \\\ncount            239              239   \nunique           239              239   \ntop     TCGA-BA-4074  TCGA-BA-4074-01   \nfreq               1                1   \n\n                                            BAM File Link  Dose  \ncount                                                 239   239  \nunique                                                239    70  \ntop     https://portal.gdc.cancer.gov/files/d6f4370e-f...  6000  \nfreq                                                    1    42  ",
      "text/html": "<div>\n<style scoped>\n    .dataframe tbody tr th:only-of-type {\n        vertical-align: middle;\n    }\n\n    .dataframe tbody tr th {\n        vertical-align: top;\n    }\n\n    .dataframe thead th {\n        text-align: right;\n    }\n</style>\n<table border=\"1\" class=\"dataframe\">\n  <thead>\n    <tr style=\"text-align: right;\">\n      <th></th>\n      <th>Patient ID</th>\n      <th>Sample ID</th>\n      <th>BAM File Link</th>\n      <th>Dose</th>\n    </tr>\n  </thead>\n  <tbody>\n    <tr>\n      <th>count</th>\n      <td>239</td>\n      <td>239</td>\n      <td>239</td>\n      <td>239</td>\n    </tr>\n    <tr>\n      <th>unique</th>\n      <td>239</td>\n      <td>239</td>\n      <td>239</td>\n      <td>70</td>\n    </tr>\n    <tr>\n      <th>top</th>\n      <td>TCGA-BA-4074</td>\n      <td>TCGA-BA-4074-01</td>\n      <td>https://portal.gdc.cancer.gov/files/d6f4370e-f...</td>\n      <td>6000</td>\n    </tr>\n    <tr>\n      <th>freq</th>\n      <td>1</td>\n      <td>1</td>\n      <td>1</td>\n      <td>42</td>\n    </tr>\n  </tbody>\n</table>\n</div>"
     },
     "execution_count": 58,
     "metadata": {},
     "output_type": "execute_result"
    }
   ],
   "source": [
    "#drop all rows where Dose is NA\\\n",
    "df_info_detailed = df_info_detailed[df_info_detailed.Dose != 'NA']\n",
    "# df_info_detailed = df_info_detailed.drop(columns=['RT'])\n",
    "df_info_detailed.to_csv('info_detailed_no_NA.csv', index=False)\n",
    "#drop column RT\n",
    "df_info_detailed.head()\n",
    "df_info_detailed.describe()\n"
   ],
   "metadata": {
    "collapsed": false,
    "pycharm": {
     "name": "#%%\n"
    }
   }
  },
  {
   "cell_type": "code",
   "execution_count": null,
   "outputs": [],
   "source": [
    "\n",
    "final_df = pd.DataFrame(data=link_arr, columns=['bam_link'])\n",
    "final_df['Patient ID'] = pt_with_rt\n",
    "final_df.to_csv('bam_links.csv')\n",
    "final_df.head()\n"
   ],
   "metadata": {
    "collapsed": false,
    "pycharm": {
     "name": "#%%\n"
    }
   }
  },
  {
   "cell_type": "code",
   "execution_count": 18,
   "outputs": [
    {
     "data": {
      "text/plain": "                       Study ID    Patient ID        Sample ID  Diagnosis Age  \\\n0  hnsc_tcga_pan_can_atlas_2018  TCGA-BA-4074  TCGA-BA-4074-01           69.0   \n1  hnsc_tcga_pan_can_atlas_2018  TCGA-BA-4076  TCGA-BA-4076-01           39.0   \n2  hnsc_tcga_pan_can_atlas_2018  TCGA-BA-4078  TCGA-BA-4078-01           83.0   \n3  hnsc_tcga_pan_can_atlas_2018  TCGA-BA-5149  TCGA-BA-5149-01           47.0   \n4  hnsc_tcga_pan_can_atlas_2018  TCGA-BA-5151  TCGA-BA-5151-01           72.0   \n\n  Neoplasm Disease Stage American Joint Committee on Cancer Code  \\\n0                                          STAGE IVA               \n1                                                NaN               \n2                                                NaN               \n3                                          STAGE IVA               \n4                                          STAGE IVA               \n\n  American Joint Committee on Cancer Publication Version Type  \\\n0                                                6TH            \n1                                                6TH            \n2                                                6TH            \n3                                                7TH            \n4                                                7TH            \n\n   Aneuploidy Score  Buffa Hypoxia Score           Cancer Type  \\\n0              14.0                 45.0  Head and Neck Cancer   \n1               9.0                 45.0  Head and Neck Cancer   \n2              16.0                  1.0  Head and Neck Cancer   \n3              16.0                 43.0  Head and Neck Cancer   \n4               4.0                 13.0  Head and Neck Cancer   \n\n  TCGA PanCanAtlas Cancer Type Acronym  ...  \\\n0                                 HNSC  ...   \n1                                 HNSC  ...   \n2                                 HNSC  ...   \n3                                 HNSC  ...   \n4                                 HNSC  ...   \n\n  Tissue Prospective Collection Indicator  \\\n0                                      No   \n1                                      No   \n2                                      No   \n3                                     Yes   \n4                                     Yes   \n\n   Tissue Retrospective Collection Indicator  Tissue Source Site  \\\n0                                        Yes                 UNC   \n1                                        Yes                 UNC   \n2                                        Yes                 UNC   \n3                                         No                 UNC   \n4                                         No                 UNC   \n\n   Tissue Source Site Code  TMB (nonsynonymous) Tumor Disease Anatomic Site  \\\n0                       BA             4.233333               Head and Neck   \n1                       BA             9.833333               Head and Neck   \n2                       BA            12.800000               Head and Neck   \n3                       BA             3.666667               Head and Neck   \n4                       BA             2.233333               Head and Neck   \n\n                              Tumor Type Patient Weight Winter Hypoxia Score  \\\n0  Head and Neck Squamous Cell Carcinoma            NaN                 76.0   \n1  Head and Neck Squamous Cell Carcinoma            NaN                 78.0   \n2  Head and Neck Squamous Cell Carcinoma            NaN                 24.0   \n3  Head and Neck Squamous Cell Carcinoma            NaN                 78.0   \n4  Head and Neck Squamous Cell Carcinoma            NaN                 30.0   \n\n                                            bam_link  \n0  https://portal.gdc.cancer.gov/files/d6f4370e-f...  \n1  https://portal.gdc.cancer.gov/files/577f45d0-c...  \n2  https://portal.gdc.cancer.gov/files/3f9122fe-e...  \n3  https://portal.gdc.cancer.gov/files/e98c0d2a-7...  \n4  https://portal.gdc.cancer.gov/files/6b92a654-a...  \n\n[5 rows x 62 columns]",
      "text/html": "<div>\n<style scoped>\n    .dataframe tbody tr th:only-of-type {\n        vertical-align: middle;\n    }\n\n    .dataframe tbody tr th {\n        vertical-align: top;\n    }\n\n    .dataframe thead th {\n        text-align: right;\n    }\n</style>\n<table border=\"1\" class=\"dataframe\">\n  <thead>\n    <tr style=\"text-align: right;\">\n      <th></th>\n      <th>Study ID</th>\n      <th>Patient ID</th>\n      <th>Sample ID</th>\n      <th>Diagnosis Age</th>\n      <th>Neoplasm Disease Stage American Joint Committee on Cancer Code</th>\n      <th>American Joint Committee on Cancer Publication Version Type</th>\n      <th>Aneuploidy Score</th>\n      <th>Buffa Hypoxia Score</th>\n      <th>Cancer Type</th>\n      <th>TCGA PanCanAtlas Cancer Type Acronym</th>\n      <th>...</th>\n      <th>Tissue Prospective Collection Indicator</th>\n      <th>Tissue Retrospective Collection Indicator</th>\n      <th>Tissue Source Site</th>\n      <th>Tissue Source Site Code</th>\n      <th>TMB (nonsynonymous)</th>\n      <th>Tumor Disease Anatomic Site</th>\n      <th>Tumor Type</th>\n      <th>Patient Weight</th>\n      <th>Winter Hypoxia Score</th>\n      <th>bam_link</th>\n    </tr>\n  </thead>\n  <tbody>\n    <tr>\n      <th>0</th>\n      <td>hnsc_tcga_pan_can_atlas_2018</td>\n      <td>TCGA-BA-4074</td>\n      <td>TCGA-BA-4074-01</td>\n      <td>69.0</td>\n      <td>STAGE IVA</td>\n      <td>6TH</td>\n      <td>14.0</td>\n      <td>45.0</td>\n      <td>Head and Neck Cancer</td>\n      <td>HNSC</td>\n      <td>...</td>\n      <td>No</td>\n      <td>Yes</td>\n      <td>UNC</td>\n      <td>BA</td>\n      <td>4.233333</td>\n      <td>Head and Neck</td>\n      <td>Head and Neck Squamous Cell Carcinoma</td>\n      <td>NaN</td>\n      <td>76.0</td>\n      <td>https://portal.gdc.cancer.gov/files/d6f4370e-f...</td>\n    </tr>\n    <tr>\n      <th>1</th>\n      <td>hnsc_tcga_pan_can_atlas_2018</td>\n      <td>TCGA-BA-4076</td>\n      <td>TCGA-BA-4076-01</td>\n      <td>39.0</td>\n      <td>NaN</td>\n      <td>6TH</td>\n      <td>9.0</td>\n      <td>45.0</td>\n      <td>Head and Neck Cancer</td>\n      <td>HNSC</td>\n      <td>...</td>\n      <td>No</td>\n      <td>Yes</td>\n      <td>UNC</td>\n      <td>BA</td>\n      <td>9.833333</td>\n      <td>Head and Neck</td>\n      <td>Head and Neck Squamous Cell Carcinoma</td>\n      <td>NaN</td>\n      <td>78.0</td>\n      <td>https://portal.gdc.cancer.gov/files/577f45d0-c...</td>\n    </tr>\n    <tr>\n      <th>2</th>\n      <td>hnsc_tcga_pan_can_atlas_2018</td>\n      <td>TCGA-BA-4078</td>\n      <td>TCGA-BA-4078-01</td>\n      <td>83.0</td>\n      <td>NaN</td>\n      <td>6TH</td>\n      <td>16.0</td>\n      <td>1.0</td>\n      <td>Head and Neck Cancer</td>\n      <td>HNSC</td>\n      <td>...</td>\n      <td>No</td>\n      <td>Yes</td>\n      <td>UNC</td>\n      <td>BA</td>\n      <td>12.800000</td>\n      <td>Head and Neck</td>\n      <td>Head and Neck Squamous Cell Carcinoma</td>\n      <td>NaN</td>\n      <td>24.0</td>\n      <td>https://portal.gdc.cancer.gov/files/3f9122fe-e...</td>\n    </tr>\n    <tr>\n      <th>3</th>\n      <td>hnsc_tcga_pan_can_atlas_2018</td>\n      <td>TCGA-BA-5149</td>\n      <td>TCGA-BA-5149-01</td>\n      <td>47.0</td>\n      <td>STAGE IVA</td>\n      <td>7TH</td>\n      <td>16.0</td>\n      <td>43.0</td>\n      <td>Head and Neck Cancer</td>\n      <td>HNSC</td>\n      <td>...</td>\n      <td>Yes</td>\n      <td>No</td>\n      <td>UNC</td>\n      <td>BA</td>\n      <td>3.666667</td>\n      <td>Head and Neck</td>\n      <td>Head and Neck Squamous Cell Carcinoma</td>\n      <td>NaN</td>\n      <td>78.0</td>\n      <td>https://portal.gdc.cancer.gov/files/e98c0d2a-7...</td>\n    </tr>\n    <tr>\n      <th>4</th>\n      <td>hnsc_tcga_pan_can_atlas_2018</td>\n      <td>TCGA-BA-5151</td>\n      <td>TCGA-BA-5151-01</td>\n      <td>72.0</td>\n      <td>STAGE IVA</td>\n      <td>7TH</td>\n      <td>4.0</td>\n      <td>13.0</td>\n      <td>Head and Neck Cancer</td>\n      <td>HNSC</td>\n      <td>...</td>\n      <td>Yes</td>\n      <td>No</td>\n      <td>UNC</td>\n      <td>BA</td>\n      <td>2.233333</td>\n      <td>Head and Neck</td>\n      <td>Head and Neck Squamous Cell Carcinoma</td>\n      <td>NaN</td>\n      <td>30.0</td>\n      <td>https://portal.gdc.cancer.gov/files/6b92a654-a...</td>\n    </tr>\n  </tbody>\n</table>\n<p>5 rows × 62 columns</p>\n</div>"
     },
     "execution_count": 18,
     "metadata": {},
     "output_type": "execute_result"
    }
   ],
   "source": [
    "merged = pd.merge(df_og, final_df, on='Patient ID')\n",
    "merged.to_csv('hnsc_tcga_pan_can_atlas_2018_all_clinical_data_with_bam_links.csv')\n",
    "merged.head()\n"
   ],
   "metadata": {
    "collapsed": false,
    "pycharm": {
     "name": "#%%\n"
    }
   }
  },
  {
   "cell_type": "code",
   "execution_count": null,
   "outputs": [],
   "source": [],
   "metadata": {
    "collapsed": false,
    "pycharm": {
     "name": "#%%\n"
    }
   }
  }
 ],
 "metadata": {
  "kernelspec": {
   "display_name": "Python 3",
   "language": "python",
   "name": "python3"
  },
  "language_info": {
   "codemirror_mode": {
    "name": "ipython",
    "version": 2
   },
   "file_extension": ".py",
   "mimetype": "text/x-python",
   "name": "python",
   "nbconvert_exporter": "python",
   "pygments_lexer": "ipython2",
   "version": "2.7.6"
  }
 },
 "nbformat": 4,
 "nbformat_minor": 0
}