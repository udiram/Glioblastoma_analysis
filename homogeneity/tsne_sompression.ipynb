{
 "cells": [
  {
   "cell_type": "code",
   "execution_count": 62,
   "outputs": [],
   "source": [
    "import pandas as pd"
   ],
   "metadata": {
    "collapsed": false,
    "pycharm": {
     "name": "#%%\n"
    }
   }
  },
  {
   "cell_type": "code",
   "execution_count": 63,
   "outputs": [
    {
     "data": {
      "text/plain": "                                         CoreID                 Tumor_Type  \\\nSegmentDisplayName                                                           \nTMA 27 R1 | 007 | Geometric Segment           2              Invasive Edge   \nTMA 27 R1 | 015 | Geometric Segment           3  Pseudopalisading Necrosis   \nTMA 27 R1 | 028 | Geometric Segment           4  Pseudopalisading Necrosis   \nTMA 27 R1 | 038 | Geometric Segment           6             Cellular Tumor   \nTMA 27 R1 | 048 | Geometric Segment           7              Invasive Edge   \n...                                         ...                        ...   \nTMA 27 R4 (1) | 016 | Geometric Segment     143             Cellular Tumor   \nTMA 27 R4 (1) | 025 | Geometric Segment     144              Invasive Edge   \nTMA 27 R4 (1) | 031 | Geometric Segment     145             Cellular Tumor   \nTMA 27 R4 (1) | 036 | Geometric Segment     146             Cellular Tumor   \nTMA 27 R4 (1) | 055 | Geometric Segment     150             Cellular Tumor   \n\n                                         PtID Sex     Age   Dx    Pri_Rec  \\\nSegmentDisplayName                                                          \nTMA 27 R1 | 007 | Geometric Segment         2   F  49.895  GBM    Primary   \nTMA 27 R1 | 015 | Geometric Segment         2   F  49.895  GBM  Recurrent   \nTMA 27 R1 | 028 | Geometric Segment         2   F  49.895  GBM  Recurrent   \nTMA 27 R1 | 038 | Geometric Segment         3   F  66.683  GBM    Primary   \nTMA 27 R1 | 048 | Geometric Segment         3   F  66.683  GBM    Primary   \n...                                       ...  ..     ...  ...        ...   \nTMA 27 R4 (1) | 016 | Geometric Segment    45   F  57.402  GBM    Primary   \nTMA 27 R4 (1) | 025 | Geometric Segment    45   F  57.402  GBM    Primary   \nTMA 27 R4 (1) | 031 | Geometric Segment    45   F  57.402  GBM  Recurrent   \nTMA 27 R4 (1) | 036 | Geometric Segment    45   F  57.402  GBM  Recurrent   \nTMA 27 R4 (1) | 055 | Geometric Segment    45   F  57.402  GBM  Recurrent   \n\n                                               IDH           Block  Row  \\\nSegmentDisplayName                                                        \nTMA 27 R1 | 007 | Geometric Segment             ND  NP-11-17045-B3    1   \nTMA 27 R1 | 015 | Geometric Segment             ND  NP-14-31147-A1    1   \nTMA 27 R1 | 028 | Geometric Segment             ND  NP-14-31147-A1    1   \nTMA 27 R1 | 038 | Geometric Segment             ND  NP-13-26842-B1    1   \nTMA 27 R1 | 048 | Geometric Segment             ND  NP-13-26842-B1    1   \n...                                            ...             ...  ...   \nTMA 27 R4 (1) | 016 | Geometric Segment  Wild Type   NP-18-9074-B3    3   \nTMA 27 R4 (1) | 025 | Geometric Segment  Wild Type   NP-18-9074-B3    3   \nTMA 27 R4 (1) | 031 | Geometric Segment  Wild Type  NP-19-21927-B4    3   \nTMA 27 R4 (1) | 036 | Geometric Segment  Wild Type  NP-19-21927-B4    3   \nTMA 27 R4 (1) | 055 | Geometric Segment  Wild Type  NP-19-21927-B9    3   \n\n                                         Column  \nSegmentDisplayName                               \nTMA 27 R1 | 007 | Geometric Segment           3  \nTMA 27 R1 | 015 | Geometric Segment           4  \nTMA 27 R1 | 028 | Geometric Segment           5  \nTMA 27 R1 | 038 | Geometric Segment           7  \nTMA 27 R1 | 048 | Geometric Segment           8  \n...                                         ...  \nTMA 27 R4 (1) | 016 | Geometric Segment       3  \nTMA 27 R4 (1) | 025 | Geometric Segment       4  \nTMA 27 R4 (1) | 031 | Geometric Segment       5  \nTMA 27 R4 (1) | 036 | Geometric Segment       6  \nTMA 27 R4 (1) | 055 | Geometric Segment      10  \n\n[100 rows x 11 columns]",
      "text/html": "<div>\n<style scoped>\n    .dataframe tbody tr th:only-of-type {\n        vertical-align: middle;\n    }\n\n    .dataframe tbody tr th {\n        vertical-align: top;\n    }\n\n    .dataframe thead th {\n        text-align: right;\n    }\n</style>\n<table border=\"1\" class=\"dataframe\">\n  <thead>\n    <tr style=\"text-align: right;\">\n      <th></th>\n      <th>CoreID</th>\n      <th>Tumor_Type</th>\n      <th>PtID</th>\n      <th>Sex</th>\n      <th>Age</th>\n      <th>Dx</th>\n      <th>Pri_Rec</th>\n      <th>IDH</th>\n      <th>Block</th>\n      <th>Row</th>\n      <th>Column</th>\n    </tr>\n    <tr>\n      <th>SegmentDisplayName</th>\n      <th></th>\n      <th></th>\n      <th></th>\n      <th></th>\n      <th></th>\n      <th></th>\n      <th></th>\n      <th></th>\n      <th></th>\n      <th></th>\n      <th></th>\n    </tr>\n  </thead>\n  <tbody>\n    <tr>\n      <th>TMA 27 R1 | 007 | Geometric Segment</th>\n      <td>2</td>\n      <td>Invasive Edge</td>\n      <td>2</td>\n      <td>F</td>\n      <td>49.895</td>\n      <td>GBM</td>\n      <td>Primary</td>\n      <td>ND</td>\n      <td>NP-11-17045-B3</td>\n      <td>1</td>\n      <td>3</td>\n    </tr>\n    <tr>\n      <th>TMA 27 R1 | 015 | Geometric Segment</th>\n      <td>3</td>\n      <td>Pseudopalisading Necrosis</td>\n      <td>2</td>\n      <td>F</td>\n      <td>49.895</td>\n      <td>GBM</td>\n      <td>Recurrent</td>\n      <td>ND</td>\n      <td>NP-14-31147-A1</td>\n      <td>1</td>\n      <td>4</td>\n    </tr>\n    <tr>\n      <th>TMA 27 R1 | 028 | Geometric Segment</th>\n      <td>4</td>\n      <td>Pseudopalisading Necrosis</td>\n      <td>2</td>\n      <td>F</td>\n      <td>49.895</td>\n      <td>GBM</td>\n      <td>Recurrent</td>\n      <td>ND</td>\n      <td>NP-14-31147-A1</td>\n      <td>1</td>\n      <td>5</td>\n    </tr>\n    <tr>\n      <th>TMA 27 R1 | 038 | Geometric Segment</th>\n      <td>6</td>\n      <td>Cellular Tumor</td>\n      <td>3</td>\n      <td>F</td>\n      <td>66.683</td>\n      <td>GBM</td>\n      <td>Primary</td>\n      <td>ND</td>\n      <td>NP-13-26842-B1</td>\n      <td>1</td>\n      <td>7</td>\n    </tr>\n    <tr>\n      <th>TMA 27 R1 | 048 | Geometric Segment</th>\n      <td>7</td>\n      <td>Invasive Edge</td>\n      <td>3</td>\n      <td>F</td>\n      <td>66.683</td>\n      <td>GBM</td>\n      <td>Primary</td>\n      <td>ND</td>\n      <td>NP-13-26842-B1</td>\n      <td>1</td>\n      <td>8</td>\n    </tr>\n    <tr>\n      <th>...</th>\n      <td>...</td>\n      <td>...</td>\n      <td>...</td>\n      <td>...</td>\n      <td>...</td>\n      <td>...</td>\n      <td>...</td>\n      <td>...</td>\n      <td>...</td>\n      <td>...</td>\n      <td>...</td>\n    </tr>\n    <tr>\n      <th>TMA 27 R4 (1) | 016 | Geometric Segment</th>\n      <td>143</td>\n      <td>Cellular Tumor</td>\n      <td>45</td>\n      <td>F</td>\n      <td>57.402</td>\n      <td>GBM</td>\n      <td>Primary</td>\n      <td>Wild Type</td>\n      <td>NP-18-9074-B3</td>\n      <td>3</td>\n      <td>3</td>\n    </tr>\n    <tr>\n      <th>TMA 27 R4 (1) | 025 | Geometric Segment</th>\n      <td>144</td>\n      <td>Invasive Edge</td>\n      <td>45</td>\n      <td>F</td>\n      <td>57.402</td>\n      <td>GBM</td>\n      <td>Primary</td>\n      <td>Wild Type</td>\n      <td>NP-18-9074-B3</td>\n      <td>3</td>\n      <td>4</td>\n    </tr>\n    <tr>\n      <th>TMA 27 R4 (1) | 031 | Geometric Segment</th>\n      <td>145</td>\n      <td>Cellular Tumor</td>\n      <td>45</td>\n      <td>F</td>\n      <td>57.402</td>\n      <td>GBM</td>\n      <td>Recurrent</td>\n      <td>Wild Type</td>\n      <td>NP-19-21927-B4</td>\n      <td>3</td>\n      <td>5</td>\n    </tr>\n    <tr>\n      <th>TMA 27 R4 (1) | 036 | Geometric Segment</th>\n      <td>146</td>\n      <td>Cellular Tumor</td>\n      <td>45</td>\n      <td>F</td>\n      <td>57.402</td>\n      <td>GBM</td>\n      <td>Recurrent</td>\n      <td>Wild Type</td>\n      <td>NP-19-21927-B4</td>\n      <td>3</td>\n      <td>6</td>\n    </tr>\n    <tr>\n      <th>TMA 27 R4 (1) | 055 | Geometric Segment</th>\n      <td>150</td>\n      <td>Cellular Tumor</td>\n      <td>45</td>\n      <td>F</td>\n      <td>57.402</td>\n      <td>GBM</td>\n      <td>Recurrent</td>\n      <td>Wild Type</td>\n      <td>NP-19-21927-B9</td>\n      <td>3</td>\n      <td>10</td>\n    </tr>\n  </tbody>\n</table>\n<p>100 rows × 11 columns</p>\n</div>"
     },
     "execution_count": 63,
     "metadata": {},
     "output_type": "execute_result"
    }
   ],
   "source": [
    "df = pd.read_excel('data/Only_Image_Y.xlsx', index_col=0)\n",
    "df"
   ],
   "metadata": {
    "collapsed": false,
    "pycharm": {
     "name": "#%%\n"
    }
   }
  },
  {
   "cell_type": "code",
   "execution_count": 64,
   "outputs": [
    {
     "data": {
      "text/plain": "                                         CoreID                 Tumor_Type  \\\nSegmentDisplayName                                                           \nTMA 27 R1 | 007 | Geometric Segment           2              Invasive Edge   \nTMA 27 R1 | 015 | Geometric Segment           3  Pseudopalisading Necrosis   \nTMA 27 R1 | 028 | Geometric Segment           4  Pseudopalisading Necrosis   \nTMA 27 R1 | 038 | Geometric Segment           6             Cellular Tumor   \nTMA 27 R1 | 048 | Geometric Segment           7              Invasive Edge   \n...                                         ...                        ...   \nTMA 27 R4 (1) | 007 | Geometric Segment     142              Invasive Edge   \nTMA 27 R4 (1) | 016 | Geometric Segment     143             Cellular Tumor   \nTMA 27 R4 (1) | 025 | Geometric Segment     144              Invasive Edge   \nTMA 27 R4 (1) | 031 | Geometric Segment     145             Cellular Tumor   \nTMA 27 R4 (1) | 055 | Geometric Segment     150             Cellular Tumor   \n\n                                         PtID Sex     Age   Dx    Pri_Rec  \\\nSegmentDisplayName                                                          \nTMA 27 R1 | 007 | Geometric Segment         2   F  49.895  GBM    Primary   \nTMA 27 R1 | 015 | Geometric Segment         2   F  49.895  GBM  Recurrent   \nTMA 27 R1 | 028 | Geometric Segment         2   F  49.895  GBM  Recurrent   \nTMA 27 R1 | 038 | Geometric Segment         3   F  66.683  GBM    Primary   \nTMA 27 R1 | 048 | Geometric Segment         3   F  66.683  GBM    Primary   \n...                                       ...  ..     ...  ...        ...   \nTMA 27 R4 (1) | 007 | Geometric Segment    45   F  57.402  GBM    Primary   \nTMA 27 R4 (1) | 016 | Geometric Segment    45   F  57.402  GBM    Primary   \nTMA 27 R4 (1) | 025 | Geometric Segment    45   F  57.402  GBM    Primary   \nTMA 27 R4 (1) | 031 | Geometric Segment    45   F  57.402  GBM  Recurrent   \nTMA 27 R4 (1) | 055 | Geometric Segment    45   F  57.402  GBM  Recurrent   \n\n                                               IDH           Block  Row  \\\nSegmentDisplayName                                                        \nTMA 27 R1 | 007 | Geometric Segment             ND  NP-11-17045-B3    1   \nTMA 27 R1 | 015 | Geometric Segment             ND  NP-14-31147-A1    1   \nTMA 27 R1 | 028 | Geometric Segment             ND  NP-14-31147-A1    1   \nTMA 27 R1 | 038 | Geometric Segment             ND  NP-13-26842-B1    1   \nTMA 27 R1 | 048 | Geometric Segment             ND  NP-13-26842-B1    1   \n...                                            ...             ...  ...   \nTMA 27 R4 (1) | 007 | Geometric Segment  Wild Type   NP-18-9074-B2    3   \nTMA 27 R4 (1) | 016 | Geometric Segment  Wild Type   NP-18-9074-B3    3   \nTMA 27 R4 (1) | 025 | Geometric Segment  Wild Type   NP-18-9074-B3    3   \nTMA 27 R4 (1) | 031 | Geometric Segment  Wild Type  NP-19-21927-B4    3   \nTMA 27 R4 (1) | 055 | Geometric Segment  Wild Type  NP-19-21927-B9    3   \n\n                                         Column  \nSegmentDisplayName                               \nTMA 27 R1 | 007 | Geometric Segment           3  \nTMA 27 R1 | 015 | Geometric Segment           4  \nTMA 27 R1 | 028 | Geometric Segment           5  \nTMA 27 R1 | 038 | Geometric Segment           7  \nTMA 27 R1 | 048 | Geometric Segment           8  \n...                                         ...  \nTMA 27 R4 (1) | 007 | Geometric Segment       2  \nTMA 27 R4 (1) | 016 | Geometric Segment       3  \nTMA 27 R4 (1) | 025 | Geometric Segment       4  \nTMA 27 R4 (1) | 031 | Geometric Segment       5  \nTMA 27 R4 (1) | 055 | Geometric Segment      10  \n\n[100 rows x 11 columns]",
      "text/html": "<div>\n<style scoped>\n    .dataframe tbody tr th:only-of-type {\n        vertical-align: middle;\n    }\n\n    .dataframe tbody tr th {\n        vertical-align: top;\n    }\n\n    .dataframe thead th {\n        text-align: right;\n    }\n</style>\n<table border=\"1\" class=\"dataframe\">\n  <thead>\n    <tr style=\"text-align: right;\">\n      <th></th>\n      <th>CoreID</th>\n      <th>Tumor_Type</th>\n      <th>PtID</th>\n      <th>Sex</th>\n      <th>Age</th>\n      <th>Dx</th>\n      <th>Pri_Rec</th>\n      <th>IDH</th>\n      <th>Block</th>\n      <th>Row</th>\n      <th>Column</th>\n    </tr>\n    <tr>\n      <th>SegmentDisplayName</th>\n      <th></th>\n      <th></th>\n      <th></th>\n      <th></th>\n      <th></th>\n      <th></th>\n      <th></th>\n      <th></th>\n      <th></th>\n      <th></th>\n      <th></th>\n    </tr>\n  </thead>\n  <tbody>\n    <tr>\n      <th>TMA 27 R1 | 007 | Geometric Segment</th>\n      <td>2</td>\n      <td>Invasive Edge</td>\n      <td>2</td>\n      <td>F</td>\n      <td>49.895</td>\n      <td>GBM</td>\n      <td>Primary</td>\n      <td>ND</td>\n      <td>NP-11-17045-B3</td>\n      <td>1</td>\n      <td>3</td>\n    </tr>\n    <tr>\n      <th>TMA 27 R1 | 015 | Geometric Segment</th>\n      <td>3</td>\n      <td>Pseudopalisading Necrosis</td>\n      <td>2</td>\n      <td>F</td>\n      <td>49.895</td>\n      <td>GBM</td>\n      <td>Recurrent</td>\n      <td>ND</td>\n      <td>NP-14-31147-A1</td>\n      <td>1</td>\n      <td>4</td>\n    </tr>\n    <tr>\n      <th>TMA 27 R1 | 028 | Geometric Segment</th>\n      <td>4</td>\n      <td>Pseudopalisading Necrosis</td>\n      <td>2</td>\n      <td>F</td>\n      <td>49.895</td>\n      <td>GBM</td>\n      <td>Recurrent</td>\n      <td>ND</td>\n      <td>NP-14-31147-A1</td>\n      <td>1</td>\n      <td>5</td>\n    </tr>\n    <tr>\n      <th>TMA 27 R1 | 038 | Geometric Segment</th>\n      <td>6</td>\n      <td>Cellular Tumor</td>\n      <td>3</td>\n      <td>F</td>\n      <td>66.683</td>\n      <td>GBM</td>\n      <td>Primary</td>\n      <td>ND</td>\n      <td>NP-13-26842-B1</td>\n      <td>1</td>\n      <td>7</td>\n    </tr>\n    <tr>\n      <th>TMA 27 R1 | 048 | Geometric Segment</th>\n      <td>7</td>\n      <td>Invasive Edge</td>\n      <td>3</td>\n      <td>F</td>\n      <td>66.683</td>\n      <td>GBM</td>\n      <td>Primary</td>\n      <td>ND</td>\n      <td>NP-13-26842-B1</td>\n      <td>1</td>\n      <td>8</td>\n    </tr>\n    <tr>\n      <th>...</th>\n      <td>...</td>\n      <td>...</td>\n      <td>...</td>\n      <td>...</td>\n      <td>...</td>\n      <td>...</td>\n      <td>...</td>\n      <td>...</td>\n      <td>...</td>\n      <td>...</td>\n      <td>...</td>\n    </tr>\n    <tr>\n      <th>TMA 27 R4 (1) | 007 | Geometric Segment</th>\n      <td>142</td>\n      <td>Invasive Edge</td>\n      <td>45</td>\n      <td>F</td>\n      <td>57.402</td>\n      <td>GBM</td>\n      <td>Primary</td>\n      <td>Wild Type</td>\n      <td>NP-18-9074-B2</td>\n      <td>3</td>\n      <td>2</td>\n    </tr>\n    <tr>\n      <th>TMA 27 R4 (1) | 016 | Geometric Segment</th>\n      <td>143</td>\n      <td>Cellular Tumor</td>\n      <td>45</td>\n      <td>F</td>\n      <td>57.402</td>\n      <td>GBM</td>\n      <td>Primary</td>\n      <td>Wild Type</td>\n      <td>NP-18-9074-B3</td>\n      <td>3</td>\n      <td>3</td>\n    </tr>\n    <tr>\n      <th>TMA 27 R4 (1) | 025 | Geometric Segment</th>\n      <td>144</td>\n      <td>Invasive Edge</td>\n      <td>45</td>\n      <td>F</td>\n      <td>57.402</td>\n      <td>GBM</td>\n      <td>Primary</td>\n      <td>Wild Type</td>\n      <td>NP-18-9074-B3</td>\n      <td>3</td>\n      <td>4</td>\n    </tr>\n    <tr>\n      <th>TMA 27 R4 (1) | 031 | Geometric Segment</th>\n      <td>145</td>\n      <td>Cellular Tumor</td>\n      <td>45</td>\n      <td>F</td>\n      <td>57.402</td>\n      <td>GBM</td>\n      <td>Recurrent</td>\n      <td>Wild Type</td>\n      <td>NP-19-21927-B4</td>\n      <td>3</td>\n      <td>5</td>\n    </tr>\n    <tr>\n      <th>TMA 27 R4 (1) | 055 | Geometric Segment</th>\n      <td>150</td>\n      <td>Cellular Tumor</td>\n      <td>45</td>\n      <td>F</td>\n      <td>57.402</td>\n      <td>GBM</td>\n      <td>Recurrent</td>\n      <td>Wild Type</td>\n      <td>NP-19-21927-B9</td>\n      <td>3</td>\n      <td>10</td>\n    </tr>\n  </tbody>\n</table>\n<p>100 rows × 11 columns</p>\n</div>"
     },
     "execution_count": 64,
     "metadata": {},
     "output_type": "execute_result"
    }
   ],
   "source": [
    "df.sort_values(by=['PtID'])"
   ],
   "metadata": {
    "collapsed": false,
    "pycharm": {
     "name": "#%%\n"
    }
   }
  },
  {
   "cell_type": "code",
   "execution_count": 65,
   "outputs": [
    {
     "name": "stdout",
     "output_type": "stream",
     "text": [
      "23\n"
     ]
    }
   ],
   "source": [
    "#make seperate df for every unique PtID\n",
    "df_list = []\n",
    "for i in df['PtID'].unique():\n",
    "    df_list.append(df[df['PtID'] == i])\n",
    "\n",
    "print(len(df_list))"
   ],
   "metadata": {
    "collapsed": false,
    "pycharm": {
     "name": "#%%\n"
    }
   }
  },
  {
   "cell_type": "code",
   "execution_count": 66,
   "outputs": [],
   "source": [
    "# write each element in df_list to a separate file\n",
    "for i in range(len(df_list)):\n",
    "    df_list[i].to_csv('data/PtID' + str(i) + '.csv')"
   ],
   "metadata": {
    "collapsed": false,
    "pycharm": {
     "name": "#%%\n"
    }
   }
  },
  {
   "cell_type": "code",
   "execution_count": 67,
   "outputs": [
    {
     "data": {
      "text/plain": "                    SegmentDisplayName  CoreID                 Tumor_Type  \\\n0  TMA 27 R1 | 007 | Geometric Segment       2              Invasive Edge   \n1  TMA 27 R1 | 015 | Geometric Segment       3  Pseudopalisading Necrosis   \n2  TMA 27 R1 | 028 | Geometric Segment       4  Pseudopalisading Necrosis   \n\n   PtID Sex     Age   Dx    Pri_Rec IDH           Block  Row  Column  \n0     2   F  49.895  GBM    Primary  ND  NP-11-17045-B3    1       3  \n1     2   F  49.895  GBM  Recurrent  ND  NP-14-31147-A1    1       4  \n2     2   F  49.895  GBM  Recurrent  ND  NP-14-31147-A1    1       5  ",
      "text/html": "<div>\n<style scoped>\n    .dataframe tbody tr th:only-of-type {\n        vertical-align: middle;\n    }\n\n    .dataframe tbody tr th {\n        vertical-align: top;\n    }\n\n    .dataframe thead th {\n        text-align: right;\n    }\n</style>\n<table border=\"1\" class=\"dataframe\">\n  <thead>\n    <tr style=\"text-align: right;\">\n      <th></th>\n      <th>SegmentDisplayName</th>\n      <th>CoreID</th>\n      <th>Tumor_Type</th>\n      <th>PtID</th>\n      <th>Sex</th>\n      <th>Age</th>\n      <th>Dx</th>\n      <th>Pri_Rec</th>\n      <th>IDH</th>\n      <th>Block</th>\n      <th>Row</th>\n      <th>Column</th>\n    </tr>\n  </thead>\n  <tbody>\n    <tr>\n      <th>0</th>\n      <td>TMA 27 R1 | 007 | Geometric Segment</td>\n      <td>2</td>\n      <td>Invasive Edge</td>\n      <td>2</td>\n      <td>F</td>\n      <td>49.895</td>\n      <td>GBM</td>\n      <td>Primary</td>\n      <td>ND</td>\n      <td>NP-11-17045-B3</td>\n      <td>1</td>\n      <td>3</td>\n    </tr>\n    <tr>\n      <th>1</th>\n      <td>TMA 27 R1 | 015 | Geometric Segment</td>\n      <td>3</td>\n      <td>Pseudopalisading Necrosis</td>\n      <td>2</td>\n      <td>F</td>\n      <td>49.895</td>\n      <td>GBM</td>\n      <td>Recurrent</td>\n      <td>ND</td>\n      <td>NP-14-31147-A1</td>\n      <td>1</td>\n      <td>4</td>\n    </tr>\n    <tr>\n      <th>2</th>\n      <td>TMA 27 R1 | 028 | Geometric Segment</td>\n      <td>4</td>\n      <td>Pseudopalisading Necrosis</td>\n      <td>2</td>\n      <td>F</td>\n      <td>49.895</td>\n      <td>GBM</td>\n      <td>Recurrent</td>\n      <td>ND</td>\n      <td>NP-14-31147-A1</td>\n      <td>1</td>\n      <td>5</td>\n    </tr>\n  </tbody>\n</table>\n</div>"
     },
     "metadata": {},
     "output_type": "display_data"
    },
    {
     "data": {
      "text/plain": "0    TMA 27 R1 | 007 | Geometric Segment\n1    TMA 27 R1 | 015 | Geometric Segment\n2    TMA 27 R1 | 028 | Geometric Segment\nName: SegmentDisplayName, dtype: object"
     },
     "execution_count": 67,
     "metadata": {},
     "output_type": "execute_result"
    }
   ],
   "source": [
    "test_df = pd.read_csv('data/PtID0.csv')\n",
    "display(test_df.head())\n",
    "test_df['SegmentDisplayName']"
   ],
   "metadata": {
    "collapsed": false,
    "pycharm": {
     "name": "#%%\n"
    }
   }
  },
  {
   "cell_type": "code",
   "execution_count": 68,
   "outputs": [
    {
     "name": "stdout",
     "output_type": "stream",
     "text": [
      "['TMA 27 R1 | 007 | Geometric Segment']\n",
      "['TMA 27 R1 | 015 | Geometric Segment', 'TMA 27 R1 | 028 | Geometric Segment']\n"
     ]
    }
   ],
   "source": [
    "primary_list = []\n",
    "recurrent_list = []\n",
    "for row in test_df.iterrows():\n",
    "    if row[1]['Pri_Rec'] == 'Primary':\n",
    "        primary_list.append(row[1]['SegmentDisplayName'])\n",
    "    else:\n",
    "        recurrent_list.append(row[1]['SegmentDisplayName'])\n",
    "print(primary_list)\n",
    "print(recurrent_list)"
   ],
   "metadata": {
    "collapsed": false,
    "pycharm": {
     "name": "#%%\n"
    }
   }
  },
  {
   "cell_type": "code",
   "execution_count": 69,
   "outputs": [
    {
     "data": {
      "text/plain": "            TMA 27 R1 | 001 | Geometric Segment  \\\nTargetName                                        \nATP7B                                 49.983944   \nERN1                                  60.775932   \nKRT74                                 31.239965   \nSPECC1L                               46.007948   \nFOXJ1                                 45.439949   \n\n            TMA 27 R1 | 002 | Geometric Segment  \\\nTargetName                                        \nATP7B                                 46.519148   \nERN1                                  49.501144   \nKRT74                                 34.591161   \nSPECC1L                               47.115547   \nFOXJ1                                 54.272339   \n\n            TMA 27 R1 | 003 | Geometric Segment  \\\nTargetName                                        \nATP7B                                 51.213741   \nERN1                                  42.021531   \nKRT74                                 26.920043   \nSPECC1L                               43.991290   \nFOXJ1                                 55.153259   \n\n            TMA 27 R1 | 004 | Geometric Segment  \\\nTargetName                                        \nATP7B                                 45.655397   \nERN1                                  50.591115   \nKRT74                                 44.421467   \nSPECC1L                               33.316100   \nFOXJ1                                 59.228623   \n\n            TMA 27 R1 | 005 | Geometric Segment  \\\nTargetName                                        \nATP7B                                 60.557470   \nERN1                                  49.547021   \nKRT74                                 39.637617   \nSPECC1L                               45.142841   \nFOXJ1                                 67.163740   \n\n            TMA 27 R1 | 006 | Geometric Segment  \\\nTargetName                                        \nATP7B                                 49.202945   \nERN1                                  53.675940   \nKRT74                                 32.801963   \nSPECC1L                               38.765956   \nFOXJ1                                 38.765956   \n\n            TMA 27 R1 | 007 | Geometric Segment  \\\nTargetName                                        \nATP7B                                 71.567919   \nERN1                                  51.119942   \nKRT74                                 71.567919   \nSPECC1L                               30.671965   \nFOXJ1                                 40.895954   \n\n            TMA 27 R1 | 008 | Geometric Segment  \\\nTargetName                                        \nATP7B                                 63.148164   \nERN1                                  75.777797   \nKRT74                                 54.728409   \nSPECC1L                               42.098776   \nFOXJ1                                 25.259266   \n\n            TMA 27 R1 | 009 | Geometric Segment  \\\nTargetName                                        \nATP7B                                 39.246924   \nERN1                                  41.555566   \nKRT74                                 39.246924   \nSPECC1L                               32.320996   \nFOXJ1                                 50.790136   \n\n            TMA 27 R1 | 010 | Geometric Segment  ...  \\\nTargetName                                       ...   \nATP7B                                 43.167951  ...   \nERN1                                  65.887926  ...   \nKRT74                                 45.439949  ...   \nSPECC1L                               34.079962  ...   \nFOXJ1                                 43.167951  ...   \n\n            TMA 27 R4 (1) | 047 | Geometric Segment  \\\nTargetName                                            \nATP7B                                     59.639933   \nERN1                                      67.393124   \nKRT74                                     50.097544   \nSPECC1L                                   48.904745   \nFOXJ1                                     50.693943   \n\n            TMA 27 R4 (1) | 048 | Geometric Segment  \\\nTargetName                                            \nATP7B                                     65.177927   \nERN1                                      85.625904   \nKRT74                                     58.787934   \nSPECC1L                                   56.870936   \nFOXJ1                                     53.036940   \n\n            TMA 27 R4 (1) | 049 | Geometric Segment  \\\nTargetName                                            \nATP7B                                     51.553162   \nERN1                                      61.257287   \nKRT74                                     48.520623   \nSPECC1L                                   53.979193   \nFOXJ1                                     57.011732   \n\n            TMA 27 R4 (1) | 050 | Geometric Segment  \\\nTargetName                                            \nATP7B                                     53.868326   \nERN1                                      56.176969   \nKRT74                                     40.016471   \nSPECC1L                                   44.633756   \nFOXJ1                                     53.098779   \n\n            TMA 27 R4 (1) | 051 | Geometric Segment  \\\nTargetName                                            \nATP7B                                     47.937003   \nERN1                                      51.312848   \nKRT74                                     52.663186   \nSPECC1L                                   46.586665   \nFOXJ1                                     49.287341   \n\n            TMA 27 R4 (1) | 052 | Geometric Segment  \\\nTargetName                                            \nATP7B                                     56.538656   \nERN1                                      69.420882   \nKRT74                                     47.234827   \nSPECC1L                                   51.528902   \nFOXJ1                                     52.960260   \n\n            TMA 27 R4 (1) | 053 | Geometric Segment  \\\nTargetName                                            \nATP7B                                     63.872444   \nERN1                                      59.255159   \nKRT74                                     56.176969   \nSPECC1L                                   54.637874   \nFOXJ1                                     44.633756   \n\n            TMA 27 R4 (1) | 054 | Geometric Segment  \\\nTargetName                                            \nATP7B                                     55.789166   \nERN1                                      62.551489   \nKRT74                                     48.463316   \nSPECC1L                                   53.535058   \nFOXJ1                                     56.352692   \n\n            TMA 27 R4 (1) | 055 | Geometric Segment  \\\nTargetName                                            \nATP7B                                     55.107298   \nERN1                                      52.960260   \nKRT74                                     30.774205   \nSPECC1L                                   52.960260   \nFOXJ1                                     20.754697   \n\n            TMA 27 R4 (1) | 056 | Geometric Segment  \nTargetName                                           \nATP7B                                     46.889327  \nERN1                                      48.123256  \nKRT74                                     40.719678  \nSPECC1L                                   62.313447  \nFOXJ1                                     27.763417  \n\n[5 rows x 272 columns]",
      "text/html": "<div>\n<style scoped>\n    .dataframe tbody tr th:only-of-type {\n        vertical-align: middle;\n    }\n\n    .dataframe tbody tr th {\n        vertical-align: top;\n    }\n\n    .dataframe thead th {\n        text-align: right;\n    }\n</style>\n<table border=\"1\" class=\"dataframe\">\n  <thead>\n    <tr style=\"text-align: right;\">\n      <th></th>\n      <th>TMA 27 R1 | 001 | Geometric Segment</th>\n      <th>TMA 27 R1 | 002 | Geometric Segment</th>\n      <th>TMA 27 R1 | 003 | Geometric Segment</th>\n      <th>TMA 27 R1 | 004 | Geometric Segment</th>\n      <th>TMA 27 R1 | 005 | Geometric Segment</th>\n      <th>TMA 27 R1 | 006 | Geometric Segment</th>\n      <th>TMA 27 R1 | 007 | Geometric Segment</th>\n      <th>TMA 27 R1 | 008 | Geometric Segment</th>\n      <th>TMA 27 R1 | 009 | Geometric Segment</th>\n      <th>TMA 27 R1 | 010 | Geometric Segment</th>\n      <th>...</th>\n      <th>TMA 27 R4 (1) | 047 | Geometric Segment</th>\n      <th>TMA 27 R4 (1) | 048 | Geometric Segment</th>\n      <th>TMA 27 R4 (1) | 049 | Geometric Segment</th>\n      <th>TMA 27 R4 (1) | 050 | Geometric Segment</th>\n      <th>TMA 27 R4 (1) | 051 | Geometric Segment</th>\n      <th>TMA 27 R4 (1) | 052 | Geometric Segment</th>\n      <th>TMA 27 R4 (1) | 053 | Geometric Segment</th>\n      <th>TMA 27 R4 (1) | 054 | Geometric Segment</th>\n      <th>TMA 27 R4 (1) | 055 | Geometric Segment</th>\n      <th>TMA 27 R4 (1) | 056 | Geometric Segment</th>\n    </tr>\n    <tr>\n      <th>TargetName</th>\n      <th></th>\n      <th></th>\n      <th></th>\n      <th></th>\n      <th></th>\n      <th></th>\n      <th></th>\n      <th></th>\n      <th></th>\n      <th></th>\n      <th></th>\n      <th></th>\n      <th></th>\n      <th></th>\n      <th></th>\n      <th></th>\n      <th></th>\n      <th></th>\n      <th></th>\n      <th></th>\n      <th></th>\n    </tr>\n  </thead>\n  <tbody>\n    <tr>\n      <th>ATP7B</th>\n      <td>49.983944</td>\n      <td>46.519148</td>\n      <td>51.213741</td>\n      <td>45.655397</td>\n      <td>60.557470</td>\n      <td>49.202945</td>\n      <td>71.567919</td>\n      <td>63.148164</td>\n      <td>39.246924</td>\n      <td>43.167951</td>\n      <td>...</td>\n      <td>59.639933</td>\n      <td>65.177927</td>\n      <td>51.553162</td>\n      <td>53.868326</td>\n      <td>47.937003</td>\n      <td>56.538656</td>\n      <td>63.872444</td>\n      <td>55.789166</td>\n      <td>55.107298</td>\n      <td>46.889327</td>\n    </tr>\n    <tr>\n      <th>ERN1</th>\n      <td>60.775932</td>\n      <td>49.501144</td>\n      <td>42.021531</td>\n      <td>50.591115</td>\n      <td>49.547021</td>\n      <td>53.675940</td>\n      <td>51.119942</td>\n      <td>75.777797</td>\n      <td>41.555566</td>\n      <td>65.887926</td>\n      <td>...</td>\n      <td>67.393124</td>\n      <td>85.625904</td>\n      <td>61.257287</td>\n      <td>56.176969</td>\n      <td>51.312848</td>\n      <td>69.420882</td>\n      <td>59.255159</td>\n      <td>62.551489</td>\n      <td>52.960260</td>\n      <td>48.123256</td>\n    </tr>\n    <tr>\n      <th>KRT74</th>\n      <td>31.239965</td>\n      <td>34.591161</td>\n      <td>26.920043</td>\n      <td>44.421467</td>\n      <td>39.637617</td>\n      <td>32.801963</td>\n      <td>71.567919</td>\n      <td>54.728409</td>\n      <td>39.246924</td>\n      <td>45.439949</td>\n      <td>...</td>\n      <td>50.097544</td>\n      <td>58.787934</td>\n      <td>48.520623</td>\n      <td>40.016471</td>\n      <td>52.663186</td>\n      <td>47.234827</td>\n      <td>56.176969</td>\n      <td>48.463316</td>\n      <td>30.774205</td>\n      <td>40.719678</td>\n    </tr>\n    <tr>\n      <th>SPECC1L</th>\n      <td>46.007948</td>\n      <td>47.115547</td>\n      <td>43.991290</td>\n      <td>33.316100</td>\n      <td>45.142841</td>\n      <td>38.765956</td>\n      <td>30.671965</td>\n      <td>42.098776</td>\n      <td>32.320996</td>\n      <td>34.079962</td>\n      <td>...</td>\n      <td>48.904745</td>\n      <td>56.870936</td>\n      <td>53.979193</td>\n      <td>44.633756</td>\n      <td>46.586665</td>\n      <td>51.528902</td>\n      <td>54.637874</td>\n      <td>53.535058</td>\n      <td>52.960260</td>\n      <td>62.313447</td>\n    </tr>\n    <tr>\n      <th>FOXJ1</th>\n      <td>45.439949</td>\n      <td>54.272339</td>\n      <td>55.153259</td>\n      <td>59.228623</td>\n      <td>67.163740</td>\n      <td>38.765956</td>\n      <td>40.895954</td>\n      <td>25.259266</td>\n      <td>50.790136</td>\n      <td>43.167951</td>\n      <td>...</td>\n      <td>50.693943</td>\n      <td>53.036940</td>\n      <td>57.011732</td>\n      <td>53.098779</td>\n      <td>49.287341</td>\n      <td>52.960260</td>\n      <td>44.633756</td>\n      <td>56.352692</td>\n      <td>20.754697</td>\n      <td>27.763417</td>\n    </tr>\n  </tbody>\n</table>\n<p>5 rows × 272 columns</p>\n</div>"
     },
     "execution_count": 69,
     "metadata": {},
     "output_type": "execute_result"
    }
   ],
   "source": [
    "x_df = pd.read_excel('data/X_trainGBM.xlsx', index_col=0)\n",
    "x_df.head()"
   ],
   "metadata": {
    "collapsed": false,
    "pycharm": {
     "name": "#%%\n"
    }
   }
  },
  {
   "cell_type": "code",
   "execution_count": 70,
   "outputs": [
    {
     "data": {
      "text/plain": "            TMA 27 R1 | 015 | Geometric Segment  \\\nTargetName                                        \nATP7B                                  35.78396   \nERN1                                   53.67594   \nKRT74                                  26.83797   \nSPECC1L                                35.78396   \nFOXJ1                                  35.78396   \n\n            TMA 27 R1 | 028 | Geometric Segment  \nTargetName                                       \nATP7B                                 47.711946  \nERN1                                  83.495906  \nKRT74                                 59.639933  \nSPECC1L                               23.855973  \nFOXJ1                                 59.639933  ",
      "text/html": "<div>\n<style scoped>\n    .dataframe tbody tr th:only-of-type {\n        vertical-align: middle;\n    }\n\n    .dataframe tbody tr th {\n        vertical-align: top;\n    }\n\n    .dataframe thead th {\n        text-align: right;\n    }\n</style>\n<table border=\"1\" class=\"dataframe\">\n  <thead>\n    <tr style=\"text-align: right;\">\n      <th></th>\n      <th>TMA 27 R1 | 015 | Geometric Segment</th>\n      <th>TMA 27 R1 | 028 | Geometric Segment</th>\n    </tr>\n    <tr>\n      <th>TargetName</th>\n      <th></th>\n      <th></th>\n    </tr>\n  </thead>\n  <tbody>\n    <tr>\n      <th>ATP7B</th>\n      <td>35.78396</td>\n      <td>47.711946</td>\n    </tr>\n    <tr>\n      <th>ERN1</th>\n      <td>53.67594</td>\n      <td>83.495906</td>\n    </tr>\n    <tr>\n      <th>KRT74</th>\n      <td>26.83797</td>\n      <td>59.639933</td>\n    </tr>\n    <tr>\n      <th>SPECC1L</th>\n      <td>35.78396</td>\n      <td>23.855973</td>\n    </tr>\n    <tr>\n      <th>FOXJ1</th>\n      <td>35.78396</td>\n      <td>59.639933</td>\n    </tr>\n  </tbody>\n</table>\n</div>"
     },
     "execution_count": 70,
     "metadata": {},
     "output_type": "execute_result"
    }
   ],
   "source": [
    "df_rec = x_df[recurrent_list]\n",
    "df_rec.head()"
   ],
   "metadata": {
    "collapsed": false,
    "pycharm": {
     "name": "#%%\n"
    }
   }
  },
  {
   "cell_type": "code",
   "execution_count": 71,
   "outputs": [
    {
     "name": "stderr",
     "output_type": "stream",
     "text": [
      "C:\\Users\\sathy\\OneDrive\\Documents\\GitHub\\Glioblastoma_analysis\\venv\\lib\\site-packages\\sklearn\\manifold\\_t_sne.py:795: FutureWarning: The default initialization in TSNE will change from 'random' to 'pca' in 1.2.\n",
      "  warnings.warn(\n",
      "C:\\Users\\sathy\\OneDrive\\Documents\\GitHub\\Glioblastoma_analysis\\venv\\lib\\site-packages\\sklearn\\manifold\\_t_sne.py:805: FutureWarning: The default learning rate in TSNE will change from 200.0 to 'auto' in 1.2.\n",
      "  warnings.warn(\n"
     ]
    },
    {
     "name": "stdout",
     "output_type": "stream",
     "text": [
      "[t-SNE] Computing 91 nearest neighbors...\n",
      "[t-SNE] Indexed 18670 samples in 0.000s...\n",
      "[t-SNE] Computed neighbors for 18670 samples in 0.219s...\n",
      "[t-SNE] Computed conditional probabilities for sample 1000 / 18670\n",
      "[t-SNE] Computed conditional probabilities for sample 2000 / 18670\n",
      "[t-SNE] Computed conditional probabilities for sample 3000 / 18670\n",
      "[t-SNE] Computed conditional probabilities for sample 4000 / 18670\n",
      "[t-SNE] Computed conditional probabilities for sample 5000 / 18670\n",
      "[t-SNE] Computed conditional probabilities for sample 6000 / 18670\n",
      "[t-SNE] Computed conditional probabilities for sample 7000 / 18670\n",
      "[t-SNE] Computed conditional probabilities for sample 8000 / 18670\n",
      "[t-SNE] Computed conditional probabilities for sample 9000 / 18670\n",
      "[t-SNE] Computed conditional probabilities for sample 10000 / 18670\n",
      "[t-SNE] Computed conditional probabilities for sample 11000 / 18670\n",
      "[t-SNE] Computed conditional probabilities for sample 12000 / 18670\n",
      "[t-SNE] Computed conditional probabilities for sample 13000 / 18670\n",
      "[t-SNE] Computed conditional probabilities for sample 14000 / 18670\n",
      "[t-SNE] Computed conditional probabilities for sample 15000 / 18670\n",
      "[t-SNE] Computed conditional probabilities for sample 16000 / 18670\n",
      "[t-SNE] Computed conditional probabilities for sample 17000 / 18670\n",
      "[t-SNE] Computed conditional probabilities for sample 18000 / 18670\n",
      "[t-SNE] Computed conditional probabilities for sample 18670 / 18670\n",
      "[t-SNE] Mean sigma: 0.000000\n",
      "[t-SNE] KL divergence after 250 iterations with early exaggeration: 53.364376\n",
      "[t-SNE] KL divergence after 1000 iterations: -0.092014\n"
     ]
    }
   ],
   "source": [
    "from sklearn.manifold import TSNE\n",
    "tsne_em = TSNE(n_components=2, perplexity=30.0, n_iter=1000, verbose=1).fit_transform(df_rec)"
   ],
   "metadata": {
    "collapsed": false,
    "pycharm": {
     "name": "#%%\n"
    }
   }
  },
  {
   "cell_type": "code",
   "execution_count": 72,
   "outputs": [],
   "source": [
    "from bioinfokit.visuz import cluster\n",
    "cluster.tsneplot(score=tsne_em)"
   ],
   "metadata": {
    "collapsed": false,
    "pycharm": {
     "name": "#%%\n"
    }
   }
  },
  {
   "cell_type": "code",
   "execution_count": 73,
   "outputs": [],
   "source": [
    "from sklearn.cluster import DBSCAN\n",
    "get_clusters = DBSCAN(eps=3, min_samples=10).fit_predict(tsne_em)"
   ],
   "metadata": {
    "collapsed": false,
    "pycharm": {
     "name": "#%%\n"
    }
   }
  },
  {
   "cell_type": "code",
   "execution_count": 74,
   "outputs": [],
   "source": [
    "set(get_clusters)\n",
    "cluster.tsneplot(score=tsne_em, colorlist=get_clusters,\n",
    "    colordot=('#713e5a', '#63a375', '#edc79b', '#d57a66', '#ca6680', '#395B50', '#92AFD7', '#b0413e', '#4381c1', '#736ced', '#631a86', '#de541e', '#022b3a', '#000000'),\n",
    "    legendpos='upper right', legendanchor=(1.15, 1))"
   ],
   "metadata": {
    "collapsed": false,
    "pycharm": {
     "name": "#%%\n"
    }
   }
  },
  {
   "cell_type": "code",
   "execution_count": 74,
   "outputs": [],
   "source": [],
   "metadata": {
    "collapsed": false,
    "pycharm": {
     "name": "#%%\n"
    }
   }
  }
 ],
 "metadata": {
  "kernelspec": {
   "display_name": "Python 3",
   "language": "python",
   "name": "python3"
  },
  "language_info": {
   "codemirror_mode": {
    "name": "ipython",
    "version": 2
   },
   "file_extension": ".py",
   "mimetype": "text/x-python",
   "name": "python",
   "nbconvert_exporter": "python",
   "pygments_lexer": "ipython2",
   "version": "2.7.6"
  }
 },
 "nbformat": 4,
 "nbformat_minor": 0
}