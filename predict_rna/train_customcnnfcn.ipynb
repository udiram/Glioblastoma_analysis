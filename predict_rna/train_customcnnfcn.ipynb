{
 "cells": [
  {
   "cell_type": "code",
   "execution_count": 273,
   "outputs": [],
   "source": [
    "# Import required libraries\n",
    "from keras.layers import Input, Dense, Conv2D, MaxPooling2D, Flatten\n",
    "from keras.models import Model\n",
    "import tensorflow as tf\n",
    "import numpy as np\n",
    "from keras.preprocessing.image import ImageDataGenerator\n",
    "import pandas as pd\n",
    "from sklearn.model_selection import train_test_split\n",
    "import os"
   ],
   "metadata": {
    "collapsed": false,
    "pycharm": {
     "name": "#%%\n"
    }
   }
  },
  {
   "cell_type": "code",
   "execution_count": 274,
   "outputs": [],
   "source": [
    "# Load the image and RNA expression data\n",
    "images = [image for image in os.listdir('data')]"
   ],
   "metadata": {
    "collapsed": false,
    "pycharm": {
     "name": "#%%\n"
    }
   }
  },
  {
   "cell_type": "code",
   "execution_count": 275,
   "outputs": [
    {
     "name": "stderr",
     "output_type": "stream",
     "text": [
      "C:\\Users\\sathy\\AppData\\Local\\Temp\\ipykernel_11668\\136550899.py:7: SettingWithCopyWarning: \n",
      "A value is trying to be set on a copy of a slice from a DataFrame\n",
      "\n",
      "See the caveats in the documentation: https://pandas.pydata.org/pandas-docs/stable/user_guide/indexing.html#returning-a-view-versus-a-copy\n",
      "  expression_data['path'][i] = expression_data['path'][i].replace('.tif', '.jpeg')\n"
     ]
    },
    {
     "data": {
      "text/plain": "        CD79B     MAP2K3      IMPDH1     SLC16A3       MPZL3      APOBR  \\\n0   85.881503  72.668964   86.982548   71.567919  102.397177  56.153291   \n1   84.038087  65.603926   85.122450  101.387886  100.845705  50.422852   \n2   82.927907  70.431921  100.535887  130.071854   89.175900  52.823941   \n3   93.960336  72.446053   92.204068   66.299116   74.202321  39.076962   \n4  113.968536  73.458393   94.793735   49.152307   54.013524  28.627168   \n\n                       path  \n0  data_jpeg/CoreID101.jpeg  \n1  data_jpeg/CoreID102.jpeg  \n2  data_jpeg/CoreID105.jpeg  \n3  data_jpeg/CoreID107.jpeg  \n4  data_jpeg/CoreID108.jpeg  ",
      "text/html": "<div>\n<style scoped>\n    .dataframe tbody tr th:only-of-type {\n        vertical-align: middle;\n    }\n\n    .dataframe tbody tr th {\n        vertical-align: top;\n    }\n\n    .dataframe thead th {\n        text-align: right;\n    }\n</style>\n<table border=\"1\" class=\"dataframe\">\n  <thead>\n    <tr style=\"text-align: right;\">\n      <th></th>\n      <th>CD79B</th>\n      <th>MAP2K3</th>\n      <th>IMPDH1</th>\n      <th>SLC16A3</th>\n      <th>MPZL3</th>\n      <th>APOBR</th>\n      <th>path</th>\n    </tr>\n  </thead>\n  <tbody>\n    <tr>\n      <th>0</th>\n      <td>85.881503</td>\n      <td>72.668964</td>\n      <td>86.982548</td>\n      <td>71.567919</td>\n      <td>102.397177</td>\n      <td>56.153291</td>\n      <td>data_jpeg/CoreID101.jpeg</td>\n    </tr>\n    <tr>\n      <th>1</th>\n      <td>84.038087</td>\n      <td>65.603926</td>\n      <td>85.122450</td>\n      <td>101.387886</td>\n      <td>100.845705</td>\n      <td>50.422852</td>\n      <td>data_jpeg/CoreID102.jpeg</td>\n    </tr>\n    <tr>\n      <th>2</th>\n      <td>82.927907</td>\n      <td>70.431921</td>\n      <td>100.535887</td>\n      <td>130.071854</td>\n      <td>89.175900</td>\n      <td>52.823941</td>\n      <td>data_jpeg/CoreID105.jpeg</td>\n    </tr>\n    <tr>\n      <th>3</th>\n      <td>93.960336</td>\n      <td>72.446053</td>\n      <td>92.204068</td>\n      <td>66.299116</td>\n      <td>74.202321</td>\n      <td>39.076962</td>\n      <td>data_jpeg/CoreID107.jpeg</td>\n    </tr>\n    <tr>\n      <th>4</th>\n      <td>113.968536</td>\n      <td>73.458393</td>\n      <td>94.793735</td>\n      <td>49.152307</td>\n      <td>54.013524</td>\n      <td>28.627168</td>\n      <td>data_jpeg/CoreID108.jpeg</td>\n    </tr>\n  </tbody>\n</table>\n</div>"
     },
     "execution_count": 275,
     "metadata": {},
     "output_type": "execute_result"
    }
   ],
   "source": [
    "# Load the image and RNA expression data\n",
    "expression_data = pd.read_csv('df_train.csv')\n",
    "# expression_data['path'] = 'data/' + expression_data['path']\n",
    "expression_data['path'] = 'data_jpeg/' + expression_data['path']\n",
    "for i in range(len(expression_data)):\n",
    "    #replace .tif with .jpg in the path column\n",
    "    expression_data['path'][i] = expression_data['path'][i].replace('.tif', '.jpeg')\n",
    "expression_data.head()"
   ],
   "metadata": {
    "collapsed": false,
    "pycharm": {
     "name": "#%%\n"
    }
   }
  },
  {
   "cell_type": "code",
   "execution_count": 276,
   "outputs": [
    {
     "data": {
      "text/plain": "        CD79B    MAP2K3    IMPDH1   SLC16A3     MPZL3     APOBR  \\\n0   85.881503  0.219365  0.190308  0.078472  0.379011  0.415963   \n1   84.038087  0.168273  0.182066  0.132042  0.371800  0.361014   \n2   82.927907  0.203468  0.248397  0.180998  0.315834  0.384407   \n3   93.960336  0.217792  0.213089  0.068701  0.239105  0.242411   \n4  113.968536  0.224915  0.224197  0.036225  0.125348  0.119137   \n\n                       path  \n0  data_jpeg/CoreID101.jpeg  \n1  data_jpeg/CoreID102.jpeg  \n2  data_jpeg/CoreID105.jpeg  \n3  data_jpeg/CoreID107.jpeg  \n4  data_jpeg/CoreID108.jpeg  ",
      "text/html": "<div>\n<style scoped>\n    .dataframe tbody tr th:only-of-type {\n        vertical-align: middle;\n    }\n\n    .dataframe tbody tr th {\n        vertical-align: top;\n    }\n\n    .dataframe thead th {\n        text-align: right;\n    }\n</style>\n<table border=\"1\" class=\"dataframe\">\n  <thead>\n    <tr style=\"text-align: right;\">\n      <th></th>\n      <th>CD79B</th>\n      <th>MAP2K3</th>\n      <th>IMPDH1</th>\n      <th>SLC16A3</th>\n      <th>MPZL3</th>\n      <th>APOBR</th>\n      <th>path</th>\n    </tr>\n  </thead>\n  <tbody>\n    <tr>\n      <th>0</th>\n      <td>85.881503</td>\n      <td>0.219365</td>\n      <td>0.190308</td>\n      <td>0.078472</td>\n      <td>0.379011</td>\n      <td>0.415963</td>\n      <td>data_jpeg/CoreID101.jpeg</td>\n    </tr>\n    <tr>\n      <th>1</th>\n      <td>84.038087</td>\n      <td>0.168273</td>\n      <td>0.182066</td>\n      <td>0.132042</td>\n      <td>0.371800</td>\n      <td>0.361014</td>\n      <td>data_jpeg/CoreID102.jpeg</td>\n    </tr>\n    <tr>\n      <th>2</th>\n      <td>82.927907</td>\n      <td>0.203468</td>\n      <td>0.248397</td>\n      <td>0.180998</td>\n      <td>0.315834</td>\n      <td>0.384407</td>\n      <td>data_jpeg/CoreID105.jpeg</td>\n    </tr>\n    <tr>\n      <th>3</th>\n      <td>93.960336</td>\n      <td>0.217792</td>\n      <td>0.213089</td>\n      <td>0.068701</td>\n      <td>0.239105</td>\n      <td>0.242411</td>\n      <td>data_jpeg/CoreID107.jpeg</td>\n    </tr>\n    <tr>\n      <th>4</th>\n      <td>113.968536</td>\n      <td>0.224915</td>\n      <td>0.224197</td>\n      <td>0.036225</td>\n      <td>0.125348</td>\n      <td>0.119137</td>\n      <td>data_jpeg/CoreID108.jpeg</td>\n    </tr>\n  </tbody>\n</table>\n</div>"
     },
     "execution_count": 276,
     "metadata": {},
     "output_type": "execute_result"
    }
   ],
   "source": [
    "# Separate the gene expression values from the other columns\n",
    "expression_values = expression_data.iloc[:, 1:-1]\n",
    "\n",
    "# Get the minimum and maximum values for each gene\n",
    "min_values = expression_values.min(axis=0)\n",
    "max_values = expression_values.max(axis=0)\n",
    "\n",
    "# Shift the expression values so the minimum is zero\n",
    "expression_values = expression_values - min_values\n",
    "\n",
    "# Normalize each gene's expression values using Min-Max normalization\n",
    "normalized_expression_values = expression_values / max_values\n",
    "\n",
    "# Add the normalized values back to the original dataframe\n",
    "expression_data.iloc[:, 1:-1] = normalized_expression_values\n",
    "\n",
    "# Get the log of the normalized expression values\n",
    "log_normalized_expression_values = np.log(normalized_expression_values + 1)\n",
    "\n",
    "# Add the log transformed values back to the original dataframe\n",
    "expression_data.iloc[:, 1:-1] = log_normalized_expression_values\n",
    "\n",
    "expression_data.head()"
   ],
   "metadata": {
    "collapsed": false,
    "pycharm": {
     "name": "#%%\n"
    }
   }
  },
  {
   "cell_type": "code",
   "execution_count": 277,
   "outputs": [],
   "source": [
    "# Define the CNN model\n",
    "input_img = Input(shape=(128, 128, 3))\n",
    "x = Conv2D(32, (3, 3), activation='relu', padding='same')(input_img)\n",
    "x = MaxPooling2D((2, 2), padding='same')(x)\n",
    "x = Conv2D(64, (3, 3), activation='relu', padding='same')(x)\n",
    "x = MaxPooling2D((2, 2), padding='same')(x)\n",
    "x = Conv2D(128, (3, 3), activation='relu', padding='same')(x)\n",
    "x = MaxPooling2D((2, 2), padding='same')(x)\n",
    "x = Flatten()(x)"
   ],
   "metadata": {
    "collapsed": false,
    "pycharm": {
     "name": "#%%\n"
    }
   }
  },
  {
   "cell_type": "code",
   "execution_count": 278,
   "outputs": [],
   "source": [
    "# Define the FCN model\n",
    "y = Dense(256, activation='relu')(x)\n",
    "y = Dense(128, activation='relu')(y)\n",
    "output = Dense(6, activation='linear')(y)"
   ],
   "metadata": {
    "collapsed": false,
    "pycharm": {
     "name": "#%%\n"
    }
   }
  },
  {
   "cell_type": "code",
   "execution_count": 279,
   "outputs": [],
   "source": [
    "# Combine the CNN and FCN into a single model\n",
    "model = Model(input_img, output)\n",
    "model.compile(optimizer='adam', loss='mean_squared_error', metrics=['accuracy'])"
   ],
   "metadata": {
    "collapsed": false,
    "pycharm": {
     "name": "#%%\n"
    }
   }
  },
  {
   "cell_type": "code",
   "execution_count": 280,
   "outputs": [],
   "source": [
    "import cv2\n",
    "import numpy as np\n",
    "\n",
    "def grayscale(image):\n",
    "    image = cv2.cvtColor(image, cv2.COLOR_RGB2GRAY)\n",
    "    image = np.expand_dims(image, axis=-1)\n",
    "    return np.repeat(image, 3, axis=-1)\n",
    "\n",
    "\n",
    "datagen = ImageDataGenerator(\n",
    "    rescale=1./255,\n",
    "    rotation_range=45,\n",
    "    width_shift_range=0.2,\n",
    "    height_shift_range=0.2,\n",
    "    shear_range=0.2,\n",
    "    zoom_range=0.2,\n",
    "    horizontal_flip=True,\n",
    "    fill_mode='nearest',\n",
    "    preprocessing_function=grayscale\n",
    ")"
   ],
   "metadata": {
    "collapsed": false,
    "pycharm": {
     "name": "#%%\n"
    }
   }
  },
  {
   "cell_type": "code",
   "execution_count": 281,
   "outputs": [
    {
     "name": "stdout",
     "output_type": "stream",
     "text": [
      "CoreID101.jpeg\n",
      "CoreID102.jpeg\n",
      "CoreID105.jpeg\n",
      "CoreID107.jpeg\n",
      "CoreID108.jpeg\n",
      "CoreID111.jpeg\n",
      "CoreID114.jpeg\n",
      "CoreID119.jpeg\n",
      "CoreID12.jpeg\n",
      "CoreID120.jpeg\n",
      "CoreID122.jpeg\n",
      "CoreID123.jpeg\n",
      "CoreID124.jpeg\n",
      "CoreID125.jpeg\n",
      "CoreID126.jpeg\n",
      "CoreID127.jpeg\n",
      "CoreID128.jpeg\n",
      "CoreID129.jpeg\n",
      "CoreID13.jpeg\n",
      "CoreID130.jpeg\n",
      "CoreID131.jpeg\n",
      "CoreID132.jpeg\n",
      "CoreID133.jpeg\n",
      "CoreID135.jpeg\n",
      "CoreID138.jpeg\n",
      "CoreID140.jpeg\n",
      "CoreID141.jpeg\n",
      "CoreID142.jpeg\n",
      "CoreID143.jpeg\n",
      "CoreID144.jpeg\n",
      "CoreID145.jpeg\n",
      "CoreID146.jpeg\n",
      "CoreID15.jpeg\n",
      "CoreID150.jpeg\n",
      "CoreID16.jpeg\n",
      "CoreID2.jpeg\n",
      "CoreID21.jpeg\n",
      "CoreID22.jpeg\n",
      "CoreID23.jpeg\n",
      "CoreID24.jpeg\n",
      "CoreID25.jpeg\n",
      "CoreID26.jpeg\n",
      "CoreID28.jpeg\n",
      "CoreID29.jpeg\n",
      "CoreID3.jpeg\n",
      "CoreID30.jpeg\n",
      "CoreID33.jpeg\n",
      "CoreID34.jpeg\n",
      "CoreID35.jpeg\n",
      "CoreID37.jpeg\n",
      "CoreID38.jpeg\n",
      "CoreID39.jpeg\n",
      "CoreID4.jpeg\n",
      "CoreID41.jpeg\n",
      "CoreID42.jpeg\n",
      "CoreID44.jpeg\n",
      "CoreID46.jpeg\n",
      "CoreID47.jpeg\n",
      "CoreID48.jpeg\n",
      "CoreID49.jpeg\n",
      "CoreID50.jpeg\n",
      "CoreID51.jpeg\n",
      "CoreID52.jpeg\n",
      "CoreID53.jpeg\n",
      "CoreID54.jpeg\n",
      "CoreID55.jpeg\n",
      "CoreID58.jpeg\n",
      "CoreID59.jpeg\n",
      "CoreID6.jpeg\n",
      "CoreID60.jpeg\n",
      "CoreID61.jpeg\n",
      "CoreID62.jpeg\n",
      "CoreID63.jpeg\n",
      "CoreID65.jpeg\n",
      "CoreID66.jpeg\n",
      "CoreID67.jpeg\n",
      "CoreID68.jpeg\n",
      "CoreID69.jpeg\n",
      "CoreID7.jpeg\n",
      "CoreID70.jpeg\n",
      "CoreID72.jpeg\n",
      "CoreID73.jpeg\n",
      "CoreID74.jpeg\n",
      "CoreID75.jpeg\n",
      "CoreID76.jpeg\n",
      "CoreID77.jpeg\n",
      "CoreID79.jpeg\n",
      "CoreID8.jpeg\n",
      "CoreID83.jpeg\n",
      "CoreID84.jpeg\n",
      "CoreID85.jpeg\n",
      "CoreID87.jpeg\n",
      "CoreID88.jpeg\n",
      "CoreID89.jpeg\n",
      "CoreID90.jpeg\n",
      "CoreID92.jpeg\n",
      "CoreID93.jpeg\n",
      "CoreID94.jpeg\n",
      "CoreID99.jpeg\n"
     ]
    }
   ],
   "source": [
    "for image in os.listdir('data_jpeg/'):\n",
    "    print(image)\n",
    "    im = cv2.imread('data_jpeg/' + image)\n",
    "    im = grayscale(im)\n",
    "    cv2.imwrite('data_jpeg/' + image, im)"
   ],
   "metadata": {
    "collapsed": false,
    "pycharm": {
     "name": "#%%\n"
    }
   }
  },
  {
   "cell_type": "code",
   "execution_count": 282,
   "outputs": [],
   "source": [
    "from PIL import Image\n",
    "import os\n",
    "\n",
    "def convert_tif_to_jpeg(src_dir, dst_dir):\n",
    "    # Create the destination directory if it doesn't exist\n",
    "    if not os.path.exists(dst_dir):\n",
    "        os.makedirs(dst_dir)\n",
    "\n",
    "    # Loop through all TIFF files in the source directory\n",
    "    for filename in os.listdir(src_dir):\n",
    "        if filename.endswith(\".tif\"):\n",
    "            # Open the TIFF image\n",
    "            tif_image = Image.open(os.path.join(src_dir, filename))\n",
    "\n",
    "            # Save the TIFF image as a JPEG image\n",
    "            jpeg_filename = os.path.splitext(filename)[0] + \".jpeg\"\n",
    "            tif_image.save(os.path.join(dst_dir, jpeg_filename), \"JPEG\")\n",
    "\n",
    "# Example usage:\n",
    "src_dir = \"data/\"\n",
    "dst_dir = \"data_jpeg/\"\n",
    "convert_tif_to_jpeg(src_dir, dst_dir)"
   ],
   "metadata": {
    "collapsed": false,
    "pycharm": {
     "name": "#%%\n"
    }
   }
  },
  {
   "cell_type": "code",
   "execution_count": 283,
   "outputs": [
    {
     "name": "stdout",
     "output_type": "stream",
     "text": [
      "[]\n"
     ]
    }
   ],
   "source": [
    "# split the data into train and validation sets\n",
    "train_df, val_df = train_test_split(expression_data, test_size=0.3, random_state=100)\n",
    "#make test split\n",
    "val_df, test_df = train_test_split(val_df, test_size=0.3, random_state=100)\n",
    "print(model.metrics_names)"
   ],
   "metadata": {
    "collapsed": false,
    "pycharm": {
     "name": "#%%\n"
    }
   }
  },
  {
   "cell_type": "code",
   "execution_count": 284,
   "outputs": [
    {
     "name": "stdout",
     "output_type": "stream",
     "text": [
      "Found 69 validated image filenames.\n",
      "Found 21 validated image filenames.\n"
     ]
    }
   ],
   "source": [
    "# create the generators\n",
    "train_gen = datagen.flow_from_dataframe(train_df,directory='', x_col='path', y_col=['CD79B', 'MAP2K3', 'IMPDH1', 'SLC16A3', 'MPZL3', 'APOBR'], target_size=(128, 128), class_mode='raw', batch_size=4)\n",
    "val_gen = datagen.flow_from_dataframe(val_df,directory='', x_col='path', y_col=['CD79B', 'MAP2K3', 'IMPDH1', 'SLC16A3', 'MPZL3', 'APOBR'], target_size=(128, 128), class_mode='raw', batch_size=4)"
   ],
   "metadata": {
    "collapsed": false,
    "pycharm": {
     "name": "#%%\n"
    }
   }
  },
  {
   "cell_type": "code",
   "execution_count": 285,
   "outputs": [
    {
     "name": "stdout",
     "output_type": "stream",
     "text": [
      "Epoch 1/100\n"
     ]
    },
    {
     "name": "stderr",
     "output_type": "stream",
     "text": [
      "C:\\Users\\sathy\\AppData\\Local\\Temp\\ipykernel_11668\\2546567252.py:1: UserWarning: `Model.fit_generator` is deprecated and will be removed in a future version. Please use `Model.fit`, which supports generators.\n",
      "  history = model.fit_generator(train_gen, epochs=100, validation_data=val_gen)\n"
     ]
    },
    {
     "name": "stdout",
     "output_type": "stream",
     "text": [
      "18/18 [==============================] - 1s 61ms/step - loss: 418.6549 - accuracy: 0.9420 - val_loss: 121.2785 - val_accuracy: 1.0000\n",
      "Epoch 2/100\n",
      "18/18 [==============================] - 1s 32ms/step - loss: 138.3342 - accuracy: 1.0000 - val_loss: 91.9029 - val_accuracy: 1.0000\n",
      "Epoch 3/100\n",
      "18/18 [==============================] - 1s 33ms/step - loss: 142.4553 - accuracy: 1.0000 - val_loss: 141.9192 - val_accuracy: 1.0000\n",
      "Epoch 4/100\n",
      "18/18 [==============================] - 1s 32ms/step - loss: 151.9467 - accuracy: 1.0000 - val_loss: 102.8213 - val_accuracy: 1.0000\n",
      "Epoch 5/100\n",
      "18/18 [==============================] - 1s 32ms/step - loss: 115.3375 - accuracy: 1.0000 - val_loss: 79.8646 - val_accuracy: 1.0000\n",
      "Epoch 6/100\n",
      "18/18 [==============================] - 1s 33ms/step - loss: 123.8237 - accuracy: 1.0000 - val_loss: 74.7285 - val_accuracy: 1.0000\n",
      "Epoch 7/100\n",
      "18/18 [==============================] - 1s 33ms/step - loss: 124.1397 - accuracy: 1.0000 - val_loss: 97.7880 - val_accuracy: 1.0000\n",
      "Epoch 8/100\n",
      "18/18 [==============================] - 1s 33ms/step - loss: 135.4570 - accuracy: 1.0000 - val_loss: 100.7439 - val_accuracy: 1.0000\n",
      "Epoch 9/100\n",
      "18/18 [==============================] - 1s 33ms/step - loss: 112.2641 - accuracy: 1.0000 - val_loss: 86.7208 - val_accuracy: 1.0000\n",
      "Epoch 10/100\n",
      "18/18 [==============================] - 1s 34ms/step - loss: 129.1128 - accuracy: 1.0000 - val_loss: 86.0223 - val_accuracy: 1.0000\n",
      "Epoch 11/100\n",
      "18/18 [==============================] - 1s 33ms/step - loss: 147.7576 - accuracy: 1.0000 - val_loss: 85.0307 - val_accuracy: 1.0000\n",
      "Epoch 12/100\n",
      "18/18 [==============================] - 1s 33ms/step - loss: 125.5785 - accuracy: 1.0000 - val_loss: 79.5432 - val_accuracy: 1.0000\n",
      "Epoch 13/100\n",
      "18/18 [==============================] - 1s 32ms/step - loss: 124.4649 - accuracy: 1.0000 - val_loss: 93.2965 - val_accuracy: 1.0000\n",
      "Epoch 14/100\n",
      "18/18 [==============================] - 1s 32ms/step - loss: 110.3593 - accuracy: 1.0000 - val_loss: 85.1752 - val_accuracy: 1.0000\n",
      "Epoch 15/100\n",
      "18/18 [==============================] - 1s 32ms/step - loss: 128.7025 - accuracy: 1.0000 - val_loss: 106.8978 - val_accuracy: 1.0000\n",
      "Epoch 16/100\n",
      "18/18 [==============================] - 1s 32ms/step - loss: 154.3544 - accuracy: 1.0000 - val_loss: 154.8225 - val_accuracy: 1.0000\n",
      "Epoch 17/100\n",
      "18/18 [==============================] - 1s 33ms/step - loss: 147.0489 - accuracy: 1.0000 - val_loss: 85.0202 - val_accuracy: 1.0000\n",
      "Epoch 18/100\n",
      "18/18 [==============================] - 1s 32ms/step - loss: 146.1967 - accuracy: 1.0000 - val_loss: 69.9830 - val_accuracy: 1.0000\n",
      "Epoch 19/100\n",
      "18/18 [==============================] - 1s 32ms/step - loss: 111.8358 - accuracy: 1.0000 - val_loss: 70.4361 - val_accuracy: 1.0000\n",
      "Epoch 20/100\n",
      "18/18 [==============================] - 1s 32ms/step - loss: 155.2420 - accuracy: 1.0000 - val_loss: 113.4657 - val_accuracy: 1.0000\n",
      "Epoch 21/100\n",
      "18/18 [==============================] - 1s 34ms/step - loss: 134.2168 - accuracy: 1.0000 - val_loss: 88.1292 - val_accuracy: 1.0000\n",
      "Epoch 22/100\n",
      "18/18 [==============================] - 1s 32ms/step - loss: 118.2678 - accuracy: 1.0000 - val_loss: 117.3883 - val_accuracy: 1.0000\n",
      "Epoch 23/100\n",
      "18/18 [==============================] - 1s 32ms/step - loss: 158.7154 - accuracy: 1.0000 - val_loss: 122.8457 - val_accuracy: 1.0000\n",
      "Epoch 24/100\n",
      "18/18 [==============================] - 1s 32ms/step - loss: 124.5771 - accuracy: 1.0000 - val_loss: 75.6020 - val_accuracy: 1.0000\n",
      "Epoch 25/100\n",
      "18/18 [==============================] - 1s 34ms/step - loss: 88.9179 - accuracy: 1.0000 - val_loss: 180.6873 - val_accuracy: 1.0000\n",
      "Epoch 26/100\n",
      "18/18 [==============================] - 1s 33ms/step - loss: 120.8567 - accuracy: 1.0000 - val_loss: 96.0396 - val_accuracy: 1.0000\n",
      "Epoch 27/100\n",
      "18/18 [==============================] - 1s 32ms/step - loss: 110.0368 - accuracy: 1.0000 - val_loss: 85.7405 - val_accuracy: 1.0000\n",
      "Epoch 28/100\n",
      "18/18 [==============================] - 1s 32ms/step - loss: 115.1453 - accuracy: 1.0000 - val_loss: 79.6982 - val_accuracy: 1.0000\n",
      "Epoch 29/100\n",
      "18/18 [==============================] - 1s 34ms/step - loss: 106.1699 - accuracy: 1.0000 - val_loss: 117.6621 - val_accuracy: 1.0000\n",
      "Epoch 30/100\n",
      "18/18 [==============================] - 1s 33ms/step - loss: 102.2031 - accuracy: 1.0000 - val_loss: 82.8724 - val_accuracy: 1.0000\n",
      "Epoch 31/100\n",
      "18/18 [==============================] - 1s 33ms/step - loss: 97.9865 - accuracy: 1.0000 - val_loss: 359.4713 - val_accuracy: 1.0000\n",
      "Epoch 32/100\n",
      "18/18 [==============================] - 1s 32ms/step - loss: 232.3047 - accuracy: 1.0000 - val_loss: 166.3408 - val_accuracy: 1.0000\n",
      "Epoch 33/100\n",
      "18/18 [==============================] - 1s 33ms/step - loss: 109.0773 - accuracy: 1.0000 - val_loss: 72.4650 - val_accuracy: 1.0000\n",
      "Epoch 34/100\n",
      "18/18 [==============================] - 1s 33ms/step - loss: 103.7838 - accuracy: 1.0000 - val_loss: 71.1522 - val_accuracy: 1.0000\n",
      "Epoch 35/100\n",
      "18/18 [==============================] - 1s 33ms/step - loss: 109.8062 - accuracy: 1.0000 - val_loss: 80.1483 - val_accuracy: 1.0000\n",
      "Epoch 36/100\n",
      "18/18 [==============================] - 1s 33ms/step - loss: 108.1839 - accuracy: 1.0000 - val_loss: 94.5801 - val_accuracy: 1.0000\n",
      "Epoch 37/100\n",
      "18/18 [==============================] - 1s 33ms/step - loss: 125.9506 - accuracy: 1.0000 - val_loss: 146.1025 - val_accuracy: 1.0000\n",
      "Epoch 38/100\n",
      "18/18 [==============================] - 1s 32ms/step - loss: 195.7097 - accuracy: 1.0000 - val_loss: 75.2087 - val_accuracy: 1.0000\n",
      "Epoch 39/100\n",
      "18/18 [==============================] - 1s 33ms/step - loss: 117.4485 - accuracy: 1.0000 - val_loss: 72.3320 - val_accuracy: 1.0000\n",
      "Epoch 40/100\n",
      "18/18 [==============================] - 1s 33ms/step - loss: 123.4822 - accuracy: 1.0000 - val_loss: 88.8247 - val_accuracy: 1.0000\n",
      "Epoch 41/100\n",
      "18/18 [==============================] - 1s 34ms/step - loss: 119.8425 - accuracy: 1.0000 - val_loss: 161.4964 - val_accuracy: 1.0000\n",
      "Epoch 42/100\n",
      "18/18 [==============================] - 1s 33ms/step - loss: 100.0078 - accuracy: 1.0000 - val_loss: 74.5197 - val_accuracy: 1.0000\n",
      "Epoch 43/100\n",
      "18/18 [==============================] - 1s 32ms/step - loss: 126.7722 - accuracy: 1.0000 - val_loss: 117.1743 - val_accuracy: 1.0000\n",
      "Epoch 44/100\n",
      "18/18 [==============================] - 1s 33ms/step - loss: 111.1640 - accuracy: 1.0000 - val_loss: 107.2579 - val_accuracy: 1.0000\n",
      "Epoch 45/100\n",
      "18/18 [==============================] - 1s 33ms/step - loss: 101.2737 - accuracy: 1.0000 - val_loss: 76.5928 - val_accuracy: 1.0000\n",
      "Epoch 46/100\n",
      "18/18 [==============================] - 1s 32ms/step - loss: 111.2150 - accuracy: 1.0000 - val_loss: 109.0648 - val_accuracy: 1.0000\n",
      "Epoch 47/100\n",
      "18/18 [==============================] - 1s 32ms/step - loss: 191.2330 - accuracy: 1.0000 - val_loss: 80.1263 - val_accuracy: 1.0000\n",
      "Epoch 48/100\n",
      "18/18 [==============================] - 1s 32ms/step - loss: 138.3339 - accuracy: 1.0000 - val_loss: 81.6531 - val_accuracy: 1.0000\n",
      "Epoch 49/100\n",
      "18/18 [==============================] - 1s 32ms/step - loss: 137.3721 - accuracy: 1.0000 - val_loss: 78.8402 - val_accuracy: 1.0000\n",
      "Epoch 50/100\n",
      "18/18 [==============================] - 1s 33ms/step - loss: 110.1334 - accuracy: 1.0000 - val_loss: 117.1265 - val_accuracy: 1.0000\n",
      "Epoch 51/100\n",
      "18/18 [==============================] - 1s 32ms/step - loss: 106.8428 - accuracy: 1.0000 - val_loss: 68.4123 - val_accuracy: 1.0000\n",
      "Epoch 52/100\n",
      "18/18 [==============================] - 1s 34ms/step - loss: 146.9502 - accuracy: 1.0000 - val_loss: 83.5732 - val_accuracy: 1.0000\n",
      "Epoch 53/100\n",
      "18/18 [==============================] - 1s 33ms/step - loss: 108.0158 - accuracy: 1.0000 - val_loss: 81.1960 - val_accuracy: 1.0000\n",
      "Epoch 54/100\n",
      "18/18 [==============================] - 1s 32ms/step - loss: 98.5694 - accuracy: 1.0000 - val_loss: 103.6137 - val_accuracy: 1.0000\n",
      "Epoch 55/100\n",
      "18/18 [==============================] - 1s 32ms/step - loss: 105.1907 - accuracy: 1.0000 - val_loss: 76.7906 - val_accuracy: 1.0000\n",
      "Epoch 56/100\n",
      "18/18 [==============================] - 1s 32ms/step - loss: 101.8804 - accuracy: 1.0000 - val_loss: 93.3982 - val_accuracy: 1.0000\n",
      "Epoch 57/100\n",
      "18/18 [==============================] - 1s 34ms/step - loss: 105.2389 - accuracy: 1.0000 - val_loss: 107.7645 - val_accuracy: 1.0000\n",
      "Epoch 58/100\n",
      "18/18 [==============================] - 1s 35ms/step - loss: 111.8164 - accuracy: 1.0000 - val_loss: 78.9618 - val_accuracy: 1.0000\n",
      "Epoch 59/100\n",
      "18/18 [==============================] - 1s 34ms/step - loss: 158.4037 - accuracy: 1.0000 - val_loss: 97.0515 - val_accuracy: 1.0000\n",
      "Epoch 60/100\n",
      "18/18 [==============================] - 1s 33ms/step - loss: 100.9168 - accuracy: 1.0000 - val_loss: 120.7864 - val_accuracy: 1.0000\n",
      "Epoch 61/100\n",
      "18/18 [==============================] - 1s 33ms/step - loss: 126.9958 - accuracy: 1.0000 - val_loss: 77.0446 - val_accuracy: 1.0000\n",
      "Epoch 62/100\n",
      "18/18 [==============================] - 1s 35ms/step - loss: 111.2188 - accuracy: 1.0000 - val_loss: 76.7107 - val_accuracy: 1.0000\n",
      "Epoch 63/100\n",
      "18/18 [==============================] - 1s 33ms/step - loss: 99.9256 - accuracy: 1.0000 - val_loss: 91.3519 - val_accuracy: 1.0000\n",
      "Epoch 64/100\n",
      "18/18 [==============================] - 1s 34ms/step - loss: 109.5175 - accuracy: 1.0000 - val_loss: 153.3134 - val_accuracy: 1.0000\n",
      "Epoch 65/100\n",
      "18/18 [==============================] - 1s 33ms/step - loss: 117.9180 - accuracy: 1.0000 - val_loss: 167.8837 - val_accuracy: 1.0000\n",
      "Epoch 66/100\n",
      "18/18 [==============================] - 1s 34ms/step - loss: 143.4903 - accuracy: 1.0000 - val_loss: 100.2818 - val_accuracy: 1.0000\n",
      "Epoch 67/100\n",
      "18/18 [==============================] - 1s 33ms/step - loss: 107.5008 - accuracy: 1.0000 - val_loss: 199.0932 - val_accuracy: 1.0000\n",
      "Epoch 68/100\n",
      "18/18 [==============================] - 1s 33ms/step - loss: 146.9290 - accuracy: 1.0000 - val_loss: 100.7716 - val_accuracy: 1.0000\n",
      "Epoch 69/100\n",
      "18/18 [==============================] - 1s 34ms/step - loss: 114.6541 - accuracy: 1.0000 - val_loss: 82.4063 - val_accuracy: 1.0000\n",
      "Epoch 70/100\n",
      "18/18 [==============================] - 1s 33ms/step - loss: 102.5788 - accuracy: 1.0000 - val_loss: 72.4042 - val_accuracy: 1.0000\n",
      "Epoch 71/100\n",
      "18/18 [==============================] - 1s 34ms/step - loss: 102.9939 - accuracy: 1.0000 - val_loss: 95.5056 - val_accuracy: 1.0000\n",
      "Epoch 72/100\n",
      "18/18 [==============================] - 1s 35ms/step - loss: 106.9375 - accuracy: 1.0000 - val_loss: 90.9838 - val_accuracy: 1.0000\n",
      "Epoch 73/100\n",
      "18/18 [==============================] - 1s 35ms/step - loss: 108.3426 - accuracy: 1.0000 - val_loss: 78.2007 - val_accuracy: 1.0000\n",
      "Epoch 74/100\n",
      "18/18 [==============================] - 1s 35ms/step - loss: 102.5157 - accuracy: 1.0000 - val_loss: 72.6901 - val_accuracy: 1.0000\n",
      "Epoch 75/100\n",
      "18/18 [==============================] - 1s 35ms/step - loss: 121.7399 - accuracy: 1.0000 - val_loss: 79.6532 - val_accuracy: 1.0000\n",
      "Epoch 76/100\n",
      "18/18 [==============================] - 1s 35ms/step - loss: 110.1180 - accuracy: 1.0000 - val_loss: 76.2773 - val_accuracy: 1.0000\n",
      "Epoch 77/100\n",
      "18/18 [==============================] - 1s 33ms/step - loss: 108.9136 - accuracy: 1.0000 - val_loss: 79.4299 - val_accuracy: 1.0000\n",
      "Epoch 78/100\n",
      "18/18 [==============================] - 1s 32ms/step - loss: 91.1216 - accuracy: 1.0000 - val_loss: 84.0022 - val_accuracy: 1.0000\n",
      "Epoch 79/100\n",
      "18/18 [==============================] - 1s 34ms/step - loss: 105.8961 - accuracy: 1.0000 - val_loss: 84.7043 - val_accuracy: 1.0000\n",
      "Epoch 80/100\n",
      "18/18 [==============================] - 1s 32ms/step - loss: 115.9989 - accuracy: 1.0000 - val_loss: 78.4043 - val_accuracy: 1.0000\n",
      "Epoch 81/100\n",
      "18/18 [==============================] - 1s 33ms/step - loss: 126.0584 - accuracy: 1.0000 - val_loss: 69.9184 - val_accuracy: 1.0000\n",
      "Epoch 82/100\n",
      "18/18 [==============================] - 1s 33ms/step - loss: 127.3612 - accuracy: 1.0000 - val_loss: 71.8438 - val_accuracy: 1.0000\n",
      "Epoch 83/100\n",
      "18/18 [==============================] - 1s 33ms/step - loss: 107.4108 - accuracy: 1.0000 - val_loss: 86.1208 - val_accuracy: 1.0000\n",
      "Epoch 84/100\n",
      "18/18 [==============================] - 1s 33ms/step - loss: 113.8119 - accuracy: 1.0000 - val_loss: 77.6712 - val_accuracy: 1.0000\n",
      "Epoch 85/100\n",
      "18/18 [==============================] - 1s 32ms/step - loss: 112.2372 - accuracy: 1.0000 - val_loss: 75.6636 - val_accuracy: 1.0000\n",
      "Epoch 86/100\n",
      "18/18 [==============================] - 1s 33ms/step - loss: 112.0622 - accuracy: 1.0000 - val_loss: 81.6759 - val_accuracy: 1.0000\n",
      "Epoch 87/100\n",
      "18/18 [==============================] - 1s 33ms/step - loss: 108.2389 - accuracy: 1.0000 - val_loss: 78.3124 - val_accuracy: 1.0000\n",
      "Epoch 88/100\n",
      "18/18 [==============================] - 1s 33ms/step - loss: 113.0972 - accuracy: 1.0000 - val_loss: 73.6663 - val_accuracy: 1.0000\n",
      "Epoch 89/100\n",
      "18/18 [==============================] - 1s 33ms/step - loss: 170.0776 - accuracy: 1.0000 - val_loss: 97.3507 - val_accuracy: 1.0000\n",
      "Epoch 90/100\n",
      "18/18 [==============================] - 1s 33ms/step - loss: 116.6527 - accuracy: 1.0000 - val_loss: 101.4126 - val_accuracy: 1.0000\n",
      "Epoch 91/100\n",
      "18/18 [==============================] - 1s 34ms/step - loss: 113.0548 - accuracy: 1.0000 - val_loss: 80.2651 - val_accuracy: 1.0000\n",
      "Epoch 92/100\n",
      "18/18 [==============================] - 1s 34ms/step - loss: 112.3037 - accuracy: 1.0000 - val_loss: 74.1151 - val_accuracy: 1.0000\n",
      "Epoch 93/100\n",
      "18/18 [==============================] - 1s 33ms/step - loss: 100.2726 - accuracy: 1.0000 - val_loss: 72.3728 - val_accuracy: 1.0000\n",
      "Epoch 94/100\n",
      "18/18 [==============================] - 1s 32ms/step - loss: 94.9372 - accuracy: 1.0000 - val_loss: 89.2984 - val_accuracy: 1.0000\n",
      "Epoch 95/100\n",
      "18/18 [==============================] - 1s 32ms/step - loss: 116.6713 - accuracy: 1.0000 - val_loss: 74.3935 - val_accuracy: 1.0000\n",
      "Epoch 96/100\n",
      "18/18 [==============================] - 1s 33ms/step - loss: 117.1149 - accuracy: 1.0000 - val_loss: 134.2576 - val_accuracy: 1.0000\n",
      "Epoch 97/100\n",
      "18/18 [==============================] - 1s 32ms/step - loss: 139.7592 - accuracy: 1.0000 - val_loss: 88.6839 - val_accuracy: 1.0000\n",
      "Epoch 98/100\n",
      "18/18 [==============================] - 1s 32ms/step - loss: 158.8868 - accuracy: 1.0000 - val_loss: 75.1804 - val_accuracy: 1.0000\n",
      "Epoch 99/100\n",
      "18/18 [==============================] - 1s 32ms/step - loss: 107.1432 - accuracy: 1.0000 - val_loss: 68.0912 - val_accuracy: 1.0000\n",
      "Epoch 100/100\n",
      "18/18 [==============================] - 1s 33ms/step - loss: 106.1843 - accuracy: 1.0000 - val_loss: 79.7123 - val_accuracy: 1.0000\n"
     ]
    }
   ],
   "source": [
    "history = model.fit_generator(train_gen, epochs=100, validation_data=val_gen)"
   ],
   "metadata": {
    "collapsed": false,
    "pycharm": {
     "name": "#%%\n"
    }
   }
  },
  {
   "cell_type": "code",
   "execution_count": 286,
   "outputs": [
    {
     "data": {
      "text/plain": "<Figure size 640x480 with 1 Axes>",
      "image/png": "[encoded data removed]"
     },
     "metadata": {},
     "output_type": "display_data"
    },
    {
     "data": {
      "text/plain": "<Figure size 640x480 with 1 Axes>",
      "image/png": "[encoded data removed]"
     },
     "metadata": {},
     "output_type": "display_data"
    }
   ],
   "source": [
    "import matplotlib.pyplot as plt\n",
    "# Plot training & validation accuracy values\n",
    "plt.plot(history.history['accuracy'])\n",
    "plt.plot(history.history['val_accuracy'])\n",
    "plt.title('Model accuracy')\n",
    "plt.ylabel('Accuracy')\n",
    "plt.xlabel('Epoch')\n",
    "plt.legend(['Train', 'Validation'], loc='upper left')\n",
    "plt.show()\n",
    "\n",
    "# Plot training & validation loss values\n",
    "plt.plot(history.history['loss'])\n",
    "plt.plot(history.history['val_loss'])\n",
    "plt.title('Model loss')\n",
    "plt.ylabel('Loss')\n",
    "plt.xlabel('Epoch')\n",
    "plt.legend(['Train', 'Validation'], loc='upper left')\n",
    "plt.show()"
   ],
   "metadata": {
    "collapsed": false,
    "pycharm": {
     "name": "#%%\n"
    }
   }
  },
  {
   "cell_type": "code",
   "execution_count": 287,
   "outputs": [],
   "source": [
    "from keras.models import load_model\n",
    "model.save('best_model.h5')\n",
    "model = load_model('best_model.h5')"
   ],
   "metadata": {
    "collapsed": false,
    "pycharm": {
     "name": "#%%\n"
    }
   }
  },
  {
   "cell_type": "markdown",
   "source": [],
   "metadata": {
    "collapsed": false,
    "pycharm": {
     "name": "#%% md\n"
    }
   }
  },
  {
   "cell_type": "code",
   "execution_count": 288,
   "outputs": [
    {
     "data": {
      "text/plain": "         CD79B    MAP2K3    IMPDH1   SLC16A3     MPZL3     APOBR  \\\n68   93.588818  0.339882  0.106742  0.063115  0.209994  0.405637   \n6    92.959069  0.306382  0.212928  0.043256  0.246147  0.209731   \n43  115.432128  0.178215  0.162658  0.082723  0.077428  0.218388   \n26  100.910766  0.143180  0.156459  0.123661  0.255434  0.343546   \n76   64.528452  0.177659  0.130911  0.074132  0.569942  0.372773   \n77   62.306189  0.137076  0.103786  0.076917  0.490968  0.386528   \n3    93.960336  0.217792  0.213089  0.068701  0.239105  0.242411   \n35   81.791908  0.408726  0.070241  0.142420  0.252214  0.507746   \n51   92.441896  0.232539  0.174803  0.094846  0.360356  0.057367   \n\n                        path  \n68    data_jpeg/CoreID6.jpeg  \n6   data_jpeg/CoreID114.jpeg  \n43   data_jpeg/CoreID29.jpeg  \n26  data_jpeg/CoreID141.jpeg  \n76   data_jpeg/CoreID68.jpeg  \n77   data_jpeg/CoreID69.jpeg  \n3   data_jpeg/CoreID107.jpeg  \n35    data_jpeg/CoreID2.jpeg  \n51   data_jpeg/CoreID39.jpeg  ",
      "text/html": "<div>\n<style scoped>\n    .dataframe tbody tr th:only-of-type {\n        vertical-align: middle;\n    }\n\n    .dataframe tbody tr th {\n        vertical-align: top;\n    }\n\n    .dataframe thead th {\n        text-align: right;\n    }\n</style>\n<table border=\"1\" class=\"dataframe\">\n  <thead>\n    <tr style=\"text-align: right;\">\n      <th></th>\n      <th>CD79B</th>\n      <th>MAP2K3</th>\n      <th>IMPDH1</th>\n      <th>SLC16A3</th>\n      <th>MPZL3</th>\n      <th>APOBR</th>\n      <th>path</th>\n    </tr>\n  </thead>\n  <tbody>\n    <tr>\n      <th>68</th>\n      <td>93.588818</td>\n      <td>0.339882</td>\n      <td>0.106742</td>\n      <td>0.063115</td>\n      <td>0.209994</td>\n      <td>0.405637</td>\n      <td>data_jpeg/CoreID6.jpeg</td>\n    </tr>\n    <tr>\n      <th>6</th>\n      <td>92.959069</td>\n      <td>0.306382</td>\n      <td>0.212928</td>\n      <td>0.043256</td>\n      <td>0.246147</td>\n      <td>0.209731</td>\n      <td>data_jpeg/CoreID114.jpeg</td>\n    </tr>\n    <tr>\n      <th>43</th>\n      <td>115.432128</td>\n      <td>0.178215</td>\n      <td>0.162658</td>\n      <td>0.082723</td>\n      <td>0.077428</td>\n      <td>0.218388</td>\n      <td>data_jpeg/CoreID29.jpeg</td>\n    </tr>\n    <tr>\n      <th>26</th>\n      <td>100.910766</td>\n      <td>0.143180</td>\n      <td>0.156459</td>\n      <td>0.123661</td>\n      <td>0.255434</td>\n      <td>0.343546</td>\n      <td>data_jpeg/CoreID141.jpeg</td>\n    </tr>\n    <tr>\n      <th>76</th>\n      <td>64.528452</td>\n      <td>0.177659</td>\n      <td>0.130911</td>\n      <td>0.074132</td>\n      <td>0.569942</td>\n      <td>0.372773</td>\n      <td>data_jpeg/CoreID68.jpeg</td>\n    </tr>\n    <tr>\n      <th>77</th>\n      <td>62.306189</td>\n      <td>0.137076</td>\n      <td>0.103786</td>\n      <td>0.076917</td>\n      <td>0.490968</td>\n      <td>0.386528</td>\n      <td>data_jpeg/CoreID69.jpeg</td>\n    </tr>\n    <tr>\n      <th>3</th>\n      <td>93.960336</td>\n      <td>0.217792</td>\n      <td>0.213089</td>\n      <td>0.068701</td>\n      <td>0.239105</td>\n      <td>0.242411</td>\n      <td>data_jpeg/CoreID107.jpeg</td>\n    </tr>\n    <tr>\n      <th>35</th>\n      <td>81.791908</td>\n      <td>0.408726</td>\n      <td>0.070241</td>\n      <td>0.142420</td>\n      <td>0.252214</td>\n      <td>0.507746</td>\n      <td>data_jpeg/CoreID2.jpeg</td>\n    </tr>\n    <tr>\n      <th>51</th>\n      <td>92.441896</td>\n      <td>0.232539</td>\n      <td>0.174803</td>\n      <td>0.094846</td>\n      <td>0.360356</td>\n      <td>0.057367</td>\n      <td>data_jpeg/CoreID39.jpeg</td>\n    </tr>\n  </tbody>\n</table>\n</div>"
     },
     "execution_count": 288,
     "metadata": {},
     "output_type": "execute_result"
    }
   ],
   "source": [
    "#run the model on the test data\n",
    "test_df"
   ],
   "metadata": {
    "collapsed": false,
    "pycharm": {
     "name": "#%%\n"
    }
   }
  },
  {
   "cell_type": "code",
   "execution_count": 289,
   "outputs": [
    {
     "name": "stdout",
     "output_type": "stream",
     "text": [
      "Found 9 validated image filenames.\n"
     ]
    }
   ],
   "source": [
    "test_df['path'] = test_df['path']\n",
    "test_gen = datagen.flow_from_dataframe(test_df,directory='', x_col='path', y_col=['CD79B', 'MAP2K3', 'IMPDH1', 'SLC16A3', 'MPZL3', 'APOBR'], target_size=(128, 128), class_mode='raw', batch_size=1)"
   ],
   "metadata": {
    "collapsed": false,
    "pycharm": {
     "name": "#%%\n"
    }
   }
  },
  {
   "cell_type": "code",
   "execution_count": 290,
   "outputs": [
    {
     "name": "stdout",
     "output_type": "stream",
     "text": [
      "1/1 [==============================] - 0s 68ms/step\n",
      "1/1 [==============================] - 0s 21ms/step\n",
      "1/1 [==============================] - 0s 5ms/step\n",
      "1/1 [==============================] - 0s 16ms/step\n",
      "1/1 [==============================] - 0s 31ms/step\n",
      "1/1 [==============================] - 0s 16ms/step\n",
      "1/1 [==============================] - 0s 26ms/step\n",
      "1/1 [==============================] - 0s 10ms/step\n",
      "1/1 [==============================] - 0s 31ms/step\n",
      "1/1 [==============================] - 0s 31ms/step\n",
      "1/1 [==============================] - 0s 16ms/step\n",
      "1/1 [==============================] - 0s 16ms/step\n",
      "1/1 [==============================] - 0s 20ms/step\n",
      "1/1 [==============================] - 0s 1ms/step\n",
      "1/1 [==============================] - 0s 16ms/step\n",
      "1/1 [==============================] - 0s 31ms/step\n",
      "1/1 [==============================] - 0s 16ms/step\n",
      "1/1 [==============================] - 0s 16ms/step\n",
      "mean r2 = 0.9661524307287274\n"
     ]
    }
   ],
   "source": [
    "#calculate r^2\n",
    "from sklearn.metrics import r2_score\n",
    "import numpy as np\n",
    "r2 = []\n",
    "y_arr = []\n",
    "pred_arr = []\n",
    "for i in range(0, len(test_df)):\n",
    "    x, y = test_gen.next()\n",
    "    y_arr.append(y)\n",
    "    pred_arr.append(model.predict(x)[0])\n",
    "    r2.append(r2_score(y[0], model.predict(x)[0]))\n",
    "print('mean r2 = {}'.format(np.mean(r2)))"
   ],
   "metadata": {
    "collapsed": false,
    "pycharm": {
     "name": "#%%#run inference\n"
    }
   }
  },
  {
   "cell_type": "code",
   "execution_count": 291,
   "outputs": [
    {
     "name": "stdout",
     "output_type": "stream",
     "text": [
      "1/1 [==============================] - 0s 16ms/step\n",
      "1/1 [==============================] - 0s 31ms/step\n",
      "1/1 [==============================] - 0s 16ms/step\n",
      "1/1 [==============================] - 0s 31ms/step\n",
      "1/1 [==============================] - 0s 16ms/step\n",
      "1/1 [==============================] - 0s 16ms/step\n",
      "1/1 [==============================] - 0s 16ms/step\n",
      "1/1 [==============================] - 0s 16ms/step\n",
      "1/1 [==============================] - 0s 16ms/step\n"
     ]
    }
   ],
   "source": [
    "ind = 0\n",
    "gt_array = []\n",
    "pred_1_arr = []\n",
    "diff_arr = []\n",
    "for i in range(0, len(test_df)):\n",
    "    x, y = test_gen.next()\n",
    "    gt = y[0][3]\n",
    "    pred1 = model.predict(x)[0][3]\n",
    "    gt_array.append(gt)\n",
    "    pred_1_arr.append(pred1)\n",
    "    diff_arr.append(gt - pred1)"
   ],
   "metadata": {
    "collapsed": false,
    "pycharm": {
     "name": "#%%\n"
    }
   }
  },
  {
   "cell_type": "code",
   "execution_count": 292,
   "outputs": [
    {
     "name": "stdout",
     "output_type": "stream",
     "text": [
      "ground truth: [0.07691657791831781, 0.0827230642988534, 0.12366141568574936, 0.07413186901487039, 0.06311482370276042, 0.04325596051210809, 0.09484625031328528, 0.06870068740890493, 0.1424203400417687] \n",
      "predicted: [0.071213424, -0.15392548, -0.012372319, 0.086432874, 0.06786865, -0.12105733, 0.018214878, -0.15955311, 0.12778252] \n",
      "r2: -20.14496913886252 \n",
      "diff: [0.005703153712537781, 0.23664854275725794, 0.1360337343410018, -0.012301005187857886, -0.004753826256803789, 0.16431329207415032, 0.07663137261844008, 0.22825379800842277, 0.014637816409719145]\n"
     ]
    }
   ],
   "source": [
    "r2_score_1 = r2_score(gt_array, pred_1_arr)\n",
    "print(\"ground truth: {} \\npredicted: {} \\nr2: {} \\ndiff: {}\".format(gt_array, pred_1_arr, r2_score_1, diff_arr))"
   ],
   "metadata": {
    "collapsed": false,
    "pycharm": {
     "name": "#%%\n"
    }
   }
  },
  {
   "cell_type": "code",
   "execution_count": 293,
   "outputs": [
    {
     "name": "stdout",
     "output_type": "stream",
     "text": [
      "<class 'numpy.ndarray'>\n",
      "1/1 [==============================] - 0s 16ms/step\n",
      "1/1 [==============================] - 0s 16ms/step\n",
      "[ 8.3364510e+01  2.0398954e-01 -2.6136419e-02  6.9697559e-02\n",
      " -1.6932909e-01  2.4386500e-01]\n",
      "1/1 [==============================] - 0s 16ms/step\n",
      "<class 'numpy.ndarray'>\n",
      "1/1 [==============================] - 0s 16ms/step\n",
      "1/1 [==============================] - 0s 16ms/step\n",
      "[ 8.5479034e+01  1.5177849e-01 -1.2815733e-02 -3.0950848e-02\n",
      " -1.4840548e-01  3.2124400e-01]\n",
      "1/1 [==============================] - 0s 16ms/step\n",
      "<class 'numpy.ndarray'>\n",
      "1/1 [==============================] - 0s 16ms/step\n",
      "1/1 [==============================] - 0s 16ms/step\n",
      "[ 8.2113930e+01  2.0182541e-01 -2.4839422e-02  1.3829345e-01\n",
      " -1.8698828e-01  2.0287918e-01]\n",
      "1/1 [==============================] - 0s 16ms/step\n",
      "<class 'numpy.ndarray'>\n",
      "1/1 [==============================] - 0s 16ms/step\n",
      "1/1 [==============================] - 0s 16ms/step\n",
      "[ 8.0159073e+01  1.9880441e-01 -3.7327547e-02  2.6749548e-02\n",
      " -1.5191405e-01  2.7434504e-01]\n",
      "1/1 [==============================] - 0s 16ms/step\n",
      "<class 'numpy.ndarray'>\n",
      "1/1 [==============================] - 0s 31ms/step\n",
      "1/1 [==============================] - 0s 31ms/step\n",
      "[ 8.8802505e+01  1.1566999e-01  2.5580334e-04 -1.4447480e-01\n",
      " -1.4644282e-01  4.3952596e-01]\n",
      "1/1 [==============================] - 0s 16ms/step\n",
      "<class 'numpy.ndarray'>\n",
      "1/1 [==============================] - 0s 16ms/step\n",
      "1/1 [==============================] - 0s 16ms/step\n",
      "[ 8.2760391e+01  1.6475847e-01 -7.2784619e-03  1.9520458e-02\n",
      " -1.4978449e-01  2.7378333e-01]\n",
      "1/1 [==============================] - 0s 16ms/step\n",
      "<class 'numpy.ndarray'>\n",
      "1/1 [==============================] - 0s 31ms/step\n",
      "1/1 [==============================] - 0s 16ms/step\n",
      "[ 8.1992294e+01  1.9642881e-01 -3.5166282e-02  7.6428592e-02\n",
      " -1.8099634e-01  2.3946200e-01]\n",
      "1/1 [==============================] - 0s 16ms/step\n",
      "<class 'numpy.ndarray'>\n",
      "1/1 [==============================] - 0s 16ms/step\n",
      "1/1 [==============================] - 0s 16ms/step\n",
      "[ 8.3226265e+01  2.0455244e-01 -2.9702207e-02  9.2081726e-02\n",
      " -1.8626396e-01  2.3073278e-01]\n",
      "1/1 [==============================] - 0s 16ms/step\n",
      "<class 'numpy.ndarray'>\n",
      "1/1 [==============================] - 0s 16ms/step\n",
      "1/1 [==============================] - 0s 16ms/step\n",
      "[ 8.6027466e+01  1.2808636e-01  3.2031338e-03 -1.4733297e-01\n",
      " -1.4452736e-01  4.4978976e-01]\n",
      "1/1 [==============================] - 0s 16ms/step\n"
     ]
    },
    {
     "data": {
      "text/plain": "<Figure size 640x480 with 1 Axes>",
      "image/png": "[encoded data removed]"
     },
     "metadata": {},
     "output_type": "display_data"
    }
   ],
   "source": [
    "import matplotlib.pyplot as plt\n",
    "\n",
    "# Calculate the mean r2 score\n",
    "r2 = []\n",
    "y_arr = []\n",
    "pred_arr = []\n",
    "for i in range(0, len(test_df)):\n",
    "    x, y = test_gen.next()\n",
    "    print(type(x))\n",
    "    y_arr.append(y[0])\n",
    "    pred_arr.append(model.predict(x)[0])\n",
    "    print(model.predict(x)[0])\n",
    "    r2.append(r2_score(y[0], model.predict(x)[0]))\n",
    "mean_r2 = np.mean(r2)\n",
    "\n",
    "# Plot the points\n",
    "plt.scatter(y_arr, pred_arr)\n",
    "\n",
    "# Add a title and labels to the plot\n",
    "plt.title('Predicted vs True Values (r2 = {:.2f})'.format(mean_r2))\n",
    "plt.xlabel('True Values')\n",
    "plt.ylabel('Predicted Values')\n",
    "\n",
    "# Show the plot\n",
    "plt.show()"
   ],
   "metadata": {
    "collapsed": false,
    "pycharm": {
     "name": "#%%\n"
    }
   }
  },
  {
   "cell_type": "code",
   "execution_count": 294,
   "outputs": [],
   "source": [
    "# run inference on random picture\n",
    "import numpy as np\n",
    "import matplotlib.pyplot as plt\n",
    "from keras.preprocessing import image\n",
    "from keras.models import load_model\n",
    "import os\n",
    "import pandas as pd\n",
    "import cv2"
   ],
   "metadata": {
    "collapsed": false,
    "pycharm": {
     "name": "#%%\n"
    }
   }
  },
  {
   "cell_type": "code",
   "execution_count": 295,
   "outputs": [],
   "source": [
    "image_path = '../data/webscraped_labeled/primary0.jpg'"
   ],
   "metadata": {
    "collapsed": false,
    "pycharm": {
     "name": "#%%\n"
    }
   }
  },
  {
   "cell_type": "code",
   "execution_count": 296,
   "outputs": [
    {
     "name": "stdout",
     "output_type": "stream",
     "text": [
      "1/1 [==============================] - 0s 31ms/step\n",
      "[[ 7.4046463e+01  1.5276578e-01 -2.4773857e-02  7.1525514e-02\n",
      "  -1.4497130e-01  2.2121547e-01]]\n"
     ]
    }
   ],
   "source": [
    "# Load the image\n",
    "image = cv2.imread(image_path)\n",
    "\n",
    "# Resize the image to the expected size\n",
    "expected_size = (128, 128\n",
    "                 )\n",
    "image = cv2.resize(image, expected_size)\n",
    "\n",
    "# Preprocess the image\n",
    "preprocessed_image = image / 255.\n",
    "\n",
    "# Add an extra dimension to represent the batch size\n",
    "preprocessed_image = np.expand_dims(preprocessed_image, axis=0)\n",
    "\n",
    "# Run the image through the model\n",
    "prediction = model.predict(preprocessed_image)\n",
    "print(prediction)"
   ],
   "metadata": {
    "collapsed": false,
    "pycharm": {
     "name": "#%%\n"
    }
   }
  },
  {
   "cell_type": "code",
   "execution_count": 296,
   "outputs": [],
   "source": [],
   "metadata": {
    "collapsed": false,
    "pycharm": {
     "name": "#%%\n"
    }
   }
  }
 ],
 "metadata": {
  "kernelspec": {
   "display_name": "Python 3",
   "language": "python",
   "name": "python3"
  },
  "language_info": {
   "codemirror_mode": {
    "name": "ipython",
    "version": 2
   },
   "file_extension": ".py",
   "mimetype": "text/x-python",
   "name": "python",
   "nbconvert_exporter": "python",
   "pygments_lexer": "ipython2",
   "version": "2.7.6"
  }
 },
 "nbformat": 4,
 "nbformat_minor": 0
}