{
 "cells": [
  {
   "cell_type": "code",
   "execution_count": 15,
   "outputs": [],
   "source": [
    "# Import required libraries\n",
    "from keras.layers import Input, Dense, Conv2D, MaxPooling2D, Flatten\n",
    "from keras.models import Model\n",
    "import tensorflow as tf\n",
    "\n",
    "from keras.preprocessing.image import ImageDataGenerator\n",
    "import pandas as pd\n",
    "from sklearn.model_selection import train_test_split"
   ],
   "metadata": {
    "collapsed": false,
    "pycharm": {
     "name": "#%%\n"
    }
   }
  },
  {
   "cell_type": "code",
   "execution_count": 46,
   "outputs": [],
   "source": [
    "from sklearn.model_selection import train_test_split\n",
    "import os\n",
    "import pandas as pd\n",
    "from keras.preprocessing.image import ImageDataGenerator\n",
    "\n",
    "# Load the image and RNA expression data\n",
    "images = [image for image in os.listdir('data')]"
   ],
   "metadata": {
    "collapsed": false,
    "pycharm": {
     "name": "#%%\n"
    }
   }
  },
  {
   "cell_type": "code",
   "execution_count": 50,
   "outputs": [
    {
     "data": {
      "text/plain": "        CD79B     MAP2K3      IMPDH1     SLC16A3       MPZL3      APOBR  \\\n0   85.881503  72.668964   86.982548   71.567919  102.397177  56.153291   \n1   84.038087  65.603926   85.122450  101.387886  100.845705  50.422852   \n2   82.927907  70.431921  100.535887  130.071854   89.175900  52.823941   \n3   93.960336  72.446053   92.204068   66.299116   74.202321  39.076962   \n4  113.968536  73.458393   94.793735   49.152307   54.013524  28.627168   \n\n                 path  \n0  data/CoreID101.tif  \n1  data/CoreID102.tif  \n2  data/CoreID105.tif  \n3  data/CoreID107.tif  \n4  data/CoreID108.tif  ",
      "text/html": "<div>\n<style scoped>\n    .dataframe tbody tr th:only-of-type {\n        vertical-align: middle;\n    }\n\n    .dataframe tbody tr th {\n        vertical-align: top;\n    }\n\n    .dataframe thead th {\n        text-align: right;\n    }\n</style>\n<table border=\"1\" class=\"dataframe\">\n  <thead>\n    <tr style=\"text-align: right;\">\n      <th></th>\n      <th>CD79B</th>\n      <th>MAP2K3</th>\n      <th>IMPDH1</th>\n      <th>SLC16A3</th>\n      <th>MPZL3</th>\n      <th>APOBR</th>\n      <th>path</th>\n    </tr>\n  </thead>\n  <tbody>\n    <tr>\n      <th>0</th>\n      <td>85.881503</td>\n      <td>72.668964</td>\n      <td>86.982548</td>\n      <td>71.567919</td>\n      <td>102.397177</td>\n      <td>56.153291</td>\n      <td>data/CoreID101.tif</td>\n    </tr>\n    <tr>\n      <th>1</th>\n      <td>84.038087</td>\n      <td>65.603926</td>\n      <td>85.122450</td>\n      <td>101.387886</td>\n      <td>100.845705</td>\n      <td>50.422852</td>\n      <td>data/CoreID102.tif</td>\n    </tr>\n    <tr>\n      <th>2</th>\n      <td>82.927907</td>\n      <td>70.431921</td>\n      <td>100.535887</td>\n      <td>130.071854</td>\n      <td>89.175900</td>\n      <td>52.823941</td>\n      <td>data/CoreID105.tif</td>\n    </tr>\n    <tr>\n      <th>3</th>\n      <td>93.960336</td>\n      <td>72.446053</td>\n      <td>92.204068</td>\n      <td>66.299116</td>\n      <td>74.202321</td>\n      <td>39.076962</td>\n      <td>data/CoreID107.tif</td>\n    </tr>\n    <tr>\n      <th>4</th>\n      <td>113.968536</td>\n      <td>73.458393</td>\n      <td>94.793735</td>\n      <td>49.152307</td>\n      <td>54.013524</td>\n      <td>28.627168</td>\n      <td>data/CoreID108.tif</td>\n    </tr>\n  </tbody>\n</table>\n</div>"
     },
     "execution_count": 50,
     "metadata": {},
     "output_type": "execute_result"
    }
   ],
   "source": [
    "# Load the image and RNA expression data\n",
    "expression_data = pd.read_csv('df_train.csv')\n",
    "expression_data['path'] = 'data/' + expression_data['path']\n",
    "expression_data.head()"
   ],
   "metadata": {
    "collapsed": false,
    "pycharm": {
     "name": "#%%\n"
    }
   }
  },
  {
   "cell_type": "code",
   "execution_count": 51,
   "outputs": [
    {
     "data": {
      "text/plain": "        CD79B    MAP2K3    IMPDH1   SLC16A3     MPZL3     APOBR  \\\n0   85.881503  0.245286  0.209623  0.081633  0.460839  0.515830   \n1   84.038087  0.183260  0.199694  0.141156  0.450343  0.434784   \n2   82.927907  0.225646  0.281969  0.198413  0.371402  0.468743   \n3   93.960336  0.243329  0.237495  0.071116  0.270112  0.274317   \n4  113.968536  0.252217  0.251318  0.036889  0.133543  0.126524   \n\n                 path  \n0  data/CoreID101.tif  \n1  data/CoreID102.tif  \n2  data/CoreID105.tif  \n3  data/CoreID107.tif  \n4  data/CoreID108.tif  ",
      "text/html": "<div>\n<style scoped>\n    .dataframe tbody tr th:only-of-type {\n        vertical-align: middle;\n    }\n\n    .dataframe tbody tr th {\n        vertical-align: top;\n    }\n\n    .dataframe thead th {\n        text-align: right;\n    }\n</style>\n<table border=\"1\" class=\"dataframe\">\n  <thead>\n    <tr style=\"text-align: right;\">\n      <th></th>\n      <th>CD79B</th>\n      <th>MAP2K3</th>\n      <th>IMPDH1</th>\n      <th>SLC16A3</th>\n      <th>MPZL3</th>\n      <th>APOBR</th>\n      <th>path</th>\n    </tr>\n  </thead>\n  <tbody>\n    <tr>\n      <th>0</th>\n      <td>85.881503</td>\n      <td>0.245286</td>\n      <td>0.209623</td>\n      <td>0.081633</td>\n      <td>0.460839</td>\n      <td>0.515830</td>\n      <td>data/CoreID101.tif</td>\n    </tr>\n    <tr>\n      <th>1</th>\n      <td>84.038087</td>\n      <td>0.183260</td>\n      <td>0.199694</td>\n      <td>0.141156</td>\n      <td>0.450343</td>\n      <td>0.434784</td>\n      <td>data/CoreID102.tif</td>\n    </tr>\n    <tr>\n      <th>2</th>\n      <td>82.927907</td>\n      <td>0.225646</td>\n      <td>0.281969</td>\n      <td>0.198413</td>\n      <td>0.371402</td>\n      <td>0.468743</td>\n      <td>data/CoreID105.tif</td>\n    </tr>\n    <tr>\n      <th>3</th>\n      <td>93.960336</td>\n      <td>0.243329</td>\n      <td>0.237495</td>\n      <td>0.071116</td>\n      <td>0.270112</td>\n      <td>0.274317</td>\n      <td>data/CoreID107.tif</td>\n    </tr>\n    <tr>\n      <th>4</th>\n      <td>113.968536</td>\n      <td>0.252217</td>\n      <td>0.251318</td>\n      <td>0.036889</td>\n      <td>0.133543</td>\n      <td>0.126524</td>\n      <td>data/CoreID108.tif</td>\n    </tr>\n  </tbody>\n</table>\n</div>"
     },
     "execution_count": 51,
     "metadata": {},
     "output_type": "execute_result"
    }
   ],
   "source": [
    "# Separate the gene expression values from the other columns\n",
    "expression_values = expression_data.iloc[:, 1:-1]\n",
    "\n",
    "# Get the minimum and maximum values for each gene\n",
    "min_values = expression_values.min(axis=0)\n",
    "max_values = expression_values.max(axis=0)\n",
    "\n",
    "# Shift the expression values so the minimum is zero\n",
    "expression_values = expression_values - min_values\n",
    "\n",
    "# Normalize each gene's expression values using Min-Max normalization\n",
    "normalized_expression_values = expression_values / max_values\n",
    "\n",
    "# Add the normalized values back to the original dataframe\n",
    "expression_data.iloc[:, 1:-1] = normalized_expression_values\n",
    "\n",
    "expression_data.head()"
   ],
   "metadata": {
    "collapsed": false,
    "pycharm": {
     "name": "#%%\n"
    }
   }
  },
  {
   "cell_type": "code",
   "execution_count": 52,
   "outputs": [],
   "source": [
    "# Define the CNN model\n",
    "input_img = Input(shape=(128, 128, 3))\n",
    "x = Conv2D(32, (3, 3), activation='relu', padding='same')(input_img)\n",
    "x = MaxPooling2D((2, 2), padding='same')(x)\n",
    "x = Conv2D(64, (3, 3), activation='relu', padding='same')(x)\n",
    "x = MaxPooling2D((2, 2), padding='same')(x)\n",
    "x = Conv2D(128, (3, 3), activation='relu', padding='same')(x)\n",
    "x = MaxPooling2D((2, 2), padding='same')(x)\n",
    "x = Flatten()(x)"
   ],
   "metadata": {
    "collapsed": false,
    "pycharm": {
     "name": "#%%\n"
    }
   }
  },
  {
   "cell_type": "code",
   "execution_count": 53,
   "outputs": [],
   "source": [
    "# Define the FCN model\n",
    "y = Dense(256, activation='relu')(x)\n",
    "y = Dense(128, activation='relu')(y)\n",
    "output = Dense(6, activation='linear')(y)"
   ],
   "metadata": {
    "collapsed": false,
    "pycharm": {
     "name": "#%%\n"
    }
   }
  },
  {
   "cell_type": "code",
   "execution_count": 54,
   "outputs": [],
   "source": [
    "# Combine the CNN and FCN into a single model\n",
    "model = Model(input_img, output)\n",
    "model.compile(optimizer='adam', loss='mean_squared_error', metrics=['accuracy'])"
   ],
   "metadata": {
    "collapsed": false,
    "pycharm": {
     "name": "#%%\n"
    }
   }
  },
  {
   "cell_type": "code",
   "execution_count": 55,
   "outputs": [],
   "source": [
    "# define the image data generator\n",
    "datagen = ImageDataGenerator(rescale=1./255)"
   ],
   "metadata": {
    "collapsed": false,
    "pycharm": {
     "name": "#%%\n"
    }
   }
  },
  {
   "cell_type": "code",
   "execution_count": 56,
   "outputs": [
    {
     "name": "stdout",
     "output_type": "stream",
     "text": [
      "[]\n"
     ]
    }
   ],
   "source": [
    "from sklearn.model_selection import train_test_split\n",
    "\n",
    "# split the data into train and validation sets\n",
    "train_df, val_df = train_test_split(expression_data, test_size=0.3, random_state=42)\n",
    "#make test split\n",
    "val_df, test_df = train_test_split(val_df, test_size=0.3, random_state=42)\n",
    "print(model.metrics_names)"
   ],
   "metadata": {
    "collapsed": false,
    "pycharm": {
     "name": "#%%\n"
    }
   }
  },
  {
   "cell_type": "code",
   "execution_count": 57,
   "outputs": [
    {
     "name": "stdout",
     "output_type": "stream",
     "text": [
      "Found 69 validated image filenames.\n",
      "Found 21 validated image filenames.\n",
      "Epoch 1/100\n"
     ]
    },
    {
     "name": "stderr",
     "output_type": "stream",
     "text": [
      "C:\\Users\\sathy\\AppData\\Local\\Temp\\ipykernel_14800\\3710524361.py:5: UserWarning: `Model.fit_generator` is deprecated and will be removed in a future version. Please use `Model.fit`, which supports generators.\n",
      "  history = model.fit_generator(train_gen, epochs=100, validation_data=val_gen)\n"
     ]
    },
    {
     "name": "stdout",
     "output_type": "stream",
     "text": [
      "3/3 [==============================] - 1s 164ms/step - loss: 1234.2380 - accuracy: 0.5362 - val_loss: 758.2899 - val_accuracy: 1.0000\n",
      "Epoch 2/100\n",
      "3/3 [==============================] - 0s 125ms/step - loss: 531.4330 - accuracy: 1.0000 - val_loss: 220.0271 - val_accuracy: 1.0000\n",
      "Epoch 3/100\n",
      "3/3 [==============================] - 0s 125ms/step - loss: 154.8244 - accuracy: 1.0000 - val_loss: 534.6841 - val_accuracy: 1.0000\n",
      "Epoch 4/100\n",
      "3/3 [==============================] - 0s 86ms/step - loss: 362.0620 - accuracy: 1.0000 - val_loss: 478.7694 - val_accuracy: 1.0000\n",
      "Epoch 5/100\n",
      "3/3 [==============================] - 0s 125ms/step - loss: 170.2220 - accuracy: 1.0000 - val_loss: 176.6243 - val_accuracy: 1.0000\n",
      "Epoch 6/100\n",
      "3/3 [==============================] - 0s 94ms/step - loss: 184.1277 - accuracy: 1.0000 - val_loss: 212.9443 - val_accuracy: 1.0000\n",
      "Epoch 7/100\n",
      "3/3 [==============================] - 0s 86ms/step - loss: 147.2725 - accuracy: 1.0000 - val_loss: 199.6944 - val_accuracy: 1.0000\n",
      "Epoch 8/100\n",
      "3/3 [==============================] - 0s 86ms/step - loss: 111.8713 - accuracy: 1.0000 - val_loss: 315.6596 - val_accuracy: 1.0000\n",
      "Epoch 9/100\n",
      "3/3 [==============================] - 0s 125ms/step - loss: 138.7674 - accuracy: 1.0000 - val_loss: 198.0476 - val_accuracy: 1.0000\n",
      "Epoch 10/100\n",
      "3/3 [==============================] - 0s 125ms/step - loss: 101.9207 - accuracy: 1.0000 - val_loss: 150.6476 - val_accuracy: 1.0000\n",
      "Epoch 11/100\n",
      "3/3 [==============================] - 0s 94ms/step - loss: 108.9279 - accuracy: 1.0000 - val_loss: 147.4484 - val_accuracy: 1.0000\n",
      "Epoch 12/100\n",
      "3/3 [==============================] - 0s 133ms/step - loss: 110.2883 - accuracy: 1.0000 - val_loss: 253.8948 - val_accuracy: 1.0000\n",
      "Epoch 13/100\n",
      "3/3 [==============================] - 0s 102ms/step - loss: 134.3342 - accuracy: 1.0000 - val_loss: 252.8468 - val_accuracy: 1.0000\n",
      "Epoch 14/100\n",
      "3/3 [==============================] - 0s 86ms/step - loss: 113.1509 - accuracy: 1.0000 - val_loss: 151.5040 - val_accuracy: 1.0000\n",
      "Epoch 15/100\n",
      "3/3 [==============================] - 0s 102ms/step - loss: 103.8763 - accuracy: 1.0000 - val_loss: 148.9289 - val_accuracy: 1.0000\n",
      "Epoch 16/100\n",
      "3/3 [==============================] - 0s 133ms/step - loss: 85.4261 - accuracy: 1.0000 - val_loss: 174.6309 - val_accuracy: 1.0000\n",
      "Epoch 17/100\n",
      "3/3 [==============================] - 0s 86ms/step - loss: 88.5972 - accuracy: 1.0000 - val_loss: 218.6151 - val_accuracy: 1.0000\n",
      "Epoch 18/100\n",
      "3/3 [==============================] - 0s 133ms/step - loss: 88.6208 - accuracy: 1.0000 - val_loss: 146.9991 - val_accuracy: 1.0000\n",
      "Epoch 19/100\n",
      "3/3 [==============================] - 0s 94ms/step - loss: 98.8130 - accuracy: 1.0000 - val_loss: 145.2013 - val_accuracy: 1.0000\n",
      "Epoch 20/100\n",
      "3/3 [==============================] - 0s 94ms/step - loss: 82.8696 - accuracy: 1.0000 - val_loss: 181.4118 - val_accuracy: 1.0000\n",
      "Epoch 21/100\n",
      "3/3 [==============================] - 0s 94ms/step - loss: 88.0670 - accuracy: 1.0000 - val_loss: 176.1721 - val_accuracy: 1.0000\n",
      "Epoch 22/100\n",
      "3/3 [==============================] - 0s 94ms/step - loss: 81.2616 - accuracy: 1.0000 - val_loss: 157.5506 - val_accuracy: 1.0000\n",
      "Epoch 23/100\n",
      "3/3 [==============================] - 0s 94ms/step - loss: 80.7981 - accuracy: 1.0000 - val_loss: 153.6818 - val_accuracy: 1.0000\n",
      "Epoch 24/100\n",
      "3/3 [==============================] - 0s 102ms/step - loss: 82.0779 - accuracy: 1.0000 - val_loss: 171.8353 - val_accuracy: 1.0000\n",
      "Epoch 25/100\n",
      "3/3 [==============================] - 0s 94ms/step - loss: 82.8098 - accuracy: 1.0000 - val_loss: 159.7309 - val_accuracy: 1.0000\n",
      "Epoch 26/100\n",
      "3/3 [==============================] - 0s 141ms/step - loss: 86.7989 - accuracy: 1.0000 - val_loss: 141.2582 - val_accuracy: 1.0000\n",
      "Epoch 27/100\n",
      "3/3 [==============================] - 0s 141ms/step - loss: 87.2003 - accuracy: 1.0000 - val_loss: 150.6086 - val_accuracy: 1.0000\n",
      "Epoch 28/100\n",
      "3/3 [==============================] - 0s 102ms/step - loss: 86.9385 - accuracy: 1.0000 - val_loss: 205.1754 - val_accuracy: 1.0000\n",
      "Epoch 29/100\n",
      "3/3 [==============================] - 0s 94ms/step - loss: 94.6425 - accuracy: 1.0000 - val_loss: 155.5406 - val_accuracy: 1.0000\n",
      "Epoch 30/100\n",
      "3/3 [==============================] - 0s 94ms/step - loss: 86.0310 - accuracy: 1.0000 - val_loss: 138.9907 - val_accuracy: 1.0000\n",
      "Epoch 31/100\n",
      "3/3 [==============================] - 0s 133ms/step - loss: 93.1738 - accuracy: 1.0000 - val_loss: 156.1226 - val_accuracy: 1.0000\n",
      "Epoch 32/100\n",
      "3/3 [==============================] - 0s 94ms/step - loss: 82.7481 - accuracy: 1.0000 - val_loss: 174.7713 - val_accuracy: 1.0000\n",
      "Epoch 33/100\n",
      "3/3 [==============================] - 0s 117ms/step - loss: 81.9364 - accuracy: 1.0000 - val_loss: 150.7531 - val_accuracy: 1.0000\n",
      "Epoch 34/100\n",
      "3/3 [==============================] - 0s 133ms/step - loss: 82.6099 - accuracy: 1.0000 - val_loss: 167.7858 - val_accuracy: 1.0000\n",
      "Epoch 35/100\n",
      "3/3 [==============================] - 0s 102ms/step - loss: 79.4548 - accuracy: 1.0000 - val_loss: 138.9899 - val_accuracy: 1.0000\n",
      "Epoch 36/100\n",
      "3/3 [==============================] - 0s 94ms/step - loss: 87.0128 - accuracy: 1.0000 - val_loss: 137.5794 - val_accuracy: 1.0000\n",
      "Epoch 37/100\n",
      "3/3 [==============================] - 0s 125ms/step - loss: 86.3871 - accuracy: 1.0000 - val_loss: 199.7118 - val_accuracy: 1.0000\n",
      "Epoch 38/100\n",
      "3/3 [==============================] - 0s 94ms/step - loss: 93.6195 - accuracy: 1.0000 - val_loss: 158.8972 - val_accuracy: 1.0000\n",
      "Epoch 39/100\n",
      "3/3 [==============================] - 0s 125ms/step - loss: 80.4407 - accuracy: 1.0000 - val_loss: 136.2688 - val_accuracy: 1.0000\n",
      "Epoch 40/100\n",
      "3/3 [==============================] - 0s 102ms/step - loss: 84.3127 - accuracy: 1.0000 - val_loss: 145.5935 - val_accuracy: 1.0000\n",
      "Epoch 41/100\n",
      "3/3 [==============================] - 0s 109ms/step - loss: 78.6585 - accuracy: 1.0000 - val_loss: 177.2312 - val_accuracy: 1.0000\n",
      "Epoch 42/100\n",
      "3/3 [==============================] - 0s 86ms/step - loss: 88.4082 - accuracy: 1.0000 - val_loss: 149.1730 - val_accuracy: 1.0000\n",
      "Epoch 43/100\n",
      "3/3 [==============================] - 0s 86ms/step - loss: 84.6524 - accuracy: 1.0000 - val_loss: 134.1066 - val_accuracy: 1.0000\n",
      "Epoch 44/100\n",
      "3/3 [==============================] - 0s 141ms/step - loss: 81.1399 - accuracy: 1.0000 - val_loss: 195.6845 - val_accuracy: 1.0000\n",
      "Epoch 45/100\n",
      "3/3 [==============================] - 0s 102ms/step - loss: 91.9666 - accuracy: 1.0000 - val_loss: 156.4754 - val_accuracy: 1.0000\n",
      "Epoch 46/100\n",
      "3/3 [==============================] - 0s 86ms/step - loss: 78.7957 - accuracy: 1.0000 - val_loss: 138.3020 - val_accuracy: 1.0000\n",
      "Epoch 47/100\n",
      "3/3 [==============================] - 0s 133ms/step - loss: 92.2238 - accuracy: 1.0000 - val_loss: 214.4012 - val_accuracy: 1.0000\n",
      "Epoch 48/100\n",
      "3/3 [==============================] - 0s 94ms/step - loss: 98.6575 - accuracy: 1.0000 - val_loss: 177.4594 - val_accuracy: 1.0000\n",
      "Epoch 49/100\n",
      "3/3 [==============================] - 0s 94ms/step - loss: 80.8063 - accuracy: 1.0000 - val_loss: 134.3833 - val_accuracy: 1.0000\n",
      "Epoch 50/100\n",
      "3/3 [==============================] - 0s 125ms/step - loss: 81.1652 - accuracy: 1.0000 - val_loss: 177.7966 - val_accuracy: 1.0000\n",
      "Epoch 51/100\n",
      "3/3 [==============================] - 0s 133ms/step - loss: 92.7233 - accuracy: 1.0000 - val_loss: 171.9115 - val_accuracy: 1.0000\n",
      "Epoch 52/100\n",
      "3/3 [==============================] - 0s 94ms/step - loss: 77.0621 - accuracy: 1.0000 - val_loss: 134.3192 - val_accuracy: 1.0000\n",
      "Epoch 53/100\n",
      "3/3 [==============================] - 0s 133ms/step - loss: 93.4396 - accuracy: 1.0000 - val_loss: 136.4462 - val_accuracy: 1.0000\n",
      "Epoch 54/100\n",
      "3/3 [==============================] - 0s 117ms/step - loss: 76.5050 - accuracy: 1.0000 - val_loss: 152.8075 - val_accuracy: 1.0000\n",
      "Epoch 55/100\n",
      "3/3 [==============================] - 0s 86ms/step - loss: 78.3018 - accuracy: 1.0000 - val_loss: 174.1237 - val_accuracy: 1.0000\n",
      "Epoch 56/100\n",
      "3/3 [==============================] - 0s 94ms/step - loss: 79.9977 - accuracy: 1.0000 - val_loss: 133.9940 - val_accuracy: 1.0000\n",
      "Epoch 57/100\n",
      "3/3 [==============================] - 0s 86ms/step - loss: 80.9098 - accuracy: 1.0000 - val_loss: 139.2835 - val_accuracy: 1.0000\n",
      "Epoch 58/100\n",
      "3/3 [==============================] - 0s 86ms/step - loss: 74.5684 - accuracy: 1.0000 - val_loss: 171.5767 - val_accuracy: 1.0000\n",
      "Epoch 59/100\n",
      "3/3 [==============================] - 0s 125ms/step - loss: 82.3823 - accuracy: 1.0000 - val_loss: 144.6637 - val_accuracy: 1.0000\n",
      "Epoch 60/100\n",
      "3/3 [==============================] - 0s 78ms/step - loss: 75.4529 - accuracy: 1.0000 - val_loss: 133.5301 - val_accuracy: 1.0000\n",
      "Epoch 61/100\n",
      "3/3 [==============================] - 0s 94ms/step - loss: 82.0585 - accuracy: 1.0000 - val_loss: 128.7898 - val_accuracy: 1.0000\n",
      "Epoch 62/100\n",
      "3/3 [==============================] - 0s 86ms/step - loss: 82.0219 - accuracy: 1.0000 - val_loss: 142.3995 - val_accuracy: 1.0000\n",
      "Epoch 63/100\n",
      "3/3 [==============================] - 0s 125ms/step - loss: 76.5378 - accuracy: 1.0000 - val_loss: 148.9856 - val_accuracy: 1.0000\n",
      "Epoch 64/100\n",
      "3/3 [==============================] - 0s 117ms/step - loss: 80.1801 - accuracy: 1.0000 - val_loss: 129.8498 - val_accuracy: 1.0000\n",
      "Epoch 65/100\n",
      "3/3 [==============================] - 0s 86ms/step - loss: 75.9641 - accuracy: 1.0000 - val_loss: 185.0375 - val_accuracy: 1.0000\n",
      "Epoch 66/100\n",
      "3/3 [==============================] - 0s 86ms/step - loss: 92.9880 - accuracy: 1.0000 - val_loss: 166.9601 - val_accuracy: 1.0000\n",
      "Epoch 67/100\n",
      "3/3 [==============================] - 0s 86ms/step - loss: 70.7088 - accuracy: 1.0000 - val_loss: 128.0735 - val_accuracy: 1.0000\n",
      "Epoch 68/100\n",
      "3/3 [==============================] - 0s 94ms/step - loss: 88.2234 - accuracy: 1.0000 - val_loss: 164.2585 - val_accuracy: 1.0000\n",
      "Epoch 69/100\n",
      "3/3 [==============================] - 0s 86ms/step - loss: 89.3400 - accuracy: 1.0000 - val_loss: 184.2325 - val_accuracy: 1.0000\n",
      "Epoch 70/100\n",
      "3/3 [==============================] - 0s 86ms/step - loss: 85.1711 - accuracy: 1.0000 - val_loss: 129.0810 - val_accuracy: 1.0000\n",
      "Epoch 71/100\n",
      "3/3 [==============================] - 0s 125ms/step - loss: 76.8284 - accuracy: 1.0000 - val_loss: 151.0652 - val_accuracy: 1.0000\n",
      "Epoch 72/100\n",
      "3/3 [==============================] - 0s 94ms/step - loss: 76.9322 - accuracy: 1.0000 - val_loss: 132.7660 - val_accuracy: 1.0000\n",
      "Epoch 73/100\n",
      "3/3 [==============================] - 0s 86ms/step - loss: 75.8767 - accuracy: 1.0000 - val_loss: 173.3031 - val_accuracy: 1.0000\n",
      "Epoch 74/100\n",
      "3/3 [==============================] - 0s 78ms/step - loss: 89.0232 - accuracy: 1.0000 - val_loss: 168.6466 - val_accuracy: 1.0000\n",
      "Epoch 75/100\n",
      "3/3 [==============================] - 0s 86ms/step - loss: 77.9128 - accuracy: 1.0000 - val_loss: 141.1515 - val_accuracy: 1.0000\n",
      "Epoch 76/100\n",
      "3/3 [==============================] - 0s 86ms/step - loss: 74.7668 - accuracy: 1.0000 - val_loss: 147.2486 - val_accuracy: 1.0000\n",
      "Epoch 77/100\n",
      "3/3 [==============================] - 0s 125ms/step - loss: 80.2184 - accuracy: 1.0000 - val_loss: 131.8931 - val_accuracy: 1.0000\n",
      "Epoch 78/100\n",
      "3/3 [==============================] - 0s 94ms/step - loss: 79.6573 - accuracy: 1.0000 - val_loss: 178.0497 - val_accuracy: 1.0000\n",
      "Epoch 79/100\n",
      "3/3 [==============================] - 0s 86ms/step - loss: 81.4297 - accuracy: 1.0000 - val_loss: 126.8254 - val_accuracy: 1.0000\n",
      "Epoch 80/100\n",
      "3/3 [==============================] - 0s 86ms/step - loss: 78.1548 - accuracy: 1.0000 - val_loss: 132.8398 - val_accuracy: 1.0000\n",
      "Epoch 81/100\n",
      "3/3 [==============================] - 0s 125ms/step - loss: 72.6888 - accuracy: 1.0000 - val_loss: 146.7579 - val_accuracy: 1.0000\n",
      "Epoch 82/100\n",
      "3/3 [==============================] - 0s 86ms/step - loss: 72.8029 - accuracy: 1.0000 - val_loss: 129.1714 - val_accuracy: 1.0000\n",
      "Epoch 83/100\n",
      "3/3 [==============================] - 0s 78ms/step - loss: 74.5345 - accuracy: 1.0000 - val_loss: 146.6535 - val_accuracy: 1.0000\n",
      "Epoch 84/100\n",
      "3/3 [==============================] - 0s 86ms/step - loss: 72.4843 - accuracy: 1.0000 - val_loss: 159.4947 - val_accuracy: 1.0000\n",
      "Epoch 85/100\n",
      "3/3 [==============================] - 0s 86ms/step - loss: 74.2930 - accuracy: 1.0000 - val_loss: 120.1827 - val_accuracy: 1.0000\n",
      "Epoch 86/100\n",
      "3/3 [==============================] - 0s 94ms/step - loss: 101.7289 - accuracy: 1.0000 - val_loss: 134.8721 - val_accuracy: 1.0000\n",
      "Epoch 87/100\n",
      "3/3 [==============================] - 0s 86ms/step - loss: 75.5867 - accuracy: 1.0000 - val_loss: 231.7228 - val_accuracy: 1.0000\n",
      "Epoch 88/100\n",
      "3/3 [==============================] - 0s 125ms/step - loss: 86.9736 - accuracy: 1.0000 - val_loss: 121.0041 - val_accuracy: 1.0000\n",
      "Epoch 89/100\n",
      "3/3 [==============================] - 0s 94ms/step - loss: 83.1774 - accuracy: 1.0000 - val_loss: 140.3030 - val_accuracy: 1.0000\n",
      "Epoch 90/100\n",
      "3/3 [==============================] - 0s 117ms/step - loss: 73.4235 - accuracy: 1.0000 - val_loss: 144.5295 - val_accuracy: 1.0000\n",
      "Epoch 91/100\n",
      "3/3 [==============================] - 0s 78ms/step - loss: 72.3650 - accuracy: 1.0000 - val_loss: 122.2174 - val_accuracy: 1.0000\n",
      "Epoch 92/100\n",
      "3/3 [==============================] - 0s 125ms/step - loss: 77.2606 - accuracy: 1.0000 - val_loss: 141.8899 - val_accuracy: 1.0000\n",
      "Epoch 93/100\n",
      "3/3 [==============================] - 0s 86ms/step - loss: 74.6294 - accuracy: 1.0000 - val_loss: 154.0782 - val_accuracy: 1.0000\n",
      "Epoch 94/100\n",
      "3/3 [==============================] - 0s 94ms/step - loss: 73.3150 - accuracy: 1.0000 - val_loss: 142.8733 - val_accuracy: 1.0000\n",
      "Epoch 95/100\n",
      "3/3 [==============================] - 0s 125ms/step - loss: 72.2209 - accuracy: 1.0000 - val_loss: 124.8728 - val_accuracy: 1.0000\n",
      "Epoch 96/100\n",
      "3/3 [==============================] - 0s 94ms/step - loss: 83.3277 - accuracy: 1.0000 - val_loss: 232.0335 - val_accuracy: 1.0000\n",
      "Epoch 97/100\n",
      "3/3 [==============================] - 0s 86ms/step - loss: 108.9310 - accuracy: 1.0000 - val_loss: 127.4330 - val_accuracy: 1.0000\n",
      "Epoch 98/100\n",
      "3/3 [==============================] - 0s 125ms/step - loss: 79.3457 - accuracy: 1.0000 - val_loss: 123.3209 - val_accuracy: 1.0000\n",
      "Epoch 99/100\n",
      "3/3 [==============================] - 0s 94ms/step - loss: 73.3777 - accuracy: 1.0000 - val_loss: 142.4349 - val_accuracy: 1.0000\n",
      "Epoch 100/100\n",
      "3/3 [==============================] - 0s 125ms/step - loss: 70.7792 - accuracy: 1.0000 - val_loss: 128.5395 - val_accuracy: 1.0000\n"
     ]
    }
   ],
   "source": [
    "# create the generators\n",
    "train_gen = datagen.flow_from_dataframe(train_df,directory='', x_col='path', y_col=['CD79B', 'MAP2K3', 'IMPDH1', 'SLC16A3', 'MPZL3', 'APOBR'], target_size=(128, 128), class_mode='raw', batch_size=32)\n",
    "val_gen = datagen.flow_from_dataframe(val_df,directory='', x_col='path', y_col=['CD79B', 'MAP2K3', 'IMPDH1', 'SLC16A3', 'MPZL3', 'APOBR'], target_size=(128, 128), class_mode='raw', batch_size=32)\n",
    "\n",
    "history = model.fit_generator(train_gen, epochs=100, validation_data=val_gen)"
   ],
   "metadata": {
    "collapsed": false,
    "pycharm": {
     "name": "#%%\n"
    }
   }
  },
  {
   "cell_type": "code",
   "execution_count": null,
   "outputs": [],
   "source": [
    "import matplotlib.pyplot as plt\n",
    "# Plot training & validation accuracy values\n",
    "plt.plot(history.history['accuracy'])\n",
    "plt.plot(history.history['val_accuracy'])\n",
    "plt.title('Model accuracy')\n",
    "plt.ylabel('Accuracy')\n",
    "plt.xlabel('Epoch')\n",
    "plt.legend(['Train', 'Validation'], loc='upper left')\n",
    "plt.show()\n",
    "\n",
    "# Plot training & validation loss values\n",
    "plt.plot(history.history['loss'])\n",
    "plt.plot(history.history['val_loss'])\n",
    "plt.title('Model loss')\n",
    "plt.ylabel('Loss')\n",
    "plt.xlabel('Epoch')\n",
    "plt.legend(['Train', 'Validation'], loc='upper left')\n",
    "plt.show()"
   ],
   "metadata": {
    "collapsed": false,
    "pycharm": {
     "name": "#%%\n"
    }
   }
  },
  {
   "cell_type": "code",
   "execution_count": 189,
   "outputs": [],
   "source": [
    "from keras.models import load_model\n",
    "model.save('best_model.h5')\n",
    "model = load_model('best_model.h5')"
   ],
   "metadata": {
    "collapsed": false,
    "pycharm": {
     "name": "#%%\n"
    }
   }
  },
  {
   "cell_type": "code",
   "execution_count": 190,
   "outputs": [
    {
     "data": {
      "text/plain": "         CD79B    MAP2K3    IMPDH1   SLC16A3     MPZL3     APOBR  \\\n81   86.164008  0.297625  0.177607  0.066595  0.408359  0.281017   \n4   113.968536  0.252217  0.251318  0.036889  0.133543  0.126524   \n15   78.946055  0.125502  0.095834  0.055123  0.387049  0.399921   \n12   58.555570  0.292739  0.162070  0.029685  0.208280  0.089717   \n10  119.713611  0.441251  0.196799  0.221892  0.190675  0.126524   \n\n                  path  \n81   data/CoreID73.tif  \n4   data/CoreID108.tif  \n15  data/CoreID127.tif  \n12  data/CoreID124.tif  \n10  data/CoreID122.tif  ",
      "text/html": "<div>\n<style scoped>\n    .dataframe tbody tr th:only-of-type {\n        vertical-align: middle;\n    }\n\n    .dataframe tbody tr th {\n        vertical-align: top;\n    }\n\n    .dataframe thead th {\n        text-align: right;\n    }\n</style>\n<table border=\"1\" class=\"dataframe\">\n  <thead>\n    <tr style=\"text-align: right;\">\n      <th></th>\n      <th>CD79B</th>\n      <th>MAP2K3</th>\n      <th>IMPDH1</th>\n      <th>SLC16A3</th>\n      <th>MPZL3</th>\n      <th>APOBR</th>\n      <th>path</th>\n    </tr>\n  </thead>\n  <tbody>\n    <tr>\n      <th>81</th>\n      <td>86.164008</td>\n      <td>0.297625</td>\n      <td>0.177607</td>\n      <td>0.066595</td>\n      <td>0.408359</td>\n      <td>0.281017</td>\n      <td>data/CoreID73.tif</td>\n    </tr>\n    <tr>\n      <th>4</th>\n      <td>113.968536</td>\n      <td>0.252217</td>\n      <td>0.251318</td>\n      <td>0.036889</td>\n      <td>0.133543</td>\n      <td>0.126524</td>\n      <td>data/CoreID108.tif</td>\n    </tr>\n    <tr>\n      <th>15</th>\n      <td>78.946055</td>\n      <td>0.125502</td>\n      <td>0.095834</td>\n      <td>0.055123</td>\n      <td>0.387049</td>\n      <td>0.399921</td>\n      <td>data/CoreID127.tif</td>\n    </tr>\n    <tr>\n      <th>12</th>\n      <td>58.555570</td>\n      <td>0.292739</td>\n      <td>0.162070</td>\n      <td>0.029685</td>\n      <td>0.208280</td>\n      <td>0.089717</td>\n      <td>data/CoreID124.tif</td>\n    </tr>\n    <tr>\n      <th>10</th>\n      <td>119.713611</td>\n      <td>0.441251</td>\n      <td>0.196799</td>\n      <td>0.221892</td>\n      <td>0.190675</td>\n      <td>0.126524</td>\n      <td>data/CoreID122.tif</td>\n    </tr>\n  </tbody>\n</table>\n</div>"
     },
     "execution_count": 190,
     "metadata": {},
     "output_type": "execute_result"
    }
   ],
   "source": [
    "#run the model on the test data\n",
    "test_df.head()"
   ],
   "metadata": {
    "collapsed": false,
    "pycharm": {
     "name": "#%%\n"
    }
   }
  },
  {
   "cell_type": "code",
   "execution_count": 191,
   "outputs": [
    {
     "name": "stdout",
     "output_type": "stream",
     "text": [
      "Found 9 validated image filenames.\n"
     ]
    }
   ],
   "source": [
    "test_df['path'] = test_df['path']\n",
    "test_gen = datagen.flow_from_dataframe(test_df,directory='', x_col='path', y_col=['CD79B', 'MAP2K3', 'IMPDH1', 'SLC16A3', 'MPZL3', 'APOBR'], target_size=(128, 128), class_mode='raw', batch_size=1)"
   ],
   "metadata": {
    "collapsed": false,
    "pycharm": {
     "name": "#%%\n"
    }
   }
  },
  {
   "cell_type": "code",
   "execution_count": 192,
   "outputs": [
    {
     "name": "stdout",
     "output_type": "stream",
     "text": [
      "1/1 [==============================] - 0s 62ms/step\n",
      "1/1 [==============================] - 0s 16ms/step\n",
      "1/1 [==============================] - 0s 16ms/step\n",
      "1/1 [==============================] - 0s 16ms/step\n",
      "1/1 [==============================] - 0s 16ms/step\n",
      "1/1 [==============================] - 0s 31ms/step\n",
      "1/1 [==============================] - 0s 16ms/step\n",
      "1/1 [==============================] - 0s 16ms/step\n",
      "1/1 [==============================] - 0s 16ms/step\n",
      "1/1 [==============================] - 0s 16ms/step\n",
      "1/1 [==============================] - 0s 16ms/step\n",
      "1/1 [==============================] - 0s 31ms/step\n",
      "1/1 [==============================] - 0s 16ms/step\n",
      "1/1 [==============================] - 0s 16ms/step\n",
      "1/1 [==============================] - 0s 16ms/step\n",
      "1/1 [==============================] - 0s 16ms/step\n",
      "1/1 [==============================] - 0s 31ms/step\n",
      "1/1 [==============================] - 0s 15ms/step\n",
      "mean r2 = 0.9470624389594408\n"
     ]
    }
   ],
   "source": [
    "#calculate r^2\n",
    "from sklearn.metrics import r2_score\n",
    "import numpy as np\n",
    "r2 = []\n",
    "y_arr = []\n",
    "pred_arr = []\n",
    "for i in range(0, len(test_df)):\n",
    "    x, y = test_gen.next()\n",
    "    y_arr.append(y)\n",
    "    pred_arr.append(model.predict(x)[0])\n",
    "    r2.append(r2_score(y[0], model.predict(x)[0]))\n",
    "print('mean r2 = {}'.format(np.mean(r2)))"
   ],
   "metadata": {
    "collapsed": false,
    "pycharm": {
     "name": "#%%#run inference\n"
    }
   }
  },
  {
   "cell_type": "code",
   "execution_count": 186,
   "outputs": [
    {
     "name": "stdout",
     "output_type": "stream",
     "text": [
      "78.94605547374772\n",
      "1/1 [==============================] - 0s 16ms/step\n",
      "85.81469\n"
     ]
    },
    {
     "ename": "TypeError",
     "evalue": "Singleton array 78.94605547374772 cannot be considered a valid collection.",
     "output_type": "error",
     "traceback": [
      "\u001B[1;31m---------------------------------------------------------------------------\u001B[0m",
      "\u001B[1;31mTypeError\u001B[0m                                 Traceback (most recent call last)",
      "Cell \u001B[1;32mIn[186], line 8\u001B[0m\n\u001B[0;32m      6\u001B[0m pred1 \u001B[38;5;241m=\u001B[39m model\u001B[38;5;241m.\u001B[39mpredict(x)[\u001B[38;5;241m0\u001B[39m][\u001B[38;5;241m0\u001B[39m]\n\u001B[0;32m      7\u001B[0m \u001B[38;5;28mprint\u001B[39m(pred1)\n\u001B[1;32m----> 8\u001B[0m r2_score_1 \u001B[38;5;241m=\u001B[39m \u001B[43mr2_score\u001B[49m\u001B[43m(\u001B[49m\u001B[43mgt\u001B[49m\u001B[43m,\u001B[49m\u001B[43m \u001B[49m\u001B[43mpred1\u001B[49m\u001B[43m)\u001B[49m\n\u001B[0;32m      9\u001B[0m \u001B[38;5;28mprint\u001B[39m(\u001B[38;5;124m\"\u001B[39m\u001B[38;5;124mground truth: \u001B[39m\u001B[38;5;132;01m{}\u001B[39;00m\u001B[38;5;124m \u001B[39m\u001B[38;5;130;01m\\n\u001B[39;00m\u001B[38;5;124mpredicted: \u001B[39m\u001B[38;5;132;01m{}\u001B[39;00m\u001B[38;5;124m \u001B[39m\u001B[38;5;130;01m\\n\u001B[39;00m\u001B[38;5;124mr2: \u001B[39m\u001B[38;5;132;01m{}\u001B[39;00m\u001B[38;5;124m\"\u001B[39m\u001B[38;5;241m.\u001B[39mformat(gt, pred1[\u001B[38;5;241m0\u001B[39m], r2_score_1))\n",
      "File \u001B[1;32m~\\OneDrive\\Documents\\GitHub\\Glioblastoma_analysis\\venv\\lib\\site-packages\\sklearn\\metrics\\_regression.py:911\u001B[0m, in \u001B[0;36mr2_score\u001B[1;34m(y_true, y_pred, sample_weight, multioutput, force_finite)\u001B[0m\n\u001B[0;32m    784\u001B[0m \u001B[38;5;28;01mdef\u001B[39;00m \u001B[38;5;21mr2_score\u001B[39m(\n\u001B[0;32m    785\u001B[0m     y_true,\n\u001B[0;32m    786\u001B[0m     y_pred,\n\u001B[1;32m   (...)\u001B[0m\n\u001B[0;32m    790\u001B[0m     force_finite\u001B[38;5;241m=\u001B[39m\u001B[38;5;28;01mTrue\u001B[39;00m,\n\u001B[0;32m    791\u001B[0m ):\n\u001B[0;32m    792\u001B[0m \u001B[38;5;250m    \u001B[39m\u001B[38;5;124;03m\"\"\":math:`R^2` (coefficient of determination) regression score function.\u001B[39;00m\n\u001B[0;32m    793\u001B[0m \n\u001B[0;32m    794\u001B[0m \u001B[38;5;124;03m    Best possible score is 1.0 and it can be negative (because the\u001B[39;00m\n\u001B[1;32m   (...)\u001B[0m\n\u001B[0;32m    909\u001B[0m \u001B[38;5;124;03m    -inf\u001B[39;00m\n\u001B[0;32m    910\u001B[0m \u001B[38;5;124;03m    \"\"\"\u001B[39;00m\n\u001B[1;32m--> 911\u001B[0m     y_type, y_true, y_pred, multioutput \u001B[38;5;241m=\u001B[39m \u001B[43m_check_reg_targets\u001B[49m\u001B[43m(\u001B[49m\n\u001B[0;32m    912\u001B[0m \u001B[43m        \u001B[49m\u001B[43my_true\u001B[49m\u001B[43m,\u001B[49m\u001B[43m \u001B[49m\u001B[43my_pred\u001B[49m\u001B[43m,\u001B[49m\u001B[43m \u001B[49m\u001B[43mmultioutput\u001B[49m\n\u001B[0;32m    913\u001B[0m \u001B[43m    \u001B[49m\u001B[43m)\u001B[49m\n\u001B[0;32m    914\u001B[0m     check_consistent_length(y_true, y_pred, sample_weight)\n\u001B[0;32m    916\u001B[0m     \u001B[38;5;28;01mif\u001B[39;00m _num_samples(y_pred) \u001B[38;5;241m<\u001B[39m \u001B[38;5;241m2\u001B[39m:\n",
      "File \u001B[1;32m~\\OneDrive\\Documents\\GitHub\\Glioblastoma_analysis\\venv\\lib\\site-packages\\sklearn\\metrics\\_regression.py:100\u001B[0m, in \u001B[0;36m_check_reg_targets\u001B[1;34m(y_true, y_pred, multioutput, dtype)\u001B[0m\n\u001B[0;32m     66\u001B[0m \u001B[38;5;28;01mdef\u001B[39;00m \u001B[38;5;21m_check_reg_targets\u001B[39m(y_true, y_pred, multioutput, dtype\u001B[38;5;241m=\u001B[39m\u001B[38;5;124m\"\u001B[39m\u001B[38;5;124mnumeric\u001B[39m\u001B[38;5;124m\"\u001B[39m):\n\u001B[0;32m     67\u001B[0m \u001B[38;5;250m    \u001B[39m\u001B[38;5;124;03m\"\"\"Check that y_true and y_pred belong to the same regression task.\u001B[39;00m\n\u001B[0;32m     68\u001B[0m \n\u001B[0;32m     69\u001B[0m \u001B[38;5;124;03m    Parameters\u001B[39;00m\n\u001B[1;32m   (...)\u001B[0m\n\u001B[0;32m     98\u001B[0m \u001B[38;5;124;03m        correct keyword.\u001B[39;00m\n\u001B[0;32m     99\u001B[0m \u001B[38;5;124;03m    \"\"\"\u001B[39;00m\n\u001B[1;32m--> 100\u001B[0m     \u001B[43mcheck_consistent_length\u001B[49m\u001B[43m(\u001B[49m\u001B[43my_true\u001B[49m\u001B[43m,\u001B[49m\u001B[43m \u001B[49m\u001B[43my_pred\u001B[49m\u001B[43m)\u001B[49m\n\u001B[0;32m    101\u001B[0m     y_true \u001B[38;5;241m=\u001B[39m check_array(y_true, ensure_2d\u001B[38;5;241m=\u001B[39m\u001B[38;5;28;01mFalse\u001B[39;00m, dtype\u001B[38;5;241m=\u001B[39mdtype)\n\u001B[0;32m    102\u001B[0m     y_pred \u001B[38;5;241m=\u001B[39m check_array(y_pred, ensure_2d\u001B[38;5;241m=\u001B[39m\u001B[38;5;28;01mFalse\u001B[39;00m, dtype\u001B[38;5;241m=\u001B[39mdtype)\n",
      "File \u001B[1;32m~\\OneDrive\\Documents\\GitHub\\Glioblastoma_analysis\\venv\\lib\\site-packages\\sklearn\\utils\\validation.py:394\u001B[0m, in \u001B[0;36mcheck_consistent_length\u001B[1;34m(*arrays)\u001B[0m\n\u001B[0;32m    383\u001B[0m \u001B[38;5;28;01mdef\u001B[39;00m \u001B[38;5;21mcheck_consistent_length\u001B[39m(\u001B[38;5;241m*\u001B[39marrays):\n\u001B[0;32m    384\u001B[0m \u001B[38;5;250m    \u001B[39m\u001B[38;5;124;03m\"\"\"Check that all arrays have consistent first dimensions.\u001B[39;00m\n\u001B[0;32m    385\u001B[0m \n\u001B[0;32m    386\u001B[0m \u001B[38;5;124;03m    Checks whether all objects in arrays have the same shape or length.\u001B[39;00m\n\u001B[1;32m   (...)\u001B[0m\n\u001B[0;32m    391\u001B[0m \u001B[38;5;124;03m        Objects that will be checked for consistent length.\u001B[39;00m\n\u001B[0;32m    392\u001B[0m \u001B[38;5;124;03m    \"\"\"\u001B[39;00m\n\u001B[1;32m--> 394\u001B[0m     lengths \u001B[38;5;241m=\u001B[39m [_num_samples(X) \u001B[38;5;28;01mfor\u001B[39;00m X \u001B[38;5;129;01min\u001B[39;00m arrays \u001B[38;5;28;01mif\u001B[39;00m X \u001B[38;5;129;01mis\u001B[39;00m \u001B[38;5;129;01mnot\u001B[39;00m \u001B[38;5;28;01mNone\u001B[39;00m]\n\u001B[0;32m    395\u001B[0m     uniques \u001B[38;5;241m=\u001B[39m np\u001B[38;5;241m.\u001B[39munique(lengths)\n\u001B[0;32m    396\u001B[0m     \u001B[38;5;28;01mif\u001B[39;00m \u001B[38;5;28mlen\u001B[39m(uniques) \u001B[38;5;241m>\u001B[39m \u001B[38;5;241m1\u001B[39m:\n",
      "File \u001B[1;32m~\\OneDrive\\Documents\\GitHub\\Glioblastoma_analysis\\venv\\lib\\site-packages\\sklearn\\utils\\validation.py:394\u001B[0m, in \u001B[0;36m<listcomp>\u001B[1;34m(.0)\u001B[0m\n\u001B[0;32m    383\u001B[0m \u001B[38;5;28;01mdef\u001B[39;00m \u001B[38;5;21mcheck_consistent_length\u001B[39m(\u001B[38;5;241m*\u001B[39marrays):\n\u001B[0;32m    384\u001B[0m \u001B[38;5;250m    \u001B[39m\u001B[38;5;124;03m\"\"\"Check that all arrays have consistent first dimensions.\u001B[39;00m\n\u001B[0;32m    385\u001B[0m \n\u001B[0;32m    386\u001B[0m \u001B[38;5;124;03m    Checks whether all objects in arrays have the same shape or length.\u001B[39;00m\n\u001B[1;32m   (...)\u001B[0m\n\u001B[0;32m    391\u001B[0m \u001B[38;5;124;03m        Objects that will be checked for consistent length.\u001B[39;00m\n\u001B[0;32m    392\u001B[0m \u001B[38;5;124;03m    \"\"\"\u001B[39;00m\n\u001B[1;32m--> 394\u001B[0m     lengths \u001B[38;5;241m=\u001B[39m [\u001B[43m_num_samples\u001B[49m\u001B[43m(\u001B[49m\u001B[43mX\u001B[49m\u001B[43m)\u001B[49m \u001B[38;5;28;01mfor\u001B[39;00m X \u001B[38;5;129;01min\u001B[39;00m arrays \u001B[38;5;28;01mif\u001B[39;00m X \u001B[38;5;129;01mis\u001B[39;00m \u001B[38;5;129;01mnot\u001B[39;00m \u001B[38;5;28;01mNone\u001B[39;00m]\n\u001B[0;32m    395\u001B[0m     uniques \u001B[38;5;241m=\u001B[39m np\u001B[38;5;241m.\u001B[39munique(lengths)\n\u001B[0;32m    396\u001B[0m     \u001B[38;5;28;01mif\u001B[39;00m \u001B[38;5;28mlen\u001B[39m(uniques) \u001B[38;5;241m>\u001B[39m \u001B[38;5;241m1\u001B[39m:\n",
      "File \u001B[1;32m~\\OneDrive\\Documents\\GitHub\\Glioblastoma_analysis\\venv\\lib\\site-packages\\sklearn\\utils\\validation.py:335\u001B[0m, in \u001B[0;36m_num_samples\u001B[1;34m(x)\u001B[0m\n\u001B[0;32m    333\u001B[0m \u001B[38;5;28;01mif\u001B[39;00m \u001B[38;5;28mhasattr\u001B[39m(x, \u001B[38;5;124m\"\u001B[39m\u001B[38;5;124mshape\u001B[39m\u001B[38;5;124m\"\u001B[39m) \u001B[38;5;129;01mand\u001B[39;00m x\u001B[38;5;241m.\u001B[39mshape \u001B[38;5;129;01mis\u001B[39;00m \u001B[38;5;129;01mnot\u001B[39;00m \u001B[38;5;28;01mNone\u001B[39;00m:\n\u001B[0;32m    334\u001B[0m     \u001B[38;5;28;01mif\u001B[39;00m \u001B[38;5;28mlen\u001B[39m(x\u001B[38;5;241m.\u001B[39mshape) \u001B[38;5;241m==\u001B[39m \u001B[38;5;241m0\u001B[39m:\n\u001B[1;32m--> 335\u001B[0m         \u001B[38;5;28;01mraise\u001B[39;00m \u001B[38;5;167;01mTypeError\u001B[39;00m(\n\u001B[0;32m    336\u001B[0m             \u001B[38;5;124m\"\u001B[39m\u001B[38;5;124mSingleton array \u001B[39m\u001B[38;5;132;01m%r\u001B[39;00m\u001B[38;5;124m cannot be considered a valid collection.\u001B[39m\u001B[38;5;124m\"\u001B[39m \u001B[38;5;241m%\u001B[39m x\n\u001B[0;32m    337\u001B[0m         )\n\u001B[0;32m    338\u001B[0m     \u001B[38;5;66;03m# Check that shape is returning an integer or default to len\u001B[39;00m\n\u001B[0;32m    339\u001B[0m     \u001B[38;5;66;03m# Dask dataframes may not return numeric shape[0] value\u001B[39;00m\n\u001B[0;32m    340\u001B[0m     \u001B[38;5;28;01mif\u001B[39;00m \u001B[38;5;28misinstance\u001B[39m(x\u001B[38;5;241m.\u001B[39mshape[\u001B[38;5;241m0\u001B[39m], numbers\u001B[38;5;241m.\u001B[39mIntegral):\n",
      "\u001B[1;31mTypeError\u001B[0m: Singleton array 78.94605547374772 cannot be considered a valid collection."
     ]
    }
   ],
   "source": [
    "ind = 0\n",
    "gt_array = []\n",
    "\n",
    "for i in range(0, len(test_df)):\n",
    "    x, y = test_gen.next()\n",
    "    gt = y[0][0]\n",
    "    print(gt)\n",
    "    pred1 = model.predict(x)[0][0]\n",
    "    print(pred1)\n",
    "    r2_score_1 = r2_score(gt, pred1)\n",
    "    print(\"ground truth: {} \\npredicted: {} \\nr2: {}\".format(gt, pred1[0], r2_score_1))"
   ],
   "metadata": {
    "collapsed": false,
    "pycharm": {
     "name": "#%%\n"
    }
   }
  },
  {
   "cell_type": "code",
   "execution_count": 97,
   "outputs": [
    {
     "name": "stdout",
     "output_type": "stream",
     "text": [
      "<class 'numpy.ndarray'>\n",
      "1/1 [==============================] - 0s 27ms/step\n",
      "1/1 [==============================] - 0s 16ms/step\n",
      "[ 8.5814690e+01 -2.1845789e-01  2.0823295e-01  6.4203031e-02\n",
      "  6.5609521e-01  6.3410050e-01]\n",
      "1/1 [==============================] - 0s 16ms/step\n",
      "<class 'numpy.ndarray'>\n",
      "1/1 [==============================] - 0s 16ms/step\n",
      "1/1 [==============================] - 0s 9ms/step\n",
      "[88.89362    -0.17163678  0.23897941  0.13222003  0.6218297   0.6827522 ]\n",
      "1/1 [==============================] - 0s 16ms/step\n",
      "<class 'numpy.ndarray'>\n",
      "1/1 [==============================] - 0s 16ms/step\n",
      "1/1 [==============================] - 0s 17ms/step\n",
      "[ 9.4951576e+01 -1.8526979e-01  3.2924852e-01  2.0863302e-02\n",
      "  6.3742799e-01  6.5715939e-01]\n",
      "1/1 [==============================] - 0s 16ms/step\n",
      "<class 'numpy.ndarray'>\n",
      "1/1 [==============================] - 0s 26ms/step\n",
      "1/1 [==============================] - 0s 10ms/step\n",
      "[ 9.3335289e+01 -2.5993034e-01  3.1444177e-01 -2.9175989e-02\n",
      "  6.5794724e-01  6.1007267e-01]\n",
      "1/1 [==============================] - 0s 13ms/step\n",
      "<class 'numpy.ndarray'>\n",
      "1/1 [==============================] - 0s 16ms/step\n",
      "1/1 [==============================] - 0s 16ms/step\n",
      "[88.89362    -0.17163678  0.23897941  0.13222003  0.6218297   0.6827522 ]\n",
      "1/1 [==============================] - 0s 16ms/step\n",
      "<class 'numpy.ndarray'>\n",
      "1/1 [==============================] - 0s 21ms/step\n",
      "1/1 [==============================] - 0s 7ms/step\n",
      "[ 1.1080833e+02 -8.4269725e-02  4.8960409e-01  1.9677885e-02\n",
      "  5.3932351e-01  7.9179054e-01]\n",
      "1/1 [==============================] - 0s 27ms/step\n",
      "<class 'numpy.ndarray'>\n",
      "1/1 [==============================] - 0s 32ms/step\n",
      "1/1 [==============================] - 0s 17ms/step\n",
      "[ 8.3316429e+01 -2.6884338e-01  2.2892769e-01  2.1131104e-03\n",
      "  6.7696828e-01  5.5595928e-01]\n",
      "1/1 [==============================] - 0s 19ms/step\n",
      "<class 'numpy.ndarray'>\n",
      "1/1 [==============================] - 0s 18ms/step\n",
      "1/1 [==============================] - 0s 16ms/step\n",
      "[ 8.5814690e+01 -2.1845789e-01  2.0823295e-01  6.4203031e-02\n",
      "  6.5609521e-01  6.3410050e-01]\n",
      "1/1 [==============================] - 0s 16ms/step\n",
      "<class 'numpy.ndarray'>\n",
      "1/1 [==============================] - 0s 16ms/step\n",
      "1/1 [==============================] - 0s 19ms/step\n",
      "[ 9.3335289e+01 -2.5993034e-01  3.1444177e-01 -2.9175989e-02\n",
      "  6.5794724e-01  6.1007267e-01]\n",
      "1/1 [==============================] - 0s 16ms/step\n"
     ]
    },
    {
     "data": {
      "text/plain": "<Figure size 640x480 with 1 Axes>",
      "image/png": "[encoded data removed]"
     },
     "metadata": {},
     "output_type": "display_data"
    }
   ],
   "source": [
    "import matplotlib.pyplot as plt\n",
    "\n",
    "# Calculate the mean r2 score\n",
    "r2 = []\n",
    "y_arr = []\n",
    "pred_arr = []\n",
    "for i in range(0, len(test_df)):\n",
    "    x, y = test_gen.next()\n",
    "    print(type(x))\n",
    "    y_arr.append(y[0])\n",
    "    pred_arr.append(model.predict(x)[0])\n",
    "    print(model.predict(x)[0])\n",
    "    r2.append(r2_score(y[0], model.predict(x)[0]))\n",
    "mean_r2 = np.mean(r2)\n",
    "\n",
    "# Plot the points\n",
    "plt.scatter(y_arr, pred_arr)\n",
    "\n",
    "# Add a title and labels to the plot\n",
    "plt.title('Predicted vs True Values (r2 = {:.2f})'.format(mean_r2))\n",
    "plt.xlabel('True Values')\n",
    "plt.ylabel('Predicted Values')\n",
    "\n",
    "# Show the plot\n",
    "plt.show()"
   ],
   "metadata": {
    "collapsed": false,
    "pycharm": {
     "name": "#%%\n"
    }
   }
  },
  {
   "cell_type": "code",
   "execution_count": 94,
   "outputs": [],
   "source": [
    "# run inference on random picture\n",
    "import numpy as np\n",
    "import matplotlib.pyplot as plt\n",
    "from keras.preprocessing import image\n",
    "from keras.models import load_model\n",
    "import os\n",
    "import pandas as pd\n",
    "import cv2"
   ],
   "metadata": {
    "collapsed": false,
    "pycharm": {
     "name": "#%%\n"
    }
   }
  },
  {
   "cell_type": "code",
   "execution_count": 95,
   "outputs": [],
   "source": [
    "#load the model\n",
    "model = load_model('model.h5')"
   ],
   "metadata": {
    "collapsed": false,
    "pycharm": {
     "name": "#%%\n"
    }
   }
  },
  {
   "cell_type": "code",
   "execution_count": 113,
   "outputs": [],
   "source": [
    "image_path = '../data/webscraped_labeled/primary0.jpg'"
   ],
   "metadata": {
    "collapsed": false,
    "pycharm": {
     "name": "#%%\n"
    }
   }
  },
  {
   "cell_type": "code",
   "execution_count": 114,
   "outputs": [
    {
     "name": "stdout",
     "output_type": "stream",
     "text": [
      "1/1 [==============================] - 0s 16ms/step\n",
      "[[8.9968262e+01 7.9614438e-02 1.9021995e-01 4.5177341e-01 6.3199395e-01\n",
      "  8.9704996e-01]]\n"
     ]
    }
   ],
   "source": [
    "# Load the image\n",
    "image = cv2.imread(image_path)\n",
    "\n",
    "# Resize the image to the expected size\n",
    "expected_size = (128, 128\n",
    "                 )\n",
    "image = cv2.resize(image, expected_size)\n",
    "\n",
    "# Preprocess the image\n",
    "preprocessed_image = image / 255.\n",
    "\n",
    "# Add an extra dimension to represent the batch size\n",
    "preprocessed_image = np.expand_dims(preprocessed_image, axis=0)\n",
    "\n",
    "# Run the image through the model\n",
    "prediction = model.predict(preprocessed_image)\n",
    "print(prediction)"
   ],
   "metadata": {
    "collapsed": false,
    "pycharm": {
     "name": "#%%\n"
    }
   }
  },
  {
   "cell_type": "code",
   "execution_count": null,
   "outputs": [],
   "source": [],
   "metadata": {
    "collapsed": false,
    "pycharm": {
     "name": "#%%\n"
    }
   }
  }
 ],
 "metadata": {
  "kernelspec": {
   "display_name": "Python 3",
   "language": "python",
   "name": "python3"
  },
  "language_info": {
   "codemirror_mode": {
    "name": "ipython",
    "version": 2
   },
   "file_extension": ".py",
   "mimetype": "text/x-python",
   "name": "python",
   "nbconvert_exporter": "python",
   "pygments_lexer": "ipython2",
   "version": "2.7.6"
  }
 },
 "nbformat": 4,
 "nbformat_minor": 0
}