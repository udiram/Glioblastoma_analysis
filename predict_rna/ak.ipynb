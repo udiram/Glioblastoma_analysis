{
 "cells": [
  {
   "cell_type": "code",
   "execution_count": 28,
   "outputs": [],
   "source": [
    "import pandas as pd\n",
    "import autokeras as ak\n",
    "from PIL import Image\n",
    "import numpy as np\n",
    "from keras import regularizers\n",
    "from keras.layers import Dense"
   ],
   "metadata": {
    "collapsed": false,
    "pycharm": {
     "name": "#%%\n"
    }
   }
  },
  {
   "cell_type": "code",
   "execution_count": 29,
   "outputs": [
    {
     "name": "stderr",
     "output_type": "stream",
     "text": [
      "C:\\Users\\sathy\\AppData\\Local\\Temp\\ipykernel_24500\\3568699679.py:5: FutureWarning: The default value of regex will change from True to False in a future version.\n",
      "  df['path'] = df['path'].str.replace('.tif', '.jpeg')\n"
     ]
    },
    {
     "data": {
      "text/plain": "      CD79B     MAP2K3      IMPDH1     SLC16A3       MPZL3      APOBR  \\\n0  0.271707  72.668964   86.982548   71.567919  102.397177  56.153291   \n1  0.255960  65.603926   85.122450  101.387886  100.845705  50.422852   \n2  0.246477  70.431921  100.535887  130.071854   89.175900  52.823941   \n3  0.340717  72.446053   92.204068   66.299116   74.202321  39.076962   \n4  0.511629  73.458393   94.793735   49.152307   54.013524  28.627168   \n\n                       path  \n0  data_jpeg/CoreID101.jpeg  \n1  data_jpeg/CoreID102.jpeg  \n2  data_jpeg/CoreID105.jpeg  \n3  data_jpeg/CoreID107.jpeg  \n4  data_jpeg/CoreID108.jpeg  ",
      "text/html": "<div>\n<style scoped>\n    .dataframe tbody tr th:only-of-type {\n        vertical-align: middle;\n    }\n\n    .dataframe tbody tr th {\n        vertical-align: top;\n    }\n\n    .dataframe thead th {\n        text-align: right;\n    }\n</style>\n<table border=\"1\" class=\"dataframe\">\n  <thead>\n    <tr style=\"text-align: right;\">\n      <th></th>\n      <th>CD79B</th>\n      <th>MAP2K3</th>\n      <th>IMPDH1</th>\n      <th>SLC16A3</th>\n      <th>MPZL3</th>\n      <th>APOBR</th>\n      <th>path</th>\n    </tr>\n  </thead>\n  <tbody>\n    <tr>\n      <th>0</th>\n      <td>0.271707</td>\n      <td>72.668964</td>\n      <td>86.982548</td>\n      <td>71.567919</td>\n      <td>102.397177</td>\n      <td>56.153291</td>\n      <td>data_jpeg/CoreID101.jpeg</td>\n    </tr>\n    <tr>\n      <th>1</th>\n      <td>0.255960</td>\n      <td>65.603926</td>\n      <td>85.122450</td>\n      <td>101.387886</td>\n      <td>100.845705</td>\n      <td>50.422852</td>\n      <td>data_jpeg/CoreID102.jpeg</td>\n    </tr>\n    <tr>\n      <th>2</th>\n      <td>0.246477</td>\n      <td>70.431921</td>\n      <td>100.535887</td>\n      <td>130.071854</td>\n      <td>89.175900</td>\n      <td>52.823941</td>\n      <td>data_jpeg/CoreID105.jpeg</td>\n    </tr>\n    <tr>\n      <th>3</th>\n      <td>0.340717</td>\n      <td>72.446053</td>\n      <td>92.204068</td>\n      <td>66.299116</td>\n      <td>74.202321</td>\n      <td>39.076962</td>\n      <td>data_jpeg/CoreID107.jpeg</td>\n    </tr>\n    <tr>\n      <th>4</th>\n      <td>0.511629</td>\n      <td>73.458393</td>\n      <td>94.793735</td>\n      <td>49.152307</td>\n      <td>54.013524</td>\n      <td>28.627168</td>\n      <td>data_jpeg/CoreID108.jpeg</td>\n    </tr>\n  </tbody>\n</table>\n</div>"
     },
     "execution_count": 29,
     "metadata": {},
     "output_type": "execute_result"
    }
   ],
   "source": [
    "# Load the expression data from the csv file into a pandas DataFrame\n",
    "df = pd.read_csv('df_train.csv')\n",
    "df['path'] = 'data_jpeg/' + df['path']\n",
    "#replace .tif with .jpeg\n",
    "df['path'] = df['path'].str.replace('.tif', '.jpeg')\n",
    "# normalise the CD79B column\n",
    "df['CD79B'] = (df['CD79B'] - df['CD79B'].min()) / (df['CD79B'].max() - df['CD79B'].min())\n",
    "df.head()"
   ],
   "metadata": {
    "collapsed": false,
    "pycharm": {
     "name": "#%%\n"
    }
   }
  },
  {
   "cell_type": "code",
   "execution_count": 30,
   "outputs": [],
   "source": [
    "# Create a list to store the image data\n",
    "images = []\n",
    "\n",
    "# Loop through each image path in the DataFrame\n",
    "for path in df['path']:\n",
    "    # Load the image using PIL\n",
    "    img = Image.open(path)\n",
    "\n",
    "    # Resize the image to a standard size (64, 64)\n",
    "    img = img.resize((64, 64))\n",
    "\n",
    "    # Convert the image to a numpy array and normalize the pixel values\n",
    "    img = np.array(img) / 255.0\n",
    "\n",
    "    # Append the image to the list of images\n",
    "    images.append(img)"
   ],
   "metadata": {
    "collapsed": false,
    "pycharm": {
     "name": "#%%\n"
    }
   }
  },
  {
   "cell_type": "code",
   "execution_count": 31,
   "outputs": [
    {
     "data": {
      "text/plain": "(99, 64, 64, 3)"
     },
     "execution_count": 31,
     "metadata": {},
     "output_type": "execute_result"
    }
   ],
   "source": [
    "# Convert the list of images to a numpy array\n",
    "X = np.array(images)\n",
    "X.shape"
   ],
   "metadata": {
    "collapsed": false,
    "pycharm": {
     "name": "#%%\n"
    }
   }
  },
  {
   "cell_type": "code",
   "execution_count": 32,
   "outputs": [
    {
     "data": {
      "text/plain": "array([0.27170703, 0.25596037, 0.24647709, 0.34071728, 0.51162946,\n       0.33129341, 0.33216435, 0.26700441, 0.59895417, 0.38402313,\n       0.56070451, 0.42497275, 0.03828599, 0.12562039, 0.15567704,\n       0.21246369, 0.09733596, 0.00694589, 1.        , 0.22399262,\n       0.40647989, 0.35321914, 0.18946713, 0.14943887, 0.09673707,\n       0.40416421, 0.4000886 , 0.15390121, 0.27889927, 0.1816147 ,\n       0.19934424, 0.18930892, 0.39397519, 0.14943887, 0.27170703,\n       0.23677327, 0.69391428, 0.65766195, 0.71314273, 0.25860687,\n       0.0962788 , 0.28316967, 0.80444688, 0.52413162, 0.53152688,\n       0.18540009, 0.3439564 , 0.26406527, 0.37622659, 0.77132004,\n       0.83414058, 0.3277466 , 0.35321914, 0.57135013, 0.5838126 ,\n       0.14943887, 0.        , 0.23173474, 0.45854377, 0.53682314,\n       0.30720424, 0.26186936, 0.21224785, 0.2076618 , 0.17809547,\n       0.23836117, 0.26551624, 0.45510927, 0.33754373, 0.35453385,\n       0.59153844, 0.36575946, 0.08905953, 0.55699941, 0.32590838,\n       0.67816606, 0.08930698, 0.07032417, 0.34771156, 0.56832054,\n       0.14943887, 0.27412022, 0.13072435, 0.50905111, 0.33284111,\n       0.30431187, 0.22309439, 0.19528943, 0.42250443, 0.2076618 ,\n       0.30552588, 0.1639946 , 0.0665452 , 0.12165065, 0.55699941,\n       0.33916533, 0.07302126, 0.38075701, 0.01358535])"
     },
     "execution_count": 32,
     "metadata": {},
     "output_type": "execute_result"
    }
   ],
   "source": [
    "# Get the expression values from the DataFrame\n",
    "y = df['CD79B'].values\n",
    "y"
   ],
   "metadata": {
    "collapsed": false,
    "pycharm": {
     "name": "#%%\n"
    }
   }
  },
  {
   "cell_type": "code",
   "execution_count": 33,
   "outputs": [
    {
     "name": "stdout",
     "output_type": "stream",
     "text": [
      "INFO:tensorflow:Reloading Oracle from existing project .\\image_regressor\\oracle.json\n"
     ]
    },
    {
     "name": "stderr",
     "output_type": "stream",
     "text": [
      "INFO:tensorflow:Reloading Oracle from existing project .\\image_regressor\\oracle.json\n"
     ]
    },
    {
     "name": "stdout",
     "output_type": "stream",
     "text": [
      "INFO:tensorflow:Reloading Tuner from .\\image_regressor\\tuner0.json\n"
     ]
    },
    {
     "name": "stderr",
     "output_type": "stream",
     "text": [
      "INFO:tensorflow:Reloading Tuner from .\\image_regressor\\tuner0.json\n"
     ]
    }
   ],
   "source": [
    "# Initialize the ImageClassifier\n",
    "reg = ak.ImageRegressor(max_trials=10)"
   ],
   "metadata": {
    "collapsed": false,
    "pycharm": {
     "name": "#%%\n"
    }
   }
  },
  {
   "cell_type": "code",
   "execution_count": null,
   "outputs": [],
   "source": [
    "# Fit the classifier to the data\n",
    "reg.fit(X, y, epochs=500)"
   ],
   "metadata": {
    "collapsed": false,
    "pycharm": {
     "name": "#%%\n",
     "is_executing": true
    }
   }
  },
  {
   "cell_type": "code",
   "execution_count": 41,
   "outputs": [
    {
     "name": "stdout",
     "output_type": "stream",
     "text": [
      "Image: data_jpeg/CoreID85.jpeg\n",
      "1/1 [==============================] - 1s 984ms/step\n",
      "1/1 [==============================] - 0s 31ms/step\n",
      "Predicted gene expression: 0.10627148\n",
      "ground truth: 90\n",
      "ground truth: 0.30552588254514773\n"
     ]
    }
   ],
   "source": [
    "import random\n",
    "\n",
    "# Load a new image and resize it to (64, 64)\n",
    "imgname = 'data_jpeg/CoreID{}.jpeg'.format(random.randint(1, 100))\n",
    "print(\"Image:\", imgname)\n",
    "img = Image.open(imgname)\n",
    "img = img.resize((64, 64))\n",
    "\n",
    "# Convert the image to a numpy array and normalize the pixel values\n",
    "img = np.array(img) / 255.0\n",
    "\n",
    "# Reshape the image to a 4-dimensional tensor\n",
    "img = np.reshape(img, (1, 64, 64, 3))\n",
    "\n",
    "# Use the model to make a prediction\n",
    "prediction = reg.predict(img)\n",
    "\n",
    "# Print the predicted gene expression value\n",
    "print(\"Predicted gene expression:\", prediction[0][0])\n",
    "print(\"ground truth index:\", df[df['path'] == imgname]['CD79B'].index[0])\n",
    "print(\"ground truth:\", df[df['path'] == imgname]['CD79B'].values[0])"
   ],
   "metadata": {
    "collapsed": false,
    "pycharm": {
     "name": "#%%\n"
    }
   }
  }
 ],
 "metadata": {
  "kernelspec": {
   "display_name": "Python 3",
   "language": "python",
   "name": "python3"
  },
  "language_info": {
   "codemirror_mode": {
    "name": "ipython",
    "version": 2
   },
   "file_extension": ".py",
   "mimetype": "text/x-python",
   "name": "python",
   "nbconvert_exporter": "python",
   "pygments_lexer": "ipython2",
   "version": "2.7.6"
  }
 },
 "nbformat": 4,
 "nbformat_minor": 0
}