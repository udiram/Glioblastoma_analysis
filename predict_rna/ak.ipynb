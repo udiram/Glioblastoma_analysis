{
 "cells": [
  {
   "cell_type": "code",
   "execution_count": 1,
   "outputs": [],
   "source": [
    "# Import the necessary libraries\n",
    "import numpy as np\n",
    "import pandas as pd\n",
    "import autokeras as ak\n",
    "import cv2\n",
    "from sklearn.model_selection import train_test_split\n"
   ],
   "metadata": {
    "collapsed": false,
    "pycharm": {
     "name": "#%%\n"
    }
   }
  },
  {
   "cell_type": "code",
   "execution_count": 2,
   "outputs": [],
   "source": [
    "# Load the data\n",
    "data = pd.read_csv(\"df_train.csv\")\n",
    "image_paths = data[\"path\"].values\n",
    "# y = data[['CD79B', 'MAP2K3', 'IMPDH1', 'SLC16A3', 'MPZL3', 'APOBR']].values\n",
    "y = data[['CD79B']].values\n",
    "# normalise the data\n",
    "y = (y - y.min()) / (y.max() - y.min())"
   ],
   "metadata": {
    "collapsed": false,
    "pycharm": {
     "name": "#%%\n"
    }
   }
  },
  {
   "cell_type": "code",
   "execution_count": 3,
   "outputs": [
    {
     "data": {
      "text/plain": "array([[0.27170703],\n       [0.25596037],\n       [0.24647709],\n       [0.34071728],\n       [0.51162946],\n       [0.33129341],\n       [0.33216435],\n       [0.26700441],\n       [0.59895417],\n       [0.38402313],\n       [0.56070451],\n       [0.42497275],\n       [0.03828599],\n       [0.12562039],\n       [0.15567704],\n       [0.21246369],\n       [0.09733596],\n       [0.00694589],\n       [1.        ],\n       [0.22399262],\n       [0.40647989],\n       [0.35321914],\n       [0.18946713],\n       [0.14943887],\n       [0.09673707],\n       [0.40416421],\n       [0.4000886 ],\n       [0.15390121],\n       [0.27889927],\n       [0.1816147 ],\n       [0.19934424],\n       [0.18930892],\n       [0.39397519],\n       [0.14943887],\n       [0.27170703],\n       [0.23677327],\n       [0.69391428],\n       [0.65766195],\n       [0.71314273],\n       [0.25860687],\n       [0.0962788 ],\n       [0.28316967],\n       [0.80444688],\n       [0.52413162],\n       [0.53152688],\n       [0.18540009],\n       [0.3439564 ],\n       [0.26406527],\n       [0.37622659],\n       [0.77132004],\n       [0.83414058],\n       [0.3277466 ],\n       [0.35321914],\n       [0.57135013],\n       [0.5838126 ],\n       [0.14943887],\n       [0.        ],\n       [0.23173474],\n       [0.45854377],\n       [0.53682314],\n       [0.30720424],\n       [0.26186936],\n       [0.21224785],\n       [0.2076618 ],\n       [0.17809547],\n       [0.23836117],\n       [0.26551624],\n       [0.45510927],\n       [0.33754373],\n       [0.35453385],\n       [0.59153844],\n       [0.36575946],\n       [0.08905953],\n       [0.55699941],\n       [0.32590838],\n       [0.67816606],\n       [0.08930698],\n       [0.07032417],\n       [0.34771156],\n       [0.56832054],\n       [0.14943887],\n       [0.27412022],\n       [0.13072435],\n       [0.50905111],\n       [0.33284111],\n       [0.30431187],\n       [0.22309439],\n       [0.19528943],\n       [0.42250443],\n       [0.2076618 ],\n       [0.30552588],\n       [0.1639946 ],\n       [0.0665452 ],\n       [0.12165065],\n       [0.55699941],\n       [0.33916533],\n       [0.07302126],\n       [0.38075701],\n       [0.01358535]])"
     },
     "execution_count": 3,
     "metadata": {},
     "output_type": "execute_result"
    }
   ],
   "source": [
    "y"
   ],
   "metadata": {
    "collapsed": false,
    "pycharm": {
     "name": "#%%\n"
    }
   }
  },
  {
   "cell_type": "code",
   "execution_count": 4,
   "outputs": [],
   "source": [
    "# Read the images\n",
    "X = []\n",
    "for path in image_paths:\n",
    "    img = cv2.imread('data/' + path)\n",
    "    X.append(img)\n",
    "X = np.array(X)"
   ],
   "metadata": {
    "collapsed": false,
    "pycharm": {
     "name": "#%%\n"
    }
   }
  },
  {
   "cell_type": "code",
   "execution_count": 5,
   "outputs": [],
   "source": [
    "# Split the data into training and testing sets\n",
    "X_train, X_test, y_train, y_test = train_test_split(X, y, test_size=0.2)"
   ],
   "metadata": {
    "collapsed": false,
    "pycharm": {
     "name": "#%%\n"
    }
   }
  },
  {
   "cell_type": "code",
   "execution_count": 6,
   "outputs": [
    {
     "name": "stdout",
     "output_type": "stream",
     "text": [
      "INFO:tensorflow:Reloading Oracle from existing project .\\image_regressor\\oracle.json\n",
      "INFO:tensorflow:Reloading Tuner from .\\image_regressor\\tuner0.json\n"
     ]
    }
   ],
   "source": [
    "# Instantiate an AutoKeras multi-class regressor\n",
    "clf = ak.ImageRegressor(output_dim=1)"
   ],
   "metadata": {
    "collapsed": false,
    "pycharm": {
     "name": "#%%\n"
    }
   }
  },
  {
   "cell_type": "code",
   "execution_count": 7,
   "outputs": [
    {
     "name": "stdout",
     "output_type": "stream",
     "text": [
      "Trial 14 Complete [00h 01m 34s]\n",
      "val_loss: nan\n",
      "\n",
      "Best val_loss So Far: nan\n",
      "Total elapsed time: 00h 03m 11s\n",
      "\n",
      "Search: Running Trial #15\n",
      "\n",
      "Value             |Best Value So Far |Hyperparameter\n",
      "False             |False             |image_block_1/normalize\n",
      "False             |False             |image_block_1/augment\n",
      "resnet            |resnet            |image_block_1/block_type\n",
      "False             |False             |image_block_1/res_net_block_1/pretrained\n",
      "resnet50          |resnet50          |image_block_1/res_net_block_1/version\n",
      "False             |False             |image_block_1/res_net_block_1/imagenet_size\n",
      "0                 |0                 |regression_head_1/dropout\n",
      "sgd               |sgd               |optimizer\n",
      "0.0001            |0.001             |learning_rate\n",
      "\n",
      "Epoch 1/10\n",
      "Not enough memory, reduce batch size to 16.\n",
      "Epoch 1/10\n",
      "Not enough memory, reduce batch size to 8.\n",
      "Epoch 1/10\n",
      "Not enough memory, reduce batch size to 4.\n",
      "Epoch 1/10\n",
      "      6/Unknown - 2s 274ms/step - loss: nan - mean_squared_error: nanWARNING:tensorflow:Callback method `on_train_batch_end` is slow compared to the batch time (batch time: 0.1220s vs `on_train_batch_end` time: 0.1531s). Check your callbacks.\n",
      "16/16 [==============================] - 6s 343ms/step - loss: nan - mean_squared_error: nan - val_loss: nan - val_mean_squared_error: nan\n",
      "Epoch 2/10\n",
      "16/16 [==============================] - 5s 285ms/step - loss: nan - mean_squared_error: nan - val_loss: nan - val_mean_squared_error: nan\n",
      "Epoch 3/10\n",
      "16/16 [==============================] - 4s 277ms/step - loss: nan - mean_squared_error: nan - val_loss: nan - val_mean_squared_error: nan\n",
      "Epoch 4/10\n",
      "16/16 [==============================] - 4s 278ms/step - loss: nan - mean_squared_error: nan - val_loss: nan - val_mean_squared_error: nan\n",
      "Epoch 5/10\n",
      "16/16 [==============================] - 4s 276ms/step - loss: nan - mean_squared_error: nan - val_loss: nan - val_mean_squared_error: nan\n",
      "Epoch 6/10\n",
      "16/16 [==============================] - 4s 277ms/step - loss: nan - mean_squared_error: nan - val_loss: nan - val_mean_squared_error: nan\n",
      "Epoch 7/10\n",
      "16/16 [==============================] - 4s 280ms/step - loss: nan - mean_squared_error: nan - val_loss: nan - val_mean_squared_error: nan\n",
      "Epoch 8/10\n",
      "16/16 [==============================] - 4s 276ms/step - loss: nan - mean_squared_error: nan - val_loss: nan - val_mean_squared_error: nan\n",
      "Epoch 9/10\n",
      "16/16 [==============================] - 4s 276ms/step - loss: nan - mean_squared_error: nan - val_loss: nan - val_mean_squared_error: nan\n",
      "Epoch 10/10\n",
      " 1/16 [>.............................] - ETA: 4s - loss: nan - mean_squared_error: nan"
     ]
    },
    {
     "name": "stderr",
     "output_type": "stream",
     "text": [
      "\n",
      "KeyboardInterrupt\n",
      "\n"
     ]
    }
   ],
   "source": [
    "# Fit the regressor to the data\n",
    "clf.fit(X_train, y_train, epochs=10)"
   ],
   "metadata": {
    "collapsed": false,
    "pycharm": {
     "name": "#%%\n"
    }
   }
  }
 ],
 "metadata": {
  "kernelspec": {
   "display_name": "Python 3",
   "language": "python",
   "name": "python3"
  },
  "language_info": {
   "codemirror_mode": {
    "name": "ipython",
    "version": 2
   },
   "file_extension": ".py",
   "mimetype": "text/x-python",
   "name": "python",
   "nbconvert_exporter": "python",
   "pygments_lexer": "ipython2",
   "version": "2.7.6"
  }
 },
 "nbformat": 4,
 "nbformat_minor": 0
}