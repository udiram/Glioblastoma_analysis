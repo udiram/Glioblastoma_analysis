{
 "cells": [
  {
   "cell_type": "code",
   "execution_count": 101,
   "outputs": [],
   "source": [
    "import re\n",
    "import pandas as pd\n",
    "import os"
   ],
   "metadata": {
    "collapsed": false,
    "pycharm": {
     "name": "#%%\n"
    }
   }
  },
  {
   "cell_type": "code",
   "execution_count": 102,
   "outputs": [
    {
     "data": {
      "text/plain": "  TargetName  TMA 27 R1 | 001 | Geometric Segment  \\\n0      ATP7B                            49.983944   \n1       ERN1                            60.775932   \n2      KRT74                            31.239965   \n3    SPECC1L                            46.007948   \n4      FOXJ1                            45.439949   \n\n   TMA 27 R1 | 002 | Geometric Segment  TMA 27 R1 | 003 | Geometric Segment  \\\n0                            46.519148                            51.213741   \n1                            49.501144                            42.021531   \n2                            34.591161                            26.920043   \n3                            47.115547                            43.991290   \n4                            54.272339                            55.153259   \n\n   TMA 27 R1 | 004 | Geometric Segment  TMA 27 R1 | 005 | Geometric Segment  \\\n0                            45.655397                            60.557470   \n1                            50.591115                            49.547021   \n2                            44.421467                            39.637617   \n3                            33.316100                            45.142841   \n4                            59.228623                            67.163740   \n\n   TMA 27 R1 | 006 | Geometric Segment  TMA 27 R1 | 007 | Geometric Segment  \\\n0                            49.202945                            71.567919   \n1                            53.675940                            51.119942   \n2                            32.801963                            71.567919   \n3                            38.765956                            30.671965   \n4                            38.765956                            40.895954   \n\n   TMA 27 R1 | 008 | Geometric Segment  TMA 27 R1 | 009 | Geometric Segment  \\\n0                            63.148164                            39.246924   \n1                            75.777797                            41.555566   \n2                            54.728409                            39.246924   \n3                            42.098776                            32.320996   \n4                            25.259266                            50.790136   \n\n   ...  TMA 27 R4 (1) | 047 | Geometric Segment  \\\n0  ...                                59.639933   \n1  ...                                67.393124   \n2  ...                                50.097544   \n3  ...                                48.904745   \n4  ...                                50.693943   \n\n   TMA 27 R4 (1) | 048 | Geometric Segment  \\\n0                                65.177927   \n1                                85.625904   \n2                                58.787934   \n3                                56.870936   \n4                                53.036940   \n\n   TMA 27 R4 (1) | 049 | Geometric Segment  \\\n0                                51.553162   \n1                                61.257287   \n2                                48.520623   \n3                                53.979193   \n4                                57.011732   \n\n   TMA 27 R4 (1) | 050 | Geometric Segment  \\\n0                                53.868326   \n1                                56.176969   \n2                                40.016471   \n3                                44.633756   \n4                                53.098779   \n\n   TMA 27 R4 (1) | 051 | Geometric Segment  \\\n0                                47.937003   \n1                                51.312848   \n2                                52.663186   \n3                                46.586665   \n4                                49.287341   \n\n   TMA 27 R4 (1) | 052 | Geometric Segment  \\\n0                                56.538656   \n1                                69.420882   \n2                                47.234827   \n3                                51.528902   \n4                                52.960260   \n\n   TMA 27 R4 (1) | 053 | Geometric Segment  \\\n0                                63.872444   \n1                                59.255159   \n2                                56.176969   \n3                                54.637874   \n4                                44.633756   \n\n   TMA 27 R4 (1) | 054 | Geometric Segment  \\\n0                                55.789166   \n1                                62.551489   \n2                                48.463316   \n3                                53.535058   \n4                                56.352692   \n\n   TMA 27 R4 (1) | 055 | Geometric Segment  \\\n0                                55.107298   \n1                                52.960260   \n2                                30.774205   \n3                                52.960260   \n4                                20.754697   \n\n   TMA 27 R4 (1) | 056 | Geometric Segment  \n0                                46.889327  \n1                                48.123256  \n2                                40.719678  \n3                                62.313447  \n4                                27.763417  \n\n[5 rows x 273 columns]",
      "text/html": "<div>\n<style scoped>\n    .dataframe tbody tr th:only-of-type {\n        vertical-align: middle;\n    }\n\n    .dataframe tbody tr th {\n        vertical-align: top;\n    }\n\n    .dataframe thead th {\n        text-align: right;\n    }\n</style>\n<table border=\"1\" class=\"dataframe\">\n  <thead>\n    <tr style=\"text-align: right;\">\n      <th></th>\n      <th>TargetName</th>\n      <th>TMA 27 R1 | 001 | Geometric Segment</th>\n      <th>TMA 27 R1 | 002 | Geometric Segment</th>\n      <th>TMA 27 R1 | 003 | Geometric Segment</th>\n      <th>TMA 27 R1 | 004 | Geometric Segment</th>\n      <th>TMA 27 R1 | 005 | Geometric Segment</th>\n      <th>TMA 27 R1 | 006 | Geometric Segment</th>\n      <th>TMA 27 R1 | 007 | Geometric Segment</th>\n      <th>TMA 27 R1 | 008 | Geometric Segment</th>\n      <th>TMA 27 R1 | 009 | Geometric Segment</th>\n      <th>...</th>\n      <th>TMA 27 R4 (1) | 047 | Geometric Segment</th>\n      <th>TMA 27 R4 (1) | 048 | Geometric Segment</th>\n      <th>TMA 27 R4 (1) | 049 | Geometric Segment</th>\n      <th>TMA 27 R4 (1) | 050 | Geometric Segment</th>\n      <th>TMA 27 R4 (1) | 051 | Geometric Segment</th>\n      <th>TMA 27 R4 (1) | 052 | Geometric Segment</th>\n      <th>TMA 27 R4 (1) | 053 | Geometric Segment</th>\n      <th>TMA 27 R4 (1) | 054 | Geometric Segment</th>\n      <th>TMA 27 R4 (1) | 055 | Geometric Segment</th>\n      <th>TMA 27 R4 (1) | 056 | Geometric Segment</th>\n    </tr>\n  </thead>\n  <tbody>\n    <tr>\n      <th>0</th>\n      <td>ATP7B</td>\n      <td>49.983944</td>\n      <td>46.519148</td>\n      <td>51.213741</td>\n      <td>45.655397</td>\n      <td>60.557470</td>\n      <td>49.202945</td>\n      <td>71.567919</td>\n      <td>63.148164</td>\n      <td>39.246924</td>\n      <td>...</td>\n      <td>59.639933</td>\n      <td>65.177927</td>\n      <td>51.553162</td>\n      <td>53.868326</td>\n      <td>47.937003</td>\n      <td>56.538656</td>\n      <td>63.872444</td>\n      <td>55.789166</td>\n      <td>55.107298</td>\n      <td>46.889327</td>\n    </tr>\n    <tr>\n      <th>1</th>\n      <td>ERN1</td>\n      <td>60.775932</td>\n      <td>49.501144</td>\n      <td>42.021531</td>\n      <td>50.591115</td>\n      <td>49.547021</td>\n      <td>53.675940</td>\n      <td>51.119942</td>\n      <td>75.777797</td>\n      <td>41.555566</td>\n      <td>...</td>\n      <td>67.393124</td>\n      <td>85.625904</td>\n      <td>61.257287</td>\n      <td>56.176969</td>\n      <td>51.312848</td>\n      <td>69.420882</td>\n      <td>59.255159</td>\n      <td>62.551489</td>\n      <td>52.960260</td>\n      <td>48.123256</td>\n    </tr>\n    <tr>\n      <th>2</th>\n      <td>KRT74</td>\n      <td>31.239965</td>\n      <td>34.591161</td>\n      <td>26.920043</td>\n      <td>44.421467</td>\n      <td>39.637617</td>\n      <td>32.801963</td>\n      <td>71.567919</td>\n      <td>54.728409</td>\n      <td>39.246924</td>\n      <td>...</td>\n      <td>50.097544</td>\n      <td>58.787934</td>\n      <td>48.520623</td>\n      <td>40.016471</td>\n      <td>52.663186</td>\n      <td>47.234827</td>\n      <td>56.176969</td>\n      <td>48.463316</td>\n      <td>30.774205</td>\n      <td>40.719678</td>\n    </tr>\n    <tr>\n      <th>3</th>\n      <td>SPECC1L</td>\n      <td>46.007948</td>\n      <td>47.115547</td>\n      <td>43.991290</td>\n      <td>33.316100</td>\n      <td>45.142841</td>\n      <td>38.765956</td>\n      <td>30.671965</td>\n      <td>42.098776</td>\n      <td>32.320996</td>\n      <td>...</td>\n      <td>48.904745</td>\n      <td>56.870936</td>\n      <td>53.979193</td>\n      <td>44.633756</td>\n      <td>46.586665</td>\n      <td>51.528902</td>\n      <td>54.637874</td>\n      <td>53.535058</td>\n      <td>52.960260</td>\n      <td>62.313447</td>\n    </tr>\n    <tr>\n      <th>4</th>\n      <td>FOXJ1</td>\n      <td>45.439949</td>\n      <td>54.272339</td>\n      <td>55.153259</td>\n      <td>59.228623</td>\n      <td>67.163740</td>\n      <td>38.765956</td>\n      <td>40.895954</td>\n      <td>25.259266</td>\n      <td>50.790136</td>\n      <td>...</td>\n      <td>50.693943</td>\n      <td>53.036940</td>\n      <td>57.011732</td>\n      <td>53.098779</td>\n      <td>49.287341</td>\n      <td>52.960260</td>\n      <td>44.633756</td>\n      <td>56.352692</td>\n      <td>20.754697</td>\n      <td>27.763417</td>\n    </tr>\n  </tbody>\n</table>\n<p>5 rows × 273 columns</p>\n</div>"
     },
     "execution_count": 102,
     "metadata": {},
     "output_type": "execute_result"
    }
   ],
   "source": [
    "df = pd.read_csv('X_trainGBM.csv', index_col=0)\n",
    "df.head()"
   ],
   "metadata": {
    "collapsed": false,
    "pycharm": {
     "name": "#%%\n"
    }
   }
  },
  {
   "cell_type": "code",
   "execution_count": 103,
   "outputs": [],
   "source": [
    "rna_of_interest = ['CD79B', 'MAP2K3', 'IMPDH1', 'SLC16A3', 'MPZL3', 'APOBR']\n",
    "df_of_interest = df[df['TargetName'].isin(rna_of_interest)]"
   ],
   "metadata": {
    "collapsed": false,
    "pycharm": {
     "name": "#%%\n"
    }
   }
  },
  {
   "cell_type": "code",
   "execution_count": 104,
   "outputs": [
    {
     "data": {
      "text/plain": "      TargetName  TMA 27 R1 | 001 | Geometric Segment  \\\n1432       MPZL3                            56.799936   \n5453       APOBR                            43.735951   \n9930      MAP2K3                            81.791908   \n11104     IMPDH1                           103.375884   \n12443    SLC16A3                            75.543915   \n12647      CD79B                           148.247833   \n\n       TMA 27 R1 | 002 | Geometric Segment  \\\n1432                             72.164319   \n5453                             31.609164   \n9930                             75.146315   \n11104                           112.719473   \n12443                            73.953517   \n12647                           152.678228   \n\n       TMA 27 R1 | 003 | Geometric Segment  \\\n1432                             50.557154   \n5453                             42.678117   \n9930                             73.537679   \n11104                           103.740654   \n12443                            72.881092   \n12647                           122.781660   \n\n       TMA 27 R1 | 004 | Geometric Segment  \\\n1432                             74.035779   \n5453                             51.825045   \n9930                             66.632201   \n11104                            69.100060   \n12443                           145.603698   \n12647                           144.369769   \n\n       TMA 27 R1 | 005 | Geometric Segment  \\\n1432                             55.052246   \n5453                             36.334482   \n9930                             64.961650   \n11104                            84.780458   \n12443                           128.822255   \n12647                           156.348378   \n\n       TMA 27 R1 | 006 | Geometric Segment  \\\n1432                             68.585923   \n5453                             38.765956   \n9930                             64.112928   \n11104                            89.459899   \n12443                            84.986904   \n12647                           123.752861   \n\n       TMA 27 R1 | 007 | Geometric Segment  \\\n1432                             76.679914   \n5453                             66.455925   \n9930                            102.239885   \n11104                            61.343931   \n12443                           107.351879   \n12647                            81.791908   \n\n       TMA 27 R1 | 008 | Geometric Segment  \\\n1432                             92.617308   \n5453                             46.308654   \n9930                             50.518531   \n11104                            67.358042   \n12443                            50.518531   \n12647                            96.827185   \n\n       TMA 27 R1 | 009 | Geometric Segment  ...  \\\n1432                             46.172851  ...   \n5453                             36.938281  ...   \n9930                             66.950634  ...   \n11104                            80.802490  ...   \n12443                            73.876562  ...   \n12647                           115.432128  ...   \n\n       TMA 27 R4 (1) | 047 | Geometric Segment  \\\n1432                                 96.616691   \n5453                                 44.729950   \n9930                                 72.164319   \n11104                                81.110309   \n12443                                90.652698   \n12647                               101.387886   \n\n       TMA 27 R4 (1) | 048 | Geometric Segment  \\\n1432                                 91.376897   \n5453                                 42.812952   \n9930                                 65.816926   \n11104                                95.210893   \n12443                                83.069907   \n12647                                83.069907   \n\n       TMA 27 R4 (1) | 049 | Geometric Segment  \\\n1432                                 92.795692   \n5453                                 35.783960   \n9930                                 75.206966   \n11104                                72.780935   \n12443                                67.928873   \n12647                                91.582677   \n\n       TMA 27 R4 (1) | 050 | Geometric Segment  \\\n1432                                 94.654345   \n5453                                 45.403304   \n9930                                 60.024707   \n11104                                90.806607   \n12443                                81.572037   \n12647                                95.423893   \n\n       TMA 27 R4 (1) | 051 | Geometric Segment  \\\n1432                                 74.268596   \n5453                                 37.134298   \n9930                                 73.593427   \n11104                                79.669948   \n12443                                73.593427   \n12647                                83.045793   \n\n       TMA 27 R4 (1) | 052 | Geometric Segment  \\\n1432                                 77.293353   \n5453                                 48.666185   \n9930                                 62.264090   \n11104                                79.440391   \n12443                                96.616691   \n12647                               100.910766   \n\n       TMA 27 R4 (1) | 053 | Geometric Segment  \\\n1432                                 83.880680   \n5453                                 38.477376   \n9930                                 53.098779   \n11104                                79.263395   \n12443                                95.423893   \n12647                                99.271630   \n\n       TMA 27 R4 (1) | 054 | Geometric Segment  \\\n1432                                 81.147877   \n5453                                 43.391573   \n9930                                 53.535058   \n11104                                78.330243   \n12443                                92.418416   \n12647                                82.274931   \n\n       TMA 27 R4 (1) | 055 | Geometric Segment  \\\n1432                                 47.950506   \n5453                                 40.793714   \n9930                                 93.753974   \n11104                               100.910766   \n12443                               251.203397   \n12647                                71.567919   \n\n       TMA 27 R4 (1) | 056 | Geometric Segment  \n1432                                 58.611658  \n5453                                 33.933065  \n9930                                 89.459899  \n11104                                91.310794  \n12443                               204.832321  \n12647                                61.696482  \n\n[6 rows x 273 columns]",
      "text/html": "<div>\n<style scoped>\n    .dataframe tbody tr th:only-of-type {\n        vertical-align: middle;\n    }\n\n    .dataframe tbody tr th {\n        vertical-align: top;\n    }\n\n    .dataframe thead th {\n        text-align: right;\n    }\n</style>\n<table border=\"1\" class=\"dataframe\">\n  <thead>\n    <tr style=\"text-align: right;\">\n      <th></th>\n      <th>TargetName</th>\n      <th>TMA 27 R1 | 001 | Geometric Segment</th>\n      <th>TMA 27 R1 | 002 | Geometric Segment</th>\n      <th>TMA 27 R1 | 003 | Geometric Segment</th>\n      <th>TMA 27 R1 | 004 | Geometric Segment</th>\n      <th>TMA 27 R1 | 005 | Geometric Segment</th>\n      <th>TMA 27 R1 | 006 | Geometric Segment</th>\n      <th>TMA 27 R1 | 007 | Geometric Segment</th>\n      <th>TMA 27 R1 | 008 | Geometric Segment</th>\n      <th>TMA 27 R1 | 009 | Geometric Segment</th>\n      <th>...</th>\n      <th>TMA 27 R4 (1) | 047 | Geometric Segment</th>\n      <th>TMA 27 R4 (1) | 048 | Geometric Segment</th>\n      <th>TMA 27 R4 (1) | 049 | Geometric Segment</th>\n      <th>TMA 27 R4 (1) | 050 | Geometric Segment</th>\n      <th>TMA 27 R4 (1) | 051 | Geometric Segment</th>\n      <th>TMA 27 R4 (1) | 052 | Geometric Segment</th>\n      <th>TMA 27 R4 (1) | 053 | Geometric Segment</th>\n      <th>TMA 27 R4 (1) | 054 | Geometric Segment</th>\n      <th>TMA 27 R4 (1) | 055 | Geometric Segment</th>\n      <th>TMA 27 R4 (1) | 056 | Geometric Segment</th>\n    </tr>\n  </thead>\n  <tbody>\n    <tr>\n      <th>1432</th>\n      <td>MPZL3</td>\n      <td>56.799936</td>\n      <td>72.164319</td>\n      <td>50.557154</td>\n      <td>74.035779</td>\n      <td>55.052246</td>\n      <td>68.585923</td>\n      <td>76.679914</td>\n      <td>92.617308</td>\n      <td>46.172851</td>\n      <td>...</td>\n      <td>96.616691</td>\n      <td>91.376897</td>\n      <td>92.795692</td>\n      <td>94.654345</td>\n      <td>74.268596</td>\n      <td>77.293353</td>\n      <td>83.880680</td>\n      <td>81.147877</td>\n      <td>47.950506</td>\n      <td>58.611658</td>\n    </tr>\n    <tr>\n      <th>5453</th>\n      <td>APOBR</td>\n      <td>43.735951</td>\n      <td>31.609164</td>\n      <td>42.678117</td>\n      <td>51.825045</td>\n      <td>36.334482</td>\n      <td>38.765956</td>\n      <td>66.455925</td>\n      <td>46.308654</td>\n      <td>36.938281</td>\n      <td>...</td>\n      <td>44.729950</td>\n      <td>42.812952</td>\n      <td>35.783960</td>\n      <td>45.403304</td>\n      <td>37.134298</td>\n      <td>48.666185</td>\n      <td>38.477376</td>\n      <td>43.391573</td>\n      <td>40.793714</td>\n      <td>33.933065</td>\n    </tr>\n    <tr>\n      <th>9930</th>\n      <td>MAP2K3</td>\n      <td>81.791908</td>\n      <td>75.146315</td>\n      <td>73.537679</td>\n      <td>66.632201</td>\n      <td>64.961650</td>\n      <td>64.112928</td>\n      <td>102.239885</td>\n      <td>50.518531</td>\n      <td>66.950634</td>\n      <td>...</td>\n      <td>72.164319</td>\n      <td>65.816926</td>\n      <td>75.206966</td>\n      <td>60.024707</td>\n      <td>73.593427</td>\n      <td>62.264090</td>\n      <td>53.098779</td>\n      <td>53.535058</td>\n      <td>93.753974</td>\n      <td>89.459899</td>\n    </tr>\n    <tr>\n      <th>11104</th>\n      <td>IMPDH1</td>\n      <td>103.375884</td>\n      <td>112.719473</td>\n      <td>103.740654</td>\n      <td>69.100060</td>\n      <td>84.780458</td>\n      <td>89.459899</td>\n      <td>61.343931</td>\n      <td>67.358042</td>\n      <td>80.802490</td>\n      <td>...</td>\n      <td>81.110309</td>\n      <td>95.210893</td>\n      <td>72.780935</td>\n      <td>90.806607</td>\n      <td>79.669948</td>\n      <td>79.440391</td>\n      <td>79.263395</td>\n      <td>78.330243</td>\n      <td>100.910766</td>\n      <td>91.310794</td>\n    </tr>\n    <tr>\n      <th>12443</th>\n      <td>SLC16A3</td>\n      <td>75.543915</td>\n      <td>73.953517</td>\n      <td>72.881092</td>\n      <td>145.603698</td>\n      <td>128.822255</td>\n      <td>84.986904</td>\n      <td>107.351879</td>\n      <td>50.518531</td>\n      <td>73.876562</td>\n      <td>...</td>\n      <td>90.652698</td>\n      <td>83.069907</td>\n      <td>67.928873</td>\n      <td>81.572037</td>\n      <td>73.593427</td>\n      <td>96.616691</td>\n      <td>95.423893</td>\n      <td>92.418416</td>\n      <td>251.203397</td>\n      <td>204.832321</td>\n    </tr>\n    <tr>\n      <th>12647</th>\n      <td>CD79B</td>\n      <td>148.247833</td>\n      <td>152.678228</td>\n      <td>122.781660</td>\n      <td>144.369769</td>\n      <td>156.348378</td>\n      <td>123.752861</td>\n      <td>81.791908</td>\n      <td>96.827185</td>\n      <td>115.432128</td>\n      <td>...</td>\n      <td>101.387886</td>\n      <td>83.069907</td>\n      <td>91.582677</td>\n      <td>95.423893</td>\n      <td>83.045793</td>\n      <td>100.910766</td>\n      <td>99.271630</td>\n      <td>82.274931</td>\n      <td>71.567919</td>\n      <td>61.696482</td>\n    </tr>\n  </tbody>\n</table>\n<p>6 rows × 273 columns</p>\n</div>"
     },
     "execution_count": 104,
     "metadata": {},
     "output_type": "execute_result"
    }
   ],
   "source": [
    "df_of_interest"
   ],
   "metadata": {
    "collapsed": false,
    "pycharm": {
     "name": "#%%\n"
    }
   }
  },
  {
   "cell_type": "code",
   "execution_count": 105,
   "outputs": [],
   "source": [
    "df_of_interest.to_csv('X_trainGBM_of_interest.csv', index=False)"
   ],
   "metadata": {
    "collapsed": false,
    "pycharm": {
     "name": "#%%\n"
    }
   }
  },
  {
   "cell_type": "code",
   "execution_count": 106,
   "outputs": [
    {
     "data": {
      "text/plain": "                    SegmentDisplayName  CoreID                 Tumor_Type  \\\n0  TMA 27 R1 | 007 | Geometric Segment       2              Invasive Edge   \n1  TMA 27 R1 | 015 | Geometric Segment       3  Pseudopalisading Necrosis   \n2  TMA 27 R1 | 028 | Geometric Segment       4  Pseudopalisading Necrosis   \n3  TMA 27 R1 | 038 | Geometric Segment       6             Cellular Tumor   \n4  TMA 27 R1 | 048 | Geometric Segment       7              Invasive Edge   \n\n   PtID Sex     Age   Dx    Pri_Rec IDH           Block  Row  Column  \n0     2   F  49.895  GBM    Primary  ND  NP-11-17045-B3    1       3  \n1     2   F  49.895  GBM  Recurrent  ND  NP-14-31147-A1    1       4  \n2     2   F  49.895  GBM  Recurrent  ND  NP-14-31147-A1    1       5  \n3     3   F  66.683  GBM    Primary  ND  NP-13-26842-B1    1       7  \n4     3   F  66.683  GBM    Primary  ND  NP-13-26842-B1    1       8  ",
      "text/html": "<div>\n<style scoped>\n    .dataframe tbody tr th:only-of-type {\n        vertical-align: middle;\n    }\n\n    .dataframe tbody tr th {\n        vertical-align: top;\n    }\n\n    .dataframe thead th {\n        text-align: right;\n    }\n</style>\n<table border=\"1\" class=\"dataframe\">\n  <thead>\n    <tr style=\"text-align: right;\">\n      <th></th>\n      <th>SegmentDisplayName</th>\n      <th>CoreID</th>\n      <th>Tumor_Type</th>\n      <th>PtID</th>\n      <th>Sex</th>\n      <th>Age</th>\n      <th>Dx</th>\n      <th>Pri_Rec</th>\n      <th>IDH</th>\n      <th>Block</th>\n      <th>Row</th>\n      <th>Column</th>\n    </tr>\n  </thead>\n  <tbody>\n    <tr>\n      <th>0</th>\n      <td>TMA 27 R1 | 007 | Geometric Segment</td>\n      <td>2</td>\n      <td>Invasive Edge</td>\n      <td>2</td>\n      <td>F</td>\n      <td>49.895</td>\n      <td>GBM</td>\n      <td>Primary</td>\n      <td>ND</td>\n      <td>NP-11-17045-B3</td>\n      <td>1</td>\n      <td>3</td>\n    </tr>\n    <tr>\n      <th>1</th>\n      <td>TMA 27 R1 | 015 | Geometric Segment</td>\n      <td>3</td>\n      <td>Pseudopalisading Necrosis</td>\n      <td>2</td>\n      <td>F</td>\n      <td>49.895</td>\n      <td>GBM</td>\n      <td>Recurrent</td>\n      <td>ND</td>\n      <td>NP-14-31147-A1</td>\n      <td>1</td>\n      <td>4</td>\n    </tr>\n    <tr>\n      <th>2</th>\n      <td>TMA 27 R1 | 028 | Geometric Segment</td>\n      <td>4</td>\n      <td>Pseudopalisading Necrosis</td>\n      <td>2</td>\n      <td>F</td>\n      <td>49.895</td>\n      <td>GBM</td>\n      <td>Recurrent</td>\n      <td>ND</td>\n      <td>NP-14-31147-A1</td>\n      <td>1</td>\n      <td>5</td>\n    </tr>\n    <tr>\n      <th>3</th>\n      <td>TMA 27 R1 | 038 | Geometric Segment</td>\n      <td>6</td>\n      <td>Cellular Tumor</td>\n      <td>3</td>\n      <td>F</td>\n      <td>66.683</td>\n      <td>GBM</td>\n      <td>Primary</td>\n      <td>ND</td>\n      <td>NP-13-26842-B1</td>\n      <td>1</td>\n      <td>7</td>\n    </tr>\n    <tr>\n      <th>4</th>\n      <td>TMA 27 R1 | 048 | Geometric Segment</td>\n      <td>7</td>\n      <td>Invasive Edge</td>\n      <td>3</td>\n      <td>F</td>\n      <td>66.683</td>\n      <td>GBM</td>\n      <td>Primary</td>\n      <td>ND</td>\n      <td>NP-13-26842-B1</td>\n      <td>1</td>\n      <td>8</td>\n    </tr>\n  </tbody>\n</table>\n</div>"
     },
     "execution_count": 106,
     "metadata": {},
     "output_type": "execute_result"
    }
   ],
   "source": [
    "df_y = pd.read_excel('Only_Image_Y.xlsx')\n",
    "df_y.head()"
   ],
   "metadata": {
    "collapsed": false,
    "pycharm": {
     "name": "#%%\n"
    }
   }
  },
  {
   "cell_type": "code",
   "execution_count": 107,
   "outputs": [
    {
     "data": {
      "text/plain": "Empty DataFrame\nColumns: [CD79B, MAP2K3, IMPDH1, SLC16A3, MPZL3, APOBR]\nIndex: []",
      "text/html": "<div>\n<style scoped>\n    .dataframe tbody tr th:only-of-type {\n        vertical-align: middle;\n    }\n\n    .dataframe tbody tr th {\n        vertical-align: top;\n    }\n\n    .dataframe thead th {\n        text-align: right;\n    }\n</style>\n<table border=\"1\" class=\"dataframe\">\n  <thead>\n    <tr style=\"text-align: right;\">\n      <th></th>\n      <th>CD79B</th>\n      <th>MAP2K3</th>\n      <th>IMPDH1</th>\n      <th>SLC16A3</th>\n      <th>MPZL3</th>\n      <th>APOBR</th>\n    </tr>\n  </thead>\n  <tbody>\n  </tbody>\n</table>\n</div>"
     },
     "execution_count": 107,
     "metadata": {},
     "output_type": "execute_result"
    }
   ],
   "source": [
    "df_train = pd.DataFrame(columns=rna_of_interest)\n",
    "df_train.head()"
   ],
   "metadata": {
    "collapsed": false,
    "pycharm": {
     "name": "#%%\n"
    }
   }
  },
  {
   "cell_type": "code",
   "execution_count": 116,
   "outputs": [
    {
     "ename": "TypeError",
     "evalue": "can only concatenate str (not \"list\") to str",
     "output_type": "error",
     "traceback": [
      "\u001B[1;31m---------------------------------------------------------------------------\u001B[0m",
      "\u001B[1;31mTypeError\u001B[0m                                 Traceback (most recent call last)",
      "Cell \u001B[1;32mIn[116], line 1\u001B[0m\n\u001B[1;32m----> 1\u001B[0m df_train[\u001B[38;5;124m'\u001B[39m\u001B[38;5;124mpath\u001B[39m\u001B[38;5;124m'\u001B[39m] \u001B[38;5;241m=\u001B[39m \u001B[38;5;124;43m'\u001B[39;49m\u001B[38;5;124;43mdata/\u001B[39;49m\u001B[38;5;124;43m'\u001B[39;49m\u001B[43m \u001B[49m\u001B[38;5;241;43m+\u001B[39;49m\u001B[43m \u001B[49m\u001B[43mos\u001B[49m\u001B[38;5;241;43m.\u001B[39;49m\u001B[43mlistdir\u001B[49m\u001B[43m(\u001B[49m\u001B[38;5;124;43m'\u001B[39;49m\u001B[38;5;124;43mdata\u001B[39;49m\u001B[38;5;124;43m'\u001B[39;49m\u001B[43m)\u001B[49m\n\u001B[0;32m      2\u001B[0m df_train\u001B[38;5;241m.\u001B[39mhead()\n",
      "\u001B[1;31mTypeError\u001B[0m: can only concatenate str (not \"list\") to str"
     ]
    }
   ],
   "source": [
    "df_train['path'] = os.listdir('data')\n",
    "df_train.head()"
   ],
   "metadata": {
    "collapsed": false,
    "pycharm": {
     "name": "#%%\n"
    }
   }
  },
  {
   "cell_type": "code",
   "execution_count": 109,
   "outputs": [
    {
     "name": "stdout",
     "output_type": "stream",
     "text": [
      "101\n",
      "['TMA 27 R3 | 007 | Geometric Segment']\n",
      "102\n",
      "['TMA 27 R3 | 022 | Geometric Segment']\n",
      "105\n",
      "['TMA 27 R3 (1) | 007 | Geometric Segment']\n",
      "107\n",
      "['TMA 27 R3 (1) | 021 | Geometric Segment']\n",
      "108\n",
      "['TMA 27 R3 (1) | 028 | Geometric Segment']\n",
      "111\n",
      "['TMA 27 R3 | 025 | Geometric Segment']\n",
      "114\n",
      "['TMA 27 R3 (1) | 010 | Geometric Segment']\n",
      "119\n",
      "['TMA 27 R3 | 013 | Geometric Segment']\n",
      "12\n",
      "['TMA 27 R1 | 016 | Geometric Segment']\n",
      "120\n",
      "['TMA 27 R3 | 028 | Geometric Segment']\n",
      "122\n",
      "['TMA 27 R3 (1) | 001 | Geometric Segment']\n",
      "123\n",
      "['TMA 27 R3 (1) | 013 | Geometric Segment']\n",
      "124\n",
      "['TMA 27 R4 (1) | 001 | Geometric Segment']\n",
      "125\n",
      "['TMA 27 R4 (1) | 010 | Geometric Segment']\n",
      "126\n",
      "['TMA 27 R4 (1) | 019 | Geometric Segment']\n",
      "127\n",
      "['TMA 27 R4 (1) | 028 | Geometric Segment']\n",
      "128\n",
      "['TMA 27 R4 (1) | 033 | Geometric Segment']\n",
      "129\n",
      "['TMA 27 R4 (1) | 039 | Geometric Segment']\n",
      "13\n",
      "['TMA 27 R1 | 031 | Geometric Segment']\n",
      "130\n",
      "['TMA 27 R4 (1) | 043 | Geometric Segment']\n",
      "131\n",
      "['TMA 27 R4 (1) | 044 | Geometric Segment']\n",
      "132\n",
      "['TMA 27 R4 (1) | 050 | Geometric Segment']\n",
      "133\n",
      "['TMA 27 R4 (1) | 006 | Geometric Segment']\n",
      "135\n",
      "['TMA 27 R4 (1) | 022 | Geometric Segment']\n",
      "138\n",
      "['TMA 27 R4 (1) | 042 | Geometric Segment']\n",
      "140\n",
      "['TMA 27 R4 (1) | 047 | Geometric Segment']\n",
      "141\n",
      "['TMA 27 R4 (1) | 052 | Geometric Segment']\n",
      "142\n",
      "['TMA 27 R4 (1) | 007 | Geometric Segment']\n",
      "143\n",
      "['TMA 27 R4 (1) | 016 | Geometric Segment']\n",
      "144\n",
      "['TMA 27 R4 (1) | 025 | Geometric Segment']\n",
      "145\n",
      "['TMA 27 R4 (1) | 031 | Geometric Segment']\n",
      "146\n",
      "['TMA 27 R4 (1) | 036 | Geometric Segment']\n",
      "15\n",
      "['TMA 27 R1 | 040 | Geometric Segment']\n",
      "150\n",
      "['TMA 27 R4 (1) | 055 | Geometric Segment']\n",
      "16\n",
      "['TMA 27 R1 | 051 | Geometric Segment']\n",
      "2\n",
      "['TMA 27 R1 | 007 | Geometric Segment']\n",
      "21\n",
      "['TMA 27 R1 | 019 | Geometric Segment']\n",
      "22\n",
      "['TMA 27 R1 | 034 | Geometric Segment']\n",
      "23\n",
      "['TMA 27 R1 | 037 | Geometric Segment']\n",
      "24\n",
      "['TMA 27 R1 | 043 | Geometric Segment']\n",
      "25\n",
      "['TMA 27 R1 | 054 | Geometric Segment']\n",
      "26\n",
      "['TMA 27 R1 | 064 | Geometric Segment']\n",
      "28\n",
      "['TMA 27 R1 | 001 | Geometric Segment']\n",
      "29\n",
      "['TMA 27 R1 | 009 | Geometric Segment']\n",
      "3\n",
      "['TMA 27 R1 | 015 | Geometric Segment']\n",
      "30\n",
      "['TMA 27 R1 | 024 | Geometric Segment']\n",
      "33\n",
      "['TMA 27 R1 | 047 | Geometric Segment']\n",
      "34\n",
      "['TMA 27 R1 | 057 | Geometric Segment']\n",
      "35\n",
      "['TMA 27 R1 | 065 | Geometric Segment']\n",
      "37\n",
      "['TMA 27 R1 | 004 | Geometric Segment']\n",
      "38\n",
      "['TMA 27 R1 | 012 | Geometric Segment']\n",
      "39\n",
      "['TMA 27 R1 | 025 | Geometric Segment']\n",
      "4\n",
      "['TMA 27 R1 | 028 | Geometric Segment']\n",
      "41\n",
      "['TMA 27 R2 | 013 | Geometric Segment']\n",
      "42\n",
      "['TMA 27 R2 | 026 | Geometric Segment']\n",
      "44\n",
      "['TMA 27 R2 | 045 | Geometric Segment']\n",
      "46\n",
      "['TMA 27 R2 | 062 | Geometric Segment']\n",
      "47\n",
      "['TMA 27 R2 | 071 | Geometric Segment']\n",
      "48\n",
      "['TMA 27 R2 | 079 | Geometric Segment']\n",
      "49\n",
      "['TMA 27 R2 | 001 | Geometric Segment']\n",
      "50\n",
      "['TMA 27 R2 | 014 | Geometric Segment']\n",
      "51\n",
      "['TMA 27 R2 | 027 | Geometric Segment']\n",
      "52\n",
      "['TMA 27 R2 | 036 | Geometric Segment']\n",
      "53\n",
      "['TMA 27 R2 | 047 | Geometric Segment']\n",
      "54\n",
      "['TMA 27 R2 | 053 | Geometric Segment']\n",
      "55\n",
      "['TMA 27 R2 | 065 | Geometric Segment']\n",
      "58\n",
      "['TMA 27 R2 | 004 | Geometric Segment']\n",
      "59\n",
      "['TMA 27 R2 | 017 | Geometric Segment']\n",
      "6\n",
      "['TMA 27 R1 | 038 | Geometric Segment']\n",
      "60\n",
      "['TMA 27 R2 | 030 | Geometric Segment']\n",
      "61\n",
      "['TMA 27 R2 | 039 | Geometric Segment']\n",
      "62\n",
      "['TMA 27 R2 | 050 | Geometric Segment']\n",
      "63\n",
      "['TMA 27 R2 | 056 | Geometric Segment']\n",
      "65\n",
      "['TMA 27 R2 | 073 | Geometric Segment']\n",
      "66\n",
      "['TMA 27 R2 | 082 | Geometric Segment']\n",
      "67\n",
      "['TMA 27 R2 | 007 | Geometric Segment']\n",
      "68\n",
      "['TMA 27 R2 | 020 | Geometric Segment']\n",
      "69\n",
      "['TMA 27 R2 | 033 | Geometric Segment']\n",
      "7\n",
      "['TMA 27 R1 | 048 | Geometric Segment']\n",
      "70\n",
      "['TMA 27 R2 | 042 | Geometric Segment']\n",
      "72\n",
      "['TMA 27 R2 | 059 | Geometric Segment']\n",
      "73\n",
      "['TMA 27 R2 | 068 | Geometric Segment']\n",
      "74\n",
      "['TMA 27 R2 | 076 | Geometric Segment']\n",
      "75\n",
      "['TMA 27 R2 | 085 | Geometric Segment']\n",
      "76\n",
      "['TMA 27 R2 | 010 | Geometric Segment']\n",
      "77\n",
      "['TMA 27 R2 | 023 | Geometric Segment']\n",
      "79\n",
      "['TMA 27 R2 | 044 | Geometric Segment']\n",
      "8\n",
      "['TMA 27 R1 | 059 | Geometric Segment']\n",
      "83\n",
      "['TMA 27 R3 | 001 | Geometric Segment']\n",
      "84\n",
      "['TMA 27 R3 | 016 | Geometric Segment']\n",
      "85\n",
      "['TMA 27 R3 | 031 | Geometric Segment']\n",
      "87\n",
      "['TMA 27 R3 (1) | 004 | Geometric Segment']\n",
      "88\n",
      "['TMA 27 R3 (1) | 015 | Geometric Segment']\n",
      "89\n",
      "['TMA 27 R3 (1) | 018 | Geometric Segment']\n",
      "90\n",
      "['TMA 27 R3 (1) | 024 | Geometric Segment']\n",
      "92\n",
      "['TMA 27 R3 | 004 | Geometric Segment']\n",
      "93\n",
      "['TMA 27 R3 | 019 | Geometric Segment']\n",
      "94\n",
      "['TMA 27 R3 | 034 | Geometric Segment']\n",
      "99\n",
      "['TMA 27 R3 (1) | 025 | Geometric Segment']\n"
     ]
    }
   ],
   "source": [
    "CD_arr = []\n",
    "MAP_arr = []\n",
    "IMP_arr = []\n",
    "SLC_arr = []\n",
    "MPZ_arr = []\n",
    "APO_arr = []\n",
    "segment_arr = []\n",
    "\n",
    "for img in os.listdir('data'):\n",
    "    #coreid is everything between coreID and .tif\n",
    "    core_ID = re.search(r'CoreID(.*?).tif', img).group(1)\n",
    "    print(core_ID)\n",
    "    segment = df_y.query('CoreID == {}'.format(core_ID))['SegmentDisplayName'].values\n",
    "    print(segment)\n",
    "    if len(segment) > 0:\n",
    "        MPZ_val = df_of_interest[segment].values[0]\n",
    "        MPZ_arr.append(MPZ_val[0])\n",
    "\n",
    "        APO_val = df_of_interest[segment].values[1]\n",
    "        APO_arr.append(APO_val[0])\n",
    "\n",
    "        MAP_val = df_of_interest[segment].values[2]\n",
    "        MAP_arr.append(MAP_val[0])\n",
    "\n",
    "        IMP_val = df_of_interest[segment].values[3]\n",
    "        IMP_arr.append(IMP_val[0])\n",
    "\n",
    "        SLC_val = df_of_interest[segment].values[4]\n",
    "        SLC_arr.append(SLC_val[0])\n",
    "\n",
    "        CD_val = df_of_interest[segment].values[5]\n",
    "        CD_arr.append(CD_val[0])\n"
   ],
   "metadata": {
    "collapsed": false,
    "pycharm": {
     "name": "#%%\n"
    }
   }
  },
  {
   "cell_type": "code",
   "execution_count": null,
   "outputs": [],
   "source": [
    "print(len(MPZ_arr))\n",
    "print(len(APO_arr))\n",
    "print(len(MAP_arr))\n",
    "print(len(IMP_arr))\n",
    "print(len(SLC_arr))\n",
    "print(len(CD_arr))"
   ],
   "metadata": {
    "collapsed": false,
    "pycharm": {
     "name": "#%%\n"
    }
   }
  },
  {
   "cell_type": "code",
   "execution_count": 112,
   "outputs": [
    {
     "data": {
      "text/plain": "        CD79B MAP2K3 IMPDH1 SLC16A3 MPZL3 APOBR           path\n0   85.881503    NaN    NaN     NaN   NaN   NaN  CoreID101.tif\n1   84.038087    NaN    NaN     NaN   NaN   NaN  CoreID102.tif\n2   82.927907    NaN    NaN     NaN   NaN   NaN  CoreID105.tif\n3   93.960336    NaN    NaN     NaN   NaN   NaN  CoreID107.tif\n4  113.968536    NaN    NaN     NaN   NaN   NaN  CoreID108.tif",
      "text/html": "<div>\n<style scoped>\n    .dataframe tbody tr th:only-of-type {\n        vertical-align: middle;\n    }\n\n    .dataframe tbody tr th {\n        vertical-align: top;\n    }\n\n    .dataframe thead th {\n        text-align: right;\n    }\n</style>\n<table border=\"1\" class=\"dataframe\">\n  <thead>\n    <tr style=\"text-align: right;\">\n      <th></th>\n      <th>CD79B</th>\n      <th>MAP2K3</th>\n      <th>IMPDH1</th>\n      <th>SLC16A3</th>\n      <th>MPZL3</th>\n      <th>APOBR</th>\n      <th>path</th>\n    </tr>\n  </thead>\n  <tbody>\n    <tr>\n      <th>0</th>\n      <td>85.881503</td>\n      <td>NaN</td>\n      <td>NaN</td>\n      <td>NaN</td>\n      <td>NaN</td>\n      <td>NaN</td>\n      <td>CoreID101.tif</td>\n    </tr>\n    <tr>\n      <th>1</th>\n      <td>84.038087</td>\n      <td>NaN</td>\n      <td>NaN</td>\n      <td>NaN</td>\n      <td>NaN</td>\n      <td>NaN</td>\n      <td>CoreID102.tif</td>\n    </tr>\n    <tr>\n      <th>2</th>\n      <td>82.927907</td>\n      <td>NaN</td>\n      <td>NaN</td>\n      <td>NaN</td>\n      <td>NaN</td>\n      <td>NaN</td>\n      <td>CoreID105.tif</td>\n    </tr>\n    <tr>\n      <th>3</th>\n      <td>93.960336</td>\n      <td>NaN</td>\n      <td>NaN</td>\n      <td>NaN</td>\n      <td>NaN</td>\n      <td>NaN</td>\n      <td>CoreID107.tif</td>\n    </tr>\n    <tr>\n      <th>4</th>\n      <td>113.968536</td>\n      <td>NaN</td>\n      <td>NaN</td>\n      <td>NaN</td>\n      <td>NaN</td>\n      <td>NaN</td>\n      <td>CoreID108.tif</td>\n    </tr>\n  </tbody>\n</table>\n</div>"
     },
     "execution_count": 112,
     "metadata": {},
     "output_type": "execute_result"
    }
   ],
   "source": [
    "df_train.head()"
   ],
   "metadata": {
    "collapsed": false,
    "pycharm": {
     "name": "#%%\n"
    }
   }
  },
  {
   "cell_type": "code",
   "execution_count": 113,
   "outputs": [],
   "source": [
    "df_train['CD79B'] = CD_arr\n",
    "df_train['MAP2K3'] = MAP_arr\n",
    "df_train['IMPDH1'] = IMP_arr\n",
    "df_train['SLC16A3'] = SLC_arr\n",
    "df_train['MPZL3'] = MPZ_arr\n",
    "df_train['APOBR'] = APO_arr"
   ],
   "metadata": {
    "collapsed": false,
    "pycharm": {
     "name": "#%%\n"
    }
   }
  },
  {
   "cell_type": "code",
   "execution_count": 114,
   "outputs": [
    {
     "data": {
      "text/plain": "        CD79B     MAP2K3      IMPDH1     SLC16A3       MPZL3      APOBR  \\\n0   85.881503  72.668964   86.982548   71.567919  102.397177  56.153291   \n1   84.038087  65.603926   85.122450  101.387886  100.845705  50.422852   \n2   82.927907  70.431921  100.535887  130.071854   89.175900  52.823941   \n3   93.960336  72.446053   92.204068   66.299116   74.202321  39.076962   \n4  113.968536  73.458393   94.793735   49.152307   54.013524  28.627168   \n\n            path  \n0  CoreID101.tif  \n1  CoreID102.tif  \n2  CoreID105.tif  \n3  CoreID107.tif  \n4  CoreID108.tif  ",
      "text/html": "<div>\n<style scoped>\n    .dataframe tbody tr th:only-of-type {\n        vertical-align: middle;\n    }\n\n    .dataframe tbody tr th {\n        vertical-align: top;\n    }\n\n    .dataframe thead th {\n        text-align: right;\n    }\n</style>\n<table border=\"1\" class=\"dataframe\">\n  <thead>\n    <tr style=\"text-align: right;\">\n      <th></th>\n      <th>CD79B</th>\n      <th>MAP2K3</th>\n      <th>IMPDH1</th>\n      <th>SLC16A3</th>\n      <th>MPZL3</th>\n      <th>APOBR</th>\n      <th>path</th>\n    </tr>\n  </thead>\n  <tbody>\n    <tr>\n      <th>0</th>\n      <td>85.881503</td>\n      <td>72.668964</td>\n      <td>86.982548</td>\n      <td>71.567919</td>\n      <td>102.397177</td>\n      <td>56.153291</td>\n      <td>CoreID101.tif</td>\n    </tr>\n    <tr>\n      <th>1</th>\n      <td>84.038087</td>\n      <td>65.603926</td>\n      <td>85.122450</td>\n      <td>101.387886</td>\n      <td>100.845705</td>\n      <td>50.422852</td>\n      <td>CoreID102.tif</td>\n    </tr>\n    <tr>\n      <th>2</th>\n      <td>82.927907</td>\n      <td>70.431921</td>\n      <td>100.535887</td>\n      <td>130.071854</td>\n      <td>89.175900</td>\n      <td>52.823941</td>\n      <td>CoreID105.tif</td>\n    </tr>\n    <tr>\n      <th>3</th>\n      <td>93.960336</td>\n      <td>72.446053</td>\n      <td>92.204068</td>\n      <td>66.299116</td>\n      <td>74.202321</td>\n      <td>39.076962</td>\n      <td>CoreID107.tif</td>\n    </tr>\n    <tr>\n      <th>4</th>\n      <td>113.968536</td>\n      <td>73.458393</td>\n      <td>94.793735</td>\n      <td>49.152307</td>\n      <td>54.013524</td>\n      <td>28.627168</td>\n      <td>CoreID108.tif</td>\n    </tr>\n  </tbody>\n</table>\n</div>"
     },
     "execution_count": 114,
     "metadata": {},
     "output_type": "execute_result"
    }
   ],
   "source": [
    "df_train.head()"
   ],
   "metadata": {
    "collapsed": false,
    "pycharm": {
     "name": "#%%\n"
    }
   }
  },
  {
   "cell_type": "code",
   "execution_count": 115,
   "outputs": [],
   "source": [
    "df_train.to_csv('df_train.csv', index=False)"
   ],
   "metadata": {
    "collapsed": false,
    "pycharm": {
     "name": "#%%\n"
    }
   }
  },
  {
   "cell_type": "code",
   "execution_count": null,
   "outputs": [],
   "source": [],
   "metadata": {
    "collapsed": false,
    "pycharm": {
     "name": "#%%\n"
    }
   }
  }
 ],
 "metadata": {
  "kernelspec": {
   "display_name": "Python 3",
   "language": "python",
   "name": "python3"
  },
  "language_info": {
   "codemirror_mode": {
    "name": "ipython",
    "version": 2
   },
   "file_extension": ".py",
   "mimetype": "text/x-python",
   "name": "python",
   "nbconvert_exporter": "python",
   "pygments_lexer": "ipython2",
   "version": "2.7.6"
  }
 },
 "nbformat": 4,
 "nbformat_minor": 0
}